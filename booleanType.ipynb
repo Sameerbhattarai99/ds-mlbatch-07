{
 "cells": [
  {
   "cell_type": "markdown",
   "id": "0cd0853a-63e6-4946-9ec0-0c91b725bfd4",
   "metadata": {},
   "source": [
    "## Boolean type"
   ]
  },
  {
   "cell_type": "code",
   "execution_count": 1,
   "id": "90dc6a69-4348-4cd2-859f-2ed967a90816",
   "metadata": {},
   "outputs": [
    {
     "data": {
      "text/plain": [
       "bool"
      ]
     },
     "execution_count": 1,
     "metadata": {},
     "output_type": "execute_result"
    }
   ],
   "source": [
    "flag = True\n",
    "type(flag)"
   ]
  },
  {
   "cell_type": "code",
   "execution_count": 2,
   "id": "4a2595b6-8630-41e7-aa27-c0be036fd406",
   "metadata": {},
   "outputs": [],
   "source": [
    "a = 5\n",
    "b = 10\n",
    "c = b>a"
   ]
  },
  {
   "cell_type": "code",
   "execution_count": 3,
   "id": "05179584-6c63-4e1f-857e-6c1881efe849",
   "metadata": {},
   "outputs": [
    {
     "data": {
      "text/plain": [
       "True"
      ]
     },
     "execution_count": 3,
     "metadata": {},
     "output_type": "execute_result"
    }
   ],
   "source": [
    "c\n"
   ]
  },
  {
   "cell_type": "code",
   "execution_count": 7,
   "id": "f5ef6be9-3617-44db-bf05-709debdb15af",
   "metadata": {},
   "outputs": [],
   "source": [
    "email = \"s@gmail.com\".endswith(\"gmail.com\")"
   ]
  },
  {
   "cell_type": "code",
   "execution_count": 8,
   "id": "c6019109-3eab-4193-95fc-4f13a61a6b3a",
   "metadata": {},
   "outputs": [
    {
     "data": {
      "text/plain": [
       "True"
      ]
     },
     "execution_count": 8,
     "metadata": {},
     "output_type": "execute_result"
    }
   ],
   "source": [
    "email"
   ]
  },
  {
   "cell_type": "markdown",
   "id": "92933a51-1bee-4c22-bdcd-60f7bfd9a281",
   "metadata": {},
   "source": [
    "## boolean value"
   ]
  },
  {
   "cell_type": "code",
   "execution_count": 9,
   "id": "c612f528-dc1f-4d70-84d8-a382bc165b60",
   "metadata": {},
   "outputs": [],
   "source": [
    "x = True\n",
    "y = False\n",
    "res = x and y"
   ]
  },
  {
   "cell_type": "code",
   "execution_count": 10,
   "id": "4f27a94a-6d01-4ba2-9352-4caa16e8b4ac",
   "metadata": {},
   "outputs": [
    {
     "data": {
      "text/plain": [
       "False"
      ]
     },
     "execution_count": 10,
     "metadata": {},
     "output_type": "execute_result"
    }
   ],
   "source": [
    "res"
   ]
  },
  {
   "cell_type": "code",
   "execution_count": 11,
   "id": "505ac46d-08bd-4725-ae43-788b302e0b28",
   "metadata": {},
   "outputs": [],
   "source": [
    "res = x or y"
   ]
  },
  {
   "cell_type": "code",
   "execution_count": 12,
   "id": "bd6ade39-ca14-4d3c-95b6-6d473d59b732",
   "metadata": {},
   "outputs": [
    {
     "data": {
      "text/plain": [
       "True"
      ]
     },
     "execution_count": 12,
     "metadata": {},
     "output_type": "execute_result"
    }
   ],
   "source": [
    "res"
   ]
  },
  {
   "cell_type": "code",
   "execution_count": 14,
   "id": "695e3213-28d5-4bd9-b4d6-8836f01b4cc6",
   "metadata": {},
   "outputs": [
    {
     "data": {
      "text/plain": [
       "False"
      ]
     },
     "execution_count": 14,
     "metadata": {},
     "output_type": "execute_result"
    }
   ],
   "source": [
    "number = 0\n",
    "bool(number)"
   ]
  },
  {
   "cell_type": "code",
   "execution_count": 15,
   "id": "0e6b4546-a4cf-4e90-b7d5-3da812011e53",
   "metadata": {},
   "outputs": [
    {
     "data": {
      "text/plain": [
       "False"
      ]
     },
     "execution_count": 15,
     "metadata": {},
     "output_type": "execute_result"
    }
   ],
   "source": [
    "name = \"\"\n",
    "bool(name)"
   ]
  },
  {
   "cell_type": "code",
   "execution_count": null,
   "id": "20586d0a-c2bd-41fa-bc8f-f0bd0410a16c",
   "metadata": {},
   "outputs": [],
   "source": []
  }
 ],
 "metadata": {
  "kernelspec": {
   "display_name": "Python 3 (ipykernel)",
   "language": "python",
   "name": "python3"
  },
  "language_info": {
   "codemirror_mode": {
    "name": "ipython",
    "version": 3
   },
   "file_extension": ".py",
   "mimetype": "text/x-python",
   "name": "python",
   "nbconvert_exporter": "python",
   "pygments_lexer": "ipython3",
   "version": "3.8.10"
  }
 },
 "nbformat": 4,
 "nbformat_minor": 5
}
