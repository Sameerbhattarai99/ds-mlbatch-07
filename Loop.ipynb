{
 "cells": [
  {
   "cell_type": "markdown",
   "id": "de132da1-1236-406b-8f85-bd46810c43ca",
   "metadata": {},
   "source": [
    "## For Loop"
   ]
  },
  {
   "cell_type": "markdown",
   "id": "bdc2897d-aa2e-4058-bd75-f837e53266c1",
   "metadata": {},
   "source": [
    "for item in items:\n",
    "    do something"
   ]
  },
  {
   "cell_type": "code",
   "execution_count": 1,
   "id": "d78b8fdc-7edb-4b5c-925c-c84604380795",
   "metadata": {},
   "outputs": [],
   "source": [
    "fruits = [\"apple\" , \"banana\" ,\"cherry\"]"
   ]
  },
  {
   "cell_type": "code",
   "execution_count": 3,
   "id": "ccb87837-6867-4be2-88ed-b31c6422584c",
   "metadata": {},
   "outputs": [
    {
     "name": "stdout",
     "output_type": "stream",
     "text": [
      "fruit apple\n",
      "fruit banana\n",
      "fruit cherry\n",
      "complete\n"
     ]
    }
   ],
   "source": [
    "for i in fruits:\n",
    "    print(f\"fruit {i}\")\n",
    "\n",
    "print(\"complete\")    "
   ]
  },
  {
   "cell_type": "code",
   "execution_count": null,
   "id": "cd6839e8-c11a-4888-a868-c2232cbacfbb",
   "metadata": {},
   "outputs": [],
   "source": []
  },
  {
   "cell_type": "code",
   "execution_count": 4,
   "id": "d3e4b2bd-4e62-4de7-bada-e2bf88c7e05d",
   "metadata": {},
   "outputs": [
    {
     "name": "stdout",
     "output_type": "stream",
     "text": [
      "h\n",
      "e\n",
      "l\n",
      "l\n",
      "o\n"
     ]
    }
   ],
   "source": [
    "for ch in \"hello\":\n",
    "    print(ch)"
   ]
  },
  {
   "cell_type": "markdown",
   "id": "7c4f9a67-f0fd-4235-a5c6-cc0c7d52e020",
   "metadata": {},
   "source": [
    "### range"
   ]
  },
  {
   "cell_type": "code",
   "execution_count": 5,
   "id": "43351aa2-12d7-4e09-9a8b-7c7bdffc308c",
   "metadata": {},
   "outputs": [
    {
     "data": {
      "text/plain": [
       "[0, 1, 2, 3, 4, 5, 6, 7, 8, 9]"
      ]
     },
     "execution_count": 5,
     "metadata": {},
     "output_type": "execute_result"
    }
   ],
   "source": [
    "\n",
    "list(range(10))"
   ]
  },
  {
   "cell_type": "code",
   "execution_count": 8,
   "id": "f9658fa4-d7e1-471b-8272-1b0304913365",
   "metadata": {},
   "outputs": [
    {
     "data": {
      "text/plain": [
       "[10, 15, 20, 25, 30, 35, 40, 45, 50, 55, 60, 65, 70, 75, 80, 85, 90, 95]"
      ]
     },
     "execution_count": 8,
     "metadata": {},
     "output_type": "execute_result"
    }
   ],
   "source": [
    "list(range(10,100,5))"
   ]
  },
  {
   "cell_type": "code",
   "execution_count": 9,
   "id": "9f8384fd-fd91-4035-8482-a6b942db3e08",
   "metadata": {},
   "outputs": [
    {
     "name": "stdout",
     "output_type": "stream",
     "text": [
      "0\n",
      "1\n",
      "2\n",
      "3\n",
      "4\n",
      "5\n",
      "6\n",
      "7\n",
      "8\n",
      "9\n"
     ]
    }
   ],
   "source": [
    "for i in range(10):\n",
    "    print(i)"
   ]
  },
  {
   "cell_type": "code",
   "execution_count": 22,
   "id": "213823ce-1c65-483e-b3e2-fa7f5b38257b",
   "metadata": {},
   "outputs": [
    {
     "name": "stdout",
     "output_type": "stream",
     "text": [
      "*\n",
      "**\n",
      "***\n",
      "****\n",
      "*****\n"
     ]
    }
   ],
   "source": [
    "for i in range(1,6):\n",
    "    print(\"*\"*i)\n",
    "    \n",
    "   \n",
    "    "
   ]
  },
  {
   "cell_type": "code",
   "execution_count": 23,
   "id": "09dbc9ef-034d-4f56-ae4c-d3ae474e3ede",
   "metadata": {},
   "outputs": [
    {
     "name": "stdout",
     "output_type": "stream",
     "text": [
      "*****\n",
      "****\n",
      "***\n",
      "**\n",
      "*\n"
     ]
    }
   ],
   "source": [
    "for i in range(5,0,-1):\n",
    "    print(\"*\"*i)"
   ]
  },
  {
   "cell_type": "code",
   "execution_count": null,
   "id": "a7862d41-c822-4e61-8801-59a864c66557",
   "metadata": {},
   "outputs": [],
   "source": [
    "\n"
   ]
  },
  {
   "cell_type": "markdown",
   "id": "0fe3698a-69f2-407e-8d88-d9985a9b2dc0",
   "metadata": {},
   "source": [
    "## nested for loop"
   ]
  },
  {
   "cell_type": "code",
   "execution_count": 24,
   "id": "a7e43c2d-e0a8-4fab-a5c5-2cc547051087",
   "metadata": {},
   "outputs": [],
   "source": [
    "adj = ['red' ,'big' , 'tasty']\n",
    "fruits = [\"apple\" , \"banana\" ,\"cherry\"]"
   ]
  },
  {
   "cell_type": "code",
   "execution_count": 25,
   "id": "77669eec-13ac-416c-97b4-c3adb67ab721",
   "metadata": {},
   "outputs": [
    {
     "name": "stdout",
     "output_type": "stream",
     "text": [
      "red apple\n",
      "red banana\n",
      "red cherry\n",
      "big apple\n",
      "big banana\n",
      "big cherry\n",
      "tasty apple\n",
      "tasty banana\n",
      "tasty cherry\n"
     ]
    }
   ],
   "source": [
    "for a in adj:\n",
    "    for f in fruits:\n",
    "        print(a,f)"
   ]
  },
  {
   "cell_type": "code",
   "execution_count": null,
   "id": "7b0d9d22-5794-4d19-aba6-1dd52bfbd9a1",
   "metadata": {},
   "outputs": [],
   "source": []
  }
 ],
 "metadata": {
  "kernelspec": {
   "display_name": "Python 3 (ipykernel)",
   "language": "python",
   "name": "python3"
  },
  "language_info": {
   "codemirror_mode": {
    "name": "ipython",
    "version": 3
   },
   "file_extension": ".py",
   "mimetype": "text/x-python",
   "name": "python",
   "nbconvert_exporter": "python",
   "pygments_lexer": "ipython3",
   "version": "3.8.10"
  }
 },
 "nbformat": 4,
 "nbformat_minor": 5
}
