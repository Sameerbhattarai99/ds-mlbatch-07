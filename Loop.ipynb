{
 "cells": [
  {
   "cell_type": "markdown",
   "id": "de132da1-1236-406b-8f85-bd46810c43ca",
   "metadata": {},
   "source": [
    "## For Loop"
   ]
  },
  {
   "cell_type": "markdown",
   "id": "bdc2897d-aa2e-4058-bd75-f837e53266c1",
   "metadata": {},
   "source": [
    "for item in items:\n",
    "    do something"
   ]
  },
  {
   "cell_type": "code",
   "execution_count": 1,
   "id": "d78b8fdc-7edb-4b5c-925c-c84604380795",
   "metadata": {},
   "outputs": [],
   "source": [
    "fruits = [\"apple\" , \"banana\" ,\"cherry\"]"
   ]
  },
  {
   "cell_type": "code",
   "execution_count": 3,
   "id": "ccb87837-6867-4be2-88ed-b31c6422584c",
   "metadata": {},
   "outputs": [
    {
     "name": "stdout",
     "output_type": "stream",
     "text": [
      "fruit apple\n",
      "fruit banana\n",
      "fruit cherry\n",
      "complete\n"
     ]
    }
   ],
   "source": [
    "for i in fruits:\n",
    "    print(f\"fruit {i}\")\n",
    "\n",
    "print(\"complete\")    "
   ]
  },
  {
   "cell_type": "code",
   "execution_count": null,
   "id": "cd6839e8-c11a-4888-a868-c2232cbacfbb",
   "metadata": {},
   "outputs": [],
   "source": []
  },
  {
   "cell_type": "code",
   "execution_count": 4,
   "id": "d3e4b2bd-4e62-4de7-bada-e2bf88c7e05d",
   "metadata": {},
   "outputs": [
    {
     "name": "stdout",
     "output_type": "stream",
     "text": [
      "h\n",
      "e\n",
      "l\n",
      "l\n",
      "o\n"
     ]
    }
   ],
   "source": [
    "for ch in \"hello\":\n",
    "    print(ch)"
   ]
  },
  {
   "cell_type": "markdown",
   "id": "7c4f9a67-f0fd-4235-a5c6-cc0c7d52e020",
   "metadata": {},
   "source": [
    "### range"
   ]
  },
  {
   "cell_type": "code",
   "execution_count": 5,
   "id": "43351aa2-12d7-4e09-9a8b-7c7bdffc308c",
   "metadata": {},
   "outputs": [
    {
     "data": {
      "text/plain": [
       "[0, 1, 2, 3, 4, 5, 6, 7, 8, 9]"
      ]
     },
     "execution_count": 5,
     "metadata": {},
     "output_type": "execute_result"
    }
   ],
   "source": [
    "\n",
    "list(range(10))"
   ]
  },
  {
   "cell_type": "code",
   "execution_count": 8,
   "id": "f9658fa4-d7e1-471b-8272-1b0304913365",
   "metadata": {},
   "outputs": [
    {
     "data": {
      "text/plain": [
       "[10, 15, 20, 25, 30, 35, 40, 45, 50, 55, 60, 65, 70, 75, 80, 85, 90, 95]"
      ]
     },
     "execution_count": 8,
     "metadata": {},
     "output_type": "execute_result"
    }
   ],
   "source": [
    "list(range(10,100,5))"
   ]
  },
  {
   "cell_type": "code",
   "execution_count": 9,
   "id": "9f8384fd-fd91-4035-8482-a6b942db3e08",
   "metadata": {},
   "outputs": [
    {
     "name": "stdout",
     "output_type": "stream",
     "text": [
      "0\n",
      "1\n",
      "2\n",
      "3\n",
      "4\n",
      "5\n",
      "6\n",
      "7\n",
      "8\n",
      "9\n"
     ]
    }
   ],
   "source": [
    "for i in range(10):\n",
    "    print(i)"
   ]
  },
  {
   "cell_type": "code",
   "execution_count": 22,
   "id": "213823ce-1c65-483e-b3e2-fa7f5b38257b",
   "metadata": {},
   "outputs": [
    {
     "name": "stdout",
     "output_type": "stream",
     "text": [
      "*\n",
      "**\n",
      "***\n",
      "****\n",
      "*****\n"
     ]
    }
   ],
   "source": [
    "for i in range(1,6):\n",
    "    print(\"*\"*i)\n",
    "    \n",
    "   \n",
    "    "
   ]
  },
  {
   "cell_type": "code",
   "execution_count": 23,
   "id": "09dbc9ef-034d-4f56-ae4c-d3ae474e3ede",
   "metadata": {},
   "outputs": [
    {
     "name": "stdout",
     "output_type": "stream",
     "text": [
      "*****\n",
      "****\n",
      "***\n",
      "**\n",
      "*\n"
     ]
    }
   ],
   "source": [
    "for i in range(5,0,-1):\n",
    "    print(\"*\"*i)"
   ]
  },
  {
   "cell_type": "code",
   "execution_count": null,
   "id": "a7862d41-c822-4e61-8801-59a864c66557",
   "metadata": {},
   "outputs": [],
   "source": [
    "\n"
   ]
  },
  {
   "cell_type": "markdown",
   "id": "0fe3698a-69f2-407e-8d88-d9985a9b2dc0",
   "metadata": {},
   "source": [
    "## nested for loop"
   ]
  },
  {
   "cell_type": "code",
   "execution_count": 24,
   "id": "a7e43c2d-e0a8-4fab-a5c5-2cc547051087",
   "metadata": {},
   "outputs": [],
   "source": [
    "adj = ['red' ,'big' , 'tasty']\n",
    "fruits = [\"apple\" , \"banana\" ,\"cherry\"]"
   ]
  },
  {
   "cell_type": "code",
   "execution_count": 25,
   "id": "77669eec-13ac-416c-97b4-c3adb67ab721",
   "metadata": {},
   "outputs": [
    {
     "name": "stdout",
     "output_type": "stream",
     "text": [
      "red apple\n",
      "red banana\n",
      "red cherry\n",
      "big apple\n",
      "big banana\n",
      "big cherry\n",
      "tasty apple\n",
      "tasty banana\n",
      "tasty cherry\n"
     ]
    }
   ],
   "source": [
    "for a in adj:\n",
    "    for f in fruits:\n",
    "        print(a,f)"
   ]
  },
  {
   "cell_type": "code",
   "execution_count": null,
   "id": "7b0d9d22-5794-4d19-aba6-1dd52bfbd9a1",
   "metadata": {},
   "outputs": [],
   "source": []
  },
  {
   "cell_type": "markdown",
   "id": "8002c75c-c7fd-4dc3-a122-be48f66d38a2",
   "metadata": {},
   "source": [
    "multiply argument in loop"
   ]
  },
  {
   "cell_type": "code",
   "execution_count": 3,
   "id": "107a72ba-53b4-4a6a-9203-6220262c624c",
   "metadata": {},
   "outputs": [
    {
     "data": {
      "text/plain": [
       "[('name', 'ram'), ('age', 30), ('gender', 'male')]"
      ]
     },
     "execution_count": 3,
     "metadata": {},
     "output_type": "execute_result"
    }
   ],
   "source": [
    "person = {\n",
    "    \"name\" : \"ram\",\n",
    "    \"age\" : 30,\n",
    "    \"gender\" : \"male\"\n",
    "}\n",
    "person_list = list(person.items())\n",
    "person_list\n",
    "    "
   ]
  },
  {
   "cell_type": "code",
   "execution_count": 6,
   "id": "e0da0df2-3900-4a0b-b599-47328d4911ec",
   "metadata": {},
   "outputs": [
    {
     "name": "stdout",
     "output_type": "stream",
     "text": [
      "('name', 'ram')\n",
      "('age', 30)\n",
      "('gender', 'male')\n"
     ]
    }
   ],
   "source": [
    "for each in person_list : \n",
    "    print(each)"
   ]
  },
  {
   "cell_type": "code",
   "execution_count": 8,
   "id": "777a9e08-6366-44d9-b66f-630a410d451d",
   "metadata": {},
   "outputs": [
    {
     "name": "stdout",
     "output_type": "stream",
     "text": [
      "key : name =ram\n",
      "key : age =30\n",
      "key : gender =male\n"
     ]
    }
   ],
   "source": [
    "for (key,value) in person_list :\n",
    "    print(f\"key : {key} ={value}\")"
   ]
  },
  {
   "cell_type": "code",
   "execution_count": null,
   "id": "4d2090ed-34fe-4349-8b84-cd7cd8996ea2",
   "metadata": {},
   "outputs": [],
   "source": []
  },
  {
   "cell_type": "code",
   "execution_count": 10,
   "id": "cbd2bdda-34a2-4667-a56e-e7977fbffe93",
   "metadata": {},
   "outputs": [
    {
     "data": {
      "text/plain": [
       "[[1, 2, 3], [4, 5, 6], [7, 8, 9]]"
      ]
     },
     "execution_count": 10,
     "metadata": {},
     "output_type": "execute_result"
    }
   ],
   "source": [
    "cord = [[1,2,3],[4,5,6],[7,8,9]]\n",
    "cord"
   ]
  },
  {
   "cell_type": "code",
   "execution_count": 11,
   "id": "44b326da-025b-4878-9ed9-802ec4b6c207",
   "metadata": {},
   "outputs": [
    {
     "name": "stdout",
     "output_type": "stream",
     "text": [
      "[1, 2, 3]\n",
      "[4, 5, 6]\n",
      "[7, 8, 9]\n"
     ]
    }
   ],
   "source": [
    "for a in cord:\n",
    "    print(a)"
   ]
  },
  {
   "cell_type": "code",
   "execution_count": null,
   "id": "07bae0c5-5aaa-4aa6-9cfd-c5f0d5e15106",
   "metadata": {},
   "outputs": [],
   "source": []
  },
  {
   "cell_type": "code",
   "execution_count": 23,
   "id": "a8592ec7-9fb1-4350-825d-e6bc9608f06b",
   "metadata": {},
   "outputs": [
    {
     "name": "stdin",
     "output_type": "stream",
     "text": [
      "enter a number 6\n"
     ]
    },
    {
     "name": "stdout",
     "output_type": "stream",
     "text": [
      "6x1 = 6\n",
      "6x2 = 12\n",
      "6x3 = 18\n",
      "6x4 = 24\n",
      "6x5 = 30\n",
      "6x6 = 36\n",
      "6x7 = 42\n",
      "6x8 = 48\n",
      "6x9 = 54\n"
     ]
    }
   ],
   "source": [
    "number = int(input(\"enter a number\"))\n",
    "for i in range(1,10):\n",
    "    print(f\"{number}x{i}\",\"=\",number*i)\n",
    "   \n",
    "    "
   ]
  },
  {
   "cell_type": "code",
   "execution_count": 21,
   "id": "3f377d11-df6c-4799-b392-b3cd5307ca15",
   "metadata": {},
   "outputs": [
    {
     "name": "stdin",
     "output_type": "stream",
     "text": [
      "Enter any number  5\n"
     ]
    },
    {
     "name": "stdout",
     "output_type": "stream",
     "text": [
      "5 * 1 = 5 \n",
      "5 * 2 = 10 \n",
      "5 * 3 = 15 \n",
      "5 * 4 = 20 \n",
      "5 * 5 = 25 \n",
      "5 * 6 = 30 \n",
      "5 * 7 = 35 \n",
      "5 * 8 = 40 \n",
      "5 * 9 = 45 \n",
      "5 * 10 = 50 \n"
     ]
    }
   ],
   "source": [
    "num= int(input(\"Enter any number \"))\n",
    "\n",
    "for i in range(1,11,1):\n",
    "    print(f\"{num} * {i} = {i*num} \")"
   ]
  },
  {
   "cell_type": "code",
   "execution_count": null,
   "id": "abd579fe-2088-4760-acbb-f51b7b2f7857",
   "metadata": {},
   "outputs": [],
   "source": []
  },
  {
   "cell_type": "code",
   "execution_count": 36,
   "id": "bf7fc168-5803-4f5d-92b7-e7192d581a3d",
   "metadata": {},
   "outputs": [
    {
     "name": "stdout",
     "output_type": "stream",
     "text": [
      "[5, 3, 7, 33, 5, 9, 101, 55, 89]\n",
      "[2, 6, 8, 68, 0, 12, 4, 6, 66, 32]\n"
     ]
    }
   ],
   "source": [
    "numbers = [2,5,3,6,7,33,5,8,68,0,12,4,6,66,9,101,55,32,89] \n",
    "odd = []\n",
    "even = []\n",
    "for i in numbers:\n",
    "    if i% 2 == 0:\n",
    "        even.append(i)\n",
    "        \n",
    "    else :\n",
    "        odd.append(i)\n",
    "\n",
    "print(odd)\n",
    "print(even)\n",
    "    "
   ]
  },
  {
   "cell_type": "markdown",
   "id": "651742c5-e14a-481e-ad89-664455ff2045",
   "metadata": {},
   "source": [
    " single line if else\n",
    "\n",
    "<true expression> if condition else <false expression>\n",
    " even_num.append(i) if i % 2 == 0 else odd_num.append(i)"
   ]
  },
  {
   "cell_type": "code",
   "execution_count": null,
   "id": "e6fae925-9a21-4f22-b0c4-52fefec45aef",
   "metadata": {},
   "outputs": [],
   "source": []
  },
  {
   "cell_type": "code",
   "execution_count": null,
   "id": "2b9e0c87-a0c0-4649-ba40-a3be5280774d",
   "metadata": {},
   "outputs": [],
   "source": []
  }
 ],
 "metadata": {
  "kernelspec": {
   "display_name": "Python 3 (ipykernel)",
   "language": "python",
   "name": "python3"
  },
  "language_info": {
   "codemirror_mode": {
    "name": "ipython",
    "version": 3
   },
   "file_extension": ".py",
   "mimetype": "text/x-python",
   "name": "python",
   "nbconvert_exporter": "python",
   "pygments_lexer": "ipython3",
   "version": "3.8.10"
  }
 },
 "nbformat": 4,
 "nbformat_minor": 5
}
