{
 "cells": [
  {
   "cell_type": "markdown",
   "id": "94193a95-fe6a-4663-98ef-52845bca532b",
   "metadata": {},
   "source": [
    "def (parameters): \n",
    "        do something .\n",
    "\n",
    "        return <result>"
   ]
  },
  {
   "cell_type": "code",
   "execution_count": 1,
   "id": "fa797faf-e82b-4681-8791-d1f1591325ee",
   "metadata": {},
   "outputs": [],
   "source": [
    "def sum_of_list(inp_list):\n",
    "    result = 0\n",
    "\n",
    "    for x in inp_list:\n",
    "        result += x\n",
    "\n",
    "    return result"
   ]
  },
  {
   "cell_type": "code",
   "execution_count": 5,
   "id": "e0f049b6-d9e1-42ce-b3e0-3dfacd0b059c",
   "metadata": {},
   "outputs": [
    {
     "data": {
      "text/plain": [
       "21"
      ]
     },
     "execution_count": 5,
     "metadata": {},
     "output_type": "execute_result"
    }
   ],
   "source": [
    "sum_of_list([1,2,3,4,5,6])"
   ]
  },
  {
   "cell_type": "markdown",
   "id": "760f8edb-1bb5-49d6-83c0-69f1159ce59d",
   "metadata": {},
   "source": [
    "## optional argument"
   ]
  },
  {
   "cell_type": "code",
   "execution_count": 7,
   "id": "fae078c5-d14d-42d9-a649-8b7fa5c37dfa",
   "metadata": {},
   "outputs": [],
   "source": [
    "def gret(name,greetings = \"Morning\"):\n",
    "    return f\"{greetings},{name}\""
   ]
  },
  {
   "cell_type": "code",
   "execution_count": 8,
   "id": "b5778045-133d-4172-af33-2af4d6a47b55",
   "metadata": {},
   "outputs": [
    {
     "data": {
      "text/plain": [
       "'Morning,ram'"
      ]
     },
     "execution_count": 8,
     "metadata": {},
     "output_type": "execute_result"
    }
   ],
   "source": [
    "gret(\"ram\")"
   ]
  },
  {
   "cell_type": "code",
   "execution_count": null,
   "id": "108163ad-66a5-4347-9cc4-ba4be416ba08",
   "metadata": {},
   "outputs": [],
   "source": []
  },
  {
   "cell_type": "markdown",
   "id": "e9e6e526-388d-4038-8bdf-2b4ad51a64cd",
   "metadata": {},
   "source": [
    "## positional Arg"
   ]
  },
  {
   "cell_type": "code",
   "execution_count": 9,
   "id": "0c7bd3ce-434c-4e80-86dd-7a03cb4885c8",
   "metadata": {},
   "outputs": [],
   "source": [
    "def print_arg(*args):\n",
    "    print(\"positional args\")\n",
    "    for arg in args:\n",
    "        print(arg)"
   ]
  },
  {
   "cell_type": "code",
   "execution_count": 10,
   "id": "7e88c9f8-017e-4d8e-8840-d78e85d1ea95",
   "metadata": {},
   "outputs": [
    {
     "name": "stdout",
     "output_type": "stream",
     "text": [
      "positional args\n",
      "1\n",
      "2\n",
      "3\n",
      "4\n",
      "[5, 6]\n",
      "ram\n"
     ]
    }
   ],
   "source": [
    "print_arg(1,2,3,4,[5,6],\"ram\")"
   ]
  },
  {
   "cell_type": "markdown",
   "id": "79ee8dee-51bf-46e4-bb74-1066ff5a90df",
   "metadata": {},
   "source": [
    "### keyword ARGS"
   ]
  },
  {
   "cell_type": "code",
   "execution_count": 15,
   "id": "9e0b880f-f1ac-4c86-aed6-8f041cb05ac8",
   "metadata": {},
   "outputs": [],
   "source": [
    "def print_kargs(**kwargs):\n",
    "    print(\"keywords args\")\n",
    "    print(kwargs)\n",
    "    length = kwargs.get(\"length\")\n",
    "   "
   ]
  },
  {
   "cell_type": "code",
   "execution_count": 16,
   "id": "52a2c262-7e35-4e06-9e11-980129edcf0b",
   "metadata": {},
   "outputs": [
    {
     "name": "stdout",
     "output_type": "stream",
     "text": [
      "keywords args\n",
      "{'length': 4, 'breadth': 5}\n"
     ]
    }
   ],
   "source": [
    "print_kargs(length=4,breadth=5)"
   ]
  },
  {
   "cell_type": "code",
   "execution_count": null,
   "id": "76299747-f5c7-4299-9ce2-cdb03d230491",
   "metadata": {},
   "outputs": [],
   "source": []
  },
  {
   "cell_type": "code",
   "execution_count": 20,
   "id": "6054d02f-6ae8-4846-bb25-83c8a6d0d487",
   "metadata": {},
   "outputs": [],
   "source": [
    "def print_arguments(*args,**kwargs):\n",
    "    print(\"positional\")\n",
    "    print(args)\n",
    "    print(\"-\"*50)\n",
    "    print(\"keywords\")\n",
    "    print(kwargs)"
   ]
  },
  {
   "cell_type": "code",
   "execution_count": 21,
   "id": "37c26b72-7c72-44d5-a80f-bbc157a66726",
   "metadata": {},
   "outputs": [
    {
     "name": "stdout",
     "output_type": "stream",
     "text": [
      "positional\n",
      "('ram', 1, True)\n",
      "--------------------------------------------------\n",
      "keywords\n",
      "{'score': [1, 4, 6], 'greet': 'Hello'}\n"
     ]
    }
   ],
   "source": [
    "print_arguments(\"ram\",1,True,score=[1,4,6] ,greet=\"Hello\")"
   ]
  },
  {
   "cell_type": "code",
   "execution_count": null,
   "id": "cfeb906d-0390-4753-ac16-21322b87f5e0",
   "metadata": {},
   "outputs": [],
   "source": []
  },
  {
   "cell_type": "markdown",
   "id": "817f72c1-58f7-41c4-bf20-c04ef1dcf8d9",
   "metadata": {},
   "source": [
    "## documentation in python"
   ]
  },
  {
   "cell_type": "code",
   "execution_count": 24,
   "id": "dc10a816-2b2b-4e19-97b3-e662a87af284",
   "metadata": {},
   "outputs": [],
   "source": [
    "def sqaure(x:int) - > int:\n",
    "    \"\"\"Give Square of number \"\"\"\n",
    "    return x **2"
   ]
  },
  {
   "cell_type": "code",
   "execution_count": 25,
   "id": "af3217c7-da3c-43ef-bef5-2a7bf6b59283",
   "metadata": {},
   "outputs": [
    {
     "data": {
      "text/plain": [
       "49"
      ]
     },
     "execution_count": 25,
     "metadata": {},
     "output_type": "execute_result"
    }
   ],
   "source": [
    "sqaure(7)"
   ]
  },
  {
   "cell_type": "markdown",
   "id": "764b4525-6a64-4320-a3cf-87e9882ae27b",
   "metadata": {},
   "source": [
    "Standard Deviation : $\\sqrt{\\frac{\\sum{(X - \\bar{X})}^2}{N}}$\n"
   ]
  },
  {
   "cell_type": "markdown",
   "id": "55402bdf-e9ef-47a4-88b7-84c65816e248",
   "metadata": {},
   "source": []
  },
  {
   "cell_type": "code",
   "execution_count": 16,
   "id": "607a1a53-b298-4566-88c4-3889b3ca07b7",
   "metadata": {},
   "outputs": [
    {
     "name": "stdout",
     "output_type": "stream",
     "text": [
      "2.7032098975107357\n"
     ]
    }
   ],
   "source": [
    "def deviation(*args):\n",
    "    n = len(num)\n",
    "    xi = sum(num) / n\n",
    "\n",
    "    sq_diff = [(x - xi) ** 2 for x in num]\n",
    "    variance = sum(sq_diff) / n\n",
    "    std_deviation = variance ** 0.5\n",
    "\n",
    "    return std_deviation\n",
    "\n",
    "num = [1, 2, 3, 4, 5, 6, 7,9.9]\n",
    "result = deviation(num)\n",
    "print(result)\n",
    "\n",
    "   \n",
    "\n",
    "    \n",
    "    \n",
    "\n",
    "\n"
   ]
  },
  {
   "cell_type": "markdown",
   "id": "2d5fb23f-ca1c-4e6b-bbfc-f47029b34bcb",
   "metadata": {},
   "source": [
    "## recursive function"
   ]
  },
  {
   "cell_type": "code",
   "execution_count": 19,
   "id": "1eee4ca7-9a85-4fe5-a466-a0c33c6a6ae7",
   "metadata": {},
   "outputs": [
    {
     "data": {
      "text/plain": [
       "1"
      ]
     },
     "execution_count": 19,
     "metadata": {},
     "output_type": "execute_result"
    }
   ],
   "source": [
    "def fib(n):\n",
    "    #base case\n",
    "    if n==0 :\n",
    "        return 0\n",
    "    elif n ==1:\n",
    "        return 1\n",
    "    else :\n",
    "        #recursive case\n",
    "        return fib(n-1)+fib(n-2)\n",
    "fib(2)"
   ]
  },
  {
   "cell_type": "markdown",
   "id": "301990d7-2d61-4961-ab3e-17e687adc78f",
   "metadata": {},
   "source": [
    "## memonization"
   ]
  },
  {
   "cell_type": "code",
   "execution_count": 24,
   "id": "dd823247-0bbd-4013-8aaa-f7138d3537e8",
   "metadata": {},
   "outputs": [],
   "source": [
    "cache = {0:0,1:1}\n",
    "\n",
    "def fib(n):\n",
    "    if n in cache:\n",
    "        return cache[n]\n",
    "    else:\n",
    "        result = fib(n-1)+fib(n-2)\n",
    "        cache[n] = result\n",
    "        return result"
   ]
  },
  {
   "cell_type": "code",
   "execution_count": 25,
   "id": "de502b1d-6fac-4963-b11c-f4a20f16120d",
   "metadata": {},
   "outputs": [
    {
     "data": {
      "text/plain": [
       "5"
      ]
     },
     "execution_count": 25,
     "metadata": {},
     "output_type": "execute_result"
    }
   ],
   "source": [
    "fib(5)"
   ]
  },
  {
   "cell_type": "code",
   "execution_count": null,
   "id": "b471b510-d1d7-4e29-a74a-e2446b498537",
   "metadata": {},
   "outputs": [],
   "source": []
  }
 ],
 "metadata": {
  "kernelspec": {
   "display_name": "Python 3 (ipykernel)",
   "language": "python",
   "name": "python3"
  },
  "language_info": {
   "codemirror_mode": {
    "name": "ipython",
    "version": 3
   },
   "file_extension": ".py",
   "mimetype": "text/x-python",
   "name": "python",
   "nbconvert_exporter": "python",
   "pygments_lexer": "ipython3",
   "version": "3.8.10"
  }
 },
 "nbformat": 4,
 "nbformat_minor": 5
}
