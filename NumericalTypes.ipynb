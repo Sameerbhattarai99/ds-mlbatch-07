{
 "cells": [
  {
   "cell_type": "markdown",
   "id": "7fcc73ca-da31-48a5-a353-fcfa88ec7e6b",
   "metadata": {},
   "source": [
    "## numerical types"
   ]
  },
  {
   "cell_type": "code",
   "execution_count": 2,
   "id": "93e1ee62-2cfc-4ba4-adb8-b3d7df2d1702",
   "metadata": {},
   "outputs": [],
   "source": [
    "number = 12344"
   ]
  },
  {
   "cell_type": "code",
   "execution_count": 3,
   "id": "a1ebd535-a907-473e-92c5-f593d25437de",
   "metadata": {},
   "outputs": [
    {
     "data": {
      "text/plain": [
       "int"
      ]
     },
     "execution_count": 3,
     "metadata": {},
     "output_type": "execute_result"
    }
   ],
   "source": [
    "type(number)"
   ]
  },
  {
   "cell_type": "code",
   "execution_count": 4,
   "id": "94c41e8f-8983-47bb-869d-50e0b50d83f7",
   "metadata": {},
   "outputs": [],
   "source": [
    "pie = 22/7"
   ]
  },
  {
   "cell_type": "code",
   "execution_count": 5,
   "id": "5af1f627-9d75-461a-ac2f-5a1fc515ab95",
   "metadata": {},
   "outputs": [
    {
     "name": "stdout",
     "output_type": "stream",
     "text": [
      "3.142857142857143\n"
     ]
    }
   ],
   "source": [
    "print(pie)"
   ]
  },
  {
   "cell_type": "code",
   "execution_count": 6,
   "id": "5fcd691c-b01c-474b-b862-fc6f0afac246",
   "metadata": {},
   "outputs": [
    {
     "data": {
      "text/plain": [
       "float"
      ]
     },
     "execution_count": 6,
     "metadata": {},
     "output_type": "execute_result"
    }
   ],
   "source": [
    "type(pie)"
   ]
  },
  {
   "cell_type": "code",
   "execution_count": 7,
   "id": "4e96f00e-50c7-4cd6-b78a-e316227c76dd",
   "metadata": {},
   "outputs": [],
   "source": [
    "vec = 6 - 3j"
   ]
  },
  {
   "cell_type": "code",
   "execution_count": 8,
   "id": "9146e577-7b34-4285-b455-b745da86d04c",
   "metadata": {},
   "outputs": [
    {
     "data": {
      "text/plain": [
       "complex"
      ]
     },
     "execution_count": 8,
     "metadata": {},
     "output_type": "execute_result"
    }
   ],
   "source": [
    "type(vec)"
   ]
  },
  {
   "cell_type": "markdown",
   "id": "e1f2d46f-17a3-4c54-8d66-dbe8601b4669",
   "metadata": {},
   "source": [
    "## arthimetic operation"
   ]
  },
  {
   "cell_type": "code",
   "execution_count": 9,
   "id": "248939a0-3e25-4909-965d-14435645e51b",
   "metadata": {},
   "outputs": [],
   "source": [
    "x = 4\n",
    "y = 33"
   ]
  },
  {
   "cell_type": "code",
   "execution_count": 10,
   "id": "f541bc4a-72ba-46cb-90a4-0c0a78ef2ddf",
   "metadata": {},
   "outputs": [
    {
     "data": {
      "text/plain": [
       "37"
      ]
     },
     "execution_count": 10,
     "metadata": {},
     "output_type": "execute_result"
    }
   ],
   "source": [
    "x + y\n"
   ]
  },
  {
   "cell_type": "code",
   "execution_count": 11,
   "id": "8ae50a9b-9b3b-4585-99ee-1e6c4faf41f8",
   "metadata": {},
   "outputs": [
    {
     "data": {
      "text/plain": [
       "-29"
      ]
     },
     "execution_count": 11,
     "metadata": {},
     "output_type": "execute_result"
    }
   ],
   "source": [
    "x - y"
   ]
  },
  {
   "cell_type": "code",
   "execution_count": 12,
   "id": "10bfd4bc-9559-4a88-a1ff-67e3ecc5941c",
   "metadata": {},
   "outputs": [
    {
     "data": {
      "text/plain": [
       "1"
      ]
     },
     "execution_count": 12,
     "metadata": {},
     "output_type": "execute_result"
    }
   ],
   "source": [
    "10 % 3"
   ]
  },
  {
   "cell_type": "code",
   "execution_count": 14,
   "id": "04b0d04a-f33d-41ff-9c04-71525b83409c",
   "metadata": {},
   "outputs": [
    {
     "data": {
      "text/plain": [
       "1000"
      ]
     },
     "execution_count": 14,
     "metadata": {},
     "output_type": "execute_result"
    }
   ],
   "source": [
    "10**3"
   ]
  },
  {
   "cell_type": "code",
   "execution_count": 15,
   "id": "971484f3-b22e-4350-88ab-cfeb41071fe3",
   "metadata": {},
   "outputs": [
    {
     "data": {
      "text/plain": [
       "33"
      ]
     },
     "execution_count": 15,
     "metadata": {},
     "output_type": "execute_result"
    }
   ],
   "source": [
    " 100 // 3    "
   ]
  },
  {
   "cell_type": "markdown",
   "id": "059db271-6038-472d-a777-8d87e8de52af",
   "metadata": {},
   "source": [
    " ## type conversion"
   ]
  },
  {
   "cell_type": "code",
   "execution_count": 16,
   "id": "4f5e78f7-3c83-4105-8818-53bdd181685b",
   "metadata": {},
   "outputs": [],
   "source": [
    "eulers = 0.577218"
   ]
  },
  {
   "cell_type": "code",
   "execution_count": 17,
   "id": "032ce0f9-2004-4308-aad6-2dffad072ceb",
   "metadata": {},
   "outputs": [],
   "source": [
    "num = int(eulers)"
   ]
  },
  {
   "cell_type": "code",
   "execution_count": 19,
   "id": "d487f2b6-a965-44be-978d-14a084716e10",
   "metadata": {},
   "outputs": [
    {
     "data": {
      "text/plain": [
       "0"
      ]
     },
     "execution_count": 19,
     "metadata": {},
     "output_type": "execute_result"
    }
   ],
   "source": [
    "num"
   ]
  },
  {
   "cell_type": "code",
   "execution_count": 25,
   "id": "07198399-9d5f-41cd-b23e-ad8cea62201d",
   "metadata": {},
   "outputs": [],
   "source": [
    "compl = complex(eulers)"
   ]
  },
  {
   "cell_type": "code",
   "execution_count": 26,
   "id": "bdaaadbd-4e8b-43b0-8299-d80c43330a9a",
   "metadata": {},
   "outputs": [
    {
     "data": {
      "text/plain": [
       "(0.577218+0j)"
      ]
     },
     "execution_count": 26,
     "metadata": {},
     "output_type": "execute_result"
    }
   ],
   "source": [
    "compl"
   ]
  },
  {
   "cell_type": "markdown",
   "id": "c0ba697e-68b5-4c0d-b94c-9cbd583956d3",
   "metadata": {},
   "source": [
    "## comparison"
   ]
  },
  {
   "cell_type": "code",
   "execution_count": 39,
   "id": "3ecd24fb-75be-402e-8d85-8269046dd5c9",
   "metadata": {},
   "outputs": [],
   "source": [
    "number1 = 12\n",
    "number2 = 14"
   ]
  },
  {
   "cell_type": "code",
   "execution_count": 35,
   "id": "dd6b0826-e719-453e-9797-cc1ff633d0a4",
   "metadata": {},
   "outputs": [
    {
     "data": {
      "text/plain": [
       "False"
      ]
     },
     "execution_count": 35,
     "metadata": {},
     "output_type": "execute_result"
    }
   ],
   "source": [
    "number1 == number2"
   ]
  },
  {
   "cell_type": "code",
   "execution_count": 41,
   "id": "37af3c1c-17ee-405e-a086-341c70dd9b48",
   "metadata": {},
   "outputs": [
    {
     "data": {
      "text/plain": [
       "False"
      ]
     },
     "execution_count": 41,
     "metadata": {},
     "output_type": "execute_result"
    }
   ],
   "source": [
    "number1 >= number2"
   ]
  },
  {
   "cell_type": "markdown",
   "id": "01a365a1-c882-4806-a1ed-f0226ca72a06",
   "metadata": {},
   "source": [
    " ## math functions"
   ]
  },
  {
   "cell_type": "code",
   "execution_count": 42,
   "id": "3ab1643e-35b5-411c-98e2-7f4c62606191",
   "metadata": {},
   "outputs": [],
   "source": [
    "import math"
   ]
  },
  {
   "cell_type": "code",
   "execution_count": 51,
   "id": "88ead166-1465-4339-95bd-abb9ee7f65dc",
   "metadata": {},
   "outputs": [],
   "source": [
    "x= 22.5"
   ]
  },
  {
   "cell_type": "code",
   "execution_count": 46,
   "id": "93dac895-11c9-443a-a647-191b7b31a950",
   "metadata": {},
   "outputs": [
    {
     "data": {
      "text/plain": [
       "22.5"
      ]
     },
     "execution_count": 46,
     "metadata": {},
     "output_type": "execute_result"
    }
   ],
   "source": [
    "math.fabs(x)"
   ]
  },
  {
   "cell_type": "code",
   "execution_count": 49,
   "id": "801b0a51-075e-42f8-a695-70c429d2ad67",
   "metadata": {},
   "outputs": [
    {
     "data": {
      "text/plain": [
       "4.743416490252569"
      ]
     },
     "execution_count": 49,
     "metadata": {},
     "output_type": "execute_result"
    }
   ],
   "source": [
    "math.sqrt(x)"
   ]
  },
  {
   "cell_type": "code",
   "execution_count": 54,
   "id": "46e2cb8e-31cc-4087-9759-14615fbc8ca6",
   "metadata": {},
   "outputs": [
    {
     "data": {
      "text/plain": [
       "3.141592653589793"
      ]
     },
     "execution_count": 54,
     "metadata": {},
     "output_type": "execute_result"
    }
   ],
   "source": [
    "math.pi"
   ]
  },
  {
   "cell_type": "code",
   "execution_count": 55,
   "id": "040a2222-5244-49d7-8142-7259a220c34f",
   "metadata": {},
   "outputs": [
    {
     "data": {
      "text/plain": [
       "23"
      ]
     },
     "execution_count": 55,
     "metadata": {},
     "output_type": "execute_result"
    }
   ],
   "source": [
    "math.ceil(22.4)"
   ]
  },
  {
   "cell_type": "code",
   "execution_count": 62,
   "id": "32c4e0ce-e426-447d-a415-5c3b853fa51a",
   "metadata": {},
   "outputs": [],
   "source": [
    "capacity = 128\n",
    "user = 670"
   ]
  },
  {
   "cell_type": "code",
   "execution_count": 63,
   "id": "ef765aba-7207-43f7-a834-c39b2bf3d979",
   "metadata": {},
   "outputs": [
    {
     "data": {
      "text/plain": [
       "128"
      ]
     },
     "execution_count": 63,
     "metadata": {},
     "output_type": "execute_result"
    }
   ],
   "source": [
    "min(user,capacity)"
   ]
  },
  {
   "cell_type": "code",
   "execution_count": null,
   "id": "4b50dd1d-9af3-4cff-a3ec-454ff444966a",
   "metadata": {},
   "outputs": [],
   "source": []
  }
 ],
 "metadata": {
  "kernelspec": {
   "display_name": "Python 3 (ipykernel)",
   "language": "python",
   "name": "python3"
  },
  "language_info": {
   "codemirror_mode": {
    "name": "ipython",
    "version": 3
   },
   "file_extension": ".py",
   "mimetype": "text/x-python",
   "name": "python",
   "nbconvert_exporter": "python",
   "pygments_lexer": "ipython3",
   "version": "3.8.10"
  }
 },
 "nbformat": 4,
 "nbformat_minor": 5
}
