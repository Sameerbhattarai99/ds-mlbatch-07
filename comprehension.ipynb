{
 "cells": [
  {
   "cell_type": "markdown",
   "id": "b966c3c3-f61d-48e0-aa77-71e7cc257a64",
   "metadata": {},
   "source": [
    "# comprehensions"
   ]
  },
  {
   "cell_type": "code",
   "execution_count": 6,
   "id": "52e76c52-3777-4b2a-a4da-402114e0255a",
   "metadata": {},
   "outputs": [
    {
     "name": "stdout",
     "output_type": "stream",
     "text": [
      "[1, 4, 9, 16, 25, 36, 49, 64, 81]\n"
     ]
    }
   ],
   "source": [
    "# usal way \n",
    "square=[]\n",
    "for num in range(1,10):\n",
    "    square.append(num**2)\n",
    "print(square)"
   ]
  },
  {
   "cell_type": "code",
   "execution_count": null,
   "id": "63c11e99-0c55-42e5-a03a-b7f1661fe2bc",
   "metadata": {},
   "outputs": [],
   "source": []
  },
  {
   "cell_type": "code",
   "execution_count": 8,
   "id": "6db74c54-8937-4e5c-8204-d0e84e3f4080",
   "metadata": {},
   "outputs": [
    {
     "name": "stdout",
     "output_type": "stream",
     "text": [
      "[1, 4, 9, 16, 25, 36, 49, 64, 81]\n"
     ]
    }
   ],
   "source": [
    "\n",
    "#list comprehension\n",
    "square = [num ** 2 for num in range(1,10)]\n",
    "print(square)"
   ]
  },
  {
   "cell_type": "code",
   "execution_count": null,
   "id": "19041abf-f37d-4ee0-a443-bc236fd8f549",
   "metadata": {},
   "outputs": [],
   "source": []
  },
  {
   "cell_type": "code",
   "execution_count": 10,
   "id": "f6f891b0-da46-4cb5-86a6-6a5d858c5c0a",
   "metadata": {},
   "outputs": [
    {
     "name": "stdout",
     "output_type": "stream",
     "text": [
      "[2, 4, 6, 8]\n"
     ]
    }
   ],
   "source": [
    "even = [num for num in range(1,10) if num%2 == 0]\n",
    "print(even)"
   ]
  },
  {
   "cell_type": "code",
   "execution_count": 11,
   "id": "7c340116-e803-4d11-906b-25a379f5c8cb",
   "metadata": {},
   "outputs": [
    {
     "name": "stdout",
     "output_type": "stream",
     "text": [
      "[1, 9, 25, 49, 81]\n"
     ]
    }
   ],
   "source": [
    "square = [num ** 2 for num in range(1,10) if num % 2!=0]\n",
    "print(square)"
   ]
  },
  {
   "cell_type": "code",
   "execution_count": 12,
   "id": "495d9c0b-e4c7-4b63-be84-0772ebc511b8",
   "metadata": {},
   "outputs": [
    {
     "name": "stdout",
     "output_type": "stream",
     "text": [
      "[1, 4, 3, 16, 5, 36, 7, 64, 9]\n"
     ]
    }
   ],
   "source": [
    "square = [num ** 2 if num%2 == 0 else num for num in range(1,10) ]\n",
    "print(square)"
   ]
  },
  {
   "cell_type": "code",
   "execution_count": null,
   "id": "74e57057-c4e6-4b4f-ab31-10c849cb4266",
   "metadata": {},
   "outputs": [],
   "source": [
    "\n"
   ]
  },
  {
   "cell_type": "code",
   "execution_count": 16,
   "id": "cdcee05e-b56b-4735-9954-8f604136c637",
   "metadata": {},
   "outputs": [
    {
     "name": "stdout",
     "output_type": "stream",
     "text": [
      "[('red', 'apple'), ('red', 'banana'), ('red', 'cherry'), ('big', 'apple'), ('big', 'banana'), ('big', 'cherry'), ('tasty', 'apple'), ('tasty', 'banana'), ('tasty', 'cherry')]\n"
     ]
    }
   ],
   "source": [
    "adj = ['red' ,'big' , 'tasty']\n",
    "fruits = [\"apple\" , \"banana\" ,\"cherry\"]\n",
    "# for a in adj:\n",
    "#     for f in fruits:\n",
    "#         print(a,f)\n",
    "\n",
    "pair = [(a,f) for a in adj for f in fruits]\n",
    "print(pair)"
   ]
  },
  {
   "cell_type": "code",
   "execution_count": null,
   "id": "4aa36f1b-71ba-4795-aed1-93152ec14e6a",
   "metadata": {},
   "outputs": [],
   "source": []
  },
  {
   "cell_type": "code",
   "execution_count": 25,
   "id": "413e1e67-0493-4aff-8a77-5d6ba8894396",
   "metadata": {},
   "outputs": [],
   "source": [
    "sent = \"A single training set that has already been processed is usually split into several types of datasets in machine learning which is needed to check how well the training of the model went\""
   ]
  },
  {
   "cell_type": "code",
   "execution_count": 28,
   "id": "a2056cff-bc5c-4c85-afcb-77e1d5730926",
   "metadata": {},
   "outputs": [
    {
     "name": "stdout",
     "output_type": "stream",
     "text": [
      " 1\n",
      " 6\n",
      " 8\n",
      " 3\n",
      " 4\n",
      " 3\n",
      " 7\n",
      " 4\n",
      " 9\n",
      " 2\n",
      " 7\n",
      " 5\n",
      " 4\n",
      " 7\n",
      " 5\n",
      " 2\n",
      " 8\n",
      " 2\n",
      " 7\n",
      " 8\n",
      " 5\n",
      " 2\n",
      " 6\n",
      " 2\n",
      " 5\n",
      " 3\n",
      " 4\n",
      " 3\n",
      " 8\n",
      " 2\n",
      " 3\n",
      " 5\n",
      " 4\n"
     ]
    }
   ],
   "source": [
    "sent = \"A single training set that has already been processed is usually split into several types of datasets in machine learning which is needed to check how well the training of the model went\"\n",
    "\n",
    "words = sent.split()  \n",
    "\n",
    "for i in words:    \n",
    "    print(f\" {len(word)}\")  \n"
   ]
  },
  {
   "cell_type": "code",
   "execution_count": null,
   "id": "cd59f441-a6e4-4ff6-9ae1-011d9104da07",
   "metadata": {},
   "outputs": [],
   "source": []
  }
 ],
 "metadata": {
  "kernelspec": {
   "display_name": "Python 3 (ipykernel)",
   "language": "python",
   "name": "python3"
  },
  "language_info": {
   "codemirror_mode": {
    "name": "ipython",
    "version": 3
   },
   "file_extension": ".py",
   "mimetype": "text/x-python",
   "name": "python",
   "nbconvert_exporter": "python",
   "pygments_lexer": "ipython3",
   "version": "3.8.10"
  }
 },
 "nbformat": 4,
 "nbformat_minor": 5
}
