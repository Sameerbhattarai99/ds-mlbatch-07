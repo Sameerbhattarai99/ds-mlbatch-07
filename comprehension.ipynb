{
 "cells": [
  {
   "cell_type": "markdown",
   "id": "b966c3c3-f61d-48e0-aa77-71e7cc257a64",
   "metadata": {},
   "source": [
    "# comprehensions"
   ]
  },
  {
   "cell_type": "markdown",
   "id": "5a3512c6-a9d7-415d-84e5-ecea52f86596",
   "metadata": {},
   "source": [
    "## list comprehension"
   ]
  },
  {
   "cell_type": "code",
   "execution_count": 6,
   "id": "52e76c52-3777-4b2a-a4da-402114e0255a",
   "metadata": {},
   "outputs": [
    {
     "name": "stdout",
     "output_type": "stream",
     "text": [
      "[1, 4, 9, 16, 25, 36, 49, 64, 81]\n"
     ]
    }
   ],
   "source": [
    "# usal way \n",
    "square=[]\n",
    "for num in range(1,10):\n",
    "    square.append(num**2)\n",
    "print(square)"
   ]
  },
  {
   "cell_type": "code",
   "execution_count": 8,
   "id": "6db74c54-8937-4e5c-8204-d0e84e3f4080",
   "metadata": {},
   "outputs": [
    {
     "name": "stdout",
     "output_type": "stream",
     "text": [
      "[1, 4, 9, 16, 25, 36, 49, 64, 81]\n"
     ]
    }
   ],
   "source": [
    "\n",
    "#list comprehension\n",
    "square = [num ** 2 for num in range(1,10)]\n",
    "print(square)"
   ]
  },
  {
   "cell_type": "code",
   "execution_count": null,
   "id": "19041abf-f37d-4ee0-a443-bc236fd8f549",
   "metadata": {},
   "outputs": [],
   "source": []
  },
  {
   "cell_type": "code",
   "execution_count": 10,
   "id": "f6f891b0-da46-4cb5-86a6-6a5d858c5c0a",
   "metadata": {},
   "outputs": [
    {
     "name": "stdout",
     "output_type": "stream",
     "text": [
      "[2, 4, 6, 8]\n"
     ]
    }
   ],
   "source": [
    "even = [num for num in range(1,10) if num%2 == 0]\n",
    "print(even)"
   ]
  },
  {
   "cell_type": "code",
   "execution_count": 11,
   "id": "7c340116-e803-4d11-906b-25a379f5c8cb",
   "metadata": {},
   "outputs": [
    {
     "name": "stdout",
     "output_type": "stream",
     "text": [
      "[1, 9, 25, 49, 81]\n"
     ]
    }
   ],
   "source": [
    "square = [num ** 2 for num in range(1,10) if num % 2!=0]\n",
    "print(square)"
   ]
  },
  {
   "cell_type": "code",
   "execution_count": 12,
   "id": "495d9c0b-e4c7-4b63-be84-0772ebc511b8",
   "metadata": {},
   "outputs": [
    {
     "name": "stdout",
     "output_type": "stream",
     "text": [
      "[1, 4, 3, 16, 5, 36, 7, 64, 9]\n"
     ]
    }
   ],
   "source": [
    "square = [num ** 2 if num%2 == 0 else num for num in range(1,10) ]\n",
    "print(square)"
   ]
  },
  {
   "cell_type": "code",
   "execution_count": null,
   "id": "74e57057-c4e6-4b4f-ab31-10c849cb4266",
   "metadata": {},
   "outputs": [],
   "source": [
    "\n"
   ]
  },
  {
   "cell_type": "code",
   "execution_count": 16,
   "id": "cdcee05e-b56b-4735-9954-8f604136c637",
   "metadata": {},
   "outputs": [
    {
     "name": "stdout",
     "output_type": "stream",
     "text": [
      "[('red', 'apple'), ('red', 'banana'), ('red', 'cherry'), ('big', 'apple'), ('big', 'banana'), ('big', 'cherry'), ('tasty', 'apple'), ('tasty', 'banana'), ('tasty', 'cherry')]\n"
     ]
    }
   ],
   "source": [
    "adj = ['red' ,'big' , 'tasty']\n",
    "fruits = [\"apple\" , \"banana\" ,\"cherry\"]\n",
    "# for a in adj:\n",
    "#     for f in fruits:\n",
    "#         print(a,f)\n",
    "\n",
    "pair = [(a,f) for a in adj for f in fruits]\n",
    "print(pair)"
   ]
  },
  {
   "cell_type": "code",
   "execution_count": null,
   "id": "4aa36f1b-71ba-4795-aed1-93152ec14e6a",
   "metadata": {},
   "outputs": [],
   "source": []
  },
  {
   "cell_type": "code",
   "execution_count": 25,
   "id": "413e1e67-0493-4aff-8a77-5d6ba8894396",
   "metadata": {},
   "outputs": [],
   "source": [
    "sent = \"A single training set that has already been processed is usually split into several types of datasets in machine learning which is needed to check how well the training of the model went\""
   ]
  },
  {
   "cell_type": "code",
   "execution_count": 28,
   "id": "a2056cff-bc5c-4c85-afcb-77e1d5730926",
   "metadata": {},
   "outputs": [
    {
     "name": "stdout",
     "output_type": "stream",
     "text": [
      " 1\n",
      " 6\n",
      " 8\n",
      " 3\n",
      " 4\n",
      " 3\n",
      " 7\n",
      " 4\n",
      " 9\n",
      " 2\n",
      " 7\n",
      " 5\n",
      " 4\n",
      " 7\n",
      " 5\n",
      " 2\n",
      " 8\n",
      " 2\n",
      " 7\n",
      " 8\n",
      " 5\n",
      " 2\n",
      " 6\n",
      " 2\n",
      " 5\n",
      " 3\n",
      " 4\n",
      " 3\n",
      " 8\n",
      " 2\n",
      " 3\n",
      " 5\n",
      " 4\n"
     ]
    }
   ],
   "source": [
    "sent = \"A single training set that has already been processed is usually split into several types of datasets in machine learning which is needed to check how well the training of the model went\"\n",
    "\n",
    "words = sent.split()  \n",
    "\n",
    "for i in words:    \n",
    "    print(f\" {len(word)}\")  \n"
   ]
  },
  {
   "cell_type": "code",
   "execution_count": null,
   "id": "cd59f441-a6e4-4ff6-9ae1-011d9104da07",
   "metadata": {},
   "outputs": [],
   "source": []
  },
  {
   "cell_type": "markdown",
   "id": "b597431f-7ad0-4d1d-957d-e7ca99ade11e",
   "metadata": {},
   "source": [
    "## dictonary comprehension"
   ]
  },
  {
   "cell_type": "markdown",
   "id": "1b1d3d62-166b-440f-adb4-6eebfd111e16",
   "metadata": {},
   "source": [
    "new_dict = {key_expression : value_experssion for item in iterable if condtion}"
   ]
  },
  {
   "cell_type": "code",
   "execution_count": 4,
   "id": "84d68e38-5520-4f21-ad0d-b88aed951809",
   "metadata": {},
   "outputs": [
    {
     "name": "stdout",
     "output_type": "stream",
     "text": [
      "{1: 1, 2: 4, 3: 9, 4: 16}\n"
     ]
    }
   ],
   "source": [
    "odd_dict = {}\n",
    "\n",
    "for num in range(1,5):\n",
    "    odd_dict[num] = num**2\n",
    "print(odd_dict)"
   ]
  },
  {
   "cell_type": "code",
   "execution_count": null,
   "id": "577b4939-94ff-47c2-9197-09ba123b6b65",
   "metadata": {},
   "outputs": [],
   "source": []
  },
  {
   "cell_type": "code",
   "execution_count": 8,
   "id": "32d375e4-960a-4e16-8178-d9655d06bf15",
   "metadata": {},
   "outputs": [
    {
     "name": "stdout",
     "output_type": "stream",
     "text": [
      "{1: 1, 2: 4, 3: 9, 4: 16}\n"
     ]
    }
   ],
   "source": [
    "sqr_dict={num : num**2 for num in range(1,5)}\n",
    "print(sqr_dict)"
   ]
  },
  {
   "cell_type": "code",
   "execution_count": null,
   "id": "6ffed6c2-3350-4cd2-80c1-53f469c608bb",
   "metadata": {},
   "outputs": [],
   "source": []
  },
  {
   "cell_type": "code",
   "execution_count": 9,
   "id": "2fd65b0f-395d-470f-861e-b334ac5e676e",
   "metadata": {},
   "outputs": [
    {
     "name": "stdout",
     "output_type": "stream",
     "text": [
      "{2: 4, 4: 16}\n"
     ]
    }
   ],
   "source": [
    "sqr_dict={num : num**2 for num in range(1,5) if num%2==0}\n",
    "print(sqr_dict)"
   ]
  },
  {
   "cell_type": "code",
   "execution_count": null,
   "id": "e985dd1a-1691-4e4f-a5ef-fc430734711b",
   "metadata": {},
   "outputs": [],
   "source": []
  },
  {
   "cell_type": "code",
   "execution_count": 12,
   "id": "88ad6757-f903-4e52-8c3f-fdf687811ab6",
   "metadata": {},
   "outputs": [
    {
     "name": "stdout",
     "output_type": "stream",
     "text": [
      "{'single': 6, 'training': 8, 'already': 7, 'processed': 9, 'usually': 7, 'several': 7, 'datasets': 8, 'machine': 7, 'learning': 8, 'needed': 6}\n"
     ]
    }
   ],
   "source": [
    "sent = \"A single training set that has already been processed is usually split into several types of datasets in machine learning which is needed to check how well the training of the model went\"\n",
    "words = sent.split()\n",
    "value={word:len(word)     for word in words if len(word)>5 }\n",
    "print(value)"
   ]
  },
  {
   "cell_type": "code",
   "execution_count": null,
   "id": "c9789d1b-e3f6-4aca-b1dd-9235ee1aaaca",
   "metadata": {},
   "outputs": [],
   "source": []
  },
  {
   "cell_type": "markdown",
   "id": "fdc7fe2c-3288-48a4-94d9-7cf12cd2f1eb",
   "metadata": {},
   "source": [
    "## Set comprehension\n"
   ]
  },
  {
   "cell_type": "markdown",
   "id": "e87861e6-788f-490a-930f-c3698218aca8",
   "metadata": {},
   "source": [
    "new_dict = {experssion for item in iterable if condtion}"
   ]
  },
  {
   "cell_type": "code",
   "execution_count": 17,
   "id": "1c5e5959-3e70-4b3c-afbf-2d9b1ad9e60f",
   "metadata": {},
   "outputs": [
    {
     "name": "stdout",
     "output_type": "stream",
     "text": [
      "{1, 49, 9, 25}\n"
     ]
    }
   ],
   "source": [
    "sq_odd = {num**2 for num in range(1,9) if num%2!=0}\n",
    "print(sq_odd)\n"
   ]
  },
  {
   "cell_type": "code",
   "execution_count": null,
   "id": "b188c9c7-56ea-42da-a045-56deaf593bee",
   "metadata": {},
   "outputs": [],
   "source": []
  },
  {
   "cell_type": "code",
   "execution_count": 18,
   "id": "158f097e-3cbc-4ad6-8ee4-eb0b3a7c37b8",
   "metadata": {},
   "outputs": [
    {
     "data": {
      "text/plain": [
       "['aa', 'ab', 'ac', 'ba', 'bb', 'bc', 'ca', 'cb', 'cc']"
      ]
     },
     "execution_count": 18,
     "metadata": {},
     "output_type": "execute_result"
    }
   ],
   "source": [
    "letters = ['a','b','c']\n",
    "pairs = [ let1 + let2 for let1 in letters for let2 in letters]\n",
    "pairs"
   ]
  },
  {
   "cell_type": "code",
   "execution_count": 26,
   "id": "a7e49242-7492-471b-9a99-c4821d1b10f0",
   "metadata": {},
   "outputs": [
    {
     "name": "stdout",
     "output_type": "stream",
     "text": [
      "{'i', 'e', 'o', 'a'}\n"
     ]
    }
   ],
   "source": [
    "sent=\"Set comprehensions can be nested\"\n",
    "\n",
    "\n",
    "value = {word for word in sent  if word in set(\"aeiou\")}\n",
    "print(value)\n"
   ]
  },
  {
   "cell_type": "code",
   "execution_count": null,
   "id": "f3bd0d50-cd88-45b2-8d31-cc75b1f4ea9e",
   "metadata": {},
   "outputs": [],
   "source": []
  }
 ],
 "metadata": {
  "kernelspec": {
   "display_name": "Python 3 (ipykernel)",
   "language": "python",
   "name": "python3"
  },
  "language_info": {
   "codemirror_mode": {
    "name": "ipython",
    "version": 3
   },
   "file_extension": ".py",
   "mimetype": "text/x-python",
   "name": "python",
   "nbconvert_exporter": "python",
   "pygments_lexer": "ipython3",
   "version": "3.8.10"
  }
 },
 "nbformat": 4,
 "nbformat_minor": 5
}
