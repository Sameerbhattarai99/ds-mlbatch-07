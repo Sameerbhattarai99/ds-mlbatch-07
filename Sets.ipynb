{
 "cells": [
  {
   "cell_type": "markdown",
   "id": "40499b4d-b971-4779-b9f6-0c1fa1962460",
   "metadata": {},
   "source": [
    "## sets"
   ]
  },
  {
   "cell_type": "code",
   "execution_count": 1,
   "id": "b0131210-b244-41f8-870f-2af24b7a1aed",
   "metadata": {},
   "outputs": [],
   "source": [
    "setA = {4,5,3,4,2,4,2,1,3,4,6,7}"
   ]
  },
  {
   "cell_type": "code",
   "execution_count": 2,
   "id": "930b4e4b-d6f8-4efa-a808-74f2316cacb9",
   "metadata": {},
   "outputs": [
    {
     "data": {
      "text/plain": [
       "set"
      ]
     },
     "execution_count": 2,
     "metadata": {},
     "output_type": "execute_result"
    }
   ],
   "source": [
    "type(setA)"
   ]
  },
  {
   "cell_type": "code",
   "execution_count": 3,
   "id": "c1b508fc-11b7-47a1-b7e3-dcae7b6d66e1",
   "metadata": {},
   "outputs": [
    {
     "name": "stdout",
     "output_type": "stream",
     "text": [
      "{1, 2, 3, 4, 5, 6, 7}\n"
     ]
    }
   ],
   "source": [
    "print(setA)"
   ]
  },
  {
   "cell_type": "code",
   "execution_count": 4,
   "id": "cc936e4f-bc24-4727-952c-58fa864aa198",
   "metadata": {},
   "outputs": [
    {
     "data": {
      "text/plain": [
       "{'i', 'm', 'p', 's'}"
      ]
     },
     "execution_count": 4,
     "metadata": {},
     "output_type": "execute_result"
    }
   ],
   "source": [
    "set(\"mississipi\")"
   ]
  },
  {
   "cell_type": "markdown",
   "id": "2d265fd7-1187-4caf-a8a5-4e9086ac2f2c",
   "metadata": {},
   "source": [
    "##  sets operation"
   ]
  },
  {
   "cell_type": "code",
   "execution_count": 6,
   "id": "39a9fca4-be51-439f-a1de-437a0db563f2",
   "metadata": {},
   "outputs": [],
   "source": [
    "A = {1,2,3,4}\n",
    "B= {3,4,5,6}"
   ]
  },
  {
   "cell_type": "code",
   "execution_count": 7,
   "id": "684a908d-15d0-4766-b3cf-84adbaadd2f9",
   "metadata": {},
   "outputs": [
    {
     "data": {
      "text/plain": [
       "{1, 2, 3, 4, 5, 6}"
      ]
     },
     "execution_count": 7,
     "metadata": {},
     "output_type": "execute_result"
    }
   ],
   "source": [
    "aub = A.union(B)\n",
    "aub"
   ]
  },
  {
   "cell_type": "code",
   "execution_count": 8,
   "id": "ee45f48a-210c-4bae-9d7b-d1cebcb967f5",
   "metadata": {},
   "outputs": [
    {
     "data": {
      "text/plain": [
       "{3, 4}"
      ]
     },
     "execution_count": 8,
     "metadata": {},
     "output_type": "execute_result"
    }
   ],
   "source": [
    "aNb = A.intersection(B)\n",
    "aNb"
   ]
  },
  {
   "cell_type": "code",
   "execution_count": 9,
   "id": "364de848-3f2e-45f6-9664-d3641e4dfc79",
   "metadata": {},
   "outputs": [
    {
     "data": {
      "text/plain": [
       "{1, 2}"
      ]
     },
     "execution_count": 9,
     "metadata": {},
     "output_type": "execute_result"
    }
   ],
   "source": [
    "a_b = A.difference(B)\n",
    "a_b"
   ]
  },
  {
   "cell_type": "code",
   "execution_count": 11,
   "id": "1b96c60f-3dac-4ff4-9e43-c97809355232",
   "metadata": {},
   "outputs": [
    {
     "data": {
      "text/plain": [
       "1"
      ]
     },
     "execution_count": 11,
     "metadata": {},
     "output_type": "execute_result"
    }
   ],
   "source": [
    "A.pop()"
   ]
  },
  {
   "cell_type": "code",
   "execution_count": 12,
   "id": "c64d66cd-ca69-478a-b5a4-6b6a2a5b1c65",
   "metadata": {},
   "outputs": [],
   "source": [
    "list = [\"sam\",\"sam\",\"ram\",\"he\",\"o\",\"he\"]"
   ]
  },
  {
   "cell_type": "code",
   "execution_count": 13,
   "id": "aef55072-ed07-4cdd-a882-60720618f729",
   "metadata": {},
   "outputs": [
    {
     "ename": "TypeError",
     "evalue": "'type' object is not subscriptable",
     "output_type": "error",
     "traceback": [
      "\u001b[1;31m---------------------------------------------------------------------------\u001b[0m",
      "\u001b[1;31mTypeError\u001b[0m                                 Traceback (most recent call last)",
      "Cell \u001b[1;32mIn[13], line 1\u001b[0m\n\u001b[1;32m----> 1\u001b[0m \u001b[38;5;28;43mset\u001b[39;49m\u001b[43m[\u001b[49m\u001b[38;5;28;43mlist\u001b[39;49m\u001b[43m]\u001b[49m\n",
      "\u001b[1;31mTypeError\u001b[0m: 'type' object is not subscriptable"
     ]
    }
   ],
   "source": []
  },
  {
   "cell_type": "code",
   "execution_count": null,
   "id": "f0996720-1844-49b2-9fbe-d07fac163e2d",
   "metadata": {},
   "outputs": [],
   "source": []
  }
 ],
 "metadata": {
  "kernelspec": {
   "display_name": "Python 3 (ipykernel)",
   "language": "python",
   "name": "python3"
  },
  "language_info": {
   "codemirror_mode": {
    "name": "ipython",
    "version": 3
   },
   "file_extension": ".py",
   "mimetype": "text/x-python",
   "name": "python",
   "nbconvert_exporter": "python",
   "pygments_lexer": "ipython3",
   "version": "3.8.10"
  }
 },
 "nbformat": 4,
 "nbformat_minor": 5
}
