{
 "cells": [
  {
   "cell_type": "markdown",
   "id": "afa9000e-2465-4c1a-acbc-ce2fc371ce9a",
   "metadata": {},
   "source": [
    "# linear regression"
   ]
  },
  {
   "cell_type": "markdown",
   "id": "72449c7d-df3c-4ffc-9c3b-d543e68cb0c6",
   "metadata": {},
   "source": [
    "* ordinal least square\n",
    "* weighted least square\n",
    "* general least"
   ]
  },
  {
   "cell_type": "code",
   "execution_count": null,
   "id": "fa496892-5b56-46b0-972c-7ed3ab7dfea7",
   "metadata": {},
   "outputs": [],
   "source": []
  }
 ],
 "metadata": {
  "kernelspec": {
   "display_name": "Python 3 (ipykernel)",
   "language": "python",
   "name": "python3"
  },
  "language_info": {
   "codemirror_mode": {
    "name": "ipython",
    "version": 3
   },
   "file_extension": ".py",
   "mimetype": "text/x-python",
   "name": "python",
   "nbconvert_exporter": "python",
   "pygments_lexer": "ipython3",
   "version": "3.8.10"
  }
 },
 "nbformat": 4,
 "nbformat_minor": 5
}
