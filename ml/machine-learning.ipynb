{
 "cells": [
  {
   "cell_type": "markdown",
   "id": "9133a50e-3113-4bf3-8b5b-0a30880d7ce9",
   "metadata": {},
   "source": [
    "# machine learning"
   ]
  },
  {
   "cell_type": "markdown",
   "id": "165c5aff-d57a-46d5-b67c-ac201578cf64",
   "metadata": {},
   "source": [
    "## supervised learning"
   ]
  },
  {
   "cell_type": "markdown",
   "id": "c330a484-38da-4046-b01a-43fc4b492ee8",
   "metadata": {},
   "source": [
    "## unsupervised learning"
   ]
  },
  {
   "cell_type": "markdown",
   "id": "72c6415e-0387-4d8b-9730-6a5fcb40f273",
   "metadata": {},
   "source": [
    "## reinforcement learning"
   ]
  },
  {
   "cell_type": "markdown",
   "id": "68072fe8-b2d1-40ed-93c3-c26fc9de269c",
   "metadata": {},
   "source": [
    "# technology"
   ]
  },
  {
   "cell_type": "markdown",
   "id": "59924458-747c-4ceb-bf54-fce84471d298",
   "metadata": {},
   "source": [
    "* dataset\n",
    "* traning and testing\n",
    "* inference\n",
    "* performance matrix"
   ]
  },
  {
   "cell_type": "markdown",
   "id": "727e41a0-fffe-49f4-9772-4edae9e76c91",
   "metadata": {},
   "source": [
    "\n",
    "# supervised learning "
   ]
  },
  {
   "cell_type": "markdown",
   "id": "b9dba37e-4bfd-42dc-8329-5230e7a49158",
   "metadata": {},
   "source": [
    "## regression algo"
   ]
  },
  {
   "cell_type": "markdown",
   "id": "c4832d3d-9aad-4d56-be2d-7389ac9ff1c8",
   "metadata": {},
   "source": [
    "* linear regression\n",
    "* neural network\n"
   ]
  },
  {
   "cell_type": "code",
   "execution_count": null,
   "id": "41554e5a-fcda-48b1-a9ee-5638240253f6",
   "metadata": {},
   "outputs": [],
   "source": []
  }
 ],
 "metadata": {
  "kernelspec": {
   "display_name": "Python 3 (ipykernel)",
   "language": "python",
   "name": "python3"
  },
  "language_info": {
   "codemirror_mode": {
    "name": "ipython",
    "version": 3
   },
   "file_extension": ".py",
   "mimetype": "text/x-python",
   "name": "python",
   "nbconvert_exporter": "python",
   "pygments_lexer": "ipython3",
   "version": "3.8.10"
  }
 },
 "nbformat": 4,
 "nbformat_minor": 5
}
