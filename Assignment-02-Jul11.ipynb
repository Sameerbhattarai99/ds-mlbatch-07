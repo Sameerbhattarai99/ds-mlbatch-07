{
 "cells": [
  {
   "cell_type": "markdown",
   "metadata": {},
   "source": [
    "### Question : Check for Palindrome\n",
    "Write a Python program using a lambda function to check if a given string is a palindrome.\n",
    "\n",
    "Example:\n",
    "\n",
    "Input: `\"level\"`\n",
    "\n",
    "Output: `True`"
   ]
  },
  {
   "cell_type": "code",
   "execution_count": 7,
   "metadata": {},
   "outputs": [
    {
     "data": {
      "text/plain": [
       "True"
      ]
     },
     "execution_count": 7,
     "metadata": {},
     "output_type": "execute_result"
    }
   ],
   "source": [
    "# Your Solution Here\n",
    "\n",
    "palindrome = lambda text:text == text[::-1]\n",
    "palindrome('level')"
   ]
  },
  {
   "cell_type": "markdown",
   "metadata": {},
   "source": [
    "### Question: \n",
    "Write a Python program to check whether a given number is an Armstrong number or not.\n",
    "\n",
    "**Definition:**\n",
    "An **Armstrong number** (also known as a **narcissistic number**) is a number that is equal to the sum of its own digits each raised to the power of the number of digits. For example:\n",
    "- 153 is an Armstrong number because \\( 1^3 + 5^3 + 3^3 = 153 \\).\n",
    "- 9474 is an Armstrong number because \\( 9^4 + 4^4 + 7^4 + 4^4 = 9474 \\).\n",
    "\n",
    "**Input:**  \n",
    "An integer (e.g., 153).\n",
    "\n",
    "**Output:**  \n",
    "Output \"Yes, it's an Armstrong number.\" if the number is an Armstrong number. Otherwise, output \"No, it's not an Armstrong number.\"\n",
    "\n",
    "**Constraints:**  \n",
    "- The input should be a positive integer.  \n"
   ]
  },
  {
   "cell_type": "code",
   "execution_count": 33,
   "metadata": {},
   "outputs": [
    {
     "name": "stdin",
     "output_type": "stream",
     "text": [
      "Enter a positive integer:  153\n"
     ]
    },
    {
     "name": "stdout",
     "output_type": "stream",
     "text": [
      "Yes, it's an Armstrong number.\n"
     ]
    }
   ],
   "source": [
    "def is_armstrong(number):\n",
    "    digits = [int(d) for d in str(number)]\n",
    "    power = len(digits)\n",
    "    total = sum(d ** power for d in digits)\n",
    "    return total == number\n",
    "\n",
    "\n",
    "num = int(input(\"Enter a positive integer: \"))\n",
    "\n",
    "\n",
    "if is_armstrong(num):\n",
    "    print(\"Yes, it's an Armstrong number.\")\n",
    "else:\n",
    "    print(\"No, it's not an Armstrong number.\")\n"
   ]
  },
  {
   "cell_type": "markdown",
   "metadata": {},
   "source": [
    "### Control Flow with Nested Loops and Complex Logic\n",
    "\n",
    "Write a Python program that simulates a **number guessing game**:\n",
    "\n",
    "1. The program should generate a random number between 1 and 100 and give the user 7 attempts to guess it.\n",
    "\n",
    "2. After each wrong guess, the program should provide a hint whether the guess was too high or too low.\n",
    "\n",
    "3. If the user fails to guess the number within the attempts, the program should reveal the number and ask if they would like to play again."
   ]
  },
  {
   "cell_type": "code",
   "execution_count": 29,
   "metadata": {},
   "outputs": [
    {
     "name": "stdin",
     "output_type": "stream",
     "text": [
      "enter a number 77\n"
     ]
    },
    {
     "name": "stdout",
     "output_type": "stream",
     "text": [
      "the number is low\n"
     ]
    },
    {
     "name": "stdin",
     "output_type": "stream",
     "text": [
      "enter a number 77\n"
     ]
    },
    {
     "name": "stdout",
     "output_type": "stream",
     "text": [
      "the number is low\n"
     ]
    },
    {
     "name": "stdin",
     "output_type": "stream",
     "text": [
      "enter a number 7\n"
     ]
    },
    {
     "name": "stdout",
     "output_type": "stream",
     "text": [
      "the number is low\n"
     ]
    },
    {
     "name": "stdin",
     "output_type": "stream",
     "text": [
      "enter a number 77\n"
     ]
    },
    {
     "name": "stdout",
     "output_type": "stream",
     "text": [
      "the number is low\n"
     ]
    },
    {
     "name": "stdin",
     "output_type": "stream",
     "text": [
      "enter a number 77\n"
     ]
    },
    {
     "name": "stdout",
     "output_type": "stream",
     "text": [
      "the number is low\n"
     ]
    },
    {
     "name": "stdin",
     "output_type": "stream",
     "text": [
      "enter a number 77\n"
     ]
    },
    {
     "name": "stdout",
     "output_type": "stream",
     "text": [
      "the number is low\n"
     ]
    },
    {
     "name": "stdin",
     "output_type": "stream",
     "text": [
      "enter a number 77\n"
     ]
    },
    {
     "name": "stdout",
     "output_type": "stream",
     "text": [
      "the number is low\n",
      "you ran out of attempt so the number is 5\n"
     ]
    }
   ],
   "source": [
    "# Your Solution Here\n",
    "import random\n",
    "import random\n",
    "attempt = 7\n",
    "number = random.randint(1, 100)\n",
    "def play_game():\n",
    "    for attempts in range(1,attempt+1):\n",
    "       \n",
    "        \n",
    "                \n",
    "        guess = int(input(\"enter a number\"))\n",
    "        if guess == number:\n",
    "            print(\"the number is correct\")\n",
    "            break\n",
    "                \n",
    "        elif guess<number:\n",
    "             print(\"the number is high\")\n",
    "                \n",
    "        elif guess>number:\n",
    "            print(\"the number is low\")\n",
    "\n",
    "    else :\n",
    "        print(f\"you ran out of attempt so the number is {number}\")\n",
    "                \n",
    "\n",
    "play_game()"
   ]
  },
  {
   "cell_type": "markdown",
   "metadata": {},
   "source": [
    "\n",
    "### Write a Python program that iterates through integers from 1 to 50. For each multiple of three, print \"Fizz\" instead of the number; for each multiple of five, print \"Buzz\". For numbers that are multiples of both three and five, print \"FizzBuzz\".\n",
    "\n",
    "The FizzBuzz problem is a common coding challenge that is often used in programming interviews to test basic programming skills. The problem typically requires writing a function that prints numbers from 1 to a given limit, but with a twist:\n",
    "\n",
    "- For multiples of 3, print \"Fizz\" instead of the number.\n",
    "- For multiples of 5, print \"Buzz\" instead of the number.\n",
    "- For numbers which are multiples of both 3 and 5, print \"FizzBuzz\".\n",
    "\n",
    "\n"
   ]
  },
  {
   "cell_type": "code",
   "execution_count": 32,
   "metadata": {},
   "outputs": [
    {
     "name": "stdout",
     "output_type": "stream",
     "text": [
      "1\n",
      "2\n",
      "fizz\n",
      "4\n",
      "buzz\n",
      "fizz\n",
      "7\n",
      "8\n",
      "fizz\n",
      "buzz\n",
      "11\n",
      "fizz\n",
      "13\n",
      "14\n",
      "fizzbuzz\n",
      "16\n",
      "17\n",
      "fizz\n",
      "19\n",
      "buzz\n",
      "fizz\n",
      "22\n",
      "23\n",
      "fizz\n",
      "buzz\n",
      "26\n",
      "fizz\n",
      "28\n",
      "29\n",
      "fizzbuzz\n",
      "31\n",
      "32\n",
      "fizz\n",
      "34\n",
      "buzz\n",
      "fizz\n",
      "37\n",
      "38\n",
      "fizz\n",
      "buzz\n",
      "41\n",
      "fizz\n",
      "43\n",
      "44\n",
      "fizzbuzz\n",
      "46\n",
      "47\n",
      "fizz\n",
      "49\n",
      "buzz\n"
     ]
    }
   ],
   "source": [
    "# Your Solution Here\n",
    "\n",
    "def check():\n",
    "    for i in range(1,51):\n",
    "            if  i % 3 == 0 and i % 5 == 0:\n",
    "                print(\"fizzbuzz\")\n",
    "            elif i % 5 == 0:\n",
    "                print(\"buzz\")\n",
    "    \n",
    "            elif i % 3 == 0 :\n",
    "                print(\"fizz\")\n",
    "\n",
    "            else :\n",
    "                print(f\"{i}\")\n",
    "\n",
    "check()\n",
    "        \n",
    "        \n",
    "        "
   ]
  },
  {
   "cell_type": "markdown",
   "metadata": {},
   "source": [
    "### Scenario:\n",
    "\n",
    "You are tasked with designing a system for a **vehicle rental company**. The company rents out various types of vehicles like **Cars** and **Bikes**, and each vehicle has some shared characteristics but also some distinct ones. \n",
    "\n",
    "### Requirements:\n",
    "1. Each **Vehicle** has attributes such as:\n",
    "   - `vehicle_id`: A unique identifier for the vehicle.\n",
    "   - `brand`: The brand of the vehicle.\n",
    "   - `rental_price`: Price per day to rent the vehicle.\n",
    "\n",
    "2. Both **Car** and **Bike** are types of **Vehicles**.  \n",
    "   - A **Car** has an additional attribute: `number_of_doors`.  \n",
    "   - A **Bike** has an additional attribute: `bike_type` (e.g., mountain bike, racing bike).\n",
    "\n",
    "3. You should provide methods to:\n",
    "   - **Calculate total rental cost**: Given the number of rental days, calculate the total cost for any vehicle.\n",
    "   - **Display vehicle details**: For both cars and bikes, display details including the unique attributes (e.g., `number_of_doors` for cars, `bike_type` for bikes).\n",
    "\n",
    "4. Implement the following OOP concepts:\n",
    "   - **Abstraction**: Provide a clean interface for calculating the total rental cost and displaying vehicle details, hiding the internal logic.\n",
    "   - **Inheritance**: Both **Car** and **Bike** should inherit common functionality from the **Vehicle** class.\n",
    "   - **Polymorphism**: Use method overriding so that the method for displaying vehicle details works differently for cars and bikes.\n",
    "\n",
    "---\n",
    "\n",
    "### Task:\n",
    "\n",
    "1. **Define a `Vehicle` base class** that implements the common attributes and methods.\n",
    "2. **Define two subclasses `Car` and `Bike`** that inherit from `Vehicle` and implement their specific attributes.\n",
    "3. Use encapsulation by making attributes private and providing public methods to interact with them.\n",
    "4. Use polymorphism to create a `display_details` method that behaves differently for `Car` and `Bike`.\n"
   ]
  },
  {
   "cell_type": "code",
   "execution_count": null,
   "metadata": {},
   "outputs": [],
   "source": [
    "# Your Solution Here"
   ]
  },
  {
   "cell_type": "code",
   "execution_count": 42,
   "metadata": {},
   "outputs": [
    {
     "name": "stdout",
     "output_type": "stream",
     "text": [
      "Car Details:\n",
      "Vehicle ID: C001\n",
      "Brand: Toyota\n",
      "Rental Price per Day: $50\n",
      "Number of Doors: 4\n",
      "Total Rental Cost for 3 days: $150\n",
      "\n",
      "Bike Details:\n",
      "Vehicle ID: B001\n",
      "Brand: Giant\n",
      "Rental Price per Day: $20\n",
      "Bike Type: Mountain Bike\n",
      "Total Rental Cost for 5 days: $100\n"
     ]
    }
   ],
   "source": [
    "from abc import ABC, abstractmethod\n",
    "\n",
    "class Vehicle(ABC):\n",
    "    def __init__(self, vehicle_id, brand, rental_price):\n",
    "        # Encapsulation: private attributes\n",
    "        self.__vehicle_id = vehicle_id\n",
    "        self.__brand = brand\n",
    "        self.__rental_price = rental_price\n",
    "    \n",
    "    # Public getter methods (Encapsulation)\n",
    "    def get_vehicle_id(self):\n",
    "        return self.__vehicle_id\n",
    "    \n",
    "    def get_brand(self):\n",
    "        return self.__brand\n",
    "    \n",
    "    def get_rental_price(self):\n",
    "        return self.__rental_price\n",
    "    \n",
    "    # Abstraction: Clean interface to calculate total cost\n",
    "    def calculate_rental_cost(self, days):\n",
    "        if days <= 0:\n",
    "            raise ValueError(\"Rental days must be positive\")\n",
    "        return self.__rental_price * days\n",
    "    \n",
    "    # Polymorphism: Abstract method to be overridden by subclasses\n",
    "    @abstractmethod\n",
    "    def display_details(self):\n",
    "        pass\n",
    "\n",
    "\n",
    "class Car(Vehicle):\n",
    "    def __init__(self, vehicle_id, brand, rental_price, number_of_doors):\n",
    "        super().__init__(vehicle_id, brand, rental_price)\n",
    "        self.__number_of_doors = number_of_doors\n",
    "    \n",
    "    def get_number_of_doors(self):\n",
    "        return self.__number_of_doors\n",
    "    \n",
    "    # Override the display_details method (Polymorphism)\n",
    "    def display_details(self):\n",
    "        print(f\"Car Details:\")\n",
    "        print(f\"Vehicle ID: {self.get_vehicle_id()}\")\n",
    "        print(f\"Brand: {self.get_brand()}\")\n",
    "        print(f\"Rental Price per Day: ${self.get_rental_price()}\")\n",
    "        print(f\"Number of Doors: {self.__number_of_doors}\")\n",
    "\n",
    "\n",
    "class Bike(Vehicle):\n",
    "    def __init__(self, vehicle_id, brand, rental_price, bike_type):\n",
    "        super().__init__(vehicle_id, brand, rental_price)\n",
    "        self.__bike_type = bike_type\n",
    "    \n",
    "    def get_bike_type(self):\n",
    "        return self.__bike_type\n",
    "    \n",
    "    # Override the display_details method (Polymorphism)\n",
    "    def display_details(self):\n",
    "        print(f\"Bike Details:\")\n",
    "        print(f\"Vehicle ID: {self.get_vehicle_id()}\")\n",
    "        print(f\"Brand: {self.get_brand()}\")\n",
    "        print(f\"Rental Price per Day: ${self.get_rental_price()}\")\n",
    "        print(f\"Bike Type: {self.__bike_type}\")\n",
    "\n",
    "\n",
    "# Example usage:\n",
    "\n",
    "# Create a Car object\n",
    "car = Car(\"C001\", \"Toyota\", 50, 4)\n",
    "\n",
    "# Create a Bike object\n",
    "bike = Bike(\"B001\", \"Giant\", 20, \"Mountain Bike\")\n",
    "\n",
    "# Calculate rental cost\n",
    "car_cost = car.calculate_rental_cost(3)   # 3 days rental\n",
    "bike_cost = bike.calculate_rental_cost(5) # 5 days rental\n",
    "\n",
    "# Display details\n",
    "car.display_details()\n",
    "print(f\"Total Rental Cost for 3 days: ${car_cost}\\n\")\n",
    "\n",
    "bike.display_details()\n",
    "print(f\"Total Rental Cost for 5 days: ${bike_cost}\")\n"
   ]
  },
  {
   "cell_type": "code",
   "execution_count": null,
   "metadata": {},
   "outputs": [],
   "source": []
  }
 ],
 "metadata": {
  "kernelspec": {
   "display_name": "Python 3 (ipykernel)",
   "language": "python",
   "name": "python3"
  },
  "language_info": {
   "codemirror_mode": {
    "name": "ipython",
    "version": 3
   },
   "file_extension": ".py",
   "mimetype": "text/x-python",
   "name": "python",
   "nbconvert_exporter": "python",
   "pygments_lexer": "ipython3",
   "version": "3.8.10"
  }
 },
 "nbformat": 4,
 "nbformat_minor": 4
}
