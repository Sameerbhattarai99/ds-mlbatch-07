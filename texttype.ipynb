{
 "cells": [
  {
   "cell_type": "markdown",
   "id": "b7c5ae29-8d4e-46e6-9e2a-697632446854",
   "metadata": {},
   "source": [
    "## text type"
   ]
  },
  {
   "cell_type": "code",
   "execution_count": 1,
   "id": "92a71da6-27e4-4b9a-a0d9-b7987e79819a",
   "metadata": {},
   "outputs": [],
   "source": [
    "name = \"sameer\""
   ]
  },
  {
   "cell_type": "code",
   "execution_count": 2,
   "id": "e484c598-7f1e-48af-a1a6-fae75e659bcb",
   "metadata": {},
   "outputs": [
    {
     "data": {
      "text/plain": [
       "'sameer'"
      ]
     },
     "execution_count": 2,
     "metadata": {},
     "output_type": "execute_result"
    }
   ],
   "source": [
    "name"
   ]
  },
  {
   "cell_type": "code",
   "execution_count": 3,
   "id": "c91829ea-64e6-4703-8afa-4366f459dbf3",
   "metadata": {},
   "outputs": [
    {
     "data": {
      "text/plain": [
       "6"
      ]
     },
     "execution_count": 3,
     "metadata": {},
     "output_type": "execute_result"
    }
   ],
   "source": [
    "len(name)"
   ]
  },
  {
   "cell_type": "markdown",
   "id": "27ddf896-c944-48eb-9abd-2340addab92d",
   "metadata": {},
   "source": [
    "## string method"
   ]
  },
  {
   "cell_type": "code",
   "execution_count": 4,
   "id": "c74884cf-8a79-43dc-aa7d-95b05342a9fe",
   "metadata": {},
   "outputs": [],
   "source": [
    "x = \"Welcome\" "
   ]
  },
  {
   "cell_type": "code",
   "execution_count": 5,
   "id": "42cd79ab-35e8-48a0-8078-abc5bce6eec7",
   "metadata": {},
   "outputs": [
    {
     "data": {
      "text/plain": [
       "'welcome'"
      ]
     },
     "execution_count": 5,
     "metadata": {},
     "output_type": "execute_result"
    }
   ],
   "source": [
    "x.lower()"
   ]
  },
  {
   "cell_type": "code",
   "execution_count": 7,
   "id": "06283a6d-6ebe-4ff7-82fd-1a27bd7b8d07",
   "metadata": {},
   "outputs": [
    {
     "data": {
      "text/plain": [
       "'Welcome'"
      ]
     },
     "execution_count": 7,
     "metadata": {},
     "output_type": "execute_result"
    }
   ],
   "source": [
    "x.strip() #space hatauxa"
   ]
  },
  {
   "cell_type": "code",
   "execution_count": 9,
   "id": "9b9ff588-6c5a-4434-8803-6d30246c5612",
   "metadata": {},
   "outputs": [
    {
     "data": {
      "text/plain": [
       "'Walcoma'"
      ]
     },
     "execution_count": 9,
     "metadata": {},
     "output_type": "execute_result"
    }
   ],
   "source": [
    "x.replace('e','a')"
   ]
  },
  {
   "cell_type": "code",
   "execution_count": 11,
   "id": "bc642784-c02a-4042-8417-5cb1890150b6",
   "metadata": {},
   "outputs": [
    {
     "data": {
      "text/plain": [
       "['Welco', 'e']"
      ]
     },
     "execution_count": 11,
     "metadata": {},
     "output_type": "execute_result"
    }
   ],
   "source": [
    "x.split('m')"
   ]
  },
  {
   "cell_type": "code",
   "execution_count": 13,
   "id": "67e5d1f8-73a1-40d7-a083-0bd77653e589",
   "metadata": {},
   "outputs": [
    {
     "data": {
      "text/plain": [
       "False"
      ]
     },
     "execution_count": 13,
     "metadata": {},
     "output_type": "execute_result"
    }
   ],
   "source": [
    "x.endswith(\"@gmail.com\")"
   ]
  },
  {
   "cell_type": "code",
   "execution_count": 19,
   "id": "ce6e32e6-fc8f-46c0-b3fc-808a0650c289",
   "metadata": {},
   "outputs": [],
   "source": [
    "email = \"sam@gmail.com\""
   ]
  },
  {
   "cell_type": "code",
   "execution_count": 21,
   "id": "950ca317-cb53-48c2-b1fa-9ffa975f3aa3",
   "metadata": {},
   "outputs": [
    {
     "data": {
      "text/plain": [
       "True"
      ]
     },
     "execution_count": 21,
     "metadata": {},
     "output_type": "execute_result"
    }
   ],
   "source": [
    "email.endswith(\"@gmail.com\")"
   ]
  },
  {
   "cell_type": "markdown",
   "id": "5f4f4da6-7885-4121-a3e8-d613571d54f0",
   "metadata": {},
   "source": [
    "## string indexing "
   ]
  },
  {
   "cell_type": "code",
   "execution_count": 22,
   "id": "93d55370-c657-42fa-bf5a-794e853dae4d",
   "metadata": {},
   "outputs": [],
   "source": [
    "address = \"kathmandu\""
   ]
  },
  {
   "cell_type": "code",
   "execution_count": 24,
   "id": "b2240774-a921-4598-9cd9-b036465e9f6d",
   "metadata": {},
   "outputs": [
    {
     "data": {
      "text/plain": [
       "'a'"
      ]
     },
     "execution_count": 24,
     "metadata": {},
     "output_type": "execute_result"
    }
   ],
   "source": [
    "address[5]"
   ]
  },
  {
   "cell_type": "code",
   "execution_count": 25,
   "id": "623574fd-7784-495f-b7b4-cd0fc485466d",
   "metadata": {},
   "outputs": [
    {
     "data": {
      "text/plain": [
       "'u'"
      ]
     },
     "execution_count": 25,
     "metadata": {},
     "output_type": "execute_result"
    }
   ],
   "source": [
    "address[-1]"
   ]
  },
  {
   "cell_type": "code",
   "execution_count": null,
   "id": "83164a99-4949-4ebe-a432-8c459c97566a",
   "metadata": {},
   "outputs": [],
   "source": []
  }
 ],
 "metadata": {
  "kernelspec": {
   "display_name": "Python 3 (ipykernel)",
   "language": "python",
   "name": "python3"
  },
  "language_info": {
   "codemirror_mode": {
    "name": "ipython",
    "version": 3
   },
   "file_extension": ".py",
   "mimetype": "text/x-python",
   "name": "python",
   "nbconvert_exporter": "python",
   "pygments_lexer": "ipython3",
   "version": "3.8.10"
  }
 },
 "nbformat": 4,
 "nbformat_minor": 5
}
