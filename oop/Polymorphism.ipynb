{
 "cells": [
  {
   "cell_type": "markdown",
   "id": "0eed211a-523c-400c-bb0a-90447360fc73",
   "metadata": {},
   "source": [
    "# operator overloading"
   ]
  },
  {
   "cell_type": "code",
   "execution_count": 33,
   "id": "a88290bc-82cb-4d3c-96eb-9623b1b485fb",
   "metadata": {},
   "outputs": [],
   "source": [
    "class Point:\n",
    "    def __init__(self, x, y):\n",
    "        self.x = x\n",
    "        self.y = y\n",
    "\n",
    "    def __repr__(self):\n",
    "        return f\"Point({self.x}, {self.y})\"\n",
    "\n",
    "    def __add__(self,other):\n",
    "        x = self.x + other.x\n",
    "        y = self.y + other.y\n",
    "        return Point(x,y)\n",
    "\n",
    "\n",
    "    def __sub__(self,other):\n",
    "        x = self.x - other.x\n",
    "        y = self.y - other.y\n",
    "        return Point(x,y)\n",
    "\n",
    "\n",
    "    def __pow__(self,exp):\n",
    "        x = self.x ** exp\n",
    "        y = self.y ** exp\n",
    "        return Point(x,y)\n",
    "\n",
    "\n",
    "    def __gt__(self,other):\n",
    "        return self.x > other.x and self.y > other.y\n",
    "        \n",
    "\n",
    "        \n",
    "        "
   ]
  },
  {
   "cell_type": "code",
   "execution_count": 29,
   "id": "b325f6ef-3fea-46b2-a5be-f76a52e092e6",
   "metadata": {},
   "outputs": [],
   "source": [
    "A = Point(2,5)\n",
    "B = Point(4,9)"
   ]
  },
  {
   "cell_type": "code",
   "execution_count": 30,
   "id": "80ebec74-0be7-42bf-b04a-0936e8429c3d",
   "metadata": {},
   "outputs": [
    {
     "data": {
      "text/plain": [
       "Point(6, 14)"
      ]
     },
     "execution_count": 30,
     "metadata": {},
     "output_type": "execute_result"
    }
   ],
   "source": [
    "A + B"
   ]
  },
  {
   "cell_type": "code",
   "execution_count": 31,
   "id": "9225daa8-6389-481f-b9c2-6f07b7cebd4e",
   "metadata": {},
   "outputs": [
    {
     "data": {
      "text/plain": [
       "Point(-2, -4)"
      ]
     },
     "execution_count": 31,
     "metadata": {},
     "output_type": "execute_result"
    }
   ],
   "source": [
    "A - B"
   ]
  },
  {
   "cell_type": "code",
   "execution_count": 32,
   "id": "30ea0d24-ac92-4e9a-8454-59539b0076f1",
   "metadata": {},
   "outputs": [
    {
     "data": {
      "text/plain": [
       "Point(8, 125)"
      ]
     },
     "execution_count": 32,
     "metadata": {},
     "output_type": "execute_result"
    }
   ],
   "source": [
    " A ** 3"
   ]
  },
  {
   "cell_type": "code",
   "execution_count": null,
   "id": "2971bdcd-9724-4fc4-968c-b66ef0637e06",
   "metadata": {},
   "outputs": [],
   "source": [
    "   "
   ]
  }
 ],
 "metadata": {
  "kernelspec": {
   "display_name": "Python 3 (ipykernel)",
   "language": "python",
   "name": "python3"
  },
  "language_info": {
   "codemirror_mode": {
    "name": "ipython",
    "version": 3
   },
   "file_extension": ".py",
   "mimetype": "text/x-python",
   "name": "python",
   "nbconvert_exporter": "python",
   "pygments_lexer": "ipython3",
   "version": "3.8.10"
  }
 },
 "nbformat": 4,
 "nbformat_minor": 5
}
