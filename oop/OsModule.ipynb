{
 "cells": [
  {
   "cell_type": "markdown",
   "id": "a910eeb3-c60a-4fca-8653-0949178515ae",
   "metadata": {},
   "source": [
    "# OS MODULE"
   ]
  },
  {
   "cell_type": "code",
   "execution_count": 1,
   "id": "c44faf90-baa6-4133-aad9-47cb1087fdad",
   "metadata": {},
   "outputs": [],
   "source": [
    "import os\n"
   ]
  },
  {
   "cell_type": "code",
   "execution_count": 2,
   "id": "73365d7a-95e9-47d8-9d84-f6e0b3443b46",
   "metadata": {},
   "outputs": [
    {
     "data": {
      "text/plain": [
       "'E:\\\\data\\\\ds-mlbatch-07\\\\oop'"
      ]
     },
     "execution_count": 2,
     "metadata": {},
     "output_type": "execute_result"
    }
   ],
   "source": [
    "os.getcwd()"
   ]
  },
  {
   "cell_type": "markdown",
   "id": "2d445815-9722-4406-8619-010e7962bab6",
   "metadata": {},
   "source": [
    "``` python\n",
    "make and check dir\n",
    "\n",
    "os.mkdir(\"test_folder\")\n",
    "\n",
    "os.chdir(\"test_folder\")"
   ]
  },
  {
   "cell_type": "markdown",
   "id": "d53ead6f-e909-4cc0-bf73-c591fec2dba1",
   "metadata": {},
   "source": [
    "``` python\n",
    "remake file\n",
    "os.rename(\"hello.txt\",\"welcome.txt\")"
   ]
  },
  {
   "cell_type": "markdown",
   "id": "0b7bc27f-3e15-40ad-865c-b773dc48b415",
   "metadata": {},
   "source": [
    "###  working with environment variable"
   ]
  },
  {
   "cell_type": "code",
   "execution_count": 4,
   "id": "aeeb1588-fc31-4876-8ddf-cfea546cf58f",
   "metadata": {},
   "outputs": [
    {
     "data": {
      "text/plain": [
       "'C:\\\\Users\\\\HELIOS\\\\OneDrive'"
      ]
     },
     "execution_count": 4,
     "metadata": {},
     "output_type": "execute_result"
    }
   ],
   "source": [
    "os.getenv(\"oneDrive\")"
   ]
  },
  {
   "cell_type": "code",
   "execution_count": 5,
   "id": "15fb5533-7eb4-426b-8f26-3932fe9b1fa7",
   "metadata": {},
   "outputs": [
    {
     "data": {
      "text/plain": [
       "'E:\\\\data\\\\ds-mlbatch-07\\\\venv\\\\Scripts;C:\\\\Windows\\\\system32;C:\\\\Windows;C:\\\\Windows\\\\System32\\\\Wbem;C:\\\\Windows\\\\System32\\\\WindowsPowerShell\\\\v1.0\\\\;C:\\\\Windows\\\\System32\\\\OpenSSH\\\\;C:\\\\Program Files (x86)\\\\NVIDIA Corporation\\\\PhysX\\\\Common;C:\\\\Program Files\\\\NVIDIA Corporation\\\\NVIDIA NvDLISR;C:\\\\MinGW\\\\bin;C:\\\\Program Files\\\\Git\\\\cmd;C:\\\\Program Files\\\\dotnet\\\\;C:\\\\Program Files\\\\Azure Data Studio\\\\bin;C:\\\\Program Files\\\\nodejs\\\\;C:\\\\Program Files\\\\MySQL\\\\MySQL Server 8.0\\\\bin;;C:\\\\WINDOWS\\\\system32;C:\\\\WINDOWS;C:\\\\WINDOWS\\\\System32\\\\Wbem;C:\\\\WINDOWS\\\\System32\\\\WindowsPowerShell\\\\v1.0\\\\;C:\\\\WINDOWS\\\\System32\\\\OpenSSH\\\\;C:\\\\Program Files\\\\MySQL\\\\MySQL Shell 8.0\\\\bin\\\\;C:\\\\Users\\\\HELIOS\\\\AppData\\\\Local\\\\Programs\\\\Python\\\\Python38\\\\Scripts\\\\;C:\\\\Users\\\\HELIOS\\\\AppData\\\\Local\\\\Programs\\\\Python\\\\Python38\\\\;C:\\\\Users\\\\HELIOS\\\\AppData\\\\Local\\\\Programs\\\\Python\\\\Python39\\\\Scripts\\\\;C:\\\\Users\\\\HELIOS\\\\AppData\\\\Local\\\\Programs\\\\Python\\\\Python39\\\\;C:\\\\Users\\\\HELIOS\\\\AppData\\\\Local\\\\Microsoft\\\\WindowsApps;C:\\\\Users\\\\HELIOS\\\\AppData\\\\Local\\\\GitHubDesktop\\\\bin;C:\\\\MinGW\\\\bin;C:\\\\Program Files\\\\JetBrains\\\\PyCharm Community Edition 2023.1.2\\\\bin;;C:\\\\Users\\\\HELIOS\\\\AppData\\\\Local\\\\Programs\\\\Microsoft VS Code\\\\bin;C:\\\\MinGW\\\\mingw32\\\\bin;C:\\\\flutter\\\\bin;C:\\\\Users\\\\HELIOS\\\\.dotnet\\\\tools;;C:\\\\Program Files\\\\Azure Data Studio\\\\bin;C:\\\\Users\\\\HELIOS\\\\AppData\\\\Roaming\\\\npm;c:\\\\Users\\\\HELIOS\\\\.vscode\\\\extensions\\\\ms-python.debugpy-2025.10.0-win32-x64\\\\bundled\\\\scripts\\\\noConfigScripts;c:\\\\Users\\\\HELIOS\\\\AppData\\\\Roaming\\\\Code\\\\User\\\\globalStorage\\\\github.copilot-chat\\\\debugCommand'"
      ]
     },
     "execution_count": 5,
     "metadata": {},
     "output_type": "execute_result"
    }
   ],
   "source": [
    "os.getenv(\"PATH\")"
   ]
  },
  {
   "cell_type": "code",
   "execution_count": 8,
   "id": "1808dbf4-6475-4734-b427-5fdeb12a55c7",
   "metadata": {},
   "outputs": [],
   "source": [
    "os.environ[\"MyPassword\"] = \"secret_password\""
   ]
  },
  {
   "cell_type": "code",
   "execution_count": 9,
   "id": "c090de73-5844-4c90-a3ca-6980f51d8d46",
   "metadata": {},
   "outputs": [
    {
     "data": {
      "text/plain": [
       "'secret_password'"
      ]
     },
     "execution_count": 9,
     "metadata": {},
     "output_type": "execute_result"
    }
   ],
   "source": [
    "os.getenv(\"MyPassword\")"
   ]
  },
  {
   "cell_type": "code",
   "execution_count": 11,
   "id": "31f45387-4885-41b3-b289-5952e5009777",
   "metadata": {},
   "outputs": [
    {
     "data": {
      "text/plain": [
       "environ{'ALLUSERSPROFILE': 'C:\\\\ProgramData',\n",
       "        'APPDATA': 'C:\\\\Users\\\\HELIOS\\\\AppData\\\\Roaming',\n",
       "        'CHROME_CRASHPAD_PIPE_NAME': '\\\\\\\\.\\\\pipe\\\\crashpad_8436_NKRQQZBHJKHOTJMS',\n",
       "        'COMMONPROGRAMFILES': 'C:\\\\Program Files\\\\Common Files',\n",
       "        'COMMONPROGRAMFILES(X86)': 'C:\\\\Program Files (x86)\\\\Common Files',\n",
       "        'COMMONPROGRAMW6432': 'C:\\\\Program Files\\\\Common Files',\n",
       "        'COMPUTERNAME': 'LAPTOP-T86H8GGU',\n",
       "        'COMSPEC': 'C:\\\\WINDOWS\\\\system32\\\\cmd.exe',\n",
       "        'DRIVERDATA': 'C:\\\\Windows\\\\System32\\\\Drivers\\\\DriverData',\n",
       "        'HOMEDRIVE': 'C:',\n",
       "        'HOMEPATH': '\\\\Users\\\\HELIOS',\n",
       "        'LOCALAPPDATA': 'C:\\\\Users\\\\HELIOS\\\\AppData\\\\Local',\n",
       "        'LOGONSERVER': '\\\\\\\\LAPTOP-T86H8GGU',\n",
       "        'NUMBER_OF_PROCESSORS': '24',\n",
       "        'ONEDRIVE': 'C:\\\\Users\\\\HELIOS\\\\OneDrive',\n",
       "        'ORIGINAL_XDG_CURRENT_DESKTOP': 'undefined',\n",
       "        'OS': 'Windows_NT',\n",
       "        'PATH': 'E:\\\\data\\\\ds-mlbatch-07\\\\venv\\\\Scripts;C:\\\\Windows\\\\system32;C:\\\\Windows;C:\\\\Windows\\\\System32\\\\Wbem;C:\\\\Windows\\\\System32\\\\WindowsPowerShell\\\\v1.0\\\\;C:\\\\Windows\\\\System32\\\\OpenSSH\\\\;C:\\\\Program Files (x86)\\\\NVIDIA Corporation\\\\PhysX\\\\Common;C:\\\\Program Files\\\\NVIDIA Corporation\\\\NVIDIA NvDLISR;C:\\\\MinGW\\\\bin;C:\\\\Program Files\\\\Git\\\\cmd;C:\\\\Program Files\\\\dotnet\\\\;C:\\\\Program Files\\\\Azure Data Studio\\\\bin;C:\\\\Program Files\\\\nodejs\\\\;C:\\\\Program Files\\\\MySQL\\\\MySQL Server 8.0\\\\bin;;C:\\\\WINDOWS\\\\system32;C:\\\\WINDOWS;C:\\\\WINDOWS\\\\System32\\\\Wbem;C:\\\\WINDOWS\\\\System32\\\\WindowsPowerShell\\\\v1.0\\\\;C:\\\\WINDOWS\\\\System32\\\\OpenSSH\\\\;C:\\\\Program Files\\\\MySQL\\\\MySQL Shell 8.0\\\\bin\\\\;C:\\\\Users\\\\HELIOS\\\\AppData\\\\Local\\\\Programs\\\\Python\\\\Python38\\\\Scripts\\\\;C:\\\\Users\\\\HELIOS\\\\AppData\\\\Local\\\\Programs\\\\Python\\\\Python38\\\\;C:\\\\Users\\\\HELIOS\\\\AppData\\\\Local\\\\Programs\\\\Python\\\\Python39\\\\Scripts\\\\;C:\\\\Users\\\\HELIOS\\\\AppData\\\\Local\\\\Programs\\\\Python\\\\Python39\\\\;C:\\\\Users\\\\HELIOS\\\\AppData\\\\Local\\\\Microsoft\\\\WindowsApps;C:\\\\Users\\\\HELIOS\\\\AppData\\\\Local\\\\GitHubDesktop\\\\bin;C:\\\\MinGW\\\\bin;C:\\\\Program Files\\\\JetBrains\\\\PyCharm Community Edition 2023.1.2\\\\bin;;C:\\\\Users\\\\HELIOS\\\\AppData\\\\Local\\\\Programs\\\\Microsoft VS Code\\\\bin;C:\\\\MinGW\\\\mingw32\\\\bin;C:\\\\flutter\\\\bin;C:\\\\Users\\\\HELIOS\\\\.dotnet\\\\tools;;C:\\\\Program Files\\\\Azure Data Studio\\\\bin;C:\\\\Users\\\\HELIOS\\\\AppData\\\\Roaming\\\\npm;c:\\\\Users\\\\HELIOS\\\\.vscode\\\\extensions\\\\ms-python.debugpy-2025.10.0-win32-x64\\\\bundled\\\\scripts\\\\noConfigScripts;c:\\\\Users\\\\HELIOS\\\\AppData\\\\Roaming\\\\Code\\\\User\\\\globalStorage\\\\github.copilot-chat\\\\debugCommand',\n",
       "        'PATHEXT': '.COM;.EXE;.BAT;.CMD;.VBS;.VBE;.JS;.JSE;.WSF;.WSH;.MSC;.CPL',\n",
       "        'PROCESSOR_ARCHITECTURE': 'AMD64',\n",
       "        'PROCESSOR_IDENTIFIER': 'Intel64 Family 6 Model 191 Stepping 2, GenuineIntel',\n",
       "        'PROCESSOR_LEVEL': '6',\n",
       "        'PROCESSOR_REVISION': 'bf02',\n",
       "        'PROGRAMDATA': 'C:\\\\ProgramData',\n",
       "        'PROGRAMFILES': 'C:\\\\Program Files',\n",
       "        'PROGRAMFILES(X86)': 'C:\\\\Program Files (x86)',\n",
       "        'PROGRAMW6432': 'C:\\\\Program Files',\n",
       "        'PROMPT': '$P$G',\n",
       "        'PSMODULEPATH': 'C:\\\\Users\\\\HELIOS\\\\Documents\\\\WindowsPowerShell\\\\Modules;C:\\\\Program Files\\\\WindowsPowerShell\\\\Modules;C:\\\\WINDOWS\\\\system32\\\\WindowsPowerShell\\\\v1.0\\\\Modules;C:\\\\Program Files (x86)\\\\Microsoft SQL Server\\\\160\\\\Tools\\\\PowerShell\\\\Modules\\\\',\n",
       "        'PUBLIC': 'C:\\\\Users\\\\Public',\n",
       "        'PYCHARM COMMUNITY EDITION': 'C:\\\\Program Files\\\\JetBrains\\\\PyCharm Community Edition 2023.1.2\\\\bin;',\n",
       "        'SESSIONNAME': 'Console',\n",
       "        'SYSTEMDRIVE': 'C:',\n",
       "        'SYSTEMROOT': 'C:\\\\WINDOWS',\n",
       "        'TEMP': 'C:\\\\Users\\\\HELIOS\\\\AppData\\\\Local\\\\Temp',\n",
       "        'TMP': 'C:\\\\Users\\\\HELIOS\\\\AppData\\\\Local\\\\Temp',\n",
       "        'USERDOMAIN': 'LAPTOP-T86H8GGU',\n",
       "        'USERDOMAIN_ROAMINGPROFILE': 'LAPTOP-T86H8GGU',\n",
       "        'USERNAME': 'HELIOS',\n",
       "        'USERPROFILE': 'C:\\\\Users\\\\HELIOS',\n",
       "        'VIRTUAL_ENV': 'E:\\\\data\\\\ds-mlbatch-07\\\\venv',\n",
       "        'WINDIR': 'C:\\\\WINDOWS',\n",
       "        'WSLENV': 'WT_SESSION:WT_PROFILE_ID:',\n",
       "        'WT_PROFILE_ID': '{61c54bbd-c2c6-5271-96e7-009a87ff44bf}',\n",
       "        'WT_SESSION': 'dab0c0c7-1152-44a5-b47a-6e68d22288a6',\n",
       "        'ZES_ENABLE_SYSMAN': '1',\n",
       "        'TERM_PROGRAM': 'vscode',\n",
       "        'TERM_PROGRAM_VERSION': '1.102.0',\n",
       "        'LANG': 'en_US.UTF-8',\n",
       "        'COLORTERM': 'truecolor',\n",
       "        'PYTHON_BASIC_REPL': '1',\n",
       "        'GIT_ASKPASS': 'c:\\\\Users\\\\HELIOS\\\\AppData\\\\Local\\\\Programs\\\\Microsoft VS Code\\\\resources\\\\app\\\\extensions\\\\git\\\\dist\\\\askpass.sh',\n",
       "        'VSCODE_GIT_ASKPASS_NODE': 'C:\\\\Users\\\\HELIOS\\\\AppData\\\\Local\\\\Programs\\\\Microsoft VS Code\\\\Code.exe',\n",
       "        'VSCODE_GIT_ASKPASS_EXTRA_ARGS': '',\n",
       "        'VSCODE_GIT_ASKPASS_MAIN': 'c:\\\\Users\\\\HELIOS\\\\AppData\\\\Local\\\\Programs\\\\Microsoft VS Code\\\\resources\\\\app\\\\extensions\\\\git\\\\dist\\\\askpass-main.js',\n",
       "        'VSCODE_GIT_IPC_HANDLE': '\\\\\\\\.\\\\pipe\\\\vscode-git-153b0e2876-sock',\n",
       "        'PYDEVD_DISABLE_FILE_VALIDATION': '1',\n",
       "        'VSCODE_DEBUGPY_ADAPTER_ENDPOINTS': 'c:\\\\Users\\\\HELIOS\\\\.vscode\\\\extensions\\\\ms-python.debugpy-2025.10.0-win32-x64\\\\.noConfigDebugAdapterEndpoints\\\\endpoint-6ae0e461cdb20392.txt',\n",
       "        'BUNDLED_DEBUGPY_PATH': 'c:\\\\Users\\\\HELIOS\\\\.vscode\\\\extensions\\\\ms-python.debugpy-2025.10.0-win32-x64\\\\bundled\\\\libs\\\\debugpy',\n",
       "        'VSCODE_INJECTION': '1',\n",
       "        '_OLD_VIRTUAL_PATH': 'C:\\\\Windows\\\\system32;C:\\\\Windows;C:\\\\Windows\\\\System32\\\\Wbem;C:\\\\Windows\\\\System32\\\\WindowsPowerShell\\\\v1.0\\\\;C:\\\\Windows\\\\System32\\\\OpenSSH\\\\;C:\\\\Program Files (x86)\\\\NVIDIA Corporation\\\\PhysX\\\\Common;C:\\\\Program Files\\\\NVIDIA Corporation\\\\NVIDIA NvDLISR;C:\\\\MinGW\\\\bin;C:\\\\Program Files\\\\Git\\\\cmd;C:\\\\Program Files\\\\dotnet\\\\;C:\\\\Program Files\\\\Azure Data Studio\\\\bin;C:\\\\Program Files\\\\nodejs\\\\;C:\\\\Program Files\\\\MySQL\\\\MySQL Server 8.0\\\\bin;;C:\\\\WINDOWS\\\\system32;C:\\\\WINDOWS;C:\\\\WINDOWS\\\\System32\\\\Wbem;C:\\\\WINDOWS\\\\System32\\\\WindowsPowerShell\\\\v1.0\\\\;C:\\\\WINDOWS\\\\System32\\\\OpenSSH\\\\;C:\\\\Program Files\\\\MySQL\\\\MySQL Shell 8.0\\\\bin\\\\;C:\\\\Users\\\\HELIOS\\\\AppData\\\\Local\\\\Programs\\\\Python\\\\Python38\\\\Scripts\\\\;C:\\\\Users\\\\HELIOS\\\\AppData\\\\Local\\\\Programs\\\\Python\\\\Python38\\\\;C:\\\\Users\\\\HELIOS\\\\AppData\\\\Local\\\\Programs\\\\Python\\\\Python39\\\\Scripts\\\\;C:\\\\Users\\\\HELIOS\\\\AppData\\\\Local\\\\Programs\\\\Python\\\\Python39\\\\;C:\\\\Users\\\\HELIOS\\\\AppData\\\\Local\\\\Microsoft\\\\WindowsApps;C:\\\\Users\\\\HELIOS\\\\AppData\\\\Local\\\\GitHubDesktop\\\\bin;C:\\\\MinGW\\\\bin;C:\\\\Program Files\\\\JetBrains\\\\PyCharm Community Edition 2023.1.2\\\\bin;;C:\\\\Users\\\\HELIOS\\\\AppData\\\\Local\\\\Programs\\\\Microsoft VS Code\\\\bin;C:\\\\MinGW\\\\mingw32\\\\bin;C:\\\\flutter\\\\bin;C:\\\\Users\\\\HELIOS\\\\.dotnet\\\\tools;;C:\\\\Program Files\\\\Azure Data Studio\\\\bin;C:\\\\Users\\\\HELIOS\\\\AppData\\\\Roaming\\\\npm;c:\\\\Users\\\\HELIOS\\\\.vscode\\\\extensions\\\\ms-python.debugpy-2025.10.0-win32-x64\\\\bundled\\\\scripts\\\\noConfigScripts;c:\\\\Users\\\\HELIOS\\\\AppData\\\\Roaming\\\\Code\\\\User\\\\globalStorage\\\\github.copilot-chat\\\\debugCommand',\n",
       "        'JPY_SESSION_NAME': 'E:\\\\data\\\\ds-mlbatch-07\\\\oop\\\\Untitled.ipynb',\n",
       "        'JPY_INTERRUPT_EVENT': '6452',\n",
       "        'IPY_INTERRUPT_EVENT': '6452',\n",
       "        'JPY_PARENT_PID': '6628',\n",
       "        'PYDEVD_USE_FRAME_EVAL': 'NO',\n",
       "        'TERM': 'xterm-color',\n",
       "        'CLICOLOR': '1',\n",
       "        'FORCE_COLOR': '1',\n",
       "        'CLICOLOR_FORCE': '1',\n",
       "        'PAGER': 'cat',\n",
       "        'GIT_PAGER': 'cat',\n",
       "        'MPLBACKEND': 'module://matplotlib_inline.backend_inline',\n",
       "        'MY PASSWORD': 'secret_password',\n",
       "        'MYPASSWORD': 'secret_password'}"
      ]
     },
     "execution_count": 11,
     "metadata": {},
     "output_type": "execute_result"
    }
   ],
   "source": [
    "os.environ"
   ]
  },
  {
   "cell_type": "code",
   "execution_count": null,
   "id": "95fd7072-4df5-4c2b-a79b-956b1d659c72",
   "metadata": {},
   "outputs": [],
   "source": []
  }
 ],
 "metadata": {
  "kernelspec": {
   "display_name": "Python 3 (ipykernel)",
   "language": "python",
   "name": "python3"
  },
  "language_info": {
   "codemirror_mode": {
    "name": "ipython",
    "version": 3
   },
   "file_extension": ".py",
   "mimetype": "text/x-python",
   "name": "python",
   "nbconvert_exporter": "python",
   "pygments_lexer": "ipython3",
   "version": "3.8.10"
  }
 },
 "nbformat": 4,
 "nbformat_minor": 5
}
