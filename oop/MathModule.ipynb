{
 "cells": [
  {
   "cell_type": "markdown",
   "id": "25d9c1d0-ffaf-4cbc-b8e3-2518709b70f7",
   "metadata": {},
   "source": [
    "# math module"
   ]
  },
  {
   "cell_type": "code",
   "execution_count": 1,
   "id": "dc436bca-9a92-406a-aa23-bc591353dd94",
   "metadata": {},
   "outputs": [],
   "source": [
    "import math"
   ]
  },
  {
   "cell_type": "code",
   "execution_count": 2,
   "id": "6d76e258-84f2-4267-ad03-5806627b39f0",
   "metadata": {},
   "outputs": [
    {
     "data": {
      "text/plain": [
       "16.0"
      ]
     },
     "execution_count": 2,
     "metadata": {},
     "output_type": "execute_result"
    }
   ],
   "source": [
    "math.pow(4,2)"
   ]
  },
  {
   "cell_type": "code",
   "execution_count": 3,
   "id": "4417be58-6b2e-4266-9697-8d9e28e722d2",
   "metadata": {},
   "outputs": [
    {
     "data": {
      "text/plain": [
       "4.0"
      ]
     },
     "execution_count": 3,
     "metadata": {},
     "output_type": "execute_result"
    }
   ],
   "source": [
    "math.sqrt(16)"
   ]
  },
  {
   "cell_type": "code",
   "execution_count": 4,
   "id": "bce7f6f0-cac4-4114-a7a5-85411237ebba",
   "metadata": {},
   "outputs": [
    {
     "data": {
      "text/plain": [
       "3"
      ]
     },
     "execution_count": 4,
     "metadata": {},
     "output_type": "execute_result"
    }
   ],
   "source": [
    "math.ceil(2.0001)"
   ]
  },
  {
   "cell_type": "code",
   "execution_count": 5,
   "id": "86e290ec-d58a-4ece-b943-2954abe027c9",
   "metadata": {},
   "outputs": [
    {
     "data": {
      "text/plain": [
       "2"
      ]
     },
     "execution_count": 5,
     "metadata": {},
     "output_type": "execute_result"
    }
   ],
   "source": [
    "math.floor(2.9999)"
   ]
  },
  {
   "cell_type": "code",
   "execution_count": 6,
   "id": "367702cf-b9df-41b0-a62f-f47fc678891a",
   "metadata": {},
   "outputs": [
    {
     "data": {
      "text/plain": [
       "2"
      ]
     },
     "execution_count": 6,
     "metadata": {},
     "output_type": "execute_result"
    }
   ],
   "source": [
    "math.trunc(2.98)"
   ]
  },
  {
   "cell_type": "markdown",
   "id": "545669f4-479e-4f42-a854-bdbb3666e8f8",
   "metadata": {},
   "source": [
    "# trigonometric func"
   ]
  },
  {
   "cell_type": "code",
   "execution_count": 8,
   "id": "ba50e279-2bdf-4924-b393-621bfc6ab8ea",
   "metadata": {},
   "outputs": [
    {
     "data": {
      "text/plain": [
       "0.5235987755982988"
      ]
     },
     "execution_count": 8,
     "metadata": {},
     "output_type": "execute_result"
    }
   ],
   "source": [
    "d_to_r =math.radians(30)\n",
    "d_to_r"
   ]
  },
  {
   "cell_type": "code",
   "execution_count": 9,
   "id": "ac03d246-1ff6-4fd2-b630-ae2d96ca6eb6",
   "metadata": {},
   "outputs": [
    {
     "data": {
      "text/plain": [
       "0.49999999999999994"
      ]
     },
     "execution_count": 9,
     "metadata": {},
     "output_type": "execute_result"
    }
   ],
   "source": [
    "math.sin(d_to_r)"
   ]
  },
  {
   "cell_type": "code",
   "execution_count": 11,
   "id": "3fd2fb6e-83cd-4ee5-b17c-cb4785e00fda",
   "metadata": {},
   "outputs": [
    {
     "data": {
      "text/plain": [
       "5.0"
      ]
     },
     "execution_count": 11,
     "metadata": {},
     "output_type": "execute_result"
    }
   ],
   "source": [
    "math.hypot(3,4)"
   ]
  },
  {
   "cell_type": "markdown",
   "id": "3663bc08-e805-4b05-a710-15f3a37c4e88",
   "metadata": {},
   "source": [
    "# exp and log func"
   ]
  },
  {
   "cell_type": "code",
   "execution_count": 12,
   "id": "143a535f-52c1-4fdd-8cc1-5ea0b736c19d",
   "metadata": {},
   "outputs": [
    {
     "data": {
      "text/plain": [
       "1.0"
      ]
     },
     "execution_count": 12,
     "metadata": {},
     "output_type": "execute_result"
    }
   ],
   "source": [
    "math.exp(0)"
   ]
  },
  {
   "cell_type": "code",
   "execution_count": 13,
   "id": "1ead235f-7b1f-44a1-a90c-515217b2d6e2",
   "metadata": {},
   "outputs": [
    {
     "data": {
      "text/plain": [
       "2.718281828459045"
      ]
     },
     "execution_count": 13,
     "metadata": {},
     "output_type": "execute_result"
    }
   ],
   "source": [
    "math.exp(1)"
   ]
  },
  {
   "cell_type": "code",
   "execution_count": 14,
   "id": "ef9a097e-2bce-4155-ace1-1aa8422a77c6",
   "metadata": {},
   "outputs": [
    {
     "data": {
      "text/plain": [
       "7.38905609893065"
      ]
     },
     "execution_count": 14,
     "metadata": {},
     "output_type": "execute_result"
    }
   ],
   "source": [
    "math.exp(2)"
   ]
  },
  {
   "cell_type": "code",
   "execution_count": 15,
   "id": "ce9df0a5-02b8-4b9c-9bb8-32f087af1d56",
   "metadata": {},
   "outputs": [
    {
     "data": {
      "text/plain": [
       "4.605170185988092"
      ]
     },
     "execution_count": 15,
     "metadata": {},
     "output_type": "execute_result"
    }
   ],
   "source": [
    "math.log(100)"
   ]
  },
  {
   "cell_type": "markdown",
   "id": "ee89e422-956f-4725-a2e8-ae5d6166542d",
   "metadata": {},
   "source": [
    "# Constant"
   ]
  },
  {
   "cell_type": "markdown",
   "id": "6c6ccf44-3360-445d-a8f7-616b4f9212b2",
   "metadata": {},
   "source": [
    "math.pi math.e math. inf"
   ]
  },
  {
   "cell_type": "code",
   "execution_count": 16,
   "id": "435bcf1c-55a5-4f6c-8496-a755333766ea",
   "metadata": {},
   "outputs": [
    {
     "data": {
      "text/plain": [
       "3.141592653589793"
      ]
     },
     "execution_count": 16,
     "metadata": {},
     "output_type": "execute_result"
    }
   ],
   "source": [
    "math.pi\n"
   ]
  },
  {
   "cell_type": "code",
   "execution_count": 17,
   "id": "ed37449d-f0ba-4938-8e15-b153d3d86c4d",
   "metadata": {},
   "outputs": [
    {
     "data": {
      "text/plain": [
       "inf"
      ]
     },
     "execution_count": 17,
     "metadata": {},
     "output_type": "execute_result"
    }
   ],
   "source": [
    "math.inf"
   ]
  },
  {
   "cell_type": "code",
   "execution_count": 18,
   "id": "401a9be0-6e66-48b7-be00-411d87eebce6",
   "metadata": {},
   "outputs": [
    {
     "data": {
      "text/plain": [
       "nan"
      ]
     },
     "execution_count": 18,
     "metadata": {},
     "output_type": "execute_result"
    }
   ],
   "source": [
    "math.nan"
   ]
  },
  {
   "cell_type": "markdown",
   "id": "75478871-8074-4fc3-9b7f-46fae99e7962",
   "metadata": {},
   "source": [
    "### special fun"
   ]
  },
  {
   "cell_type": "code",
   "execution_count": 20,
   "id": "646b9769-8664-4090-a925-96660e1bec7b",
   "metadata": {},
   "outputs": [
    {
     "data": {
      "text/plain": [
       "3628800"
      ]
     },
     "execution_count": 20,
     "metadata": {},
     "output_type": "execute_result"
    }
   ],
   "source": [
    "math.factorial(10)"
   ]
  },
  {
   "cell_type": "code",
   "execution_count": 21,
   "id": "8fbe7682-09bf-4ace-bd34-e061ee482e44",
   "metadata": {},
   "outputs": [
    {
     "data": {
      "text/plain": [
       "5"
      ]
     },
     "execution_count": 21,
     "metadata": {},
     "output_type": "execute_result"
    }
   ],
   "source": [
    "math.comb(5,4)"
   ]
  },
  {
   "cell_type": "code",
   "execution_count": 24,
   "id": "4484ff19-90c8-46cf-9a6b-4fd35c027425",
   "metadata": {},
   "outputs": [
    {
     "data": {
      "text/plain": [
       "120"
      ]
     },
     "execution_count": 24,
     "metadata": {},
     "output_type": "execute_result"
    }
   ],
   "source": [
    "math.perm(5,4)"
   ]
  },
  {
   "cell_type": "code",
   "execution_count": null,
   "id": "3dbfcf4d-e481-4ed0-9f6d-f17dc1c1b99c",
   "metadata": {},
   "outputs": [],
   "source": []
  }
 ],
 "metadata": {
  "kernelspec": {
   "display_name": "Python 3 (ipykernel)",
   "language": "python",
   "name": "python3"
  },
  "language_info": {
   "codemirror_mode": {
    "name": "ipython",
    "version": 3
   },
   "file_extension": ".py",
   "mimetype": "text/x-python",
   "name": "python",
   "nbconvert_exporter": "python",
   "pygments_lexer": "ipython3",
   "version": "3.8.10"
  }
 },
 "nbformat": 4,
 "nbformat_minor": 5
}
