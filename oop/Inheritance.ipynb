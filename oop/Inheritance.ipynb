{
 "cells": [
  {
   "cell_type": "markdown",
   "id": "a8a6c252-ae63-461e-bf65-831256d918a3",
   "metadata": {},
   "source": [
    "# Inheritance "
   ]
  },
  {
   "cell_type": "markdown",
   "id": "35ccf4a7-001c-4767-9bdd-94912caf555d",
   "metadata": {},
   "source": [
    "## single inheritance"
   ]
  },
  {
   "cell_type": "code",
   "execution_count": 1,
   "id": "b4d1cdea-c3bf-42bd-b36a-36e88e61c8e3",
   "metadata": {},
   "outputs": [],
   "source": [
    "class Animal:\n",
    "    def __init__(self,name,age):\n",
    "        self.name = name\n",
    "        self.age = age\n",
    "\n",
    "    def intro(self):\n",
    "        print(f\"my name is {self.name}\")"
   ]
  },
  {
   "cell_type": "code",
   "execution_count": 4,
   "id": "587912f3-ce8f-4155-9b73-a70fc7373b2c",
   "metadata": {},
   "outputs": [],
   "source": [
    "class Cat(Animal) :\n",
    "    def __init__(self,name,age,colour):\n",
    "        super().__init__(name,age)\n",
    "        self.colour = colour\n",
    "\n",
    "    def speak(self):\n",
    "        print(\"meow\")"
   ]
  },
  {
   "cell_type": "code",
   "execution_count": 5,
   "id": "6eee8d32-5b7b-4a68-bb62-5bdeb503adbc",
   "metadata": {},
   "outputs": [],
   "source": [
    "cat = Cat(\"kitty\" , 2 ,\"red\")"
   ]
  },
  {
   "cell_type": "code",
   "execution_count": 6,
   "id": "f5f81290-ece2-4c92-aa68-7aaeb96b8bf6",
   "metadata": {},
   "outputs": [
    {
     "data": {
      "text/plain": [
       "'kitty'"
      ]
     },
     "execution_count": 6,
     "metadata": {},
     "output_type": "execute_result"
    }
   ],
   "source": [
    "cat.name"
   ]
  },
  {
   "cell_type": "code",
   "execution_count": 7,
   "id": "703c19cd-3f39-4ef7-8557-bfb82d24ba0f",
   "metadata": {},
   "outputs": [
    {
     "name": "stdout",
     "output_type": "stream",
     "text": [
      "meow\n"
     ]
    }
   ],
   "source": [
    "cat.speak()"
   ]
  },
  {
   "cell_type": "code",
   "execution_count": 8,
   "id": "b066398e-735f-4b18-97c7-0ae3f2eb9251",
   "metadata": {},
   "outputs": [
    {
     "name": "stdout",
     "output_type": "stream",
     "text": [
      "my name is kitty\n"
     ]
    }
   ],
   "source": [
    "cat.intro()"
   ]
  },
  {
   "cell_type": "code",
   "execution_count": null,
   "id": "7659c1c8-9348-49c1-8af1-225f8d3f33c6",
   "metadata": {},
   "outputs": [],
   "source": []
  },
  {
   "cell_type": "markdown",
   "id": "7d478cb0-805a-4f02-9239-f7c0fc010355",
   "metadata": {},
   "source": [
    "## Multiple inheritance"
   ]
  },
  {
   "cell_type": "code",
   "execution_count": 16,
   "id": "8517d8d7-8cd5-4e57-9b9a-20e18f1bdd45",
   "metadata": {},
   "outputs": [],
   "source": [
    "class Parent1 :\n",
    "    def fun1(self):\n",
    "        print(\"this is parent 1\")\n",
    "\n",
    "class Parent2 :\n",
    "    def fun2(self):\n",
    "        print(\"this is parent 2\")\n",
    "\n",
    "class Parent3:\n",
    "    def fun2(self):\n",
    "        print(\"this is parent 3\")"
   ]
  },
  {
   "cell_type": "code",
   "execution_count": 17,
   "id": "bc245498-586c-40ce-a3bb-29ac3ff3dac7",
   "metadata": {},
   "outputs": [],
   "source": [
    "class Child(Parent1,Parent2,Parent3):\n",
    "    def fun4(self):\n",
    "        print(\"this is child function\")\n",
    "        "
   ]
  },
  {
   "cell_type": "code",
   "execution_count": 18,
   "id": "08bb24d3-ba5b-448f-a18d-40242b511869",
   "metadata": {},
   "outputs": [],
   "source": [
    "obj = Child()\n"
   ]
  },
  {
   "cell_type": "code",
   "execution_count": 19,
   "id": "3e31e9ec-cdf2-483b-aedf-7e9865aef483",
   "metadata": {},
   "outputs": [
    {
     "name": "stdout",
     "output_type": "stream",
     "text": [
      "this is parent 1\n"
     ]
    }
   ],
   "source": [
    "obj.fun1()"
   ]
  },
  {
   "cell_type": "code",
   "execution_count": 15,
   "id": "6363b055-e368-48bc-bcd8-0d2f197a76ed",
   "metadata": {},
   "outputs": [
    {
     "name": "stdout",
     "output_type": "stream",
     "text": [
      "this is parent 2\n"
     ]
    }
   ],
   "source": [
    "obj.fun2()"
   ]
  },
  {
   "cell_type": "code",
   "execution_count": null,
   "id": "3f852f18-f7e2-449b-91b5-5c3a02f0a3e1",
   "metadata": {},
   "outputs": [],
   "source": []
  },
  {
   "cell_type": "markdown",
   "id": "85027074-b3c4-447a-96c0-470901f1860f",
   "metadata": {},
   "source": [
    "## Multi level inheritance"
   ]
  },
  {
   "cell_type": "code",
   "execution_count": 20,
   "id": "f4bec6a7-d538-42c9-9424-dbcef7ea83a8",
   "metadata": {},
   "outputs": [],
   "source": [
    "class A :\n",
    "    def method_a(self):\n",
    "        print(\"this is method from class a\")\n",
    "class B(A):\n",
    "    def method_b(self):\n",
    "        print(\"this is method from class b\")\n",
    "\n",
    "class C(B) :\n",
    "    def method_c(self):\n",
    "        print(\"this is method from class c\")"
   ]
  },
  {
   "cell_type": "code",
   "execution_count": 21,
   "id": "16069616-ea0c-468e-a0e2-81da3f5c6bba",
   "metadata": {},
   "outputs": [],
   "source": [
    "c = C()"
   ]
  },
  {
   "cell_type": "code",
   "execution_count": 24,
   "id": "1cd2a4a8-ac83-43bf-899f-db7bfbeab5d4",
   "metadata": {},
   "outputs": [
    {
     "name": "stdout",
     "output_type": "stream",
     "text": [
      "this is method from class a\n",
      "this is method from class b\n",
      "this is method from class c\n"
     ]
    }
   ],
   "source": [
    "c.method_a()\n",
    "c.method_b()\n",
    "c.method_c()"
   ]
  },
  {
   "cell_type": "code",
   "execution_count": null,
   "id": "7338e116-b196-45fd-acc2-8e3ede5823ae",
   "metadata": {},
   "outputs": [],
   "source": []
  },
  {
   "cell_type": "code",
   "execution_count": null,
   "id": "d6fef2fa-9ff3-445a-aaa6-c6ced2be72e0",
   "metadata": {},
   "outputs": [],
   "source": []
  },
  {
   "cell_type": "code",
   "execution_count": 37,
   "id": "4ace101c-0ba3-43ca-8fd0-d9f987302457",
   "metadata": {},
   "outputs": [],
   "source": [
    "class Person:\n",
    "    def __init__(self,name,age):\n",
    "        self.name = name\n",
    "        self.age = age\n",
    "\n",
    "    def intro(self):\n",
    "        print(f\"name is {self.name} age is {self.age}\")\n",
    "        \n",
    "\n",
    "class Employee(Person):\n",
    "     def __init__(self,name,age,emp_id):\n",
    "        super().__init__(name,age) \n",
    "        self.emp_id = emp_id\n",
    "\n",
    "     def id(self):\n",
    "        print(f\"emp_id is {self.emp_id}\")\n",
    "        \n",
    "\n",
    "class Manager(Employee):\n",
    "    def __init__(self,name,age,emp_id,depart):\n",
    "        super().__init__(name,age,emp_id)\n",
    "        self.depart = depart\n",
    "\n",
    "    def display(self):\n",
    "        print(f\"department is {self.depart}\")\n",
    "        \n"
   ]
  },
  {
   "cell_type": "code",
   "execution_count": 38,
   "id": "a3cae238-9cca-4db9-9442-a01302968623",
   "metadata": {},
   "outputs": [
    {
     "name": "stdout",
     "output_type": "stream",
     "text": [
      "name is sam age is 30\n",
      "emp_id is 3\n",
      "department is bct\n"
     ]
    }
   ],
   "source": [
    "obj = Manager(\"sam\",30,3,\"bct\")\n",
    "obj.intro()\n",
    "obj.id()\n",
    "obj.display()"
   ]
  },
  {
   "cell_type": "code",
   "execution_count": null,
   "id": "546cf3c8-1645-4931-9a4d-679bb00a814e",
   "metadata": {},
   "outputs": [],
   "source": []
  },
  {
   "cell_type": "markdown",
   "id": "f3b21380-0f14-49df-8861-96165015b8a0",
   "metadata": {},
   "source": [
    "### herirachial inheritance"
   ]
  },
  {
   "cell_type": "code",
   "execution_count": 39,
   "id": "7b6fbece-fc37-4edf-a22e-79880972d887",
   "metadata": {},
   "outputs": [],
   "source": [
    "class Animal:\n",
    "    def __init__(self,name,age):\n",
    "        self.name = name\n",
    "        self.age = age\n",
    "\n",
    "    def intro(self):\n",
    "        print(f\"my name is {self.name}\")"
   ]
  },
  {
   "cell_type": "code",
   "execution_count": 43,
   "id": "d11ffdf6-2488-4f59-946d-32f31afe79e2",
   "metadata": {},
   "outputs": [],
   "source": [
    "\n",
    "\n",
    "class Cat(Animal) :\n",
    "    def speak(self):\n",
    "        return \"meow\"\n",
    "\n",
    "class Dog(Animal) :\n",
    "    def speak(self):\n",
    "        return \"whoof\"\n",
    "\n",
    "\n",
    "class Lion(Animal) :\n",
    "    def speak(self):\n",
    "        return \"roar\""
   ]
  },
  {
   "cell_type": "code",
   "execution_count": null,
   "id": "d64e5262-2966-4c10-a472-206ed170d98e",
   "metadata": {},
   "outputs": [],
   "source": []
  },
  {
   "cell_type": "code",
   "execution_count": 45,
   "id": "5483fde7-5a98-422b-9d2a-730612511d29",
   "metadata": {},
   "outputs": [
    {
     "name": "stdout",
     "output_type": "stream",
     "text": [
      "my name is kat\n"
     ]
    }
   ],
   "source": [
    "ob = Cat(\"kat\",4)\n",
    "ob.intro()"
   ]
  },
  {
   "cell_type": "code",
   "execution_count": 46,
   "id": "af554792-de32-4c47-b4bf-f42f624b1530",
   "metadata": {},
   "outputs": [
    {
     "data": {
      "text/plain": [
       "'meow'"
      ]
     },
     "execution_count": 46,
     "metadata": {},
     "output_type": "execute_result"
    }
   ],
   "source": [
    "ob.speak()"
   ]
  },
  {
   "cell_type": "code",
   "execution_count": null,
   "id": "63ea4361-93ae-47e1-9d2f-8105e538a615",
   "metadata": {},
   "outputs": [],
   "source": []
  },
  {
   "cell_type": "markdown",
   "id": "173ab36d-7965-4fe8-b003-e9dfbe200ff5",
   "metadata": {},
   "source": [
    "## hybrid inheritance"
   ]
  },
  {
   "cell_type": "code",
   "execution_count": 52,
   "id": "2758c66b-643f-4145-be45-0959066d08bb",
   "metadata": {},
   "outputs": [],
   "source": [
    "\n",
    "class Animal:\n",
    "    def __init__(self,name,age=23):\n",
    "        self.name = name\n",
    "        self.age = age\n",
    "\n",
    "    def intro(self):\n",
    "        print(f\"my name is {self.name}\")"
   ]
  },
  {
   "cell_type": "code",
   "execution_count": 53,
   "id": "fba929c2-a988-499d-a6d1-cca0ab78b99e",
   "metadata": {},
   "outputs": [],
   "source": [
    "class Mammal(Animal):\n",
    "    def __init__(self,name,fur=False):\n",
    "        super().__init__(name)\n",
    "        self.fur = True\n",
    "\n",
    "    def birth(self):\n",
    "        print(f\"{self.name} gives birth\")\n",
    "\n",
    "class Bird(Animal):\n",
    "    def fly(self):\n",
    "        print(f\"{self.name} can fly\")"
   ]
  },
  {
   "cell_type": "code",
   "execution_count": 54,
   "id": "f0c10c8b-234b-4325-bc0d-7e7a1c0d7ed7",
   "metadata": {},
   "outputs": [],
   "source": [
    "class Bat(Mammal,Bird):\n",
    "    pass\n",
    "    "
   ]
  },
  {
   "cell_type": "code",
   "execution_count": 55,
   "id": "51a26772-a821-43df-91e5-b70703c8b808",
   "metadata": {},
   "outputs": [],
   "source": [
    "b = Bat(\"bruce\")"
   ]
  },
  {
   "cell_type": "code",
   "execution_count": 56,
   "id": "1a5bbff9-d933-436a-9dd1-ce72984add3c",
   "metadata": {},
   "outputs": [
    {
     "name": "stdout",
     "output_type": "stream",
     "text": [
      "my name is bruce\n"
     ]
    }
   ],
   "source": [
    "b.intro()"
   ]
  },
  {
   "cell_type": "code",
   "execution_count": 57,
   "id": "2dabc060-58c8-49ff-97f6-55e9788cd61f",
   "metadata": {},
   "outputs": [
    {
     "name": "stdout",
     "output_type": "stream",
     "text": [
      "bruce gives birth\n"
     ]
    }
   ],
   "source": [
    "b.birth()"
   ]
  },
  {
   "cell_type": "code",
   "execution_count": 58,
   "id": "5c0c789f-d61d-483c-a270-f61ad421c718",
   "metadata": {},
   "outputs": [
    {
     "name": "stdout",
     "output_type": "stream",
     "text": [
      "bruce gives birth\n"
     ]
    }
   ],
   "source": [
    "b.birth()"
   ]
  },
  {
   "cell_type": "code",
   "execution_count": null,
   "id": "a4569fdb-f0a8-4197-8bf4-ab4bb04760d1",
   "metadata": {},
   "outputs": [],
   "source": []
  },
  {
   "cell_type": "code",
   "execution_count": null,
   "id": "0d580756-04a6-4b4c-a98e-56a82341f2c0",
   "metadata": {},
   "outputs": [],
   "source": []
  }
 ],
 "metadata": {
  "kernelspec": {
   "display_name": "Python 3 (ipykernel)",
   "language": "python",
   "name": "python3"
  },
  "language_info": {
   "codemirror_mode": {
    "name": "ipython",
    "version": 3
   },
   "file_extension": ".py",
   "mimetype": "text/x-python",
   "name": "python",
   "nbconvert_exporter": "python",
   "pygments_lexer": "ipython3",
   "version": "3.8.10"
  }
 },
 "nbformat": 4,
 "nbformat_minor": 5
}
