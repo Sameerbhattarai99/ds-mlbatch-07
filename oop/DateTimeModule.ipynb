{
 "cells": [
  {
   "cell_type": "markdown",
   "id": "c9d7e5d2-a270-4706-8239-103ece2f67a9",
   "metadata": {},
   "source": [
    "# Python date time module"
   ]
  },
  {
   "cell_type": "markdown",
   "id": "cbcc403d-7cf6-4dfc-ae1c-90990db5bcb2",
   "metadata": {},
   "source": [
    "## datetime\n"
   ]
  },
  {
   "cell_type": "markdown",
   "id": "55e45cc9-64c2-40bb-8bea-63b1a147772f",
   "metadata": {},
   "source": [
    "``` python\n",
    "datetime.date\n",
    "datetime.time"
   ]
  },
  {
   "cell_type": "code",
   "execution_count": 3,
   "id": "faf14469-d2ae-4ad0-96e9-ea27948773bc",
   "metadata": {},
   "outputs": [],
   "source": [
    "import datetime"
   ]
  },
  {
   "cell_type": "code",
   "execution_count": 4,
   "id": "d0f2b74d-6aff-4796-ae7f-8a5996a2e4f7",
   "metadata": {},
   "outputs": [
    {
     "data": {
      "text/plain": [
       "['MAXYEAR',\n",
       " 'MINYEAR',\n",
       " '__builtins__',\n",
       " '__cached__',\n",
       " '__doc__',\n",
       " '__file__',\n",
       " '__loader__',\n",
       " '__name__',\n",
       " '__package__',\n",
       " '__spec__',\n",
       " 'date',\n",
       " 'datetime',\n",
       " 'datetime_CAPI',\n",
       " 'sys',\n",
       " 'time',\n",
       " 'timedelta',\n",
       " 'timezone',\n",
       " 'tzinfo']"
      ]
     },
     "execution_count": 4,
     "metadata": {},
     "output_type": "execute_result"
    }
   ],
   "source": [
    "dir(datetime)"
   ]
  },
  {
   "cell_type": "code",
   "execution_count": 5,
   "id": "36f63051-b67a-4624-98be-ea21c03fd8e4",
   "metadata": {},
   "outputs": [
    {
     "data": {
      "text/plain": [
       "1"
      ]
     },
     "execution_count": 5,
     "metadata": {},
     "output_type": "execute_result"
    }
   ],
   "source": [
    "datetime.MINYEAR"
   ]
  },
  {
   "cell_type": "code",
   "execution_count": 6,
   "id": "0e7674e7-1b3d-4ef7-90ce-f23f33920c66",
   "metadata": {},
   "outputs": [
    {
     "data": {
      "text/plain": [
       "9999"
      ]
     },
     "execution_count": 6,
     "metadata": {},
     "output_type": "execute_result"
    }
   ],
   "source": [
    "datetime.MAXYEAR"
   ]
  },
  {
   "cell_type": "code",
   "execution_count": 11,
   "id": "7be122f7-ea3c-411e-bf3e-0e305a7f9427",
   "metadata": {},
   "outputs": [],
   "source": [
    "# 2025/07/14 format garna paryo bane\n",
    "date1 = datetime.date(2025,10,14)"
   ]
  },
  {
   "cell_type": "code",
   "execution_count": 12,
   "id": "4fdb6b04-ce25-481e-a8d9-5a24528d395f",
   "metadata": {},
   "outputs": [
    {
     "data": {
      "text/plain": [
       "datetime.date(2025, 10, 14)"
      ]
     },
     "execution_count": 12,
     "metadata": {},
     "output_type": "execute_result"
    }
   ],
   "source": [
    "date1"
   ]
  },
  {
   "cell_type": "code",
   "execution_count": 13,
   "id": "19a67262-e5a4-4066-9847-d264bfad28e8",
   "metadata": {},
   "outputs": [],
   "source": [
    "todaynow = datetime.date.today()"
   ]
  },
  {
   "cell_type": "code",
   "execution_count": 14,
   "id": "b35baf7d-f731-439d-88dd-d058b0dfa30d",
   "metadata": {},
   "outputs": [
    {
     "data": {
      "text/plain": [
       "datetime.date(2025, 7, 14)"
      ]
     },
     "execution_count": 14,
     "metadata": {},
     "output_type": "execute_result"
    }
   ],
   "source": [
    "todaynow"
   ]
  },
  {
   "cell_type": "code",
   "execution_count": 15,
   "id": "bf638bef-0e01-4d7e-a408-1c566eb50eae",
   "metadata": {},
   "outputs": [
    {
     "name": "stdout",
     "output_type": "stream",
     "text": [
      "2025-07-14\n"
     ]
    }
   ],
   "source": [
    "print(todaynow)"
   ]
  },
  {
   "cell_type": "code",
   "execution_count": 17,
   "id": "8badcd79-0689-4918-a6c7-0e56e68d9381",
   "metadata": {},
   "outputs": [
    {
     "data": {
      "text/plain": [
       "True"
      ]
     },
     "execution_count": 17,
     "metadata": {},
     "output_type": "execute_result"
    }
   ],
   "source": [
    "# compare dates\n",
    "\n",
    "date1 > todaynow"
   ]
  },
  {
   "cell_type": "code",
   "execution_count": 20,
   "id": "eefb5722-e064-4785-9f51-042038e6b2d5",
   "metadata": {},
   "outputs": [
    {
     "data": {
      "text/plain": [
       "datetime.timedelta(days=92)"
      ]
     },
     "execution_count": 20,
     "metadata": {},
     "output_type": "execute_result"
    }
   ],
   "source": [
    "# arithmetic operation\n",
    "\n",
    "date1 - todaynow"
   ]
  },
  {
   "cell_type": "code",
   "execution_count": 24,
   "id": "e0301ef1-be80-421f-a313-8d46d4291922",
   "metadata": {},
   "outputs": [
    {
     "ename": "TypeError",
     "evalue": "unsupported operand type(s) for +: 'datetime.date' and 'datetime.date'",
     "output_type": "error",
     "traceback": [
      "\u001b[1;31m---------------------------------------------------------------------------\u001b[0m",
      "\u001b[1;31mTypeError\u001b[0m                                 Traceback (most recent call last)",
      "Cell \u001b[1;32mIn[24], line 1\u001b[0m\n\u001b[1;32m----> 1\u001b[0m \u001b[43mdate1\u001b[49m\u001b[43m \u001b[49m\u001b[38;5;241;43m+\u001b[39;49m\u001b[43m \u001b[49m\u001b[43mtodaynow\u001b[49m\n",
      "\u001b[1;31mTypeError\u001b[0m: unsupported operand type(s) for +: 'datetime.date' and 'datetime.date'"
     ]
    }
   ],
   "source": [
    "date1 + todaynow"
   ]
  },
  {
   "cell_type": "code",
   "execution_count": null,
   "id": "f048d576-3bcb-432e-8b74-497f4702dc8d",
   "metadata": {},
   "outputs": [],
   "source": []
  },
  {
   "cell_type": "code",
   "execution_count": 30,
   "id": "15678cfc-26f7-4dad-ad7b-6e8db8adc20b",
   "metadata": {},
   "outputs": [
    {
     "data": {
      "text/plain": [
       "datetime.datetime(2025, 7, 14, 8, 26, 35, 822430)"
      ]
     },
     "execution_count": 30,
     "metadata": {},
     "output_type": "execute_result"
    }
   ],
   "source": [
    "now = datetime.datetime.today()\n",
    "now"
   ]
  },
  {
   "cell_type": "code",
   "execution_count": 37,
   "id": "da86a183-854a-476c-98d1-a70b6ff85071",
   "metadata": {},
   "outputs": [
    {
     "data": {
      "text/plain": [
       "'2025-07-14-08:26:35'"
      ]
     },
     "execution_count": 37,
     "metadata": {},
     "output_type": "execute_result"
    }
   ],
   "source": [
    "now.strftime(\"%Y-%m-%d-%H:%M:%S\")"
   ]
  },
  {
   "cell_type": "code",
   "execution_count": null,
   "id": "1fb49e7f-a49d-44fd-98d8-74a840abc7fe",
   "metadata": {},
   "outputs": [],
   "source": [
    "\n",
    "\n"
   ]
  },
  {
   "cell_type": "markdown",
   "id": "d4024909-063c-430e-ad5d-b05c6fb83e30",
   "metadata": {},
   "source": [
    "#TimeDelta"
   ]
  },
  {
   "cell_type": "code",
   "execution_count": 41,
   "id": "59ac8f0e-2bac-4dd1-9927-a24337635a30",
   "metadata": {},
   "outputs": [
    {
     "data": {
      "text/plain": [
       "datetime.datetime(2008, 5, 22, 0, 0)"
      ]
     },
     "execution_count": 41,
     "metadata": {},
     "output_type": "execute_result"
    }
   ],
   "source": [
    "year_10 = datetime.timedelta(days = 10*365)\n",
    "\n",
    "datetime.datetime(1998,5,25) + year_10"
   ]
  },
  {
   "cell_type": "code",
   "execution_count": null,
   "id": "e620d473-44f8-4d52-8e7c-05c232615f43",
   "metadata": {},
   "outputs": [],
   "source": []
  },
  {
   "cell_type": "markdown",
   "id": "e26dbf1f-5bcc-4522-8074-a9e6d735ddb9",
   "metadata": {},
   "source": [
    "## time module\n"
   ]
  },
  {
   "cell_type": "markdown",
   "id": "8254d3cd-b38f-4d9a-ac45-5fc49058403a",
   "metadata": {},
   "source": [
    "time() sleep() ctime() gmtime() localtime()"
   ]
  },
  {
   "cell_type": "code",
   "execution_count": 1,
   "id": "abdd2f48-0049-4dea-914d-3877a419bfe2",
   "metadata": {},
   "outputs": [],
   "source": [
    "import time"
   ]
  },
  {
   "cell_type": "code",
   "execution_count": 4,
   "id": "66c04bdf-dde1-41c6-8a32-686668d73101",
   "metadata": {},
   "outputs": [
    {
     "data": {
      "text/plain": [
       "1752544057.2052298"
      ]
     },
     "execution_count": 4,
     "metadata": {},
     "output_type": "execute_result"
    }
   ],
   "source": [
    "time.time()  "
   ]
  },
  {
   "cell_type": "code",
   "execution_count": 5,
   "id": "b8bcb6bb-c761-4fb6-a601-6cee61f12e43",
   "metadata": {},
   "outputs": [
    {
     "data": {
      "text/plain": [
       "'Tue Jul 15 07:33:01 2025'"
      ]
     },
     "execution_count": 5,
     "metadata": {},
     "output_type": "execute_result"
    }
   ],
   "source": [
    "time.ctime() # get current time"
   ]
  },
  {
   "cell_type": "code",
   "execution_count": 7,
   "id": "8e4e7dbf-783d-4c6a-9f2a-2bcc07cbe25e",
   "metadata": {},
   "outputs": [
    {
     "name": "stdout",
     "output_type": "stream",
     "text": [
      "loading ...\n",
      "completed ...\n"
     ]
    }
   ],
   "source": [
    "#sleep for 2 sec\n",
    "print(\"loading ...\")\n",
    "time.sleep(2)\n",
    "print(\"completed ...\")"
   ]
  },
  {
   "cell_type": "code",
   "execution_count": 8,
   "id": "8b8e0f40-ad9a-4d0f-bb33-cfd82f547fec",
   "metadata": {},
   "outputs": [
    {
     "data": {
      "text/plain": [
       "time.struct_time(tm_year=2025, tm_mon=7, tm_mday=15, tm_hour=1, tm_min=52, tm_sec=46, tm_wday=1, tm_yday=196, tm_isdst=0)"
      ]
     },
     "execution_count": 8,
     "metadata": {},
     "output_type": "execute_result"
    }
   ],
   "source": [
    "#current utc time\n",
    "time.gmtime()"
   ]
  },
  {
   "cell_type": "code",
   "execution_count": 9,
   "id": "f903e94e-56d7-4a08-9557-770ae38ecd5b",
   "metadata": {},
   "outputs": [
    {
     "data": {
      "text/plain": [
       "time.struct_time(tm_year=2025, tm_mon=7, tm_mday=15, tm_hour=7, tm_min=38, tm_sec=30, tm_wday=1, tm_yday=196, tm_isdst=0)"
      ]
     },
     "execution_count": 9,
     "metadata": {},
     "output_type": "execute_result"
    }
   ],
   "source": [
    "time.localtime()"
   ]
  },
  {
   "cell_type": "code",
   "execution_count": 10,
   "id": "541b8121-a4fe-42c6-a74b-290325e2fafd",
   "metadata": {},
   "outputs": [
    {
     "data": {
      "text/plain": [
       "'07-45-20'"
      ]
     },
     "execution_count": 10,
     "metadata": {},
     "output_type": "execute_result"
    }
   ],
   "source": [
    "#str repr\n",
    "time.strftime(\"%H-%M-%S\")"
   ]
  },
  {
   "cell_type": "code",
   "execution_count": null,
   "id": "8ffc4068-1c7d-40b1-8ee7-58987b681892",
   "metadata": {},
   "outputs": [],
   "source": []
  },
  {
   "cell_type": "code",
   "execution_count": 11,
   "id": "3e785ed8-dcc7-41c8-9715-b5c720b074d5",
   "metadata": {},
   "outputs": [
    {
     "name": "stdout",
     "output_type": "stream",
     "text": [
      "hello\n"
     ]
    }
   ],
   "source": [
    "start = time.time()\n",
    "\n",
    "print(\"hello\")\n",
    "time.sleep(2)\n",
    "\n",
    "end = time.time()"
   ]
  },
  {
   "cell_type": "code",
   "execution_count": 13,
   "id": "9971d012-5934-415f-b227-8e5cbac249b6",
   "metadata": {},
   "outputs": [
    {
     "name": "stdout",
     "output_type": "stream",
     "text": [
      "time is 2.007429599761963\n"
     ]
    }
   ],
   "source": [
    "print(\"time is\",end - start)"
   ]
  },
  {
   "cell_type": "code",
   "execution_count": 14,
   "id": "cd303b01-fff9-445e-9d4b-6138505a9262",
   "metadata": {},
   "outputs": [
    {
     "data": {
      "text/plain": [
       "486818.05748674436"
      ]
     },
     "execution_count": 14,
     "metadata": {},
     "output_type": "execute_result"
    }
   ],
   "source": [
    "end / 3600"
   ]
  },
  {
   "cell_type": "code",
   "execution_count": null,
   "id": "f7218c67-a7fb-49f1-b359-8507aa2557aa",
   "metadata": {},
   "outputs": [],
   "source": []
  }
 ],
 "metadata": {
  "kernelspec": {
   "display_name": "Python 3 (ipykernel)",
   "language": "python",
   "name": "python3"
  },
  "language_info": {
   "codemirror_mode": {
    "name": "ipython",
    "version": 3
   },
   "file_extension": ".py",
   "mimetype": "text/x-python",
   "name": "python",
   "nbconvert_exporter": "python",
   "pygments_lexer": "ipython3",
   "version": "3.8.10"
  }
 },
 "nbformat": 4,
 "nbformat_minor": 5
}
