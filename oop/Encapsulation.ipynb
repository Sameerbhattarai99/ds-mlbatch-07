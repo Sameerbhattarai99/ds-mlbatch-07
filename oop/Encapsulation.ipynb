{
 "cells": [
  {
   "cell_type": "markdown",
   "id": "5483fb8a-0b73-404c-b8f7-1a40fbc311f9",
   "metadata": {},
   "source": [
    "# encapsulation"
   ]
  },
  {
   "cell_type": "markdown",
   "id": "08b3042a-fa54-4101-bae9-eaa82e40b572",
   "metadata": {},
   "source": [
    "private public protected"
   ]
  },
  {
   "cell_type": "code",
   "execution_count": 16,
   "id": "5d2fc128-c89b-42c1-ae4b-3d548828126e",
   "metadata": {},
   "outputs": [],
   "source": [
    "class Example:\n",
    "    def __init__(self):\n",
    "        self.public_var = 1\n",
    "        self.__private_var = 2\n",
    "        self._protected_var = 3\n",
    "\n",
    "    def public_method(self):\n",
    "        print(self.__private_var)\n",
    "        print(\"this is public\")\n",
    "\n",
    "    def __private_method(self):\n",
    "        print(\"this is private\")\n",
    "\n",
    "    def _protected_method(self):\n",
    "        print(\"this is protected\")"
   ]
  },
  {
   "cell_type": "code",
   "execution_count": 17,
   "id": "f52c08ac-6cc4-4cd8-9f90-7e4bcd401e2d",
   "metadata": {},
   "outputs": [],
   "source": [
    "obj = Example()"
   ]
  },
  {
   "cell_type": "code",
   "execution_count": 18,
   "id": "93891c78-ae62-447e-8088-ffe3dbe5929e",
   "metadata": {},
   "outputs": [
    {
     "data": {
      "text/plain": [
       "1"
      ]
     },
     "execution_count": 18,
     "metadata": {},
     "output_type": "execute_result"
    }
   ],
   "source": [
    "obj.public_var"
   ]
  },
  {
   "cell_type": "code",
   "execution_count": 19,
   "id": "ba578c3b-d331-42c9-9430-b9a713afa8d0",
   "metadata": {},
   "outputs": [
    {
     "name": "stdout",
     "output_type": "stream",
     "text": [
      "2\n",
      "this is public\n"
     ]
    }
   ],
   "source": [
    "obj.public_method()"
   ]
  },
  {
   "cell_type": "code",
   "execution_count": 20,
   "id": "3e14d350-c3be-46b6-af7d-468b74da4bf0",
   "metadata": {},
   "outputs": [
    {
     "data": {
      "text/plain": [
       "3"
      ]
     },
     "execution_count": 20,
     "metadata": {},
     "output_type": "execute_result"
    }
   ],
   "source": [
    "obj._protected_var"
   ]
  },
  {
   "cell_type": "code",
   "execution_count": 21,
   "id": "881ac62c-8f43-4dfb-9508-79d523686a03",
   "metadata": {},
   "outputs": [
    {
     "name": "stdout",
     "output_type": "stream",
     "text": [
      "this is protected\n"
     ]
    }
   ],
   "source": [
    "obj._protected_method()"
   ]
  },
  {
   "cell_type": "code",
   "execution_count": null,
   "id": "5a1b3369-f1b8-4fe6-b429-ad0f1102b633",
   "metadata": {},
   "outputs": [],
   "source": [
    "\n"
   ]
  },
  {
   "cell_type": "code",
   "execution_count": 22,
   "id": "122c8400-75af-4474-82b7-048954891538",
   "metadata": {},
   "outputs": [],
   "source": [
    "# private ko mathi jasarai mildaina"
   ]
  },
  {
   "cell_type": "code",
   "execution_count": null,
   "id": "6db0fc5e-d960-475f-9439-a55dc0b6e6f5",
   "metadata": {},
   "outputs": [],
   "source": []
  },
  {
   "cell_type": "code",
   "execution_count": 23,
   "id": "b8124165-99da-4222-8d00-a64b625245cd",
   "metadata": {},
   "outputs": [],
   "source": [
    "class SubClass(Example):\n",
    "    def get_public_member(self):\n",
    "        print(self.public_var)\n",
    "\n",
    "    def get_protected_member(self):\n",
    "        print(self._protected_var)\n",
    "\n",
    "    def get_private_member(self):\n",
    "        print(self.__private_var)"
   ]
  },
  {
   "cell_type": "code",
   "execution_count": 24,
   "id": "68e5cb35-ec99-407e-8626-64d23c0824f8",
   "metadata": {},
   "outputs": [],
   "source": [
    "sub = SubClass()"
   ]
  },
  {
   "cell_type": "code",
   "execution_count": 25,
   "id": "875222d1-f4c3-4b98-9c53-2b488bac3a61",
   "metadata": {},
   "outputs": [
    {
     "name": "stdout",
     "output_type": "stream",
     "text": [
      "1\n"
     ]
    }
   ],
   "source": [
    "sub.get_public_member()"
   ]
  },
  {
   "cell_type": "code",
   "execution_count": 26,
   "id": "8f3b2ce2-6359-4f35-b34d-31863c797d89",
   "metadata": {},
   "outputs": [
    {
     "name": "stdout",
     "output_type": "stream",
     "text": [
      "3\n"
     ]
    }
   ],
   "source": [
    "sub.get_protected_member()"
   ]
  },
  {
   "cell_type": "code",
   "execution_count": 27,
   "id": "b61ddacf-bcf3-456d-ab16-851f472e6c5b",
   "metadata": {},
   "outputs": [
    {
     "ename": "AttributeError",
     "evalue": "'SubClass' object has no attribute '_SubClass__private_var'",
     "output_type": "error",
     "traceback": [
      "\u001b[1;31m---------------------------------------------------------------------------\u001b[0m",
      "\u001b[1;31mAttributeError\u001b[0m                            Traceback (most recent call last)",
      "Cell \u001b[1;32mIn[27], line 1\u001b[0m\n\u001b[1;32m----> 1\u001b[0m \u001b[43msub\u001b[49m\u001b[38;5;241;43m.\u001b[39;49m\u001b[43mget_private_member\u001b[49m\u001b[43m(\u001b[49m\u001b[43m)\u001b[49m\n",
      "Cell \u001b[1;32mIn[23], line 9\u001b[0m, in \u001b[0;36mSubClass.get_private_member\u001b[1;34m(self)\u001b[0m\n\u001b[0;32m      8\u001b[0m \u001b[38;5;28;01mdef\u001b[39;00m\u001b[38;5;250m \u001b[39m\u001b[38;5;21mget_private_member\u001b[39m(\u001b[38;5;28mself\u001b[39m):\n\u001b[1;32m----> 9\u001b[0m     \u001b[38;5;28mprint\u001b[39m(\u001b[38;5;28;43mself\u001b[39;49m\u001b[38;5;241;43m.\u001b[39;49m\u001b[43m__private_var\u001b[49m)\n",
      "\u001b[1;31mAttributeError\u001b[0m: 'SubClass' object has no attribute '_SubClass__private_var'"
     ]
    }
   ],
   "source": [
    "sub.get_private_member()"
   ]
  },
  {
   "cell_type": "code",
   "execution_count": null,
   "id": "a214a8a0-9e2d-4692-936e-596a8d3f06cf",
   "metadata": {},
   "outputs": [],
   "source": []
  },
  {
   "cell_type": "code",
   "execution_count": 43,
   "id": "fa8f1e2d-18b6-4212-bcf5-0c58f3a009a6",
   "metadata": {},
   "outputs": [],
   "source": [
    "class BankAccount:\n",
    "    def __init__(self,name,balance):\n",
    "        self.name = name\n",
    "        self.__balance = balance\n",
    "\n",
    "    def deposit(self,amount):\n",
    "        if amount >0 :\n",
    "            self.__balance += amount\n",
    "            print(f\"added {amount} to account\")\n",
    "\n",
    "\n",
    "    def withdraw(self,amount):\n",
    "        \n",
    "        if amount > 0:\n",
    "            new_balance =self.__balance -amount\n",
    "            if new_balance >=0:\n",
    "                self.__balance=new_balance\n",
    "                print(f\"deducted {amount} from account\")\n",
    "\n",
    "            else:\n",
    "                print(\"not sufficient\")\n",
    "         \n",
    "\n",
    "    def check_balance(self):\n",
    "        \n",
    "        print(f\"{self.name} has {self.__balance}\")\n",
    "        "
   ]
  },
  {
   "cell_type": "code",
   "execution_count": 44,
   "id": "b45de52a-f1e3-4102-a582-00a3beca15aa",
   "metadata": {},
   "outputs": [],
   "source": [
    "class SavingAccount(BankAccount):\n",
    "    def add_interest(self,rate=5):\n",
    "        balance = self.check_balance()\n",
    "        interest = (balance*rate) /100\n",
    "        print(f\"the intreset accquired is {interest}\")\n",
    "        return interest\n",
    "        "
   ]
  },
  {
   "cell_type": "code",
   "execution_count": 45,
   "id": "1944a511-d187-49d3-a7fe-0ede124efe59",
   "metadata": {},
   "outputs": [
    {
     "name": "stdout",
     "output_type": "stream",
     "text": [
      "added 500 to account\n",
      "deducted 200 from account\n",
      "ram has 1300\n"
     ]
    }
   ],
   "source": [
    "acc = BankAccount(\"ram\",1000)\n",
    "acc.deposit(500)\n",
    "acc.withdraw(200)\n",
    "acc.check_balance()"
   ]
  },
  {
   "cell_type": "code",
   "execution_count": 53,
   "id": "fa060cd5-48f0-42a3-90d8-751641ded0e7",
   "metadata": {},
   "outputs": [
    {
     "name": "stdout",
     "output_type": "stream",
     "text": [
      "2000 has 0.1\n"
     ]
    },
    {
     "ename": "TypeError",
     "evalue": "unsupported operand type(s) for *: 'NoneType' and 'int'",
     "output_type": "error",
     "traceback": [
      "\u001b[1;31m---------------------------------------------------------------------------\u001b[0m",
      "\u001b[1;31mTypeError\u001b[0m                                 Traceback (most recent call last)",
      "Cell \u001b[1;32mIn[53], line 2\u001b[0m\n\u001b[0;32m      1\u001b[0m saving \u001b[38;5;241m=\u001b[39m SavingAccount(\u001b[38;5;241m2000\u001b[39m,\u001b[38;5;241m0.1\u001b[39m)\n\u001b[1;32m----> 2\u001b[0m \u001b[43msaving\u001b[49m\u001b[38;5;241;43m.\u001b[39;49m\u001b[43madd_interest\u001b[49m\u001b[43m(\u001b[49m\u001b[43m)\u001b[49m\n",
      "Cell \u001b[1;32mIn[44], line 4\u001b[0m, in \u001b[0;36mSavingAccount.add_interest\u001b[1;34m(self, rate)\u001b[0m\n\u001b[0;32m      2\u001b[0m \u001b[38;5;28;01mdef\u001b[39;00m\u001b[38;5;250m \u001b[39m\u001b[38;5;21madd_interest\u001b[39m(\u001b[38;5;28mself\u001b[39m,rate\u001b[38;5;241m=\u001b[39m\u001b[38;5;241m5\u001b[39m):\n\u001b[0;32m      3\u001b[0m     balance \u001b[38;5;241m=\u001b[39m \u001b[38;5;28mself\u001b[39m\u001b[38;5;241m.\u001b[39mcheck_balance()\n\u001b[1;32m----> 4\u001b[0m     interest \u001b[38;5;241m=\u001b[39m (\u001b[43mbalance\u001b[49m\u001b[38;5;241;43m*\u001b[39;49m\u001b[43mrate\u001b[49m) \u001b[38;5;241m/\u001b[39m\u001b[38;5;241m100\u001b[39m\n\u001b[0;32m      5\u001b[0m     \u001b[38;5;28mprint\u001b[39m(\u001b[38;5;124mf\u001b[39m\u001b[38;5;124m\"\u001b[39m\u001b[38;5;124mthe intreset accquired is \u001b[39m\u001b[38;5;132;01m{\u001b[39;00minterest\u001b[38;5;132;01m}\u001b[39;00m\u001b[38;5;124m\"\u001b[39m)\n\u001b[0;32m      6\u001b[0m     \u001b[38;5;28;01mreturn\u001b[39;00m interest\n",
      "\u001b[1;31mTypeError\u001b[0m: unsupported operand type(s) for *: 'NoneType' and 'int'"
     ]
    }
   ],
   "source": [
    "saving = SavingAccount(2000,0.1)\n",
    "saving.add_interest()"
   ]
  },
  {
   "cell_type": "code",
   "execution_count": null,
   "id": "2d392b17-6951-45a8-bbf4-64e0c512d536",
   "metadata": {},
   "outputs": [],
   "source": []
  },
  {
   "cell_type": "code",
   "execution_count": null,
   "id": "3ec0092c-e42b-4229-9b9c-6ceac0b1f6f3",
   "metadata": {},
   "outputs": [],
   "source": []
  }
 ],
 "metadata": {
  "kernelspec": {
   "display_name": "Python 3 (ipykernel)",
   "language": "python",
   "name": "python3"
  },
  "language_info": {
   "codemirror_mode": {
    "name": "ipython",
    "version": 3
   },
   "file_extension": ".py",
   "mimetype": "text/x-python",
   "name": "python",
   "nbconvert_exporter": "python",
   "pygments_lexer": "ipython3",
   "version": "3.8.10"
  }
 },
 "nbformat": 4,
 "nbformat_minor": 5
}
