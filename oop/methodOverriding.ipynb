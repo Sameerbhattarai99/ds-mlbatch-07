{
 "cells": [
  {
   "cell_type": "markdown",
   "id": "6a3bede4-9064-441d-be53-91bdbedda561",
   "metadata": {},
   "source": [
    "## method overriding"
   ]
  },
  {
   "cell_type": "code",
   "execution_count": 1,
   "id": "e9ab6fd7-19f7-451f-bbe6-fd983cdd597f",
   "metadata": {},
   "outputs": [],
   "source": [
    "class Animal:\n",
    "    def sound(self):\n",
    "        print(\"animal makes sound\")"
   ]
  },
  {
   "cell_type": "code",
   "execution_count": 3,
   "id": "e6f90fec-6ced-4e30-960c-eab805e2d07d",
   "metadata": {},
   "outputs": [],
   "source": [
    "class Dog(Animal):\n",
    "    def sound(self):\n",
    "        print(\"dog makes sound whoof\")"
   ]
  },
  {
   "cell_type": "code",
   "execution_count": 4,
   "id": "441f53fe-3deb-49f3-92a8-a1cd5af384ef",
   "metadata": {},
   "outputs": [],
   "source": [
    "dog = Dog()"
   ]
  },
  {
   "cell_type": "code",
   "execution_count": 6,
   "id": "f6572bf1-afca-42a9-abd7-e4e0c02b2b4d",
   "metadata": {},
   "outputs": [
    {
     "name": "stdout",
     "output_type": "stream",
     "text": [
      "dog makes sound whoof\n"
     ]
    }
   ],
   "source": [
    "dog.sound()"
   ]
  },
  {
   "cell_type": "code",
   "execution_count": 7,
   "id": "3e1112cc-fabc-4b65-8e4e-54980e23b330",
   "metadata": {},
   "outputs": [],
   "source": [
    "class Cat(Animal):\n",
    "    pass"
   ]
  },
  {
   "cell_type": "code",
   "execution_count": 9,
   "id": "873b2877-1f4f-49dc-8963-a802ac252d0b",
   "metadata": {},
   "outputs": [],
   "source": [
    "cat = Cat()"
   ]
  },
  {
   "cell_type": "code",
   "execution_count": 10,
   "id": "751ebcc5-1bb3-4334-976e-b40af3c75e5a",
   "metadata": {},
   "outputs": [
    {
     "name": "stdout",
     "output_type": "stream",
     "text": [
      "animal makes sound\n"
     ]
    }
   ],
   "source": [
    "cat.sound()"
   ]
  },
  {
   "cell_type": "code",
   "execution_count": null,
   "id": "1aaf4446-0b6f-4fd7-a8fa-c4d5f7843cc9",
   "metadata": {},
   "outputs": [],
   "source": []
  },
  {
   "cell_type": "code",
   "execution_count": 20,
   "id": "293554af-986c-4a18-8b5e-a10f31ac41b9",
   "metadata": {},
   "outputs": [],
   "source": [
    "class Parent :\n",
    "    def say_hello(self):\n",
    "        print(\"say hello\")\n",
    "        return 0\n",
    "class Child(Parent):\n",
    "    def say_hello(self):\n",
    "        res =  super().say_hello()\n",
    "        print(res)\n",
    "        print(\"hello from child\")"
   ]
  },
  {
   "cell_type": "code",
   "execution_count": 21,
   "id": "a8894cd0-9cf2-4d0f-a196-92802d27a835",
   "metadata": {},
   "outputs": [],
   "source": [
    "obj = Child()"
   ]
  },
  {
   "cell_type": "code",
   "execution_count": 22,
   "id": "ca5a83f7-ac8e-4544-ac91-09952ea86abc",
   "metadata": {},
   "outputs": [
    {
     "name": "stdout",
     "output_type": "stream",
     "text": [
      "say hello\n",
      "0\n",
      "hello from child\n"
     ]
    }
   ],
   "source": [
    "obj.say_hello()"
   ]
  },
  {
   "cell_type": "code",
   "execution_count": null,
   "id": "60e6ef3b-8f0e-4608-8f6b-ba1b4ce912d9",
   "metadata": {},
   "outputs": [],
   "source": []
  }
 ],
 "metadata": {
  "kernelspec": {
   "display_name": "Python 3 (ipykernel)",
   "language": "python",
   "name": "python3"
  },
  "language_info": {
   "codemirror_mode": {
    "name": "ipython",
    "version": 3
   },
   "file_extension": ".py",
   "mimetype": "text/x-python",
   "name": "python",
   "nbconvert_exporter": "python",
   "pygments_lexer": "ipython3",
   "version": "3.8.10"
  }
 },
 "nbformat": 4,
 "nbformat_minor": 5
}
