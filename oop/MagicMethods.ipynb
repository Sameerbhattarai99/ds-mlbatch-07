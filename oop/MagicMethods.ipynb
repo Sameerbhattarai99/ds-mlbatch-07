{
 "cells": [
  {
   "cell_type": "markdown",
   "id": "abbba981-7dee-495d-9729-0d6088faca64",
   "metadata": {},
   "source": [
    "# magic methods\n"
   ]
  },
  {
   "cell_type": "markdown",
   "id": "6bca78fe-1485-4c20-9928-adc1c92e5bd0",
   "metadata": {},
   "source": [
    "```python\n",
    "\n",
    "_init_ _len_ _str_ _repr_"
   ]
  },
  {
   "cell_type": "code",
   "execution_count": 34,
   "id": "4d9e065c-8a3b-4f32-b2fd-7280741d42a9",
   "metadata": {},
   "outputs": [],
   "source": [
    "class Person :\n",
    "    def __init__(objr,name,age):\n",
    "        objr.name=name\n",
    "        objr.age=age\n",
    "\n",
    "    def __str__(objr):#< overloading print\n",
    "        return f\"{objr.name} has age {objr.age}\"\n",
    "\n",
    "\n",
    "    def __repr__(objr):\n",
    "        return f\"Person ({objr.name} ,{objr.age})\"\n",
    "\n",
    "\n",
    "    def __len__(objr):\n",
    "        return objr.age\n",
    "\n",
    "    def __call__(objr,gender=\"M\"):  #<- object to callable\n",
    "        return f\"{objr.name} is a {gender})\""
   ]
  },
  {
   "cell_type": "code",
   "execution_count": 36,
   "id": "395cfb82-26d0-4ff5-92cf-7e0ca0fdd848",
   "metadata": {},
   "outputs": [],
   "source": [
    "person = Person(\"ram\",23)"
   ]
  },
  {
   "cell_type": "code",
   "execution_count": 37,
   "id": "c8356558-3f22-4c49-9846-9a074f49132f",
   "metadata": {},
   "outputs": [
    {
     "data": {
      "text/plain": [
       "'ram'"
      ]
     },
     "execution_count": 37,
     "metadata": {},
     "output_type": "execute_result"
    }
   ],
   "source": [
    "person.name"
   ]
  },
  {
   "cell_type": "code",
   "execution_count": 32,
   "id": "3556976e-910c-4bcb-b0be-c4f1a57a74cc",
   "metadata": {},
   "outputs": [
    {
     "name": "stdout",
     "output_type": "stream",
     "text": [
      "ram has age 23\n"
     ]
    }
   ],
   "source": [
    "print(person)"
   ]
  },
  {
   "cell_type": "code",
   "execution_count": 11,
   "id": "e65d5a4f-1165-42c0-99dc-267a016104b0",
   "metadata": {},
   "outputs": [
    {
     "data": {
      "text/plain": [
       "<__main__.Person at 0x19037790820>"
      ]
     },
     "execution_count": 11,
     "metadata": {},
     "output_type": "execute_result"
    }
   ],
   "source": [
    "person"
   ]
  },
  {
   "cell_type": "code",
   "execution_count": 26,
   "id": "2c468110-1e76-490b-ae93-1b87a6c60076",
   "metadata": {},
   "outputs": [
    {
     "data": {
      "text/plain": [
       "Person (ram ,23)"
      ]
     },
     "execution_count": 26,
     "metadata": {},
     "output_type": "execute_result"
    }
   ],
   "source": [
    "person"
   ]
  },
  {
   "cell_type": "code",
   "execution_count": 38,
   "id": "6ba6e4cf-a545-482c-94cd-266340879165",
   "metadata": {},
   "outputs": [
    {
     "data": {
      "text/plain": [
       "23"
      ]
     },
     "execution_count": 38,
     "metadata": {},
     "output_type": "execute_result"
    }
   ],
   "source": [
    "len(person)"
   ]
  },
  {
   "cell_type": "code",
   "execution_count": null,
   "id": "b825e77b-ada9-4f6f-b1fb-0a939a33780f",
   "metadata": {},
   "outputs": [],
   "source": []
  },
  {
   "cell_type": "code",
   "execution_count": 28,
   "id": "488cfde9-d8dd-4f26-8749-e138469887bf",
   "metadata": {},
   "outputs": [
    {
     "data": {
      "text/plain": [
       "'ram is a Female)'"
      ]
     },
     "execution_count": 28,
     "metadata": {},
     "output_type": "execute_result"
    }
   ],
   "source": [
    "person(gender=\"Female\")"
   ]
  },
  {
   "cell_type": "code",
   "execution_count": null,
   "id": "9db2c4a7-ef57-4fe9-a47f-90a6e1e833b6",
   "metadata": {},
   "outputs": [],
   "source": []
  }
 ],
 "metadata": {
  "kernelspec": {
   "display_name": "Python 3 (ipykernel)",
   "language": "python",
   "name": "python3"
  },
  "language_info": {
   "codemirror_mode": {
    "name": "ipython",
    "version": 3
   },
   "file_extension": ".py",
   "mimetype": "text/x-python",
   "name": "python",
   "nbconvert_exporter": "python",
   "pygments_lexer": "ipython3",
   "version": "3.8.10"
  }
 },
 "nbformat": 4,
 "nbformat_minor": 5
}
