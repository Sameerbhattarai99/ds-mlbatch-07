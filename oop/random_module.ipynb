{
 "cells": [
  {
   "cell_type": "markdown",
   "id": "12bd1ef7-b3d9-4e52-898e-12acd33ada78",
   "metadata": {},
   "source": [
    "# ramdom module"
   ]
  },
  {
   "cell_type": "code",
   "execution_count": 1,
   "id": "4cba2c8a-56fb-4d7b-9ffb-da234f7a651e",
   "metadata": {},
   "outputs": [],
   "source": [
    " import random"
   ]
  },
  {
   "cell_type": "code",
   "execution_count": 2,
   "id": "3d4e9a78-9b1a-48e4-9e38-1e8be3f296fa",
   "metadata": {},
   "outputs": [
    {
     "data": {
      "text/plain": [
       "0.5447276641069759"
      ]
     },
     "execution_count": 2,
     "metadata": {},
     "output_type": "execute_result"
    }
   ],
   "source": [
    "random.random()"
   ]
  },
  {
   "cell_type": "code",
   "execution_count": 6,
   "id": "252e5d53-9488-4d21-ae86-5c435055d610",
   "metadata": {},
   "outputs": [
    {
     "data": {
      "text/plain": [
       "480.9021935333614"
      ]
     },
     "execution_count": 6,
     "metadata": {},
     "output_type": "execute_result"
    }
   ],
   "source": [
    "random.uniform(100,500)"
   ]
  },
  {
   "cell_type": "code",
   "execution_count": 7,
   "id": "e868bab8-1fd5-4430-a882-3acb40264e57",
   "metadata": {},
   "outputs": [
    {
     "data": {
      "text/plain": [
       "413"
      ]
     },
     "execution_count": 7,
     "metadata": {},
     "output_type": "execute_result"
    }
   ],
   "source": [
    "random.randint(100,500)"
   ]
  },
  {
   "cell_type": "code",
   "execution_count": 13,
   "id": "63fd5d6a-d590-4d76-ba84-ad8c43537e58",
   "metadata": {},
   "outputs": [
    {
     "data": {
      "text/plain": [
       "450"
      ]
     },
     "execution_count": 13,
     "metadata": {},
     "output_type": "execute_result"
    }
   ],
   "source": [
    "random.randrange(100,500,50)"
   ]
  },
  {
   "cell_type": "markdown",
   "id": "604c72d4-2994-4d2e-a60d-33d7f8120484",
   "metadata": {},
   "source": [
    "### sequence related function"
   ]
  },
  {
   "cell_type": "code",
   "execution_count": 28,
   "id": "fc4c2afd-bad1-4a32-aae9-5d07df233ddf",
   "metadata": {},
   "outputs": [],
   "source": [
    "cards = ['ace' , 'king' , 'queen' , 'jack' , 'ten' , 'nine' ]"
   ]
  },
  {
   "cell_type": "code",
   "execution_count": 26,
   "id": "801853b2-bac6-4b00-a43b-95a24dadff30",
   "metadata": {},
   "outputs": [
    {
     "data": {
      "text/plain": [
       "'queen'"
      ]
     },
     "execution_count": 26,
     "metadata": {},
     "output_type": "execute_result"
    }
   ],
   "source": [
    "random.choice(cards)"
   ]
  },
  {
   "cell_type": "code",
   "execution_count": null,
   "id": "84f678df-fecd-40bf-a24a-276dfe01bd0f",
   "metadata": {},
   "outputs": [],
   "source": []
  },
  {
   "cell_type": "code",
   "execution_count": null,
   "id": "4fdccd6f-c160-4312-9e39-aecbf66eda07",
   "metadata": {},
   "outputs": [],
   "source": []
  },
  {
   "cell_type": "code",
   "execution_count": 29,
   "id": "ebbe100d-9e2a-46d6-a07a-8254449d106a",
   "metadata": {},
   "outputs": [],
   "source": [
    "random.shuffle(cards)"
   ]
  },
  {
   "cell_type": "code",
   "execution_count": 30,
   "id": "8dc53008-d8f6-43fc-bfb7-fe6a411426db",
   "metadata": {},
   "outputs": [
    {
     "data": {
      "text/plain": [
       "['queen', 'jack', 'ace', 'nine', 'king', 'ten']"
      ]
     },
     "execution_count": 30,
     "metadata": {},
     "output_type": "execute_result"
    }
   ],
   "source": [
    "cards"
   ]
  },
  {
   "cell_type": "code",
   "execution_count": 48,
   "id": "a8808a92-a18e-48fc-904d-c22a4cd14d46",
   "metadata": {},
   "outputs": [
    {
     "data": {
      "text/plain": [
       "['king', 'ten', 'nine']"
      ]
     },
     "execution_count": 48,
     "metadata": {},
     "output_type": "execute_result"
    }
   ],
   "source": [
    "random.sample(cards,3)"
   ]
  },
  {
   "cell_type": "code",
   "execution_count": 46,
   "id": "b02a4e61-0f15-4881-aa4c-c5af6af7d716",
   "metadata": {},
   "outputs": [
    {
     "data": {
      "text/plain": [
       "['queen', 'king', 'nine']"
      ]
     },
     "execution_count": 46,
     "metadata": {},
     "output_type": "execute_result"
    }
   ],
   "source": [
    "random.choices(cards , weights = [0.2,0.2,0.12,0.4,0.01,0.33],k=3)"
   ]
  },
  {
   "cell_type": "code",
   "execution_count": null,
   "id": "4ed8b27c-951d-4fce-a6a8-aa9cd24e304b",
   "metadata": {},
   "outputs": [],
   "source": []
  },
  {
   "cell_type": "markdown",
   "id": "b437c317-3ebe-4c0d-8538-bc13700ca7c1",
   "metadata": {},
   "source": [
    "## distribution and probability density function"
   ]
  },
  {
   "cell_type": "markdown",
   "id": "a2c890d3-c57d-4e93-a5f0-289d4f61d272",
   "metadata": {},
   "source": [
    "traingular gaussian normal type"
   ]
  },
  {
   "cell_type": "markdown",
   "id": "6e067448-dc70-4de4-8013-951bcf480a4c",
   "metadata": {},
   "source": [
    "### randomness related function"
   ]
  },
  {
   "cell_type": "code",
   "execution_count": 49,
   "id": "dbfbfe5c-0dcc-4f09-b3ef-de0d947212b9",
   "metadata": {},
   "outputs": [],
   "source": [
    "random.seed(555)\n"
   ]
  },
  {
   "cell_type": "code",
   "execution_count": 50,
   "id": "d6bb786a-84f5-4833-8743-f567cb9ee7d4",
   "metadata": {},
   "outputs": [
    {
     "data": {
      "text/plain": [
       "4"
      ]
     },
     "execution_count": 50,
     "metadata": {},
     "output_type": "execute_result"
    }
   ],
   "source": [
    "random.randint(1,10)"
   ]
  },
  {
   "cell_type": "code",
   "execution_count": 56,
   "id": "cff89607-cd0e-4ec2-99f0-00a828db5749",
   "metadata": {},
   "outputs": [],
   "source": [
    "import random"
   ]
  },
  {
   "cell_type": "code",
   "execution_count": 58,
   "id": "5773a350-92a8-4564-9a6a-41c711aa42c2",
   "metadata": {},
   "outputs": [
    {
     "name": "stdout",
     "output_type": "stream",
     "text": [
      "8 1 3\n"
     ]
    }
   ],
   "source": [
    "state =  random.getstate()\n",
    "a = random.randint(1,10)\n",
    "b = random.randint(1,10)\n",
    "c = random.randint(1,10)\n",
    "\n",
    "print(a,b,c)"
   ]
  },
  {
   "cell_type": "code",
   "execution_count": null,
   "id": "5ea72506-cb16-4c21-8141-671b14cbc2f4",
   "metadata": {},
   "outputs": [],
   "source": []
  },
  {
   "cell_type": "code",
   "execution_count": null,
   "id": "6130dcd3-eedc-46cc-979e-4d9fb3e986ad",
   "metadata": {},
   "outputs": [],
   "source": []
  }
 ],
 "metadata": {
  "kernelspec": {
   "display_name": "Python 3 (ipykernel)",
   "language": "python",
   "name": "python3"
  },
  "language_info": {
   "codemirror_mode": {
    "name": "ipython",
    "version": 3
   },
   "file_extension": ".py",
   "mimetype": "text/x-python",
   "name": "python",
   "nbconvert_exporter": "python",
   "pygments_lexer": "ipython3",
   "version": "3.8.10"
  }
 },
 "nbformat": 4,
 "nbformat_minor": 5
}
