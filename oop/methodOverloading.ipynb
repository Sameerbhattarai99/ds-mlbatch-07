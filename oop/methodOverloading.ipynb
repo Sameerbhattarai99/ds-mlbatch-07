{
 "cells": [
  {
   "cell_type": "markdown",
   "id": "2bab41da-8ee7-4901-9784-8fbddf88207e",
   "metadata": {},
   "source": [
    "## method overloading\n"
   ]
  },
  {
   "cell_type": "code",
   "execution_count": 2,
   "id": "6e6fdc2e-56c2-4638-a6bd-47c71b3696e5",
   "metadata": {},
   "outputs": [],
   "source": [
    "class Example:\n",
    "    def add (self,a,b=0 ,c=0):\n",
    "        return a+b+c # euta 2 oota 3 oota arguments farak ligna paiyo tei bayera"
   ]
  },
  {
   "cell_type": "markdown",
   "id": "81742437-4ee0-44a5-9933-68deff46fda1",
   "metadata": {},
   "source": [
    "same name but different parameters"
   ]
  },
  {
   "cell_type": "code",
   "execution_count": null,
   "id": "22679b1b-2e7e-4918-82a7-d221a24e7b59",
   "metadata": {},
   "outputs": [],
   "source": []
  },
  {
   "cell_type": "code",
   "execution_count": null,
   "id": "14f8d684-3e61-41cf-8dc3-270b2cb0a3d7",
   "metadata": {},
   "outputs": [],
   "source": []
  }
 ],
 "metadata": {
  "kernelspec": {
   "display_name": "Python 3 (ipykernel)",
   "language": "python",
   "name": "python3"
  },
  "language_info": {
   "codemirror_mode": {
    "name": "ipython",
    "version": 3
   },
   "file_extension": ".py",
   "mimetype": "text/x-python",
   "name": "python",
   "nbconvert_exporter": "python",
   "pygments_lexer": "ipython3",
   "version": "3.8.10"
  }
 },
 "nbformat": 4,
 "nbformat_minor": 5
}
