{
 "cells": [
  {
   "cell_type": "markdown",
   "id": "f8aa704e-2a6c-4be8-9eae-1a3ade388004",
   "metadata": {},
   "source": [
    "# object oriented programming"
   ]
  },
  {
   "cell_type": "code",
   "execution_count": null,
   "id": "b83cbdb8-1604-4463-87c4-677f5a300389",
   "metadata": {},
   "outputs": [],
   "source": []
  },
  {
   "cell_type": "markdown",
   "id": "5fe09ca8-71fc-4b57-95de-59e7e91cdc82",
   "metadata": {},
   "source": [
    "## class and objects"
   ]
  },
  {
   "cell_type": "markdown",
   "id": "d17a258f-5bbb-40bb-9570-3d9af26a6f70",
   "metadata": {},
   "source": [
    "class syntax\n",
    "``` python\n",
    "class ClassName : \n",
    "        def methods:"
   ]
  },
  {
   "cell_type": "code",
   "execution_count": 7,
   "id": "f4277b3e-b410-4d76-b1e5-ba3d09e301ff",
   "metadata": {},
   "outputs": [],
   "source": [
    "class Calculator :\n",
    "    def __init__(self , num1 ,num2):\n",
    "        self.num1 = num1\n",
    "        self.num2 = num2\n",
    "\n",
    "    def sum(self):\n",
    "        return self.num1 + self.num2\n",
    "\n",
    "    def sub(self) :\n",
    "        return self.num1 - self.num2\n",
    "        \n",
    "    def mul(self):\n",
    "        return self.num1 * self.num2"
   ]
  },
  {
   "cell_type": "code",
   "execution_count": 2,
   "id": "078c2cdf-e78e-4590-98b0-240a3886b88e",
   "metadata": {},
   "outputs": [],
   "source": [
    "#oobject is cal_obj\n",
    "cal_obj = Calculator(10,4)"
   ]
  },
  {
   "cell_type": "code",
   "execution_count": 4,
   "id": "96d6729f-b66f-41bf-af1e-ba93008046e8",
   "metadata": {},
   "outputs": [
    {
     "data": {
      "text/plain": [
       "__main__.Calculator"
      ]
     },
     "execution_count": 4,
     "metadata": {},
     "output_type": "execute_result"
    }
   ],
   "source": [
    "type(cal_obj)"
   ]
  },
  {
   "cell_type": "code",
   "execution_count": 5,
   "id": "09656228-9304-4bf5-90b1-aadb387c2257",
   "metadata": {},
   "outputs": [
    {
     "data": {
      "text/plain": [
       "14"
      ]
     },
     "execution_count": 5,
     "metadata": {},
     "output_type": "execute_result"
    }
   ],
   "source": [
    "cal_obj.sum()"
   ]
  },
  {
   "cell_type": "code",
   "execution_count": 6,
   "id": "3112fdc6-9a99-436b-bd2f-6bacbbde1c4c",
   "metadata": {},
   "outputs": [
    {
     "data": {
      "text/plain": [
       "31"
      ]
     },
     "execution_count": 6,
     "metadata": {},
     "output_type": "execute_result"
    }
   ],
   "source": [
    "cal_obj2 = Calculator(22,9)\n",
    "cal_obj2.sum()"
   ]
  },
  {
   "cell_type": "markdown",
   "id": "ac5d0549-5714-49ed-91f7-0c35800eb7e5",
   "metadata": {},
   "source": [
    "\n",
    "## attribute\n",
    "### class attribute\n",
    "### object attribute"
   ]
  },
  {
   "cell_type": "markdown",
   "id": "7bf5ad67-7a98-43d2-8c94-6bbb690e3eba",
   "metadata": {},
   "source": [
    "\n",
    "## methods\n"
   ]
  },
  {
   "cell_type": "markdown",
   "id": "0742a481-251f-4dd0-bb62-1ace3cf2e9f2",
   "metadata": {},
   "source": [
    "### instance method\n",
    "### class method\n",
    "### static method"
   ]
  },
  {
   "cell_type": "code",
   "execution_count": 20,
   "id": "c81ae5ec-1af7-4b50-a430-ce17b2b449ee",
   "metadata": {},
   "outputs": [],
   "source": [
    "class Person:\n",
    "    count = 0  # class attribute\n",
    "\n",
    "    def __init__(self, name: str, address: str = \"kathmandu\"): # constructor\n",
    "        self.name = name\n",
    "        self.address = address\n",
    "        Person.count += 1\n",
    "\n",
    "    def get_details(self):  # instance method\n",
    "        print(f\"I am {self.name} from {self.address}\")\n",
    "\n",
    "    @classmethod # classmethod\n",
    "    def get_count(cls):\n",
    "        return cls.count\n",
    "\n",
    "    @staticmethod\n",
    "    def create_fullname(firstname, lastname):\n",
    "        return f\"{lastname}, {firstname}\"\n",
    "\n",
    "            "
   ]
  },
  {
   "cell_type": "code",
   "execution_count": 21,
   "id": "1419b40a-1f6b-4f4e-a2b7-2effc230b2f0",
   "metadata": {},
   "outputs": [],
   "source": [
    "student1 = Person(\"sameer\")\n"
   ]
  },
  {
   "cell_type": "code",
   "execution_count": 22,
   "id": "040f3966-fafc-4357-9146-33d8ff52a8fd",
   "metadata": {},
   "outputs": [],
   "source": [
    "student2 = Person(\"reason\"  , \"ktm\")"
   ]
  },
  {
   "cell_type": "code",
   "execution_count": 23,
   "id": "e12e6b49-1735-4ac6-add2-808ebdddbec4",
   "metadata": {},
   "outputs": [
    {
     "name": "stdout",
     "output_type": "stream",
     "text": [
      "I am sameer from kathmandu\n"
     ]
    }
   ],
   "source": [
    "student1.get_details()"
   ]
  },
  {
   "cell_type": "code",
   "execution_count": null,
   "id": "dadd1adf-ccd0-4705-b738-56a3c4eefca7",
   "metadata": {},
   "outputs": [],
   "source": [
    "\n",
    "\n"
   ]
  },
  {
   "cell_type": "code",
   "execution_count": null,
   "id": "01ae93ae-af43-4328-bb9a-b5359dadf48f",
   "metadata": {},
   "outputs": [],
   "source": []
  },
  {
   "cell_type": "markdown",
   "id": "5a1ef17c-a3a9-460a-9406-b12b26330531",
   "metadata": {},
   "source": [
    "# library class with student and department"
   ]
  },
  {
   "cell_type": "code",
   "execution_count": 24,
   "id": "df94696d-0ae4-4f2f-9547-d75d9ac404a7",
   "metadata": {},
   "outputs": [],
   "source": [
    "books = [\n",
    "            (\"The Alchemist\", 25),\n",
    "            (\"The Da Vinci Code\", 30),\n",
    "            (\"A Brief History of Time\", 15),\n",
    "            (\"Angels & Demons\", 0),\n",
    "            (\"The Grand Design\", 0),\n",
    "            (\"1984\", 19)\n",
    "        ]"
   ]
  },
  {
   "cell_type": "code",
   "execution_count": 40,
   "id": "34e078dc-c794-4791-9e82-8e3c2192a4f4",
   "metadata": {},
   "outputs": [],
   "source": [
    "class Library:\n",
    "    \n",
    "    \n",
    "    def __init__(self, name, depart=\"maths\"):\n",
    "        self.name = name\n",
    "        self.depart = depart\n",
    "        self.books =  [\n",
    "            (\"The Alchemist\", 25),\n",
    "            (\"The Da Vinci Code\", 30),\n",
    "            (\"A Brief History of Time\", 15),\n",
    "            (\"Angels & Demons\", 8),\n",
    "            (\"The Grand Design\", 0),\n",
    "            (\"1984\", 19)\n",
    "        ]\n",
    "        \n",
    "\n",
    "    def can_borrow(self,book_name):\n",
    "        book_name = book_name.lower()\n",
    "        for name , amount in self.books :\n",
    "            if name.lower () == book_name and amount > 0 :\n",
    "                return f\"Can borrow\"\n",
    "\n",
    "        return \"cant borrow\"\n",
    "        \n",
    "        \n",
    "        "
   ]
  },
  {
   "cell_type": "code",
   "execution_count": 41,
   "id": "b6908f85-b5da-4a4a-bb49-ac64500fa978",
   "metadata": {},
   "outputs": [
    {
     "data": {
      "text/plain": [
       "'Can borrow'"
      ]
     },
     "execution_count": 41,
     "metadata": {},
     "output_type": "execute_result"
    }
   ],
   "source": [
    "student1 = Library(\"ram\" ,\"cse\")\n",
    "student1.can_borrow(\"Angels & Demons\")"
   ]
  },
  {
   "cell_type": "code",
   "execution_count": null,
   "id": "651e0f04-fae3-41cc-8998-d506a83a24f5",
   "metadata": {},
   "outputs": [],
   "source": [
    "\n"
   ]
  },
  {
   "cell_type": "code",
   "execution_count": 74,
   "id": "3b2d3741-5c80-4e92-b1d6-53d7e06c0d1b",
   "metadata": {},
   "outputs": [],
   "source": [
    "class StudentResult :\n",
    "    def __init__(self,name : str,marks:list) :\n",
    "        self.name = name\n",
    "        self.marks = marks\n",
    "        self.subjects = len(self.marks)\n",
    "\n",
    "    def total(self):\n",
    "        return sum(self.marks)\n",
    "\n",
    "    def average(self):\n",
    "        return self.total()/self.subjects\n",
    "\n",
    "    def display(self):\n",
    "        print( f\"{self.name} has {self.total()} and {self.average()}\")"
   ]
  },
  {
   "cell_type": "code",
   "execution_count": 75,
   "id": "57fde6c3-ce35-4102-94c6-688fa51d3883",
   "metadata": {},
   "outputs": [],
   "source": [
    "student1 = StudentResult(\"ram\",[1,2,3,4,5,6])"
   ]
  },
  {
   "cell_type": "code",
   "execution_count": 76,
   "id": "bb99b3a0-0090-4674-bdcc-01595edf7bdd",
   "metadata": {},
   "outputs": [
    {
     "name": "stdout",
     "output_type": "stream",
     "text": [
      "ram has 21 and 3.5\n"
     ]
    }
   ],
   "source": [
    "student1.display()"
   ]
  },
  {
   "cell_type": "code",
   "execution_count": null,
   "id": "5fca7f7e-4395-4aa3-beed-335becba69df",
   "metadata": {},
   "outputs": [],
   "source": []
  },
  {
   "cell_type": "code",
   "execution_count": null,
   "id": "340b5c22-3dd9-46c8-9632-831f9058177a",
   "metadata": {},
   "outputs": [],
   "source": []
  }
 ],
 "metadata": {
  "kernelspec": {
   "display_name": "Python 3 (ipykernel)",
   "language": "python",
   "name": "python3"
  },
  "language_info": {
   "codemirror_mode": {
    "name": "ipython",
    "version": 3
   },
   "file_extension": ".py",
   "mimetype": "text/x-python",
   "name": "python",
   "nbconvert_exporter": "python",
   "pygments_lexer": "ipython3",
   "version": "3.8.10"
  }
 },
 "nbformat": 4,
 "nbformat_minor": 5
}
