{
 "cells": [
  {
   "cell_type": "markdown",
   "id": "550895a3-bf8c-4a5b-970e-3d8fd04754be",
   "metadata": {},
   "source": [
    "# abstraction"
   ]
  },
  {
   "cell_type": "code",
   "execution_count": 1,
   "id": "69194887-d777-4a26-a2d3-87a9c263dcf1",
   "metadata": {},
   "outputs": [],
   "source": [
    "from abc import ABC, abstractmethod\n",
    "\n",
    "class Shape(ABC):\n",
    "\n",
    "    @abstractmethod\n",
    "    def area(self):\n",
    "        pass \n",
    "\n",
    "    def volume(self):\n",
    "        return\"not applicable for shapes\""
   ]
  },
  {
   "cell_type": "code",
   "execution_count": 2,
   "id": "bf5aa3dd-5e4f-450e-8d50-85aeedcf5e2d",
   "metadata": {},
   "outputs": [
    {
     "ename": "TypeError",
     "evalue": "Can't instantiate abstract class Shape with abstract methods area",
     "output_type": "error",
     "traceback": [
      "\u001b[1;31m---------------------------------------------------------------------------\u001b[0m",
      "\u001b[1;31mTypeError\u001b[0m                                 Traceback (most recent call last)",
      "Cell \u001b[1;32mIn[2], line 1\u001b[0m\n\u001b[1;32m----> 1\u001b[0m shape \u001b[38;5;241m=\u001b[39m \u001b[43mShape\u001b[49m\u001b[43m(\u001b[49m\u001b[43m)\u001b[49m\n",
      "\u001b[1;31mTypeError\u001b[0m: Can't instantiate abstract class Shape with abstract methods area"
     ]
    }
   ],
   "source": [
    "shape = Shape()"
   ]
  },
  {
   "cell_type": "code",
   "execution_count": 4,
   "id": "db01b8ca-4490-45b0-9770-0be5e84f71aa",
   "metadata": {},
   "outputs": [],
   "source": [
    "class Rectangle(Shape):\n",
    "    def __init__(self,width,length):\n",
    "        self.w = width\n",
    "        self.l = length\n",
    "\n",
    "    def area(self):\n",
    "        return self.w*self.l"
   ]
  },
  {
   "cell_type": "code",
   "execution_count": 5,
   "id": "d15068a0-d816-424c-bbea-6d33575abe2f",
   "metadata": {},
   "outputs": [],
   "source": [
    "rect = Rectangle(20,30)\n"
   ]
  },
  {
   "cell_type": "code",
   "execution_count": 6,
   "id": "cbaf4f08-cb87-43a0-8149-591429361059",
   "metadata": {},
   "outputs": [
    {
     "data": {
      "text/plain": [
       "600"
      ]
     },
     "execution_count": 6,
     "metadata": {},
     "output_type": "execute_result"
    }
   ],
   "source": [
    "rect.area()"
   ]
  },
  {
   "cell_type": "code",
   "execution_count": 7,
   "id": "4cd2bf62-6744-49f2-9083-9ffabdc3055f",
   "metadata": {},
   "outputs": [
    {
     "data": {
      "text/plain": [
       "'not applicable for shapes'"
      ]
     },
     "execution_count": 7,
     "metadata": {},
     "output_type": "execute_result"
    }
   ],
   "source": [
    "rect.volume()"
   ]
  },
  {
   "cell_type": "code",
   "execution_count": 12,
   "id": "ba4b1d7e-47ec-4b99-afb0-2e89588e7713",
   "metadata": {},
   "outputs": [],
   "source": [
    "class Cuboid(Shape):\n",
    "    def __init__(self,width,length,height):\n",
    "        self.w = width\n",
    "        self.l = length\n",
    "        self.h = height\n",
    "\n",
    "    def area(self):\n",
    "        return 2*(self.w*self.l+self.w*self.h+self.l*self.h)\n",
    "\n",
    "    def volume(self):\n",
    "        return self.w*self.l*self.h"
   ]
  },
  {
   "cell_type": "code",
   "execution_count": 13,
   "id": "a68ed32e-daf7-4ed8-8325-794b51b69aa2",
   "metadata": {},
   "outputs": [],
   "source": [
    "cub = Cuboid(20,30,40)"
   ]
  },
  {
   "cell_type": "code",
   "execution_count": 14,
   "id": "45b4e67d-9d58-4203-9286-2601e0effac8",
   "metadata": {},
   "outputs": [
    {
     "data": {
      "text/plain": [
       "5200"
      ]
     },
     "execution_count": 14,
     "metadata": {},
     "output_type": "execute_result"
    }
   ],
   "source": [
    "cub.area()"
   ]
  },
  {
   "cell_type": "code",
   "execution_count": 15,
   "id": "433480f6-3197-43a8-b3f2-0006b562d2a0",
   "metadata": {},
   "outputs": [
    {
     "data": {
      "text/plain": [
       "24000"
      ]
     },
     "execution_count": 15,
     "metadata": {},
     "output_type": "execute_result"
    }
   ],
   "source": [
    "cub.volume()"
   ]
  },
  {
   "cell_type": "code",
   "execution_count": null,
   "id": "1daf9e97-b4f4-4291-9b45-04830c2b5898",
   "metadata": {},
   "outputs": [],
   "source": []
  }
 ],
 "metadata": {
  "kernelspec": {
   "display_name": "Python 3 (ipykernel)",
   "language": "python",
   "name": "python3"
  },
  "language_info": {
   "codemirror_mode": {
    "name": "ipython",
    "version": 3
   },
   "file_extension": ".py",
   "mimetype": "text/x-python",
   "name": "python",
   "nbconvert_exporter": "python",
   "pygments_lexer": "ipython3",
   "version": "3.8.10"
  }
 },
 "nbformat": 4,
 "nbformat_minor": 5
}
