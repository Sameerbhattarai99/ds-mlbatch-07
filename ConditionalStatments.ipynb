{
 "cells": [
  {
   "cell_type": "markdown",
   "id": "dfd76b20-6093-47b7-b2da-1c61bb0da2cd",
   "metadata": {},
   "source": [
    "## If else"
   ]
  },
  {
   "cell_type": "markdown",
   "id": "480faa33-c4f0-4876-a57c-6eb2f6107e85",
   "metadata": {},
   "source": [
    "if statment:\n",
    "    do something\n",
    "    "
   ]
  },
  {
   "cell_type": "code",
   "execution_count": 1,
   "id": "d142f993-e682-4497-8bd6-e24eb0a3e7ef",
   "metadata": {},
   "outputs": [
    {
     "name": "stdout",
     "output_type": "stream",
     "text": [
      "inside if block\n",
      "55 is greater than 0\n",
      "outside if block\n"
     ]
    }
   ],
   "source": [
    "x = 55\n",
    "\n",
    "if x > 0:\n",
    "    print(\"inside if block\")\n",
    "    print(f\"{x} is greater than 0\")\n",
    "    \n",
    "print(\"outside if block\")"
   ]
  },
  {
   "cell_type": "code",
   "execution_count": null,
   "id": "82d8bdb3-3ca4-498f-9859-1f52709c7535",
   "metadata": {},
   "outputs": [],
   "source": [
    "\n"
   ]
  },
  {
   "cell_type": "code",
   "execution_count": 4,
   "id": "a0fbed4c-744c-48f8-b698-62ec0011bce0",
   "metadata": {},
   "outputs": [],
   "source": [
    "x = 5\n",
    "y = -5\n",
    "\n",
    "if x > 0 and y > 0:\n",
    "    print(\"both are positivee\")"
   ]
  },
  {
   "cell_type": "markdown",
   "id": "13cffa18-de18-4232-a97a-01e41974c6dc",
   "metadata": {},
   "source": [
    "## Else"
   ]
  },
  {
   "cell_type": "code",
   "execution_count": 5,
   "id": "3deefefe-0067-42ae-a96d-e5c955787d30",
   "metadata": {},
   "outputs": [
    {
     "name": "stdout",
     "output_type": "stream",
     "text": [
      "odd\n"
     ]
    }
   ],
   "source": [
    "x = 33\n",
    "if x % 2 ==0:\n",
    "    print(\"even\")\n",
    "else:\n",
    "    print(\"odd\")"
   ]
  },
  {
   "cell_type": "code",
   "execution_count": 11,
   "id": "4ed5bbd0-f493-4894-b671-65fd51b1f484",
   "metadata": {},
   "outputs": [
    {
     "name": "stdout",
     "output_type": "stream",
     "text": [
      "palindrome\n"
     ]
    }
   ],
   "source": [
    " x = \"madam\"\n",
    "if x[::-1] == x:\n",
    "    print(\"palindrome\")\n",
    "else:\n",
    "    print(\"not palindrome\")"
   ]
  },
  {
   "cell_type": "markdown",
   "id": "f99363d5-9782-4e6b-b2aa-b21eedd1291a",
   "metadata": {},
   "source": [
    "## elif"
   ]
  },
  {
   "cell_type": "code",
   "execution_count": 12,
   "id": "5ccc37a3-371d-42e1-9e60-53e79d72cf66",
   "metadata": {},
   "outputs": [
    {
     "name": "stdout",
     "output_type": "stream",
     "text": [
      "x is positive\n"
     ]
    }
   ],
   "source": [
    "x = 6\n",
    "\n",
    "if x<0:\n",
    "    print(\"x is negative\")\n",
    "elif x>0:\n",
    "    print(\"x is positive\")\n",
    "else:\n",
    "    print(\"x is 0\")"
   ]
  },
  {
   "cell_type": "code",
   "execution_count": 17,
   "id": "b47508cc-ea11-4f34-8f06-c0a10f1c2dea",
   "metadata": {},
   "outputs": [],
   "source": [
    "x=82"
   ]
  },
  {
   "cell_type": "code",
   "execution_count": 21,
   "id": "bf2aa904-913b-412f-92e2-c99c4878882b",
   "metadata": {},
   "outputs": [
    {
     "name": "stdout",
     "output_type": "stream",
     "text": [
      "grade b\n"
     ]
    }
   ],
   "source": [
    "x= 70\n",
    "if x>= 80:\n",
    "    print(\"grade a\")\n",
    "elif x >=60:\n",
    "    print(\"grade b\")\n",
    "elif x >=40:\n",
    "    print(\"grade c\")\n",
    "else :\n",
    "    print (\"grade D\")\n",
    "    \n"
   ]
  },
  {
   "cell_type": "code",
   "execution_count": null,
   "id": "5eb5cc97-7032-4541-b82d-c17aec1d2d44",
   "metadata": {},
   "outputs": [],
   "source": [
    "\n",
    "\n"
   ]
  },
  {
   "cell_type": "markdown",
   "id": "7220ef88-487a-4f40-a243-c239561d10cd",
   "metadata": {},
   "source": [
    "### nested if else"
   ]
  },
  {
   "cell_type": "code",
   "execution_count": 24,
   "id": "1611d150-d506-4649-9610-bdd0c6f7241b",
   "metadata": {},
   "outputs": [
    {
     "name": "stdout",
     "output_type": "stream",
     "text": [
      "grade other\n"
     ]
    }
   ],
   "source": [
    "grade = 50\n",
    "if grade > 0 :\n",
    "    if grade > 80:\n",
    "        print(\"grade a\")\n",
    "    else :\n",
    "        print(\"grade other\")\n",
    "else:\n",
    "    print(\"enter positive value\")\n",
    "    "
   ]
  },
  {
   "cell_type": "code",
   "execution_count": null,
   "id": "67656156-de5b-46a8-85b9-165bafd34e3d",
   "metadata": {},
   "outputs": [],
   "source": []
  }
 ],
 "metadata": {
  "kernelspec": {
   "display_name": "Python 3 (ipykernel)",
   "language": "python",
   "name": "python3"
  },
  "language_info": {
   "codemirror_mode": {
    "name": "ipython",
    "version": 3
   },
   "file_extension": ".py",
   "mimetype": "text/x-python",
   "name": "python",
   "nbconvert_exporter": "python",
   "pygments_lexer": "ipython3",
   "version": "3.8.10"
  }
 },
 "nbformat": 4,
 "nbformat_minor": 5
}
