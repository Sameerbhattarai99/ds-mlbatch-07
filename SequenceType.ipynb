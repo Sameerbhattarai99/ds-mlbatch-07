{
 "cells": [
  {
   "cell_type": "markdown",
   "id": "edce13bf-71a3-4d07-9719-08db42a689dc",
   "metadata": {},
   "source": [
    "## Python sequence types"
   ]
  },
  {
   "cell_type": "markdown",
   "id": "ad4597de-f9e1-4ed5-83ec-f192265e4737",
   "metadata": {},
   "source": [
    "## list"
   ]
  },
  {
   "cell_type": "code",
   "execution_count": 1,
   "id": "5b22cbe8-4527-4b02-828b-9b14c618e226",
   "metadata": {},
   "outputs": [],
   "source": [
    "prime = [1,3,5,7,11,13,17,19,23,29]\n"
   ]
  },
  {
   "cell_type": "code",
   "execution_count": 3,
   "id": "9b163320-f36d-4b83-811b-ddaf06d274ba",
   "metadata": {},
   "outputs": [
    {
     "data": {
      "text/plain": [
       "list"
      ]
     },
     "execution_count": 3,
     "metadata": {},
     "output_type": "execute_result"
    }
   ],
   "source": [
    "type(prime)"
   ]
  },
  {
   "cell_type": "code",
   "execution_count": 4,
   "id": "e02fb2b4-ea93-4236-bf8f-37397b90a073",
   "metadata": {},
   "outputs": [],
   "source": [
    "z = [\"apple\" , 1 ,\"one\" , 3]"
   ]
  },
  {
   "cell_type": "code",
   "execution_count": 5,
   "id": "a6a82ba3-13d8-4b0d-bd7a-126ed93d303e",
   "metadata": {},
   "outputs": [
    {
     "data": {
      "text/plain": [
       "['apple', 1, 'one', 3]"
      ]
     },
     "execution_count": 5,
     "metadata": {},
     "output_type": "execute_result"
    }
   ],
   "source": [
    "z"
   ]
  },
  {
   "cell_type": "code",
   "execution_count": 6,
   "id": "94bc7744-7b68-4385-82de-ab6b431a81b0",
   "metadata": {},
   "outputs": [
    {
     "data": {
      "text/plain": [
       "4"
      ]
     },
     "execution_count": 6,
     "metadata": {},
     "output_type": "execute_result"
    }
   ],
   "source": [
    "len(z)"
   ]
  },
  {
   "cell_type": "markdown",
   "id": "7cbc5ccb-c34b-4fee-b391-25d607002474",
   "metadata": {},
   "source": [
    "## accessing list items"
   ]
  },
  {
   "cell_type": "code",
   "execution_count": 7,
   "id": "7e340f22-2385-482c-acab-6dac773e290a",
   "metadata": {},
   "outputs": [
    {
     "data": {
      "text/plain": [
       "'apple'"
      ]
     },
     "execution_count": 7,
     "metadata": {},
     "output_type": "execute_result"
    }
   ],
   "source": [
    "z[0]"
   ]
  },
  {
   "cell_type": "code",
   "execution_count": 8,
   "id": "1445978f-505f-492d-b71c-b468d537a105",
   "metadata": {},
   "outputs": [
    {
     "data": {
      "text/plain": [
       "3"
      ]
     },
     "execution_count": 8,
     "metadata": {},
     "output_type": "execute_result"
    }
   ],
   "source": [
    "z[-1]"
   ]
  },
  {
   "cell_type": "markdown",
   "id": "32a43d86-567e-4893-b459-7e273c4c9889",
   "metadata": {},
   "source": [
    "## slicing"
   ]
  },
  {
   "cell_type": "code",
   "execution_count": 12,
   "id": "30408dc7-3ab0-485d-bffc-41636498539b",
   "metadata": {},
   "outputs": [
    {
     "data": {
      "text/plain": [
       "[5, 11, 17]"
      ]
     },
     "execution_count": 12,
     "metadata": {},
     "output_type": "execute_result"
    }
   ],
   "source": [
    "prime[2:7:2]"
   ]
  },
  {
   "cell_type": "markdown",
   "id": "84600eef-deeb-45a3-939b-544078c1db8c",
   "metadata": {},
   "source": [
    "## modifying"
   ]
  },
  {
   "cell_type": "code",
   "execution_count": 13,
   "id": "5f812a82-bea1-4714-bcc6-2ea5c987d1b4",
   "metadata": {},
   "outputs": [],
   "source": [
    "z = [\"apple\" , 1 ,\"one\" , 3,\"45john\"]"
   ]
  },
  {
   "cell_type": "code",
   "execution_count": 16,
   "id": "16c2c98b-5ff4-4134-9641-faa37d4f0158",
   "metadata": {},
   "outputs": [],
   "source": [
    "z[4]=\"john\""
   ]
  },
  {
   "cell_type": "code",
   "execution_count": 17,
   "id": "0a40df77-7c55-4a86-80b4-66df2fb8dbbc",
   "metadata": {},
   "outputs": [
    {
     "data": {
      "text/plain": [
       "['apple', 1, 'one', 3, 'john']"
      ]
     },
     "execution_count": 17,
     "metadata": {},
     "output_type": "execute_result"
    }
   ],
   "source": [
    "z"
   ]
  },
  {
   "cell_type": "code",
   "execution_count": 18,
   "id": "3874e6ab-228e-4a4c-b917-a1b4857bcd36",
   "metadata": {},
   "outputs": [],
   "source": [
    "z.append(66) # add item in end of list"
   ]
  },
  {
   "cell_type": "code",
   "execution_count": 20,
   "id": "7e1f1bed-80f8-4137-a3d4-3be41dbac36d",
   "metadata": {},
   "outputs": [
    {
     "name": "stdout",
     "output_type": "stream",
     "text": [
      "['apple', 1, 'one', 3, 'john', 66]\n"
     ]
    }
   ],
   "source": [
    "print(z)"
   ]
  },
  {
   "cell_type": "code",
   "execution_count": 21,
   "id": "4447c3f6-2f2f-4eaf-9d79-297c54141d40",
   "metadata": {},
   "outputs": [],
   "source": [
    "z.insert(1,\"cow\") # not ussed to much as insert kaha kahela garne thaha hunna"
   ]
  },
  {
   "cell_type": "code",
   "execution_count": 22,
   "id": "d7a20363-17f9-4e28-bbce-7a77c4c306fe",
   "metadata": {},
   "outputs": [
    {
     "name": "stdout",
     "output_type": "stream",
     "text": [
      "['apple', 'cow', 1, 'one', 3, 'john', 66]\n"
     ]
    }
   ],
   "source": [
    "print(z)"
   ]
  },
  {
   "cell_type": "code",
   "execution_count": 23,
   "id": "0cf8c1a3-4566-4f5e-a934-24b108157c5d",
   "metadata": {},
   "outputs": [],
   "source": [
    "z.remove(66) # multiple xa bane first ma aaune hatxa "
   ]
  },
  {
   "cell_type": "code",
   "execution_count": 24,
   "id": "bd949d3a-b433-4bd3-87b4-93258ce5bc4f",
   "metadata": {},
   "outputs": [
    {
     "name": "stdout",
     "output_type": "stream",
     "text": [
      "['apple', 'cow', 1, 'one', 3, 'john']\n"
     ]
    }
   ],
   "source": [
    "print(z)"
   ]
  },
  {
   "cell_type": "code",
   "execution_count": 29,
   "id": "145f7c85-6fae-49c0-b856-fad88307e8d7",
   "metadata": {},
   "outputs": [
    {
     "data": {
      "text/plain": [
       "'cow'"
      ]
     },
     "execution_count": 29,
     "metadata": {},
     "output_type": "execute_result"
    }
   ],
   "source": [
    "z.pop(0)"
   ]
  },
  {
   "cell_type": "code",
   "execution_count": 30,
   "id": "1a044957-731b-466b-9bc7-2b858036718b",
   "metadata": {},
   "outputs": [
    {
     "data": {
      "text/plain": [
       "['one']"
      ]
     },
     "execution_count": 30,
     "metadata": {},
     "output_type": "execute_result"
    }
   ],
   "source": [
    "z"
   ]
  },
  {
   "cell_type": "code",
   "execution_count": 31,
   "id": "8d020a6c-f45d-4c48-a03c-cf96f83f807b",
   "metadata": {},
   "outputs": [],
   "source": [
    "z.clear()"
   ]
  },
  {
   "cell_type": "code",
   "execution_count": 32,
   "id": "18d67d82-9006-4aa1-aa07-6e214c92d4bb",
   "metadata": {},
   "outputs": [
    {
     "name": "stdout",
     "output_type": "stream",
     "text": [
      "[]\n"
     ]
    }
   ],
   "source": [
    "print(z)"
   ]
  },
  {
   "cell_type": "code",
   "execution_count": 33,
   "id": "0defab62-f4ee-47e6-a5f0-a32506af1aec",
   "metadata": {},
   "outputs": [],
   "source": [
    "name = [\"hari\",\"ram\",\"shyam\"]"
   ]
  },
  {
   "cell_type": "code",
   "execution_count": 34,
   "id": "a4029bf1-ceb7-450b-904f-d09d05f48da7",
   "metadata": {},
   "outputs": [],
   "source": [
    "name_new = name"
   ]
  },
  {
   "cell_type": "code",
   "execution_count": 35,
   "id": "29628f57-b7d3-46a5-9186-c584146409ce",
   "metadata": {},
   "outputs": [
    {
     "data": {
      "text/plain": [
       "['hari', 'ram', 'shyam']"
      ]
     },
     "execution_count": 35,
     "metadata": {},
     "output_type": "execute_result"
    }
   ],
   "source": [
    "name_new"
   ]
  },
  {
   "cell_type": "code",
   "execution_count": 36,
   "id": "3ac1c26f-d41c-4de4-9c80-ca7928183233",
   "metadata": {},
   "outputs": [],
   "source": [
    "name_new.append(\"krishna\")"
   ]
  },
  {
   "cell_type": "code",
   "execution_count": 37,
   "id": "3af55ef0-54b2-40d9-be26-1e76ad619d3c",
   "metadata": {},
   "outputs": [
    {
     "data": {
      "text/plain": [
       "['hari', 'ram', 'shyam', 'krishna']"
      ]
     },
     "execution_count": 37,
     "metadata": {},
     "output_type": "execute_result"
    }
   ],
   "source": [
    "name_new"
   ]
  },
  {
   "cell_type": "code",
   "execution_count": 39,
   "id": "0c5d2bc4-b5fc-49aa-a6d6-355826698fea",
   "metadata": {},
   "outputs": [
    {
     "data": {
      "text/plain": [
       "['hari', 'ram', 'shyam', 'krishna']"
      ]
     },
     "execution_count": 39,
     "metadata": {},
     "output_type": "execute_result"
    }
   ],
   "source": [
    "name # name ma call by memory bayera name matra call garda ni name_new ma bayesi 2 oota ma jun value change gare ni same hunxa"
   ]
  },
  {
   "cell_type": "markdown",
   "id": "4096867a-73fe-4c52-8fcf-c9040311e41d",
   "metadata": {},
   "source": [
    "## list method"
   ]
  },
  {
   "cell_type": "code",
   "execution_count": 44,
   "id": "81f2a025-3286-4296-b31b-06ab218c6879",
   "metadata": {},
   "outputs": [],
   "source": [
    "mylist = [1,4,2,31,21,1,3]"
   ]
  },
  {
   "cell_type": "code",
   "execution_count": 45,
   "id": "43c1ea69-e689-465e-8102-f6902d5d5603",
   "metadata": {},
   "outputs": [
    {
     "name": "stdout",
     "output_type": "stream",
     "text": [
      "[1, 4, 2, 31, 21, 1, 3]\n"
     ]
    }
   ],
   "source": [
    "print(mylist)"
   ]
  },
  {
   "cell_type": "code",
   "execution_count": 46,
   "id": "6d6c4f1d-78ba-467e-acc0-bc039ee983a9",
   "metadata": {},
   "outputs": [],
   "source": [
    "mylist.sort()"
   ]
  },
  {
   "cell_type": "code",
   "execution_count": 56,
   "id": "de1cb711-b23c-4674-8e4a-76b783d1968d",
   "metadata": {},
   "outputs": [
    {
     "name": "stdout",
     "output_type": "stream",
     "text": [
      "[1, 1, 2, 3, 4, 21, 31]\n"
     ]
    }
   ],
   "source": [
    "print(mylist)\n"
   ]
  },
  {
   "cell_type": "code",
   "execution_count": 52,
   "id": "7bb6c835-c842-4245-b1bd-e3661e946145",
   "metadata": {},
   "outputs": [],
   "source": [
    "mylist.sort(reverse = True) # descending order ma sort"
   ]
  },
  {
   "cell_type": "code",
   "execution_count": 53,
   "id": "e8ae5308-4907-4f4b-bccd-d41cda4de0f7",
   "metadata": {},
   "outputs": [
    {
     "name": "stdout",
     "output_type": "stream",
     "text": [
      "[31, 21, 4, 3, 2, 1, 1]\n"
     ]
    }
   ],
   "source": [
    "print(mylist)"
   ]
  },
  {
   "cell_type": "code",
   "execution_count": 54,
   "id": "f924d525-b2a9-429f-aa38-83180d52f92d",
   "metadata": {},
   "outputs": [],
   "source": [
    "mylist.reverse()"
   ]
  },
  {
   "cell_type": "code",
   "execution_count": 55,
   "id": "786bcc40-4fcc-43a8-a5a8-2680628dfaab",
   "metadata": {},
   "outputs": [
    {
     "name": "stdout",
     "output_type": "stream",
     "text": [
      "[1, 1, 2, 3, 4, 21, 31]\n"
     ]
    }
   ],
   "source": [
    "print(mylist)"
   ]
  },
  {
   "cell_type": "code",
   "execution_count": null,
   "id": "79bd1e64-7806-487e-af78-efa00fc19b88",
   "metadata": {},
   "outputs": [],
   "source": []
  },
  {
   "cell_type": "markdown",
   "id": "c7b5f356-4368-4da8-91a1-5af07668fce1",
   "metadata": {},
   "source": [
    "## Tuples"
   ]
  },
  {
   "cell_type": "code",
   "execution_count": 57,
   "id": "a0b50f77-722b-4025-ab46-9c2f36865fca",
   "metadata": {},
   "outputs": [],
   "source": [
    "# list ma change garna milxa tara tuple mildaina main difference"
   ]
  },
  {
   "cell_type": "code",
   "execution_count": 58,
   "id": "224ad7a5-7d90-4c7a-b427-e7fb80d3794a",
   "metadata": {},
   "outputs": [],
   "source": [
    "mytuple = (720,1280,66)"
   ]
  },
  {
   "cell_type": "code",
   "execution_count": 59,
   "id": "854b61d8-aa31-4ecd-9302-5ef7c072085d",
   "metadata": {},
   "outputs": [
    {
     "name": "stdout",
     "output_type": "stream",
     "text": [
      "(720, 1280, 66)\n"
     ]
    }
   ],
   "source": [
    "print(mytuple)"
   ]
  },
  {
   "cell_type": "code",
   "execution_count": null,
   "id": "43e941dd-33a1-41e9-b97b-b041730a6ae3",
   "metadata": {},
   "outputs": [],
   "source": []
  },
  {
   "cell_type": "markdown",
   "id": "9fe4425c-8032-4637-9736-221b67171149",
   "metadata": {},
   "source": [
    "## accessing tuples"
   ]
  },
  {
   "cell_type": "code",
   "execution_count": 60,
   "id": "7c06192e-b0aa-4502-bb11-b3a1978d42cc",
   "metadata": {},
   "outputs": [
    {
     "data": {
      "text/plain": [
       "720"
      ]
     },
     "execution_count": 60,
     "metadata": {},
     "output_type": "execute_result"
    }
   ],
   "source": [
    " mytuple[0]"
   ]
  },
  {
   "cell_type": "code",
   "execution_count": 61,
   "id": "a8b2ae48-71bc-4b8f-8355-f44122b6af7d",
   "metadata": {},
   "outputs": [
    {
     "data": {
      "text/plain": [
       "66"
      ]
     },
     "execution_count": 61,
     "metadata": {},
     "output_type": "execute_result"
    }
   ],
   "source": [
    "mytuple[-1]"
   ]
  },
  {
   "cell_type": "markdown",
   "id": "4a6c218d-6ab1-4fcc-bcf4-07c057e28be6",
   "metadata": {},
   "source": [
    "## slicing in tuple"
   ]
  },
  {
   "cell_type": "code",
   "execution_count": 62,
   "id": "14335d56-e571-4ef6-9c22-90e2302ca718",
   "metadata": {},
   "outputs": [],
   "source": [
    "longtuple = (1,2,4,5,3,9)"
   ]
  },
  {
   "cell_type": "code",
   "execution_count": 63,
   "id": "a581b003-6352-48d5-bf0d-073f921dd569",
   "metadata": {},
   "outputs": [
    {
     "name": "stdout",
     "output_type": "stream",
     "text": [
      "(1, 2, 4, 5, 3, 9)\n"
     ]
    }
   ],
   "source": [
    "print(longtuple)"
   ]
  },
  {
   "cell_type": "code",
   "execution_count": 65,
   "id": "35e13a34-e012-4010-84e7-62cf1173af82",
   "metadata": {},
   "outputs": [
    {
     "data": {
      "text/plain": [
       "(4, 5, 3, 9)"
      ]
     },
     "execution_count": 65,
     "metadata": {},
     "output_type": "execute_result"
    }
   ],
   "source": [
    "longtuple[2:6]"
   ]
  },
  {
   "cell_type": "markdown",
   "id": "8703edbb-cd46-4e0f-b9c9-10b942ee7ec6",
   "metadata": {},
   "source": [
    "## type conversion"
   ]
  },
  {
   "cell_type": "code",
   "execution_count": 66,
   "id": "8415628b-c4f1-423a-ac3a-21461e2d84a6",
   "metadata": {},
   "outputs": [
    {
     "data": {
      "text/plain": [
       "[1, 2, 4, 5, 3, 9]"
      ]
     },
     "execution_count": 66,
     "metadata": {},
     "output_type": "execute_result"
    }
   ],
   "source": [
    "list(longtuple)"
   ]
  },
  {
   "cell_type": "code",
   "execution_count": 67,
   "id": "d2db24c8-db19-4967-8b59-32cb64189b44",
   "metadata": {},
   "outputs": [
    {
     "data": {
      "text/plain": [
       "(1, 1, 2, 3, 4, 21, 31)"
      ]
     },
     "execution_count": 67,
     "metadata": {},
     "output_type": "execute_result"
    }
   ],
   "source": [
    "tuple(mylist)"
   ]
  },
  {
   "cell_type": "code",
   "execution_count": null,
   "id": "29a4fc36-1efd-4eb8-b780-d788b65bc113",
   "metadata": {},
   "outputs": [],
   "source": []
  }
 ],
 "metadata": {
  "kernelspec": {
   "display_name": "Python 3 (ipykernel)",
   "language": "python",
   "name": "python3"
  },
  "language_info": {
   "codemirror_mode": {
    "name": "ipython",
    "version": 3
   },
   "file_extension": ".py",
   "mimetype": "text/x-python",
   "name": "python",
   "nbconvert_exporter": "python",
   "pygments_lexer": "ipython3",
   "version": "3.8.10"
  }
 },
 "nbformat": 4,
 "nbformat_minor": 5
}
