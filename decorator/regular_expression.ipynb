{
 "cells": [
  {
   "cell_type": "markdown",
   "id": "f37ef2c1-7efc-4dcb-8c19-bd3795c24f9d",
   "metadata": {},
   "source": [
    "# REGEX"
   ]
  },
  {
   "cell_type": "code",
   "execution_count": 1,
   "id": "51fe558a-537f-4023-92a1-764be3c5ff45",
   "metadata": {},
   "outputs": [],
   "source": [
    "import re"
   ]
  },
  {
   "cell_type": "code",
   "execution_count": 2,
   "id": "4da308c7-91f4-46ac-a2e8-6da2e7791181",
   "metadata": {},
   "outputs": [],
   "source": [
    "string = \"The quick brown fox jump over thr lazy dog.\""
   ]
  },
  {
   "cell_type": "code",
   "execution_count": 4,
   "id": "eb8eeb41-fc46-46fe-8c20-3f3eb07eb743",
   "metadata": {},
   "outputs": [],
   "source": [
    "pattern = r\"he\"\n",
    "match = re.search(pattern,string)"
   ]
  },
  {
   "cell_type": "code",
   "execution_count": 5,
   "id": "de9b1be8-201d-4ad1-a694-5425f6e2a739",
   "metadata": {},
   "outputs": [
    {
     "data": {
      "text/plain": [
       "'he'"
      ]
     },
     "execution_count": 5,
     "metadata": {},
     "output_type": "execute_result"
    }
   ],
   "source": [
    "match.group()"
   ]
  },
  {
   "cell_type": "code",
   "execution_count": 6,
   "id": "c3dba4ae-d2c5-4ceb-a444-67de94d90451",
   "metadata": {},
   "outputs": [
    {
     "data": {
      "text/plain": [
       "1"
      ]
     },
     "execution_count": 6,
     "metadata": {},
     "output_type": "execute_result"
    }
   ],
   "source": [
    "match.start()"
   ]
  },
  {
   "cell_type": "code",
   "execution_count": null,
   "id": "86ea1fec-9302-4820-af2b-dbef98cb23ed",
   "metadata": {},
   "outputs": [],
   "source": []
  },
  {
   "cell_type": "code",
   "execution_count": 10,
   "id": "74bbb35c-a83d-40e7-a35a-1f0fdbc115b7",
   "metadata": {},
   "outputs": [
    {
     "name": "stdout",
     "output_type": "stream",
     "text": [
      "match object <re.Match object; span=(1, 3), match='he'>\n",
      "match group he\n",
      "match start 1\n",
      "match end 3\n",
      "match span (1, 3)\n"
     ]
    }
   ],
   "source": [
    "if match :\n",
    "    print(\"match object\",match)\n",
    "    print(\"match group\",match.group())\n",
    "    print(\"match start\",match.start())\n",
    "    print(\"match end\",match.end())\n",
    "    print(\"match span\",match.span())\n",
    "\n",
    "else:\n",
    "    print(\"no found\")"
   ]
  },
  {
   "cell_type": "code",
   "execution_count": 17,
   "id": "988ad761-ae44-4149-a86d-e5e27367d003",
   "metadata": {},
   "outputs": [],
   "source": [
    "string = \"The quick brown fox jump over thr lazy dog.\"\n",
    "pattern = r\"[a-z]*\"\n"
   ]
  },
  {
   "cell_type": "code",
   "execution_count": 18,
   "id": "8535f386-0aab-4ab3-a41a-e45791f42a2d",
   "metadata": {},
   "outputs": [],
   "source": [
    "match = re.findall(pattern,string)"
   ]
  },
  {
   "cell_type": "code",
   "execution_count": 19,
   "id": "4f52460c-f27a-4411-8bef-9e26979b91ea",
   "metadata": {},
   "outputs": [
    {
     "data": {
      "text/plain": [
       "['',\n",
       " 'he',\n",
       " '',\n",
       " 'quick',\n",
       " '',\n",
       " 'brown',\n",
       " '',\n",
       " 'fox',\n",
       " '',\n",
       " 'jump',\n",
       " '',\n",
       " 'over',\n",
       " '',\n",
       " 'thr',\n",
       " '',\n",
       " 'lazy',\n",
       " '',\n",
       " 'dog',\n",
       " '',\n",
       " '']"
      ]
     },
     "execution_count": 19,
     "metadata": {},
     "output_type": "execute_result"
    }
   ],
   "source": [
    "match"
   ]
  },
  {
   "cell_type": "code",
   "execution_count": 20,
   "id": "3e019825-b951-4f1a-ab0e-2dffe99b48ff",
   "metadata": {},
   "outputs": [],
   "source": [
    "pattern = r\"[A-Z]he\"\n",
    "repl = \"the\"\n",
    "\n",
    "match = re.sub(pattern,repl,string,count=1)"
   ]
  },
  {
   "cell_type": "code",
   "execution_count": 21,
   "id": "3095fdc2-5fa1-4a46-b9f7-e56ed677cdcd",
   "metadata": {},
   "outputs": [
    {
     "data": {
      "text/plain": [
       "'the quick brown fox jump over thr lazy dog.'"
      ]
     },
     "execution_count": 21,
     "metadata": {},
     "output_type": "execute_result"
    }
   ],
   "source": [
    "match"
   ]
  },
  {
   "cell_type": "code",
   "execution_count": null,
   "id": "07b27ac5-1cd8-44b5-b04d-1ce8bc9bb679",
   "metadata": {},
   "outputs": [],
   "source": []
  },
  {
   "cell_type": "code",
   "execution_count": 25,
   "id": "4049f13b-cdd1-408d-b697-5e5dd4d312e0",
   "metadata": {},
   "outputs": [],
   "source": [
    "string = \"The quick brown fox jump over the 40m lazy dog.\"\n",
    "pattern = r\"[0-9]+\"\n",
    "segments = re.split(pattern,string)"
   ]
  },
  {
   "cell_type": "code",
   "execution_count": 26,
   "id": "64a442e6-7046-48cd-a9c5-2d2d7c11411c",
   "metadata": {},
   "outputs": [
    {
     "data": {
      "text/plain": [
       "['The quick brown fox jump over the ', 'm lazy dog.']"
      ]
     },
     "execution_count": 26,
     "metadata": {},
     "output_type": "execute_result"
    }
   ],
   "source": [
    "segments"
   ]
  },
  {
   "cell_type": "code",
   "execution_count": null,
   "id": "446a877b-3368-4cd0-b0d0-a853744ec11e",
   "metadata": {},
   "outputs": [],
   "source": [
    "res = re.sub(r\"[ "
   ]
  }
 ],
 "metadata": {
  "kernelspec": {
   "display_name": "Python 3 (ipykernel)",
   "language": "python",
   "name": "python3"
  },
  "language_info": {
   "codemirror_mode": {
    "name": "ipython",
    "version": 3
   },
   "file_extension": ".py",
   "mimetype": "text/x-python",
   "name": "python",
   "nbconvert_exporter": "python",
   "pygments_lexer": "ipython3",
   "version": "3.8.10"
  }
 },
 "nbformat": 4,
 "nbformat_minor": 5
}
