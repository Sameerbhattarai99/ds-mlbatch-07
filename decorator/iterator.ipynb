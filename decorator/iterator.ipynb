{
 "cells": [
  {
   "cell_type": "code",
   "execution_count": 1,
   "id": "5167cd36-0d5f-46df-9717-883909894948",
   "metadata": {},
   "outputs": [],
   "source": [
    "class Fiboancci:\n",
    "    def __init__(self,limit):\n",
    "        self.limit = limit\n",
    "\n",
    "        self.current = 0\n",
    "        self.next = 1\n",
    "\n",
    "        self.step = 0\n",
    "\n",
    "\n",
    "\n",
    "    def  __iter__(self):\n",
    "        return self\n",
    "\n",
    "    def __next__(self):\n",
    "        if self.step >=self.limit:\n",
    "            raise StopIteration\n",
    "\n",
    "        result = self.current\n",
    "        self.current,self.next = self.next ,self.current +self.next\n",
    "        self.step +=1\n",
    "\n",
    "        return result"
   ]
  },
  {
   "cell_type": "code",
   "execution_count": 2,
   "id": "36f7e4de-0aee-4aa1-b7a2-f624c7f519a5",
   "metadata": {},
   "outputs": [],
   "source": [
    "fib = Fiboancci(10)"
   ]
  },
  {
   "cell_type": "code",
   "execution_count": 3,
   "id": "ba7f6104-8238-461a-9e50-c52a2013890f",
   "metadata": {},
   "outputs": [
    {
     "name": "stdout",
     "output_type": "stream",
     "text": [
      "0\n",
      "1\n",
      "1\n",
      "2\n",
      "3\n",
      "5\n",
      "8\n",
      "13\n",
      "21\n",
      "34\n"
     ]
    }
   ],
   "source": [
    "for num in fib:\n",
    "    print(num)"
   ]
  },
  {
   "cell_type": "code",
   "execution_count": null,
   "id": "313795b8-e05f-4bd5-94d3-93116abe13a0",
   "metadata": {},
   "outputs": [],
   "source": []
  }
 ],
 "metadata": {
  "kernelspec": {
   "display_name": "Python 3 (ipykernel)",
   "language": "python",
   "name": "python3"
  },
  "language_info": {
   "codemirror_mode": {
    "name": "ipython",
    "version": 3
   },
   "file_extension": ".py",
   "mimetype": "text/x-python",
   "name": "python",
   "nbconvert_exporter": "python",
   "pygments_lexer": "ipython3",
   "version": "3.8.10"
  }
 },
 "nbformat": 4,
 "nbformat_minor": 5
}
