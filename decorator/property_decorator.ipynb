{
 "cells": [
  {
   "cell_type": "markdown",
   "id": "edf1216a-a817-4c86-b436-9dbfa8b6a897",
   "metadata": {},
   "source": [
    "# property decorator"
   ]
  },
  {
   "cell_type": "markdown",
   "id": "3b02234e-43f3-4115-87ed-22ab68f50d87",
   "metadata": {},
   "source": [
    "### getter"
   ]
  },
  {
   "cell_type": "code",
   "execution_count": 9,
   "id": "a7e90465-4b5a-4f32-a461-991a696915dd",
   "metadata": {},
   "outputs": [],
   "source": [
    "class Person:\n",
    "    def __init__(self,name):\n",
    "        self.__fullname = name\n",
    "\n",
    "    @property\n",
    "    def name(self):\n",
    "        print(\"getting name\")\n",
    "        return self.__fullname"
   ]
  },
  {
   "cell_type": "code",
   "execution_count": 10,
   "id": "9a8d6494-8430-4cb9-b777-26ae0914a4a0",
   "metadata": {},
   "outputs": [],
   "source": [
    "person = Person(\"ram\")"
   ]
  },
  {
   "cell_type": "code",
   "execution_count": 11,
   "id": "18e0ba0b-aa96-4404-965e-b1b22572a550",
   "metadata": {},
   "outputs": [
    {
     "name": "stdout",
     "output_type": "stream",
     "text": [
      "getting name\n"
     ]
    },
    {
     "data": {
      "text/plain": [
       "'ram'"
      ]
     },
     "execution_count": 11,
     "metadata": {},
     "output_type": "execute_result"
    }
   ],
   "source": [
    "\n",
    "person.name  ## function lai attribute"
   ]
  },
  {
   "cell_type": "markdown",
   "id": "249558ad-f8d9-4d96-957a-458d022d7cc6",
   "metadata": {},
   "source": [
    "### setter"
   ]
  },
  {
   "cell_type": "code",
   "execution_count": 13,
   "id": "86746af3-f4cd-4f7c-910d-c73316b2efcc",
   "metadata": {},
   "outputs": [],
   "source": [
    "class Person:\n",
    "    def __init__(self,name):\n",
    "        self.__fullname = name\n",
    "\n",
    "    @property\n",
    "    def name(self):\n",
    "        print(\"getting name\")\n",
    "        return self.__fullname\n",
    "        \n",
    "    @name.setter\n",
    "    def name(self,value):\n",
    "        print(\"setting name\")\n",
    "        self.__fullname = value"
   ]
  },
  {
   "cell_type": "code",
   "execution_count": 14,
   "id": "7fbe9d69-27d3-4022-800d-0de797f4a574",
   "metadata": {},
   "outputs": [],
   "source": [
    "person = Person(\"ironman\")"
   ]
  },
  {
   "cell_type": "code",
   "execution_count": 16,
   "id": "f58f4893-4f7b-4bb4-bcd2-9f8b690a29f7",
   "metadata": {},
   "outputs": [
    {
     "name": "stdout",
     "output_type": "stream",
     "text": [
      "getting name\n"
     ]
    },
    {
     "data": {
      "text/plain": [
       "'ironman'"
      ]
     },
     "execution_count": 16,
     "metadata": {},
     "output_type": "execute_result"
    }
   ],
   "source": [
    "person.name"
   ]
  },
  {
   "cell_type": "code",
   "execution_count": 17,
   "id": "7d9ed87c-b5e9-4d22-968c-2b133a7ce57f",
   "metadata": {},
   "outputs": [
    {
     "name": "stdout",
     "output_type": "stream",
     "text": [
      "setting name\n"
     ]
    }
   ],
   "source": [
    "person.name = \"batman\""
   ]
  },
  {
   "cell_type": "code",
   "execution_count": 18,
   "id": "48ffe21e-013c-4698-b7b6-34de2621c64a",
   "metadata": {},
   "outputs": [
    {
     "name": "stdout",
     "output_type": "stream",
     "text": [
      "getting name\n"
     ]
    },
    {
     "data": {
      "text/plain": [
       "'batman'"
      ]
     },
     "execution_count": 18,
     "metadata": {},
     "output_type": "execute_result"
    }
   ],
   "source": [
    "person.name"
   ]
  },
  {
   "cell_type": "code",
   "execution_count": null,
   "id": "7321419f-9831-4c12-bc17-aa0da9b66ca6",
   "metadata": {},
   "outputs": [],
   "source": []
  },
  {
   "cell_type": "markdown",
   "id": "6739e46c-59f8-4e2c-8797-8d28b1c1438c",
   "metadata": {},
   "source": [
    "### deleter"
   ]
  },
  {
   "cell_type": "code",
   "execution_count": null,
   "id": "502125cc-25bc-4c83-9a9a-3093b6bd493c",
   "metadata": {},
   "outputs": [],
   "source": []
  },
  {
   "cell_type": "code",
   "execution_count": 29,
   "id": "5b41deda-d792-46bf-84ac-3c166f43fd80",
   "metadata": {},
   "outputs": [],
   "source": [
    "class Person:\n",
    "    def __init__(self,name):\n",
    "        self.__fullname = name\n",
    "\n",
    "    @property\n",
    "    def name(self):\n",
    "        print(\"getting name\")\n",
    "        return self.__fullname\n",
    "        \n",
    "    @name.setter\n",
    "    def name(self,value):\n",
    "        print(\"setting name\")\n",
    "        self.__fullname = value\n",
    "\n",
    "    @name.deleter\n",
    "    def name(self):\n",
    "        print(\"deleting name\")\n",
    "        del self.__fullname"
   ]
  },
  {
   "cell_type": "code",
   "execution_count": 30,
   "id": "be016d27-7a81-4677-adc8-b1eacd075197",
   "metadata": {},
   "outputs": [],
   "source": [
    "perosn = Person(\"cena\")"
   ]
  },
  {
   "cell_type": "code",
   "execution_count": 31,
   "id": "12779754-961b-49b6-a4e2-f6290e1a8460",
   "metadata": {},
   "outputs": [
    {
     "name": "stdout",
     "output_type": "stream",
     "text": [
      "getting name\n"
     ]
    },
    {
     "data": {
      "text/plain": [
       "'batman'"
      ]
     },
     "execution_count": 31,
     "metadata": {},
     "output_type": "execute_result"
    }
   ],
   "source": [
    "person.name\n"
   ]
  },
  {
   "cell_type": "code",
   "execution_count": 32,
   "id": "ea9881b5-342e-4a63-b08a-42d5e974a8c3",
   "metadata": {},
   "outputs": [
    {
     "ename": "AttributeError",
     "evalue": "can't delete attribute",
     "output_type": "error",
     "traceback": [
      "\u001b[1;31m---------------------------------------------------------------------------\u001b[0m",
      "\u001b[1;31mAttributeError\u001b[0m                            Traceback (most recent call last)",
      "Cell \u001b[1;32mIn[32], line 1\u001b[0m\n\u001b[1;32m----> 1\u001b[0m \u001b[38;5;28;01mdel\u001b[39;00m person\u001b[38;5;241m.\u001b[39mname\n",
      "\u001b[1;31mAttributeError\u001b[0m: can't delete attribute"
     ]
    }
   ],
   "source": [
    "del person.name"
   ]
  },
  {
   "cell_type": "code",
   "execution_count": null,
   "id": "7194c57c-0b59-4ced-9998-2c130d94e494",
   "metadata": {},
   "outputs": [],
   "source": []
  },
  {
   "cell_type": "code",
   "execution_count": null,
   "id": "d0838ba1-4b8f-46b2-88c4-ce78c014d36a",
   "metadata": {},
   "outputs": [],
   "source": []
  },
  {
   "cell_type": "code",
   "execution_count": 36,
   "id": "244d91de-fa5f-4c1a-a5d9-62faea3855bc",
   "metadata": {},
   "outputs": [
    {
     "name": "stdout",
     "output_type": "stream",
     "text": [
      "Function 'takes_time' took 4.00 seconds to run.\n"
     ]
    }
   ],
   "source": [
    "import time\n",
    "\n",
    "def timeit(func):\n",
    "    def wrapper():\n",
    "        start = time.time()\n",
    "        func()\n",
    "        end = time.time()\n",
    "        print(f\"Function '{func.__name__}' took {end - start:.2f} seconds to run.\")\n",
    "\n",
    "    return wrapper\n",
    "\n",
    "\n",
    "@timeit\n",
    "def takes_time():\n",
    "   time.sleep(4)\n",
    "\n",
    "takes_time()"
   ]
  },
  {
   "cell_type": "code",
   "execution_count": null,
   "id": "0d1cbc1c-4318-456b-9d16-08db89b94b5a",
   "metadata": {},
   "outputs": [],
   "source": []
  },
  {
   "cell_type": "code",
   "execution_count": null,
   "id": "98c4d0f9-32ae-4bf1-8d04-f8e7bf1b182b",
   "metadata": {},
   "outputs": [],
   "source": []
  }
 ],
 "metadata": {
  "kernelspec": {
   "display_name": "Python 3 (ipykernel)",
   "language": "python",
   "name": "python3"
  },
  "language_info": {
   "codemirror_mode": {
    "name": "ipython",
    "version": 3
   },
   "file_extension": ".py",
   "mimetype": "text/x-python",
   "name": "python",
   "nbconvert_exporter": "python",
   "pygments_lexer": "ipython3",
   "version": "3.8.10"
  }
 },
 "nbformat": 4,
 "nbformat_minor": 5
}
