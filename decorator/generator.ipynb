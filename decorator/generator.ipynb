{
 "cells": [
  {
   "cell_type": "markdown",
   "id": "9774bb90-85d3-413e-820e-671354765f5a",
   "metadata": {},
   "source": [
    "# generator"
   ]
  },
  {
   "cell_type": "code",
   "execution_count": 3,
   "id": "0d1ac3e4-3967-4a4c-888a-30400442e003",
   "metadata": {},
   "outputs": [],
   "source": [
    "def number_generator(start,end):\n",
    "    for num in range(start,end+1):\n",
    "        yield num"
   ]
  },
  {
   "cell_type": "code",
   "execution_count": null,
   "id": "66c287f3-9496-4b15-8cd9-559bf8b2049f",
   "metadata": {},
   "outputs": [],
   "source": []
  },
  {
   "cell_type": "code",
   "execution_count": null,
   "id": "2e19a0e7-8d37-45f0-ad40-db4aa622244d",
   "metadata": {},
   "outputs": [],
   "source": []
  },
  {
   "cell_type": "markdown",
   "id": "f4d01a3d-9b7e-4ae3-8e09-32432fc06921",
   "metadata": {},
   "source": [
    "### create a generator objrct using generator func"
   ]
  },
  {
   "cell_type": "code",
   "execution_count": 4,
   "id": "e3a311ec-7c6e-4730-8bb3-8fb16e2adc73",
   "metadata": {},
   "outputs": [],
   "source": [
    "gen = number_generator(10,23)"
   ]
  },
  {
   "cell_type": "code",
   "execution_count": 5,
   "id": "cb30b7ef-255d-4155-af4d-777f2f2adff7",
   "metadata": {},
   "outputs": [
    {
     "data": {
      "text/plain": [
       "<generator object number_generator at 0x000001BC573B2E40>"
      ]
     },
     "execution_count": 5,
     "metadata": {},
     "output_type": "execute_result"
    }
   ],
   "source": [
    "gen"
   ]
  },
  {
   "cell_type": "code",
   "execution_count": null,
   "id": "4263884d-265b-4d95-8d9b-d8e3aa90f45b",
   "metadata": {},
   "outputs": [],
   "source": []
  },
  {
   "cell_type": "markdown",
   "id": "c1310e27-f3ee-493b-bc14-083e13bb7561",
   "metadata": {},
   "source": [
    "### use the generator object to generate the value on the fly"
   ]
  },
  {
   "cell_type": "code",
   "execution_count": null,
   "id": "469fa709-fa4b-4745-a07a-e481ae34d051",
   "metadata": {},
   "outputs": [],
   "source": []
  },
  {
   "cell_type": "code",
   "execution_count": 8,
   "id": "34cf2efd-453e-4f26-8025-57ee7cb3dff4",
   "metadata": {},
   "outputs": [
    {
     "data": {
      "text/plain": [
       "12"
      ]
     },
     "execution_count": 8,
     "metadata": {},
     "output_type": "execute_result"
    }
   ],
   "source": [
    "next(gen)"
   ]
  },
  {
   "cell_type": "code",
   "execution_count": 9,
   "id": "35409158-bdfb-4f30-ba09-0f9b19260911",
   "metadata": {},
   "outputs": [
    {
     "data": {
      "text/plain": [
       "13"
      ]
     },
     "execution_count": 9,
     "metadata": {},
     "output_type": "execute_result"
    }
   ],
   "source": [
    "next(gen)"
   ]
  },
  {
   "cell_type": "code",
   "execution_count": null,
   "id": "ccc3d744-95a0-47e2-91a4-66ea889c476d",
   "metadata": {},
   "outputs": [],
   "source": []
  },
  {
   "cell_type": "markdown",
   "id": "2589aee3-ff83-4e70-9e96-303cf4b9c7c1",
   "metadata": {},
   "source": [
    "### use a loop to generate all value in sequence"
   ]
  },
  {
   "cell_type": "code",
   "execution_count": 10,
   "id": "ab8cf101-89b4-4694-98ab-77483054efea",
   "metadata": {},
   "outputs": [],
   "source": [
    "my_gen = number_generator(1,6)"
   ]
  },
  {
   "cell_type": "code",
   "execution_count": 11,
   "id": "a7ded476-7ccd-4748-9842-d75c8ba8ddcf",
   "metadata": {},
   "outputs": [
    {
     "name": "stdout",
     "output_type": "stream",
     "text": [
      "1\n",
      "2\n",
      "3\n",
      "4\n",
      "5\n",
      "6\n"
     ]
    }
   ],
   "source": [
    "for num in my_gen:\n",
    "    print(num)"
   ]
  },
  {
   "cell_type": "markdown",
   "id": "89b4b3f9-2a7c-40fe-a330-1828ec76c409",
   "metadata": {},
   "source": [
    "### generator alterenative"
   ]
  },
  {
   "cell_type": "code",
   "execution_count": 12,
   "id": "1cbc57be-b2ba-4ae6-99d2-281bfcfea253",
   "metadata": {},
   "outputs": [],
   "source": [
    "gen = (i for i in range(1,5))"
   ]
  },
  {
   "cell_type": "code",
   "execution_count": 13,
   "id": "40f9eaa2-20c9-4453-8693-90f51378d3f1",
   "metadata": {},
   "outputs": [
    {
     "data": {
      "text/plain": [
       "<generator object <genexpr> at 0x000001BC573B2120>"
      ]
     },
     "execution_count": 13,
     "metadata": {},
     "output_type": "execute_result"
    }
   ],
   "source": [
    "gen"
   ]
  },
  {
   "cell_type": "code",
   "execution_count": null,
   "id": "ec1febf5-4425-4720-b44c-a3795e1c21e4",
   "metadata": {},
   "outputs": [],
   "source": []
  },
  {
   "cell_type": "code",
   "execution_count": 25,
   "id": "69f8ccda-fab8-4ff9-9679-490eb72fb663",
   "metadata": {},
   "outputs": [],
   "source": [
    "def prime(n):\n",
    "    if n <= 1:\n",
    "        return False\n",
    "    for i in range(2, n):\n",
    "        if n % i == 0:\n",
    "            return False\n",
    "    return True\n",
    "\n",
    "\n",
    "def prime_generator():\n",
    "    n=1\n",
    "    while True :\n",
    "        if prime(n):\n",
    "            yield n\n",
    "        n +=1"
   ]
  },
  {
   "cell_type": "code",
   "execution_count": 26,
   "id": "0110e709-af58-43ac-a39c-1332710a65e9",
   "metadata": {},
   "outputs": [],
   "source": [
    "prime_gen = prime_generator()"
   ]
  },
  {
   "cell_type": "code",
   "execution_count": 27,
   "id": "d7d46c9d-8136-4d55-8e79-ad1b4e04a941",
   "metadata": {},
   "outputs": [
    {
     "name": "stdout",
     "output_type": "stream",
     "text": [
      "2\n",
      "3\n",
      "5\n",
      "7\n",
      "11\n"
     ]
    }
   ],
   "source": [
    "for i in range(5):\n",
    "    print(next(prime_gen))"
   ]
  },
  {
   "cell_type": "code",
   "execution_count": null,
   "id": "a0f6ec27-8c99-4020-b274-1256100c166b",
   "metadata": {},
   "outputs": [],
   "source": []
  }
 ],
 "metadata": {
  "kernelspec": {
   "display_name": "Python 3 (ipykernel)",
   "language": "python",
   "name": "python3"
  },
  "language_info": {
   "codemirror_mode": {
    "name": "ipython",
    "version": 3
   },
   "file_extension": ".py",
   "mimetype": "text/x-python",
   "name": "python",
   "nbconvert_exporter": "python",
   "pygments_lexer": "ipython3",
   "version": "3.8.10"
  }
 },
 "nbformat": 4,
 "nbformat_minor": 5
}
