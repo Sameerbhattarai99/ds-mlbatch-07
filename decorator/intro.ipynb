{
 "cells": [
  {
   "cell_type": "markdown",
   "id": "3c321354-cf4e-4a82-92fd-77ae206b556a",
   "metadata": {},
   "source": [
    "# decorator\n"
   ]
  },
  {
   "cell_type": "code",
   "execution_count": 1,
   "id": "db6095c0-b658-428e-9cb9-2f45ff9da9aa",
   "metadata": {},
   "outputs": [],
   "source": [
    "\n",
    "def decorator(func):\n",
    "    def wrapper():\n",
    "        print(\"before function call\")\n",
    "        func()\n",
    "        print(\"after funct call\")\n",
    "\n",
    "    return wrapper"
   ]
  },
  {
   "cell_type": "code",
   "execution_count": 2,
   "id": "826fafe6-17f8-4426-9f47-191f28158019",
   "metadata": {},
   "outputs": [],
   "source": [
    "@decorator\n",
    "def greet():\n",
    "    print(\"hello world\")"
   ]
  },
  {
   "cell_type": "code",
   "execution_count": 3,
   "id": "9bee7d03-5e32-47e9-8695-a828a5ade502",
   "metadata": {},
   "outputs": [
    {
     "name": "stdout",
     "output_type": "stream",
     "text": [
      "before function call\n",
      "hello world\n",
      "after funct call\n"
     ]
    }
   ],
   "source": [
    "greet()"
   ]
  },
  {
   "cell_type": "code",
   "execution_count": null,
   "id": "1e481e6d-5b8a-4b02-8a92-0cf52c198b17",
   "metadata": {},
   "outputs": [],
   "source": [
    "\n"
   ]
  },
  {
   "cell_type": "markdown",
   "id": "dd9ce254-35de-4076-8e0c-1ee55025fa5d",
   "metadata": {},
   "source": [
    "# check email using decorator"
   ]
  },
  {
   "cell_type": "code",
   "execution_count": 8,
   "id": "312fb64a-89ea-4e42-9a18-98752821dfd3",
   "metadata": {},
   "outputs": [],
   "source": [
    "def validate_email(func):\n",
    "    def wrapper(email,password):\n",
    "        if email.endswith(\"@skill.com\"):\n",
    "            func(email,password)\n",
    "\n",
    "        else:\n",
    "            print(\"only support for skill shiskshya\")\n",
    "\n",
    "    return wrapper\n",
    "        \n",
    "    "
   ]
  },
  {
   "cell_type": "code",
   "execution_count": 9,
   "id": "6bfbc9e8-cc53-45a9-ac5c-28a238c2a9d3",
   "metadata": {},
   "outputs": [],
   "source": [
    "@validate_email\n",
    "def login(email,password):\n",
    "    #check password validity\n",
    "\n",
    "    print(\"logged in\")"
   ]
  },
  {
   "cell_type": "code",
   "execution_count": 11,
   "id": "7956fee1-ca66-4308-84ba-715649d20913",
   "metadata": {},
   "outputs": [
    {
     "name": "stdout",
     "output_type": "stream",
     "text": [
      "logged in\n"
     ]
    }
   ],
   "source": [
    "login(\"ram@skill.com\",\"123\")"
   ]
  },
  {
   "cell_type": "code",
   "execution_count": null,
   "id": "d569bcd4-cc81-46a0-b2af-011313541d04",
   "metadata": {},
   "outputs": [],
   "source": []
  }
 ],
 "metadata": {
  "kernelspec": {
   "display_name": "Python 3 (ipykernel)",
   "language": "python",
   "name": "python3"
  },
  "language_info": {
   "codemirror_mode": {
    "name": "ipython",
    "version": 3
   },
   "file_extension": ".py",
   "mimetype": "text/x-python",
   "name": "python",
   "nbconvert_exporter": "python",
   "pygments_lexer": "ipython3",
   "version": "3.8.10"
  }
 },
 "nbformat": 4,
 "nbformat_minor": 5
}
