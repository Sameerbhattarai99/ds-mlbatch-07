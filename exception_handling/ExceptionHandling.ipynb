{
 "cells": [
  {
   "cell_type": "markdown",
   "id": "fab1085c-e2b3-4c0b-8574-16eb62ba0aed",
   "metadata": {},
   "source": [
    "```python \n",
    "\n",
    "try:\n",
    "    #code that may raise exception\n",
    "\n",
    "    except ExceptionType:\n",
    "    #code to handle exception"
   ]
  },
  {
   "cell_type": "code",
   "execution_count": 6,
   "id": "8f71a322-6e46-4453-9d51-489c20e03d5f",
   "metadata": {},
   "outputs": [
    {
     "name": "stdin",
     "output_type": "stream",
     "text": [
      "enter a number 4\n"
     ]
    },
    {
     "name": "stdout",
     "output_type": "stream",
     "text": [
      "1024\n"
     ]
    }
   ],
   "source": [
    "try :\n",
    "    num = int(input(\"enter a number\"))\n",
    "    print (num**5)\n",
    "\n",
    "except ValueError:\n",
    "    print(\"invalid input enter integer value\")\n",
    "    print(0)"
   ]
  },
  {
   "cell_type": "markdown",
   "id": "8f047107-216a-434a-9b08-c4199c9b76f5",
   "metadata": {},
   "source": [
    "### catching multiple exception\n"
   ]
  },
  {
   "cell_type": "code",
   "execution_count": null,
   "id": "ee43f91c-057e-4463-9805-27f877da76f6",
   "metadata": {},
   "outputs": [],
   "source": []
  },
  {
   "cell_type": "markdown",
   "id": "54a6bfc3-435c-48c3-b940-d51ce001402e",
   "metadata": {},
   "source": [
    "```python \n",
    "\n",
    "try:\n",
    "    #code that may raise exception\n",
    "\n",
    "    except ExceptionType1:\n",
    "    #code to handle exception type 1\n",
    "\n",
    "    except ExceptionType2:\n",
    "    #code to handle exception type 2"
   ]
  },
  {
   "cell_type": "code",
   "execution_count": 8,
   "id": "8c017874-1dce-4025-8745-65cc63b5e038",
   "metadata": {},
   "outputs": [
    {
     "name": "stdin",
     "output_type": "stream",
     "text": [
      "enter a number 4\n",
      "enter another number b\n"
     ]
    },
    {
     "name": "stdout",
     "output_type": "stream",
     "text": [
      "invalid input invalid literal for int() with base 10: 'b'\n",
      "final result: 1\n"
     ]
    }
   ],
   "source": [
    "try:\n",
    "    x=int(input(\"enter a number\"))\n",
    "    y=int(input(\"enter another number\"))\n",
    "    result = x/y\n",
    "\n",
    "except ValueError as error:\n",
    "    print(\"invalid input\",error)\n",
    "    result = 1\n",
    "\n",
    "except ZeroDivisionError:\n",
    "    print(\"cant divide by 0\")\n",
    "    result = 0\n",
    "\n",
    "print(\"final result:\",result)"
   ]
  },
  {
   "cell_type": "code",
   "execution_count": null,
   "id": "a1b34b11-7b1c-4541-82cd-3bd3cefbc570",
   "metadata": {},
   "outputs": [],
   "source": []
  },
  {
   "cell_type": "code",
   "execution_count": 11,
   "id": "6cfcf655-03c4-43db-b507-3ec1716fd727",
   "metadata": {},
   "outputs": [
    {
     "name": "stdout",
     "output_type": "stream",
     "text": [
      "cannot be convert to int\n"
     ]
    }
   ],
   "source": [
    "value = \"abc\"\n",
    "try:\n",
    "    print(int(value))\n",
    "# except (ValueError,TimeoutError): aaba sabai thahha xaina bane yei use garne\n",
    "except Exception as e:\n",
    "    print(\"cannot be convert to int\")\n",
    "    "
   ]
  },
  {
   "cell_type": "code",
   "execution_count": null,
   "id": "7691863c-5816-4f98-ad42-e5321cbd3c50",
   "metadata": {},
   "outputs": [],
   "source": []
  },
  {
   "cell_type": "code",
   "execution_count": 65,
   "id": "d28d3665-c567-4241-91fa-50bd8cade484",
   "metadata": {},
   "outputs": [
    {
     "name": "stdout",
     "output_type": "stream",
     "text": [
      "['a', 'b', 'c', 'd']\n"
     ]
    }
   ],
   "source": [
    "lst = ['a','b','c','d']\n",
    "def get_list_item(index):\n",
    "    try:\n",
    "\n",
    "         return lst[index]\n",
    "    except IndexError :\n",
    "            return lst[-1]\n",
    "\n",
    "    except Exception as e:\n",
    "        return lst\n",
    "\n",
    "print(get_list_item(\"a\"))\n",
    "        "
   ]
  },
  {
   "cell_type": "code",
   "execution_count": 27,
   "id": "a8559da6-e1f6-4213-aef6-2e2658682b5a",
   "metadata": {},
   "outputs": [],
   "source": []
  },
  {
   "cell_type": "code",
   "execution_count": null,
   "id": "e64677b9-a055-4319-9f8e-6b75e554dec4",
   "metadata": {},
   "outputs": [],
   "source": []
  },
  {
   "cell_type": "code",
   "execution_count": 58,
   "id": "da327e6d-d54a-42bf-a591-a55005acebab",
   "metadata": {},
   "outputs": [
    {
     "name": "stdin",
     "output_type": "stream",
     "text": [
      "enter a number 5\n",
      "enter another number 6\n"
     ]
    },
    {
     "name": "stdout",
     "output_type": "stream",
     "text": [
      "else block\n",
      "final result: 0.8333333333333334\n"
     ]
    }
   ],
   "source": [
    "try:\n",
    "    x=int(input(\"enter a number\"))\n",
    "    y=int(input(\"enter another number\"))\n",
    "    result = x/y\n",
    "\n",
    "except ValueError as error:\n",
    "    print(\"invalid input\",error)\n",
    "    result = 1\n",
    "\n",
    "except ZeroDivisionError:\n",
    "    print(\"cant divide by 0\")\n",
    "    result = 0\n",
    "\n",
    "else :\n",
    "    print(\"else block\")\n",
    "    print(\"final result:\",result)\n",
    "\n"
   ]
  },
  {
   "cell_type": "code",
   "execution_count": null,
   "id": "1f0420a8-c459-4a15-8681-bddba7c809e8",
   "metadata": {},
   "outputs": [],
   "source": []
  },
  {
   "cell_type": "code",
   "execution_count": null,
   "id": "abcc8758-ecc7-4f45-b0e5-fc274624d1d8",
   "metadata": {},
   "outputs": [],
   "source": []
  },
  {
   "cell_type": "code",
   "execution_count": null,
   "id": "35ea1d29-70b4-4d34-bd70-d180489439f6",
   "metadata": {},
   "outputs": [],
   "source": []
  },
  {
   "cell_type": "code",
   "execution_count": null,
   "id": "1adf4694-0067-4cbf-b308-fae79226ffd7",
   "metadata": {},
   "outputs": [],
   "source": []
  },
  {
   "cell_type": "code",
   "execution_count": null,
   "id": "c237ae49-4d88-4220-8775-0300d40b51b1",
   "metadata": {},
   "outputs": [],
   "source": []
  },
  {
   "cell_type": "code",
   "execution_count": null,
   "id": "ad5693cf-7fc0-439d-a83f-7128ef26531c",
   "metadata": {},
   "outputs": [],
   "source": []
  },
  {
   "cell_type": "code",
   "execution_count": null,
   "id": "447ecd2e-459f-40e0-8af1-ee91c38e7302",
   "metadata": {},
   "outputs": [],
   "source": []
  },
  {
   "cell_type": "code",
   "execution_count": null,
   "id": "db90aa1a-177f-43e9-9a07-5a3a36fe887b",
   "metadata": {},
   "outputs": [],
   "source": []
  },
  {
   "cell_type": "code",
   "execution_count": null,
   "id": "f5deb0ca-39a0-4cd7-9dde-9e9ec72fa1c7",
   "metadata": {},
   "outputs": [],
   "source": []
  },
  {
   "cell_type": "code",
   "execution_count": null,
   "id": "0b02326f-9e34-4651-9440-ad79fd5a48c9",
   "metadata": {},
   "outputs": [],
   "source": []
  },
  {
   "cell_type": "code",
   "execution_count": null,
   "id": "53021127-7c81-40f2-a978-7ec2e477eb3d",
   "metadata": {},
   "outputs": [],
   "source": []
  }
 ],
 "metadata": {
  "kernelspec": {
   "display_name": "Python 3 (ipykernel)",
   "language": "python",
   "name": "python3"
  },
  "language_info": {
   "codemirror_mode": {
    "name": "ipython",
    "version": 3
   },
   "file_extension": ".py",
   "mimetype": "text/x-python",
   "name": "python",
   "nbconvert_exporter": "python",
   "pygments_lexer": "ipython3",
   "version": "3.8.10"
  }
 },
 "nbformat": 4,
 "nbformat_minor": 5
}
