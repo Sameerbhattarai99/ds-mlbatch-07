{
 "cells": [
  {
   "cell_type": "markdown",
   "id": "578c5386-38d9-47d4-b80c-1e46348e3f8e",
   "metadata": {},
   "source": [
    "# exception handling"
   ]
  },
  {
   "cell_type": "markdown",
   "id": "2483bf9b-ef99-49ad-b17f-2b8632bfb26f",
   "metadata": {},
   "source": [
    "syntax error runtime error logical error "
   ]
  },
  {
   "cell_type": "code",
   "execution_count": null,
   "id": "1d459a0b-9a57-4f55-9fac-47379e8fbb15",
   "metadata": {},
   "outputs": [],
   "source": []
  }
 ],
 "metadata": {
  "kernelspec": {
   "display_name": "Python 3 (ipykernel)",
   "language": "python",
   "name": "python3"
  },
  "language_info": {
   "codemirror_mode": {
    "name": "ipython",
    "version": 3
   },
   "file_extension": ".py",
   "mimetype": "text/x-python",
   "name": "python",
   "nbconvert_exporter": "python",
   "pygments_lexer": "ipython3",
   "version": "3.8.10"
  }
 },
 "nbformat": 4,
 "nbformat_minor": 5
}
