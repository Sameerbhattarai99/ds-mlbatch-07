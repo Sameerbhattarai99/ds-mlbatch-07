{
 "cells": [
  {
   "cell_type": "markdown",
   "id": "578c5386-38d9-47d4-b80c-1e46348e3f8e",
   "metadata": {},
   "source": [
    "# exception handling"
   ]
  },
  {
   "cell_type": "markdown",
   "id": "2483bf9b-ef99-49ad-b17f-2b8632bfb26f",
   "metadata": {},
   "source": [
    "syntax error runtime error logical error "
   ]
  },
  {
   "cell_type": "markdown",
   "id": "102087d2-5105-4233-9eb4-1ed974ef68db",
   "metadata": {},
   "source": [
    "## raise error"
   ]
  },
  {
   "cell_type": "code",
   "execution_count": 10,
   "id": "b15ff5d2-ece7-4c42-8270-4a603e7321e4",
   "metadata": {},
   "outputs": [
    {
     "name": "stdout",
     "output_type": "stream",
     "text": [
      "sqaure of 45 id 2025\n"
     ]
    }
   ],
   "source": [
    "number = 45\n",
    "\n",
    "if isinstance(number,int):\n",
    "    print(f\"sqaure of {number} id {number ** 2}\")\n",
    "\n",
    "else:\n",
    "    raise TypeError(\"value should be integer\")"
   ]
  },
  {
   "cell_type": "code",
   "execution_count": null,
   "id": "fdefe121-e216-40b6-8eb6-cd91ec5a9110",
   "metadata": {},
   "outputs": [],
   "source": []
  },
  {
   "cell_type": "markdown",
   "id": "f3dcbde2-1dab-4058-b88c-def634af8763",
   "metadata": {},
   "source": [
    "### raise statement"
   ]
  },
  {
   "cell_type": "markdown",
   "id": "93aeedd0-1e05-4f0d-9e65-c8c03bd08cdf",
   "metadata": {},
   "source": [
    "```python\n",
    "\n",
    "raise ExceptionType(\"exception message\")"
   ]
  },
  {
   "cell_type": "code",
   "execution_count": null,
   "id": "38f15437-514e-48db-9998-31b9c58b803e",
   "metadata": {},
   "outputs": [],
   "source": []
  },
  {
   "cell_type": "code",
   "execution_count": 11,
   "id": "75341e01-b263-46dd-8f98-16fa99e9da8c",
   "metadata": {},
   "outputs": [
    {
     "ename": "ZeroDivisionError",
     "evalue": "division by zero",
     "output_type": "error",
     "traceback": [
      "\u001b[1;31m---------------------------------------------------------------------------\u001b[0m",
      "\u001b[1;31mZeroDivisionError\u001b[0m                         Traceback (most recent call last)",
      "Cell \u001b[1;32mIn[11], line 3\u001b[0m\n\u001b[0;32m      1\u001b[0m x \u001b[38;5;241m=\u001b[39m \u001b[38;5;241m1\u001b[39m\n\u001b[0;32m      2\u001b[0m y \u001b[38;5;241m=\u001b[39m \u001b[38;5;241m0\u001b[39m\n\u001b[1;32m----> 3\u001b[0m \u001b[43mx\u001b[49m\u001b[43m \u001b[49m\u001b[38;5;241;43m/\u001b[39;49m\u001b[43my\u001b[49m\n",
      "\u001b[1;31mZeroDivisionError\u001b[0m: division by zero"
     ]
    }
   ],
   "source": [
    "# x = 1\n",
    "# y = 0\n",
    "# x /y"
   ]
  },
  {
   "cell_type": "code",
   "execution_count": 12,
   "id": "662edef0-b9b4-4159-ae1b-ae1241abb656",
   "metadata": {},
   "outputs": [
    {
     "ename": "ValueError",
     "evalue": "divisor should not be zero",
     "output_type": "error",
     "traceback": [
      "\u001b[1;31m---------------------------------------------------------------------------\u001b[0m",
      "\u001b[1;31mValueError\u001b[0m                                Traceback (most recent call last)",
      "Cell \u001b[1;32mIn[12], line 4\u001b[0m\n\u001b[0;32m      2\u001b[0m y \u001b[38;5;241m=\u001b[39m \u001b[38;5;241m0\u001b[39m\n\u001b[0;32m      3\u001b[0m \u001b[38;5;28;01mif\u001b[39;00m y \u001b[38;5;241m==\u001b[39m \u001b[38;5;241m0\u001b[39m :\n\u001b[1;32m----> 4\u001b[0m     \u001b[38;5;28;01mraise\u001b[39;00m \u001b[38;5;167;01mValueError\u001b[39;00m(\u001b[38;5;124m\"\u001b[39m\u001b[38;5;124mdivisor should not be zero\u001b[39m\u001b[38;5;124m\"\u001b[39m)\n",
      "\u001b[1;31mValueError\u001b[0m: divisor should not be zero"
     ]
    }
   ],
   "source": [
    "x = 1\n",
    "y = 0\n",
    "if y == 0 :\n",
    "    raise ValueError(\"divisor should not be zero\")"
   ]
  },
  {
   "cell_type": "code",
   "execution_count": null,
   "id": "31223090-0405-4f5e-acec-d93ec2fa0ca8",
   "metadata": {},
   "outputs": [],
   "source": []
  },
  {
   "cell_type": "markdown",
   "id": "b58a663c-cc45-4d38-8139-313ea0c4dbf5",
   "metadata": {},
   "source": [
    "### user defined exception\n"
   ]
  },
  {
   "cell_type": "markdown",
   "id": "521bb8a5-c9f9-43b8-b8fa-4132d37beed9",
   "metadata": {},
   "source": [
    "```python \n",
    "\n",
    "class MyException(Exception):\n",
    "    pass"
   ]
  },
  {
   "cell_type": "code",
   "execution_count": null,
   "id": "89bf0ab5-5a6e-4140-979e-12c246f0fc15",
   "metadata": {},
   "outputs": [],
   "source": []
  },
  {
   "cell_type": "code",
   "execution_count": 14,
   "id": "08a65d3a-bc80-4862-a055-32c82a217c39",
   "metadata": {},
   "outputs": [],
   "source": [
    "class UserNotFound(Exception):\n",
    "    pass"
   ]
  },
  {
   "cell_type": "code",
   "execution_count": 15,
   "id": "eaa560e4-64e2-4227-80a0-509fbc87e3d4",
   "metadata": {},
   "outputs": [],
   "source": [
    "def get_user(user_id):\n",
    "\n",
    "\n",
    "\n",
    "    raise UserNotFound(f\"no user with {user_id}\")"
   ]
  },
  {
   "cell_type": "code",
   "execution_count": 17,
   "id": "11bc795b-e90e-4269-83b8-28ec1adbaf2b",
   "metadata": {},
   "outputs": [
    {
     "ename": "UserNotFound",
     "evalue": "no user with ram",
     "output_type": "error",
     "traceback": [
      "\u001b[1;31m---------------------------------------------------------------------------\u001b[0m",
      "\u001b[1;31mUserNotFound\u001b[0m                              Traceback (most recent call last)",
      "Cell \u001b[1;32mIn[17], line 1\u001b[0m\n\u001b[1;32m----> 1\u001b[0m \u001b[43mget_user\u001b[49m\u001b[43m(\u001b[49m\u001b[38;5;124;43m\"\u001b[39;49m\u001b[38;5;124;43mram\u001b[39;49m\u001b[38;5;124;43m\"\u001b[39;49m\u001b[43m)\u001b[49m\n",
      "Cell \u001b[1;32mIn[15], line 5\u001b[0m, in \u001b[0;36mget_user\u001b[1;34m(user_id)\u001b[0m\n\u001b[0;32m      1\u001b[0m \u001b[38;5;28;01mdef\u001b[39;00m\u001b[38;5;250m \u001b[39m\u001b[38;5;21mget_user\u001b[39m(user_id):\n\u001b[1;32m----> 5\u001b[0m     \u001b[38;5;28;01mraise\u001b[39;00m UserNotFound(\u001b[38;5;124mf\u001b[39m\u001b[38;5;124m\"\u001b[39m\u001b[38;5;124mno user with \u001b[39m\u001b[38;5;132;01m{\u001b[39;00muser_id\u001b[38;5;132;01m}\u001b[39;00m\u001b[38;5;124m\"\u001b[39m)\n",
      "\u001b[1;31mUserNotFound\u001b[0m: no user with ram"
     ]
    }
   ],
   "source": [
    "get_user(\"ram\")"
   ]
  },
  {
   "cell_type": "code",
   "execution_count": null,
   "id": "f5dbbcb5-0efb-49e1-8d25-bfef8c420cad",
   "metadata": {},
   "outputs": [],
   "source": []
  },
  {
   "cell_type": "code",
   "execution_count": null,
   "id": "5c3802cd-1639-400a-a349-d677378a0344",
   "metadata": {},
   "outputs": [],
   "source": []
  }
 ],
 "metadata": {
  "kernelspec": {
   "display_name": "Python 3 (ipykernel)",
   "language": "python",
   "name": "python3"
  },
  "language_info": {
   "codemirror_mode": {
    "name": "ipython",
    "version": 3
   },
   "file_extension": ".py",
   "mimetype": "text/x-python",
   "name": "python",
   "nbconvert_exporter": "python",
   "pygments_lexer": "ipython3",
   "version": "3.8.10"
  }
 },
 "nbformat": 4,
 "nbformat_minor": 5
}
