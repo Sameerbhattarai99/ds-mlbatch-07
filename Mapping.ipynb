{
 "cells": [
  {
   "cell_type": "markdown",
   "id": "15fa4270-feba-43c6-b010-340733e93a41",
   "metadata": {},
   "source": [
    "## Mapping Types"
   ]
  },
  {
   "cell_type": "markdown",
   "id": "bbe20c9a-7b7e-4953-af4e-bd9979a33263",
   "metadata": {},
   "source": [
    "\n",
    "dict = {\n",
    "    key : value,\n",
    "    key2 : vaue2\n",
    "}"
   ]
  },
  {
   "cell_type": "code",
   "execution_count": 14,
   "id": "db5f1b93-647a-488d-914b-b374c1e53973",
   "metadata": {},
   "outputs": [],
   "source": [
    "person = {\n",
    "    \"name\" : \"Ram Hari\",\n",
    "    \"age\" : 30,\n",
    "    \"Gender\" : \"Male\",\n",
    "    \"subjects\" :{\"Maths\",\"Science\"}\n",
    "}"
   ]
  },
  {
   "cell_type": "code",
   "execution_count": 15,
   "id": "cf93d3da-30c3-4304-b32d-d24e6daf379d",
   "metadata": {},
   "outputs": [
    {
     "data": {
      "text/plain": [
       "dict"
      ]
     },
     "execution_count": 15,
     "metadata": {},
     "output_type": "execute_result"
    }
   ],
   "source": [
    "type(person)"
   ]
  },
  {
   "cell_type": "code",
   "execution_count": 12,
   "id": "cd78214e-de20-4cbe-aca0-fc30105f7d0e",
   "metadata": {},
   "outputs": [],
   "source": [
    "person = dict(name=\"hari\" , age=30)"
   ]
  },
  {
   "cell_type": "code",
   "execution_count": 13,
   "id": "f7a5ae27-890e-4686-b47b-001aabe35692",
   "metadata": {},
   "outputs": [
    {
     "name": "stdout",
     "output_type": "stream",
     "text": [
      "{'name': 'hari', 'age': 30}\n"
     ]
    }
   ],
   "source": [
    "print(person)"
   ]
  },
  {
   "cell_type": "markdown",
   "id": "26c50c36-1363-4e8e-bc89-486b44737679",
   "metadata": {},
   "source": [
    "## accessing elements"
   ]
  },
  {
   "cell_type": "code",
   "execution_count": 16,
   "id": "d5409ca2-ccf8-4232-aa59-c10e049fb31a",
   "metadata": {},
   "outputs": [
    {
     "data": {
      "text/plain": [
       "30"
      ]
     },
     "execution_count": 16,
     "metadata": {},
     "output_type": "execute_result"
    }
   ],
   "source": [
    "person[\"age\"]"
   ]
  },
  {
   "cell_type": "code",
   "execution_count": 21,
   "id": "1a1cdbc9-76a6-459d-8cf8-f4818f4f259c",
   "metadata": {},
   "outputs": [
    {
     "data": {
      "text/plain": [
       "1990"
      ]
     },
     "execution_count": 21,
     "metadata": {},
     "output_type": "execute_result"
    }
   ],
   "source": [
    "person.get(\"DOB\",1990)"
   ]
  },
  {
   "cell_type": "code",
   "execution_count": 33,
   "id": "44372ee1-3d91-4d4b-a36e-d87cabf86605",
   "metadata": {},
   "outputs": [
    {
     "data": {
      "text/plain": [
       "{'Maths', 'Science'}"
      ]
     },
     "execution_count": 33,
     "metadata": {},
     "output_type": "execute_result"
    }
   ],
   "source": [
    "person.get(\"subjects\")"
   ]
  },
  {
   "cell_type": "markdown",
   "id": "8c614cad-32f8-4e78-8ae8-b0573adc26d1",
   "metadata": {},
   "source": [
    "## Modifying elements"
   ]
  },
  {
   "cell_type": "code",
   "execution_count": 34,
   "id": "a3f9baa7-e2a5-459c-8d58-a7a842eeaa65",
   "metadata": {},
   "outputs": [
    {
     "name": "stdout",
     "output_type": "stream",
     "text": [
      "{'name': 'Ram Hari', 'age': 30, 'Gender': 'Male', 'subjects': {'Science', 'Maths'}}\n"
     ]
    }
   ],
   "source": [
    "print(person)"
   ]
  },
  {
   "cell_type": "code",
   "execution_count": 38,
   "id": "62c1eabf-4535-4f18-b78c-fb366725bb58",
   "metadata": {},
   "outputs": [],
   "source": [
    "person[\"age\"] = 60"
   ]
  },
  {
   "cell_type": "code",
   "execution_count": 39,
   "id": "8696704b-4b3d-47a4-a988-21bb1de99e53",
   "metadata": {},
   "outputs": [
    {
     "name": "stdout",
     "output_type": "stream",
     "text": [
      "{'name': 'Ram Hari', 'age': 60, 'Gender': 'Male', 'subjects': {'Science', 'Maths'}}\n"
     ]
    }
   ],
   "source": [
    "print(person)"
   ]
  },
  {
   "cell_type": "code",
   "execution_count": 41,
   "id": "722601cf-5fba-4767-ad98-391fb9af815e",
   "metadata": {},
   "outputs": [],
   "source": [
    "person[\"city\"] = \"ktm\""
   ]
  },
  {
   "cell_type": "code",
   "execution_count": 42,
   "id": "c8ca24e2-5d2b-4305-8031-26292ec09188",
   "metadata": {},
   "outputs": [
    {
     "name": "stdout",
     "output_type": "stream",
     "text": [
      "{'name': 'Ram Hari', 'age': 60, 'Gender': 'Male', 'subjects': {'Science', 'Maths'}, 'city': 'ktm'}\n"
     ]
    }
   ],
   "source": [
    "print(person)"
   ]
  },
  {
   "cell_type": "code",
   "execution_count": 43,
   "id": "c45ad965-5b54-43ea-bd7e-da69af9d3926",
   "metadata": {},
   "outputs": [
    {
     "data": {
      "text/plain": [
       "'ktm'"
      ]
     },
     "execution_count": 43,
     "metadata": {},
     "output_type": "execute_result"
    }
   ],
   "source": [
    "person.pop(\"city\")"
   ]
  },
  {
   "cell_type": "code",
   "execution_count": 44,
   "id": "ee2864b0-0cce-44de-a16a-a188cf732be8",
   "metadata": {},
   "outputs": [
    {
     "data": {
      "text/plain": [
       "{'name': 'Ram Hari',\n",
       " 'age': 60,\n",
       " 'Gender': 'Male',\n",
       " 'subjects': {'Maths', 'Science'}}"
      ]
     },
     "execution_count": 44,
     "metadata": {},
     "output_type": "execute_result"
    }
   ],
   "source": [
    " person"
   ]
  },
  {
   "cell_type": "code",
   "execution_count": 45,
   "id": "75315a58-cd12-40d4-a756-236613656c6d",
   "metadata": {},
   "outputs": [
    {
     "data": {
      "text/plain": [
       "('subjects', {'Maths', 'Science'})"
      ]
     },
     "execution_count": 45,
     "metadata": {},
     "output_type": "execute_result"
    }
   ],
   "source": [
    "person.popitem()"
   ]
  },
  {
   "cell_type": "code",
   "execution_count": 46,
   "id": "8565aa76-e5e1-4fb6-87cd-1b587278a5b3",
   "metadata": {},
   "outputs": [
    {
     "name": "stdout",
     "output_type": "stream",
     "text": [
      "{'name': 'Ram Hari', 'age': 60, 'Gender': 'Male'}\n"
     ]
    }
   ],
   "source": [
    "print(person)\n"
   ]
  },
  {
   "cell_type": "code",
   "execution_count": 47,
   "id": "d108fb63-905e-4d94-a9df-93098d710eb9",
   "metadata": {},
   "outputs": [],
   "source": [
    "del person[\"age\"]"
   ]
  },
  {
   "cell_type": "code",
   "execution_count": 48,
   "id": "7de9de05-65c4-43af-aaf5-7e3c3358d865",
   "metadata": {},
   "outputs": [
    {
     "data": {
      "text/plain": [
       "{'name': 'Ram Hari', 'Gender': 'Male'}"
      ]
     },
     "execution_count": 48,
     "metadata": {},
     "output_type": "execute_result"
    }
   ],
   "source": [
    "person"
   ]
  },
  {
   "cell_type": "markdown",
   "id": "eb6844c3-dcad-4fcd-9799-d7d2bafd2099",
   "metadata": {},
   "source": [
    "## dictionary methods\n"
   ]
  },
  {
   "cell_type": "code",
   "execution_count": 49,
   "id": "0c748219-fc46-4dc0-973a-ce6227632e01",
   "metadata": {},
   "outputs": [],
   "source": [
    "person = {\n",
    "    \"name\" : \"Ram Hari\",\n",
    "    \"age\" : 30,\n",
    "    \"Gender\" : \"Male\",\n",
    "    \"subjects\" :{\"Maths\",\"Science\"}\n",
    "}"
   ]
  },
  {
   "cell_type": "code",
   "execution_count": 50,
   "id": "97c3181d-0faf-4534-a727-57ceb7ade2b9",
   "metadata": {},
   "outputs": [
    {
     "data": {
      "text/plain": [
       "dict_keys(['name', 'age', 'Gender', 'subjects'])"
      ]
     },
     "execution_count": 50,
     "metadata": {},
     "output_type": "execute_result"
    }
   ],
   "source": [
    "person.keys()"
   ]
  },
  {
   "cell_type": "code",
   "execution_count": 52,
   "id": "6c50adf0-b213-475b-aa77-0fecc0c91be8",
   "metadata": {},
   "outputs": [
    {
     "data": {
      "text/plain": [
       "dict_values(['Ram Hari', 30, 'Male', {'Science', 'Maths'}])"
      ]
     },
     "execution_count": 52,
     "metadata": {},
     "output_type": "execute_result"
    }
   ],
   "source": [
    "person.values()"
   ]
  },
  {
   "cell_type": "code",
   "execution_count": 53,
   "id": "371643d8-52db-4dab-9467-c53d8c3f3f5a",
   "metadata": {},
   "outputs": [
    {
     "data": {
      "text/plain": [
       "dict_items([('name', 'Ram Hari'), ('age', 30), ('Gender', 'Male'), ('subjects', {'Science', 'Maths'})])"
      ]
     },
     "execution_count": 53,
     "metadata": {},
     "output_type": "execute_result"
    }
   ],
   "source": [
    "person.items()"
   ]
  },
  {
   "cell_type": "code",
   "execution_count": 56,
   "id": "be7f4569-6dcf-45f3-ab5f-26f608ef3a05",
   "metadata": {},
   "outputs": [
    {
     "data": {
      "text/plain": [
       "{'name': 'Ram Hari',\n",
       " 'age': 30,\n",
       " 'Gender': 'Male',\n",
       " 'subjects': {'Maths', 'Science'},\n",
       " 'gender': 'none'}"
      ]
     },
     "execution_count": 56,
     "metadata": {},
     "output_type": "execute_result"
    }
   ],
   "source": [
    "person2 = person #copy memory\n",
    "person2[\"gender\"] = \"none\"\n",
    "person2\n"
   ]
  },
  {
   "cell_type": "code",
   "execution_count": 57,
   "id": "195505c7-0733-42f9-96cf-6488c9bf56b7",
   "metadata": {},
   "outputs": [
    {
     "data": {
      "text/plain": [
       "{'name': 'Ram Hari',\n",
       " 'age': 30,\n",
       " 'Gender': 'Male',\n",
       " 'subjects': {'Maths', 'Science'},\n",
       " 'gender': 'none'}"
      ]
     },
     "execution_count": 57,
     "metadata": {},
     "output_type": "execute_result"
    }
   ],
   "source": [
    "person"
   ]
  },
  {
   "cell_type": "code",
   "execution_count": null,
   "id": "895cc4d6-240a-41f9-8e1f-6a015f5d848a",
   "metadata": {},
   "outputs": [],
   "source": []
  },
  {
   "cell_type": "markdown",
   "id": "5cf7535b-0a4a-4834-b365-47682d04a2dc",
   "metadata": {},
   "source": [
    "## Merge Dicts"
   ]
  },
  {
   "cell_type": "code",
   "execution_count": 70,
   "id": "5255ce0f-7012-4847-8873-0272f8e3e925",
   "metadata": {},
   "outputs": [],
   "source": [
    "dict1 = {\"name\" : \"sam\" , \"age\" :65}\n",
    "dict2 = {\"id\" : 4 , \"subjects\" : [\"maths\"]}"
   ]
  },
  {
   "cell_type": "code",
   "execution_count": 71,
   "id": "e1eff866-4584-4e07-b220-a69d2c305597",
   "metadata": {},
   "outputs": [
    {
     "ename": "TypeError",
     "evalue": "unsupported operand type(s) for |: 'dict' and 'dict'",
     "output_type": "error",
     "traceback": [
      "\u001b[1;31m---------------------------------------------------------------------------\u001b[0m",
      "\u001b[1;31mTypeError\u001b[0m                                 Traceback (most recent call last)",
      "Cell \u001b[1;32mIn[71], line 1\u001b[0m\n\u001b[1;32m----> 1\u001b[0m \u001b[43mdict1\u001b[49m\u001b[43m \u001b[49m\u001b[38;5;241;43m|\u001b[39;49m\u001b[43m \u001b[49m\u001b[43mdict2\u001b[49m\n",
      "\u001b[1;31mTypeError\u001b[0m: unsupported operand type(s) for |: 'dict' and 'dict'"
     ]
    }
   ],
   "source": [
    "dict1 | dict2"
   ]
  },
  {
   "cell_type": "code",
   "execution_count": null,
   "id": "0e7ab863-46be-4462-8cd6-dafaf68b4dc2",
   "metadata": {},
   "outputs": [],
   "source": [
    "\n",
    "\n"
   ]
  },
  {
   "cell_type": "markdown",
   "id": "ff698f76-93c7-46d4-ae86-8eb73e0e9346",
   "metadata": {},
   "source": [
    "## Sorted methods"
   ]
  },
  {
   "cell_type": "code",
   "execution_count": 81,
   "id": "33186206-c13e-479b-a398-cb0ca8695a81",
   "metadata": {},
   "outputs": [],
   "source": [
    "person = {\n",
    "    \"name\" : \"Ram Hari\",\n",
    "    \"age\" : \"30\",\n",
    "    \"Gender\" : \"Male\",\n",
    "    \"subjects\" :{\"Maths\",\"Science\"}\n",
    "}"
   ]
  },
  {
   "cell_type": "code",
   "execution_count": 82,
   "id": "3cd9444a-de1c-4145-aad2-452842e2c42c",
   "metadata": {},
   "outputs": [
    {
     "data": {
      "text/plain": [
       "dict_items([('name', 'Ram Hari'), ('age', '30'), ('Gender', 'Male'), ('subjects', {'Science', 'Maths'})])"
      ]
     },
     "execution_count": 82,
     "metadata": {},
     "output_type": "execute_result"
    }
   ],
   "source": [
    "person.items()"
   ]
  },
  {
   "cell_type": "code",
   "execution_count": 85,
   "id": "6d55ae7f-22f3-4e2d-8d29-4a2478322d71",
   "metadata": {},
   "outputs": [
    {
     "data": {
      "text/plain": [
       "[('Gender', 'Male'),\n",
       " ('age', '30'),\n",
       " ('name', 'Ram Hari'),\n",
       " ('subjects', {'Maths', 'Science'})]"
      ]
     },
     "execution_count": 85,
     "metadata": {},
     "output_type": "execute_result"
    }
   ],
   "source": [
    "sorted(person.items(), key = lambda item:item[0])"
   ]
  },
  {
   "cell_type": "code",
   "execution_count": null,
   "id": "cfba2693-abc2-4bf3-bf60-b0fdfdd461b5",
   "metadata": {},
   "outputs": [],
   "source": []
  }
 ],
 "metadata": {
  "kernelspec": {
   "display_name": "Python 3 (ipykernel)",
   "language": "python",
   "name": "python3"
  },
  "language_info": {
   "codemirror_mode": {
    "name": "ipython",
    "version": 3
   },
   "file_extension": ".py",
   "mimetype": "text/x-python",
   "name": "python",
   "nbconvert_exporter": "python",
   "pygments_lexer": "ipython3",
   "version": "3.8.10"
  }
 },
 "nbformat": 4,
 "nbformat_minor": 5
}
