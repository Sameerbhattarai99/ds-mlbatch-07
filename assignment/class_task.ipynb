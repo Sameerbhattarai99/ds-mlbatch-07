{
 "cells": [
  {
   "cell_type": "markdown",
   "id": "66934ae9-9dba-4019-887d-f588181febad",
   "metadata": {},
   "source": [
    "Write a function called `filter_even_numbers(nums)` that takes a list of numbers and\n",
    "returns only the even numbers using a list comprehension.\n",
    "Example Input:\n",
    "filter_even_numbers([1, 2, 3, 4, 5, 6])\n",
    "Expected Output:\n",
    "[2, 4, 6]\n"
   ]
  },
  {
   "cell_type": "code",
   "execution_count": null,
   "id": "4b7a6f18-709d-42c4-bbd7-6a399037fec7",
   "metadata": {},
   "outputs": [],
   "source": []
  },
  {
   "cell_type": "code",
   "execution_count": 7,
   "id": "602c3ea3-bc97-4288-ac38-be5acd5ef1f2",
   "metadata": {},
   "outputs": [
    {
     "name": "stdout",
     "output_type": "stream",
     "text": [
      "[2, 4, 6]\n"
     ]
    }
   ],
   "source": [
    "filter_even_numbers = [num for num in range(1,7) if num%2==0]\n",
    "print(filter_even_numbers)"
   ]
  },
  {
   "cell_type": "code",
   "execution_count": null,
   "id": "dd980549-6754-4afa-9645-997545447535",
   "metadata": {},
   "outputs": [],
   "source": []
  },
  {
   "cell_type": "markdown",
   "id": "17b1e35f-53f0-424d-896a-772797515c99",
   "metadata": {},
   "source": [
    "Write a function `count_vowels(sentence)` that takes a string and returns a dictionary\n",
    "with counts of each vowel (a, e, i, o, u). Use a dictionary comprehension.\n",
    "Example Input:\n",
    "count_vowels(\"Skill Shikshya is amazing\")\n",
    "Expected Output:\n",
    "{'a': 2, 'e': 0, 'i': 4, 'o': 0, 'u': 0}"
   ]
  },
  {
   "cell_type": "code",
   "execution_count": null,
   "id": "85de21a4-991b-4a2d-8bb0-8e87b56b286d",
   "metadata": {},
   "outputs": [],
   "source": []
  },
  {
   "cell_type": "code",
   "execution_count": 10,
   "id": "065ec3ef-4d30-4358-9c38-3b3d70bba5cd",
   "metadata": {},
   "outputs": [
    {
     "name": "stdout",
     "output_type": "stream",
     "text": [
      "{'a': 3, 'e': 0, 'i': 4, 'o': 0, 'u': 0}\n"
     ]
    }
   ],
   "source": [
    "def count_vowels(sentence):\n",
    "    sentence = sentence.lower()\n",
    "    return {vowel: sentence.count(vowel) for vowel in 'aeiou'}\n",
    "\n",
    "\n",
    "print(count_vowels(\"Skill Shikshya is amazing\"))"
   ]
  },
  {
   "cell_type": "code",
   "execution_count": null,
   "id": "001bbdfe-7a52-47a1-84b0-801e2c3487e2",
   "metadata": {},
   "outputs": [],
   "source": []
  },
  {
   "cell_type": "markdown",
   "id": "bc60ee7c-4fb7-4ff1-866d-a74efd8d4bf3",
   "metadata": {},
   "source": [
    "Create a class `BankAccount` with the following:\n",
    "- An attribute `balance` (default = 0)\n",
    "- Method `deposit(amount)` that adds amount to balance\n",
    "- Method `withdraw(amount)` that subtracts from balance only if balance is sufficient,\n",
    "otherwise raises ValueError with message \"Insufficient funds.\"\n",
    "Then write code to create an account, deposit 500, try to withdraw 800, and handle the\n",
    "exception."
   ]
  },
  {
   "cell_type": "code",
   "execution_count": 37,
   "id": "3dd732b0-df82-496a-b65a-c4e977c73e93",
   "metadata": {},
   "outputs": [
    {
     "ename": "IndentationError",
     "evalue": "unexpected indent (3833928607.py, line 18)",
     "output_type": "error",
     "traceback": [
      "\u001b[1;36m  Cell \u001b[1;32mIn[37], line 18\u001b[1;36m\u001b[0m\n\u001b[1;33m    print(f\" {self.__balance}\")\u001b[0m\n\u001b[1;37m    ^\u001b[0m\n\u001b[1;31mIndentationError\u001b[0m\u001b[1;31m:\u001b[0m unexpected indent\n"
     ]
    }
   ],
   "source": [
    "def withdraw(self,amount):\n",
    " if amount > 0:\n"
   ]
  },
  {
   "cell_type": "code",
   "execution_count": 36,
   "id": "cb51f7f0-e6bd-4636-9861-8de809a42ece",
   "metadata": {},
   "outputs": [
    {
     "name": "stdout",
     "output_type": "stream",
     "text": [
      "added 500 to account\n",
      " 500\n"
     ]
    }
   ],
   "source": [
    "acc = BankAccount(0)\n",
    "acc.deposit(500)\n",
    "acc.withdraw(800)\n"
   ]
  },
  {
   "cell_type": "markdown",
   "id": "a8e70d8e-e5a0-4f4a-a5fd-1a31109cf89c",
   "metadata": {},
   "source": [
    "Write a function `custom_sum(*args, **kwargs)` that does the following:\n",
    "- Sums all positional arguments (`args`)\n",
    "- If a keyword argument `double=True` is passed, it should return double the sum.\n",
    "Example:\n",
    "custom_sum(1, 2, 3, 4) → 10\n",
    "custom_sum(1, 2, 3, double=True) → 12"
   ]
  },
  {
   "cell_type": "code",
   "execution_count": 30,
   "id": "337be3da-7e9e-47c1-8bd7-123db548412c",
   "metadata": {},
   "outputs": [],
   "source": [
    "def custom_sum(*args, **kwargs):\n",
    "    total = sum(args)\n",
    "    if kwargs.get('double', True):\n",
    "        return total + 2\n",
    "    return total\n"
   ]
  },
  {
   "cell_type": "code",
   "execution_count": null,
   "id": "7e0547e7-e4be-490d-b34a-f47c3ad7b607",
   "metadata": {},
   "outputs": [],
   "source": [
    "custom_sum(1,2,3,4)"
   ]
  },
  {
   "cell_type": "code",
   "execution_count": 29,
   "id": "0926427e-32e9-42d2-b612-a7b7ac0eea38",
   "metadata": {},
   "outputs": [
    {
     "data": {
      "text/plain": [
       "12"
      ]
     },
     "execution_count": 29,
     "metadata": {},
     "output_type": "execute_result"
    }
   ],
   "source": [
    "custom_sum(1,2,3,4,double=True)"
   ]
  },
  {
   "cell_type": "code",
   "execution_count": null,
   "id": "664b2403-def1-4b22-bb6d-3551f9c2fb94",
   "metadata": {},
   "outputs": [],
   "source": []
  }
 ],
 "metadata": {
  "kernelspec": {
   "display_name": "Python 3 (ipykernel)",
   "language": "python",
   "name": "python3"
  },
  "language_info": {
   "codemirror_mode": {
    "name": "ipython",
    "version": 3
   },
   "file_extension": ".py",
   "mimetype": "text/x-python",
   "name": "python",
   "nbconvert_exporter": "python",
   "pygments_lexer": "ipython3",
   "version": "3.8.10"
  }
 },
 "nbformat": 4,
 "nbformat_minor": 5
}
