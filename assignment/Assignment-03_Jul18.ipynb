{
 "cells": [
  {
   "cell_type": "markdown",
   "id": "119ef6a9",
   "metadata": {},
   "source": [
    "### Math Tutor Using Random, Arithmetic Operators, and OOP\n",
    "\n",
    "*Scenario:*\n",
    "Create a `MathTutor` class that generates random math questions using `random` and `math operators`.\n",
    "\n",
    "* Track correct and incorrect answers.\n",
    "* Provide a score at the end.\n",
    "* Handle invalid input using exception handling.\n",
    "\n",
    "> Concepts: Random, Math, Exception Handling, Classes"
   ]
  },
  {
   "cell_type": "code",
   "execution_count": 1,
   "id": "77dc396f",
   "metadata": {},
   "outputs": [
    {
     "name": "stdout",
     "output_type": "stream",
     "text": [
      "👨‍🏫 Welcome to the Math Tutor!\n",
      "Question 1: What is 4 / 11?\n"
     ]
    },
    {
     "name": "stdout",
     "output_type": "stream",
     "text": [
      "Your answer:  2\n"
     ]
    },
    {
     "name": "stdout",
     "output_type": "stream",
     "text": [
      "❌ Incorrect! Correct answer was: 0.36\n",
      "\n",
      "Question 2: What is 4 * 10?\n"
     ]
    },
    {
     "name": "stdout",
     "output_type": "stream",
     "text": [
      "Your answer:  40\n"
     ]
    },
    {
     "name": "stdout",
     "output_type": "stream",
     "text": [
      "✅ Correct!\n",
      "\n",
      "Question 3: What is 14 - 11?\n"
     ]
    },
    {
     "name": "stdout",
     "output_type": "stream",
     "text": [
      "Your answer:  3\n"
     ]
    },
    {
     "name": "stdout",
     "output_type": "stream",
     "text": [
      "✅ Correct!\n",
      "\n",
      "Question 4: What is 10 * 20?\n"
     ]
    },
    {
     "name": "stdout",
     "output_type": "stream",
     "text": [
      "Your answer:  200\n"
     ]
    },
    {
     "name": "stdout",
     "output_type": "stream",
     "text": [
      "✅ Correct!\n",
      "\n",
      "Question 5: What is 16 - 14?\n"
     ]
    },
    {
     "name": "stdout",
     "output_type": "stream",
     "text": [
      "Your answer:  2\n"
     ]
    },
    {
     "name": "stdout",
     "output_type": "stream",
     "text": [
      "✅ Correct!\n",
      "\n",
      "\n",
      "📊 Final Score:\n",
      "✅ Correct Answers: 4\n",
      "❌ Incorrect Answers: 1\n",
      "🎯 Score: 80.00%\n"
     ]
    }
   ],
   "source": [
    "# Your Solution Here\n",
    "\n",
    "import random\n",
    "\n",
    "# Step 1: Create MathTutor class\n",
    "class MathTutor:\n",
    "    def __init__(self, num_questions=5):\n",
    "        self.num_questions = num_questions\n",
    "        self.correct_answers = 0\n",
    "        self.incorrect_answers = 0\n",
    "        self.operators = ['+', '-', '*', '/']\n",
    "\n",
    "    # Step 2 and 3: Generate a math question\n",
    "    def generate_question(self):\n",
    "        num1 = random.randint(1, 20)\n",
    "        num2 = random.randint(1, 20)\n",
    "        operator = random.choice(self.operators)\n",
    "\n",
    "        # Prevent division by zero\n",
    "        if operator == '/':\n",
    "            while num2 == 0:\n",
    "                num2 = random.randint(1, 20)\n",
    "\n",
    "        question = f\"{num1} {operator} {num2}\"\n",
    "        answer = eval(question)  # Calculate the result\n",
    "        return question, round(answer, 2)\n",
    "\n",
    "    # Step 4, 5, 6: Ask user and check answer\n",
    "    def ask_question(self):\n",
    "        for i in range(1, self.num_questions + 1):\n",
    "            question, answer = self.generate_question()\n",
    "            print(f\"Question {i}: What is {question}?\")\n",
    "\n",
    "            try:\n",
    "                user_input = input(\"Your answer: \")\n",
    "                user_answer = float(user_input)\n",
    "\n",
    "                if abs(user_answer - answer) < 0.01:\n",
    "                    print(\"✅ Correct!\\n\")\n",
    "                    self.correct_answers += 1\n",
    "                else:\n",
    "                    print(f\"❌ Incorrect! Correct answer was: {answer}\\n\")\n",
    "                    self.incorrect_answers += 1\n",
    "\n",
    "            except ValueError:\n",
    "                print(\"⚠️ Invalid input! That counts as incorrect.\\n\")\n",
    "                self.incorrect_answers += 1\n",
    "\n",
    "    # Step 7: Show final score\n",
    "    def show_score(self):\n",
    "        print(\"\\n📊 Final Score:\")\n",
    "        print(f\"✅ Correct Answers: {self.correct_answers}\")\n",
    "        print(f\"❌ Incorrect Answers: {self.incorrect_answers}\")\n",
    "        score_percent = (self.correct_answers / self.num_questions) * 100\n",
    "        print(f\"🎯 Score: {score_percent:.2f}%\")\n",
    "\n",
    "    # Start the game\n",
    "    def start(self):\n",
    "        print(\"👨‍🏫 Welcome to the Math Tutor!\")\n",
    "        self.ask_question()\n",
    "        self.show_score()\n",
    "\n",
    "# Run the program\n",
    "if __name__ == \"__main__\":\n",
    "    tutor = MathTutor(num_questions=5)\n",
    "    tutor.start()\n"
   ]
  },
  {
   "cell_type": "markdown",
   "id": "360b4034",
   "metadata": {},
   "source": [
    "### Multi-file Project Using Modules and Packages\n",
    "\n",
    "*Scenario:*\n",
    "You're building a small finance app.\n",
    "\n",
    "* Create a package `finance_tools` with modules: `tax.py` and `loan.py`.\n",
    "* Each module contains utility functions like `calculate_tax()` and `calculate_emi()`.\n",
    "* Import and use them in a main script that takes user input to do both.\n",
    "\n",
    "> Concepts: Packages, Modules, Importing, Separation of Concerns\n"
   ]
  },
  {
   "cell_type": "code",
   "execution_count": 2,
   "id": "fbf73825",
   "metadata": {},
   "outputs": [
    {
     "name": "stdout",
     "output_type": "stream",
     "text": [
      "📊 Welcome to the Finance Calculator\n"
     ]
    },
    {
     "name": "stdin",
     "output_type": "stream",
     "text": [
      "Enter your annual income:  4\n",
      "Enter tax rate (%):  4\n"
     ]
    },
    {
     "name": "stdout",
     "output_type": "stream",
     "text": [
      "🧾 Your tax is: $0.16\n",
      "\n",
      "---\n",
      "\n"
     ]
    },
    {
     "name": "stdin",
     "output_type": "stream",
     "text": [
      "Enter loan amount:  4\n",
      "Enter interest rate (%):  44\n",
      "Enter loan duration (years):  4\n"
     ]
    },
    {
     "name": "stdout",
     "output_type": "stream",
     "text": [
      "💰 Your monthly EMI is: $0.18\n",
      "\n",
      "✅ Thank you for using the app!\n"
     ]
    },
    {
     "name": "stdout",
     "output_type": "stream",
     "text": [
      "Enter your annual income:  1200\n",
      "Enter tax rate (%):  3\n"
     ]
    },
    {
     "name": "stdout",
     "output_type": "stream",
     "text": [
      "🧾 Your tax is: $36.0\n",
      "\n",
      "---\n",
      "\n"
     ]
    },
    {
     "name": "stdout",
     "output_type": "stream",
     "text": [
      "Enter loan amount:  100\n",
      "Enter interest rate (%):  3\n",
      "Enter loan duration (years):  2\n"
     ]
    },
    {
     "name": "stdout",
     "output_type": "stream",
     "text": [
      "💰 Your monthly EMI is: $4.3\n",
      "\n",
      "✅ Thank you for using the app!\n"
     ]
    }
   ],
   "source": [
    "# Your Solution Here\n",
    "# assignment/main.py\n",
    "\n",
    "from tax import calculate_tax\n",
    "from loan import calculate_emi\n",
    "\n",
    "def main():\n",
    "    print(\"📊 Welcome to the Finance Calculator\")\n",
    "\n",
    "    # Tax Calculation\n",
    "    try:\n",
    "        income = float(input(\"Enter your annual income: \"))\n",
    "        tax_rate = float(input(\"Enter tax rate (%): \"))\n",
    "        tax = calculate_tax(income, tax_rate)\n",
    "        print(f\"🧾 Your tax is: ${tax}\")\n",
    "    except ValueError:\n",
    "        print(\"⚠️ Invalid input for income or tax rate.\")\n",
    "\n",
    "    print(\"\\n---\\n\")\n",
    "\n",
    "    # EMI Calculation\n",
    "    try:\n",
    "        principal = float(input(\"Enter loan amount: \"))\n",
    "        rate = float(input(\"Enter interest rate (%): \"))\n",
    "        time = float(input(\"Enter loan duration (years): \"))\n",
    "        emi = calculate_emi(principal, rate, time)\n",
    "        print(f\"💰 Your monthly EMI is: ${emi}\")\n",
    "    except ValueError:\n",
    "        print(\"⚠️ Invalid input for loan calculation.\")\n",
    "\n",
    "    print(\"\\n✅ Thank you for using the app!\")\n",
    "\n",
    "if __name__ == \"__main__\":\n",
    "    main()\n"
   ]
  },
  {
   "cell_type": "markdown",
   "id": "1ecd8aa7",
   "metadata": {},
   "source": [
    "### Exception Handling Scenario: Online Age-Restricted Service\n",
    "\n",
    "**Scenario:**\n",
    "You’re building a sign-up system for an online movie rental platform. Some movies are age-restricted (18+). You need to ensure proper validation and error handling during user registration.\n",
    "\n",
    "**Task:**\n",
    "\n",
    "1. Create a custom exception class called `UnderageError` that inherits from `Exception`.\n",
    "2. Write a function `register_user()` that:\n",
    "\n",
    "   * Takes a user’s `name` and `age` as input.\n",
    "   * Raises `UnderageError` if the user is under 18.\n",
    "   * Otherwise, prints a welcome message.\n",
    "3. Wrap the function call in a `try` block and handle the exception.\n",
    "4. Use `else` to confirm successful registration and `finally` to always print **“Thank you for using MovieTime!”** regardless of outcome.\n",
    "\n",
    "Also try to validate if the age input is numeric. Raise a `ValueError` if not, and handle it separately.\n",
    "\n"
   ]
  },
  {
   "cell_type": "code",
   "execution_count": 3,
   "id": "3fd54170",
   "metadata": {},
   "outputs": [
    {
     "name": "stdout",
     "output_type": "stream",
     "text": [
      "Enter your name:  sam\n",
      "Enter your age:  22\n"
     ]
    },
    {
     "name": "stdout",
     "output_type": "stream",
     "text": [
      "✅ Welcome to MovieTime, sam!\n",
      "🎉 Registration completed successfully!\n",
      "🎬 Thank you for using MovieTime!\n"
     ]
    }
   ],
   "source": [
    "# Your Solution Here\n",
    "class UnderageError(Exception):\n",
    "    \"\"\"Raised when user is under 18 years old.\"\"\"\n",
    "    pass\n",
    "\n",
    "def register_user():\n",
    "    name = input(\"Enter your name: \")\n",
    "    age_input = input(\"Enter your age: \")\n",
    "\n",
    "    if not age_input.isdigit():\n",
    "        raise ValueError(\"Age must be a number.\")\n",
    "\n",
    "    age = int(age_input)\n",
    "\n",
    "    if age < 18:\n",
    "        raise UnderageError(\"You must be at least 18 years old to register.\")\n",
    "\n",
    "    print(f\"✅ Welcome to MovieTime, {name}!\")\n",
    "\n",
    "try:\n",
    "    register_user()\n",
    "\n",
    "except UnderageError as ue:\n",
    "    print(f\"❌ Registration failed: {ue}\")\n",
    "\n",
    "except ValueError as ve:\n",
    "    print(f\"⚠️ Invalid input: {ve}\")\n",
    "\n",
    "else:\n",
    "    print(\"🎉 Registration completed successfully!\")\n",
    "\n",
    "finally:\n",
    "    print(\"🎬 Thank you for using MovieTime!\")\n"
   ]
  },
  {
   "cell_type": "markdown",
   "id": "7e76d9b4",
   "metadata": {},
   "source": [
    "# Problem Statement\n",
    "\n",
    "We want to build an online shopping cart system that allows users to add products to their cart, calculate the total cost, apply discounts, and generate an invoice. The system should include the following functionalities:\n",
    "\n",
    "- Adding products to the cart\n",
    "- Removing products from the cart\n",
    "- Calculating the total cost\n",
    "- Applying discounts based on user type\n",
    "- Generating an invoice\n",
    "\n",
    "### 1. Create the Product class\n",
    "\n",
    "We create a basic `Product` class with attributes for the product name and price."
   ]
  },
  {
   "cell_type": "code",
   "execution_count": 7,
   "id": "a286f01a",
   "metadata": {},
   "outputs": [],
   "source": [
    "# Your Solution Here\n",
    "class Product:\n",
    "    def __init__(self, name: str, price: float):\n",
    "        self.name = name\n",
    "        self.price = price\n",
    "\n",
    "    def __str__(self):\n",
    "        return f\"{self.name} - ${self.price:}\"\n"
   ]
  },
  {
   "cell_type": "markdown",
   "id": "0c9aa397",
   "metadata": {},
   "source": [
    "### 2.  Implement the User class\n",
    "\n",
    "In this step, we create a `User` class with attributes for the user's name and whether they are a premium member."
   ]
  },
  {
   "cell_type": "code",
   "execution_count": 8,
   "id": "3393e953",
   "metadata": {},
   "outputs": [],
   "source": [
    "# Your Solution Here\n",
    "class User:\n",
    "    def __init__(self, name: str, is_premium: bool = False):\n",
    "        self.name = name\n",
    "        self.is_premium = is_premium\n",
    "\n",
    "    def __repr__(self):\n",
    "        status = \"Premium\" if self.is_premium else \"Standard\"\n",
    "        return f\"User(name='{self.name}', status='{status}')\"\n"
   ]
  },
  {
   "cell_type": "markdown",
   "id": "3b7e070b",
   "metadata": {},
   "source": [
    "### 3. Create the ShoppingCart class\n",
    "\n",
    "In this step, we create a `ShoppingCart` class with methods for adding and removing products from the cart, as well as calculating the total cost of the items in the cart.\n",
    "\n",
    "**Note**: Define `calculate_total_cost` method in the `ShoppingCart` class, that applies a `10%` discount to the total cost if you are `premium` User."
   ]
  },
  {
   "cell_type": "code",
   "execution_count": 9,
   "id": "c0b5196d",
   "metadata": {},
   "outputs": [],
   "source": [
    "# Your Solution Here\n",
    "class ShoppingCart:\n",
    "    def __init__(self, user: User):\n",
    "        self.user = user\n",
    "        self.products = []  # list to hold products added to the cart\n",
    "\n",
    "    def add_product(self, product):\n",
    "        self.products.append(product)\n",
    "\n",
    "    def remove_product(self, product):\n",
    "        try:\n",
    "            self.products.remove(product)\n",
    "        except ValueError:\n",
    "            print(\"Product not found in the cart.\")\n",
    "\n",
    "    def calculate_total_cost(self) -> float:\n",
    "        total = sum(product.price for product in self.products)\n",
    "        if self.user.is_premium:\n",
    "            total *= 0.9  # Apply 10% discount for premium users\n",
    "        return total\n",
    "\n",
    "    def __repr__(self):\n",
    "        return f\"ShoppingCart(user={self.user}, products={self.products})\""
   ]
  },
  {
   "cell_type": "markdown",
   "id": "afc26053",
   "metadata": {},
   "source": [
    "### 4. Testing the functionality\n",
    "\n",
    "Now that we have implemented the necessary classes and methods, let's test our online shopping cart system:"
   ]
  },
  {
   "cell_type": "code",
   "execution_count": 10,
   "id": "6186bdcb",
   "metadata": {},
   "outputs": [
    {
     "name": "stdout",
     "output_type": "stream",
     "text": [
      "Standard Total: $1545\n",
      "Premium Total (10% off): $1390.5\n"
     ]
    }
   ],
   "source": [
    "\n",
    "# Your Solution Here\n",
    "def test_cart():\n",
    "    user_std = User(\"John\")\n",
    "    user_prem = User(\"Jane\", is_premium=True)\n",
    "\n",
    "    p1 = Product(\"Laptop\", 1500)\n",
    "    p2 = Product(\"Mouse\", 25)\n",
    "    p3 = Product(\"Keyboard\", 45)\n",
    "\n",
    "    cart_std = ShoppingCart(user_std)\n",
    "    cart_prem = ShoppingCart(user_prem)\n",
    "\n",
    "    cart_std.add_product(p1)\n",
    "    cart_std.add_product(p2)\n",
    "    cart_std.add_product(p3)\n",
    "    cart_std.remove_product(p2)  # remove Mouse\n",
    "\n",
    "    cart_prem.add_product(p1)\n",
    "    cart_prem.add_product(p3)\n",
    "\n",
    "    print(f\"Standard Total: ${cart_std.calculate_total_cost():}\")\n",
    "    print(f\"Premium Total (10% off): ${cart_prem.calculate_total_cost():}\")\n",
    "\n",
    "test_cart()"
   ]
  },
  {
   "cell_type": "markdown",
   "id": "7ea7c96e",
   "metadata": {},
   "source": [
    "### \n",
    "\n",
    "5. Generating Invoice for a given cart"
   ]
  },
  {
   "cell_type": "code",
   "execution_count": 8,
   "id": "c727607d-74ed-4609-bc88-3a14049c162f",
   "metadata": {},
   "outputs": [],
   "source": [
    "# Your Solution Here"
   ]
  },
  {
   "cell_type": "code",
   "execution_count": 11,
   "id": "59e0bc19-36f6-4f4f-9d96-994e0dc19b59",
   "metadata": {},
   "outputs": [
    {
     "name": "stdout",
     "output_type": "stream",
     "text": [
      "Invoice for sameer\n",
      "------------------------------\n",
      "Laptop               $ 1500.00\n",
      "Mouse                $   25.00\n",
      "------------------------------\n",
      "Subtotal:           $ 1525.00\n",
      "Premium Discount:  -$  152.50\n",
      "------------------------------\n",
      "Total:              $ 1372.50\n"
     ]
    }
   ],
   "source": [
    "class InvoiceGenerator:\n",
    "    def __init__(self, cart: ShoppingCart):\n",
    "        self.cart = cart\n",
    "\n",
    "    def generate(self) -> str:\n",
    "        lines = [f\"Invoice for {self.cart.user.name}\", \"-\" * 30]\n",
    "        total = 0.0\n",
    "        for product in self.cart.products:\n",
    "            lines.append(f\"{product.name:20} ${product.price:8.2f}\")\n",
    "            total += product.price\n",
    "\n",
    "        discount = 0.0\n",
    "        if self.cart.user.is_premium:\n",
    "            discount = total * 0.1\n",
    "            lines.append(\"-\" * 30)\n",
    "            lines.append(f\"Subtotal:           ${total:8.2f}\")\n",
    "            lines.append(f\"Premium Discount:  -${discount:8.2f}\")\n",
    "\n",
    "        final_total = total - discount\n",
    "        lines.append(\"-\" * 30)\n",
    "        lines.append(f\"Total:              ${final_total:8.2f}\")\n",
    "\n",
    "        return \"\\n\".join(lines)\n",
    "\n",
    "user = User(\"sameer\", is_premium=True)\n",
    "cart = ShoppingCart(user)\n",
    "\n",
    "cart.add_product(Product(\"Laptop\", 1500))\n",
    "cart.add_product(Product(\"Mouse\", 25))\n",
    "\n",
    "invoice_gen = InvoiceGenerator(cart)\n",
    "print(invoice_gen.generate())"
   ]
  },
  {
   "cell_type": "code",
   "execution_count": null,
   "id": "532977b9-8f9b-4a48-ba7e-61780898d920",
   "metadata": {},
   "outputs": [],
   "source": []
  }
 ],
 "metadata": {
  "kernelspec": {
   "display_name": "Python 3 (ipykernel)",
   "language": "python",
   "name": "python3"
  },
  "language_info": {
   "codemirror_mode": {
    "name": "ipython",
    "version": 3
   },
   "file_extension": ".py",
   "mimetype": "text/x-python",
   "name": "python",
   "nbconvert_exporter": "python",
   "pygments_lexer": "ipython3",
   "version": "3.8.10"
  }
 },
 "nbformat": 4,
 "nbformat_minor": 5
}
