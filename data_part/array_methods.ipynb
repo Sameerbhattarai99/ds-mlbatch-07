{
 "cells": [
  {
   "cell_type": "code",
   "execution_count": 1,
   "id": "d4996067-15d3-47c6-9869-89a6ce082378",
   "metadata": {},
   "outputs": [],
   "source": [
    "import numpy as np"
   ]
  },
  {
   "cell_type": "code",
   "execution_count": 10,
   "id": "e3e9243c-6411-4d07-b5e5-29a583a177a4",
   "metadata": {},
   "outputs": [],
   "source": [
    "a = np.random.randint(10,50,size=(5,2,3))"
   ]
  },
  {
   "cell_type": "code",
   "execution_count": 11,
   "id": "2f25b642-3cba-4f22-b912-a48f8339a7ea",
   "metadata": {},
   "outputs": [
    {
     "data": {
      "text/plain": [
       "array([[[31, 17, 13],\n",
       "        [27, 14, 32]],\n",
       "\n",
       "       [[19, 32, 10],\n",
       "        [14, 30, 38]],\n",
       "\n",
       "       [[44, 16, 44],\n",
       "        [31, 48, 42]],\n",
       "\n",
       "       [[45, 41, 30],\n",
       "        [19, 27, 45]],\n",
       "\n",
       "       [[42, 15, 12],\n",
       "        [34, 39, 15]]])"
      ]
     },
     "execution_count": 11,
     "metadata": {},
     "output_type": "execute_result"
    }
   ],
   "source": [
    "a"
   ]
  },
  {
   "cell_type": "code",
   "execution_count": null,
   "id": "f479c66c-2c7d-46bc-b5d4-286355792373",
   "metadata": {},
   "outputs": [],
   "source": []
  },
  {
   "cell_type": "code",
   "execution_count": null,
   "id": "3deaebe7-12aa-47be-95b6-64a9eb166464",
   "metadata": {},
   "outputs": [],
   "source": []
  },
  {
   "cell_type": "code",
   "execution_count": 12,
   "id": "41adad4f-e8cd-4bea-9644-8ab2de991c39",
   "metadata": {},
   "outputs": [
    {
     "data": {
      "text/plain": [
       "(5, 2, 3)"
      ]
     },
     "execution_count": 12,
     "metadata": {},
     "output_type": "execute_result"
    }
   ],
   "source": [
    "a.shape"
   ]
  },
  {
   "cell_type": "code",
   "execution_count": 13,
   "id": "de72581f-19bf-4986-a663-0cdada60e780",
   "metadata": {},
   "outputs": [
    {
     "data": {
      "text/plain": [
       "3"
      ]
     },
     "execution_count": 13,
     "metadata": {},
     "output_type": "execute_result"
    }
   ],
   "source": [
    "a.ndim"
   ]
  },
  {
   "cell_type": "code",
   "execution_count": 14,
   "id": "4387f4af-6f9f-4cb0-9dc4-1d95a7623f1d",
   "metadata": {},
   "outputs": [
    {
     "data": {
      "text/plain": [
       "dtype('int32')"
      ]
     },
     "execution_count": 14,
     "metadata": {},
     "output_type": "execute_result"
    }
   ],
   "source": [
    "a.dtype"
   ]
  },
  {
   "cell_type": "code",
   "execution_count": 15,
   "id": "d3b0f10c-ba14-4e63-b864-6b0add885ee7",
   "metadata": {},
   "outputs": [
    {
     "data": {
      "text/plain": [
       "30"
      ]
     },
     "execution_count": 15,
     "metadata": {},
     "output_type": "execute_result"
    }
   ],
   "source": [
    "a.size"
   ]
  },
  {
   "cell_type": "code",
   "execution_count": 16,
   "id": "cde4cf64-1728-42cb-9d5d-21ced27b2435",
   "metadata": {},
   "outputs": [
    {
     "data": {
      "text/plain": [
       "array([[[31, 19, 44, 45, 42],\n",
       "        [27, 14, 31, 19, 34]],\n",
       "\n",
       "       [[17, 32, 16, 41, 15],\n",
       "        [14, 30, 48, 27, 39]],\n",
       "\n",
       "       [[13, 10, 44, 30, 12],\n",
       "        [32, 38, 42, 45, 15]]])"
      ]
     },
     "execution_count": 16,
     "metadata": {},
     "output_type": "execute_result"
    }
   ],
   "source": [
    "a.T"
   ]
  },
  {
   "cell_type": "code",
   "execution_count": 17,
   "id": "230e67fb-bac7-4c93-b37c-f68c0999df09",
   "metadata": {},
   "outputs": [
    {
     "data": {
      "text/plain": [
       "array([[31, 17, 13],\n",
       "       [27, 14, 32],\n",
       "       [19, 32, 10],\n",
       "       [14, 30, 38],\n",
       "       [44, 16, 44],\n",
       "       [31, 48, 42],\n",
       "       [45, 41, 30],\n",
       "       [19, 27, 45],\n",
       "       [42, 15, 12],\n",
       "       [34, 39, 15]])"
      ]
     },
     "execution_count": 17,
     "metadata": {},
     "output_type": "execute_result"
    }
   ],
   "source": [
    "a.reshape(10,3)"
   ]
  },
  {
   "cell_type": "code",
   "execution_count": 20,
   "id": "336e5468-88f0-4697-9ea2-9efa73752c81",
   "metadata": {},
   "outputs": [
    {
     "data": {
      "text/plain": [
       "array([31, 17, 13, 27, 14, 32, 19, 32, 10, 14, 30, 38, 44, 16, 44, 31, 48,\n",
       "       42, 45, 41, 30, 19, 27, 45, 42, 15, 12, 34, 39, 15])"
      ]
     },
     "execution_count": 20,
     "metadata": {},
     "output_type": "execute_result"
    }
   ],
   "source": [
    "a.ravel()"
   ]
  },
  {
   "cell_type": "code",
   "execution_count": 21,
   "id": "bd824952-ae60-491a-8f37-d36f824b158a",
   "metadata": {},
   "outputs": [
    {
     "data": {
      "text/plain": [
       "array([[[31, 17, 13],\n",
       "        [27, 14, 32]],\n",
       "\n",
       "       [[19, 32, 10],\n",
       "        [14, 30, 38]],\n",
       "\n",
       "       [[44, 16, 44],\n",
       "        [31, 48, 42]],\n",
       "\n",
       "       [[45, 41, 30],\n",
       "        [19, 27, 45]],\n",
       "\n",
       "       [[42, 15, 12],\n",
       "        [34, 39, 15]]])"
      ]
     },
     "execution_count": 21,
     "metadata": {},
     "output_type": "execute_result"
    }
   ],
   "source": [
    "a"
   ]
  },
  {
   "cell_type": "code",
   "execution_count": 39,
   "id": "46cc731c-88d6-484c-8157-10abd08d09ac",
   "metadata": {},
   "outputs": [],
   "source": [
    "b = np.random.randint(1,10,size=(2,3))\n",
    "c = np.random.randint(1,10,size=(2,3))"
   ]
  },
  {
   "cell_type": "code",
   "execution_count": 40,
   "id": "3dbff742-9f00-4c46-a08b-294b23b886b4",
   "metadata": {},
   "outputs": [
    {
     "data": {
      "text/plain": [
       "array([[2, 4, 6],\n",
       "       [2, 3, 4]])"
      ]
     },
     "execution_count": 40,
     "metadata": {},
     "output_type": "execute_result"
    }
   ],
   "source": [
    "b"
   ]
  },
  {
   "cell_type": "code",
   "execution_count": 41,
   "id": "2ff281c6-8fad-40e7-bbde-d00ccdfe232a",
   "metadata": {},
   "outputs": [
    {
     "data": {
      "text/plain": [
       "array([[1, 8, 3],\n",
       "       [4, 3, 2]])"
      ]
     },
     "execution_count": 41,
     "metadata": {},
     "output_type": "execute_result"
    }
   ],
   "source": [
    "c"
   ]
  },
  {
   "cell_type": "code",
   "execution_count": 42,
   "id": "a2c59aac-b7b2-474c-b5d4-d6021bd3b685",
   "metadata": {},
   "outputs": [
    {
     "data": {
      "text/plain": [
       "array([[2, 4, 6],\n",
       "       [2, 3, 4],\n",
       "       [1, 8, 3],\n",
       "       [4, 3, 2]])"
      ]
     },
     "execution_count": 42,
     "metadata": {},
     "output_type": "execute_result"
    }
   ],
   "source": [
    "d = np.concatenate([b,c],axis = 0)\n",
    "d"
   ]
  },
  {
   "cell_type": "markdown",
   "id": "6d6c7723-f857-4a2d-b4c4-79d2bb09bd2b",
   "metadata": {},
   "source": [
    "### 0 > column wise >vstack\n",
    "### 1 >row wise >hstack"
   ]
  },
  {
   "cell_type": "code",
   "execution_count": 49,
   "id": "b0dc0f2f-d4be-4ee2-927e-5c4521eb9343",
   "metadata": {},
   "outputs": [
    {
     "data": {
      "text/plain": [
       "[array([[2, 4, 6],\n",
       "        [2, 3, 4]]),\n",
       " array([[1, 8, 3],\n",
       "        [4, 3, 2]])]"
      ]
     },
     "execution_count": 49,
     "metadata": {},
     "output_type": "execute_result"
    }
   ],
   "source": [
    "\n",
    "np.split(d,2,axis=0)\n"
   ]
  },
  {
   "cell_type": "code",
   "execution_count": null,
   "id": "d0e72a91-5bd2-4dc5-aa1c-ea3bcd2236fd",
   "metadata": {},
   "outputs": [],
   "source": []
  },
  {
   "cell_type": "code",
   "execution_count": null,
   "id": "eaa0705e-8a81-4f6a-bdd8-ae78a8398654",
   "metadata": {},
   "outputs": [],
   "source": []
  }
 ],
 "metadata": {
  "kernelspec": {
   "display_name": "Python 3 (ipykernel)",
   "language": "python",
   "name": "python3"
  },
  "language_info": {
   "codemirror_mode": {
    "name": "ipython",
    "version": 3
   },
   "file_extension": ".py",
   "mimetype": "text/x-python",
   "name": "python",
   "nbconvert_exporter": "python",
   "pygments_lexer": "ipython3",
   "version": "3.8.10"
  }
 },
 "nbformat": 4,
 "nbformat_minor": 5
}
