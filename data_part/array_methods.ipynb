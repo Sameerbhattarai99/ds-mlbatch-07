{
 "cells": [
  {
   "cell_type": "code",
   "execution_count": 2,
   "id": "d4996067-15d3-47c6-9869-89a6ce082378",
   "metadata": {},
   "outputs": [],
   "source": [
    "import numpy as np"
   ]
  },
  {
   "cell_type": "code",
   "execution_count": 10,
   "id": "e3e9243c-6411-4d07-b5e5-29a583a177a4",
   "metadata": {},
   "outputs": [],
   "source": [
    "a = np.random.randint(10,50,size=(5,2,3))"
   ]
  },
  {
   "cell_type": "code",
   "execution_count": 11,
   "id": "2f25b642-3cba-4f22-b912-a48f8339a7ea",
   "metadata": {},
   "outputs": [
    {
     "data": {
      "text/plain": [
       "array([[[31, 17, 13],\n",
       "        [27, 14, 32]],\n",
       "\n",
       "       [[19, 32, 10],\n",
       "        [14, 30, 38]],\n",
       "\n",
       "       [[44, 16, 44],\n",
       "        [31, 48, 42]],\n",
       "\n",
       "       [[45, 41, 30],\n",
       "        [19, 27, 45]],\n",
       "\n",
       "       [[42, 15, 12],\n",
       "        [34, 39, 15]]])"
      ]
     },
     "execution_count": 11,
     "metadata": {},
     "output_type": "execute_result"
    }
   ],
   "source": [
    "a"
   ]
  },
  {
   "cell_type": "code",
   "execution_count": null,
   "id": "f479c66c-2c7d-46bc-b5d4-286355792373",
   "metadata": {},
   "outputs": [],
   "source": []
  },
  {
   "cell_type": "code",
   "execution_count": null,
   "id": "3deaebe7-12aa-47be-95b6-64a9eb166464",
   "metadata": {},
   "outputs": [],
   "source": []
  },
  {
   "cell_type": "code",
   "execution_count": 12,
   "id": "41adad4f-e8cd-4bea-9644-8ab2de991c39",
   "metadata": {},
   "outputs": [
    {
     "data": {
      "text/plain": [
       "(5, 2, 3)"
      ]
     },
     "execution_count": 12,
     "metadata": {},
     "output_type": "execute_result"
    }
   ],
   "source": [
    "a.shape"
   ]
  },
  {
   "cell_type": "code",
   "execution_count": 13,
   "id": "de72581f-19bf-4986-a663-0cdada60e780",
   "metadata": {},
   "outputs": [
    {
     "data": {
      "text/plain": [
       "3"
      ]
     },
     "execution_count": 13,
     "metadata": {},
     "output_type": "execute_result"
    }
   ],
   "source": [
    "a.ndim"
   ]
  },
  {
   "cell_type": "code",
   "execution_count": 14,
   "id": "4387f4af-6f9f-4cb0-9dc4-1d95a7623f1d",
   "metadata": {},
   "outputs": [
    {
     "data": {
      "text/plain": [
       "dtype('int32')"
      ]
     },
     "execution_count": 14,
     "metadata": {},
     "output_type": "execute_result"
    }
   ],
   "source": [
    "a.dtype"
   ]
  },
  {
   "cell_type": "code",
   "execution_count": 15,
   "id": "d3b0f10c-ba14-4e63-b864-6b0add885ee7",
   "metadata": {},
   "outputs": [
    {
     "data": {
      "text/plain": [
       "30"
      ]
     },
     "execution_count": 15,
     "metadata": {},
     "output_type": "execute_result"
    }
   ],
   "source": [
    "a.size"
   ]
  },
  {
   "cell_type": "code",
   "execution_count": 16,
   "id": "cde4cf64-1728-42cb-9d5d-21ced27b2435",
   "metadata": {},
   "outputs": [
    {
     "data": {
      "text/plain": [
       "array([[[31, 19, 44, 45, 42],\n",
       "        [27, 14, 31, 19, 34]],\n",
       "\n",
       "       [[17, 32, 16, 41, 15],\n",
       "        [14, 30, 48, 27, 39]],\n",
       "\n",
       "       [[13, 10, 44, 30, 12],\n",
       "        [32, 38, 42, 45, 15]]])"
      ]
     },
     "execution_count": 16,
     "metadata": {},
     "output_type": "execute_result"
    }
   ],
   "source": [
    "a.T"
   ]
  },
  {
   "cell_type": "code",
   "execution_count": 17,
   "id": "230e67fb-bac7-4c93-b37c-f68c0999df09",
   "metadata": {},
   "outputs": [
    {
     "data": {
      "text/plain": [
       "array([[31, 17, 13],\n",
       "       [27, 14, 32],\n",
       "       [19, 32, 10],\n",
       "       [14, 30, 38],\n",
       "       [44, 16, 44],\n",
       "       [31, 48, 42],\n",
       "       [45, 41, 30],\n",
       "       [19, 27, 45],\n",
       "       [42, 15, 12],\n",
       "       [34, 39, 15]])"
      ]
     },
     "execution_count": 17,
     "metadata": {},
     "output_type": "execute_result"
    }
   ],
   "source": [
    "a.reshape(10,3)"
   ]
  },
  {
   "cell_type": "code",
   "execution_count": 20,
   "id": "336e5468-88f0-4697-9ea2-9efa73752c81",
   "metadata": {},
   "outputs": [
    {
     "data": {
      "text/plain": [
       "array([31, 17, 13, 27, 14, 32, 19, 32, 10, 14, 30, 38, 44, 16, 44, 31, 48,\n",
       "       42, 45, 41, 30, 19, 27, 45, 42, 15, 12, 34, 39, 15])"
      ]
     },
     "execution_count": 20,
     "metadata": {},
     "output_type": "execute_result"
    }
   ],
   "source": [
    "a.ravel()"
   ]
  },
  {
   "cell_type": "code",
   "execution_count": 21,
   "id": "bd824952-ae60-491a-8f37-d36f824b158a",
   "metadata": {},
   "outputs": [
    {
     "data": {
      "text/plain": [
       "array([[[31, 17, 13],\n",
       "        [27, 14, 32]],\n",
       "\n",
       "       [[19, 32, 10],\n",
       "        [14, 30, 38]],\n",
       "\n",
       "       [[44, 16, 44],\n",
       "        [31, 48, 42]],\n",
       "\n",
       "       [[45, 41, 30],\n",
       "        [19, 27, 45]],\n",
       "\n",
       "       [[42, 15, 12],\n",
       "        [34, 39, 15]]])"
      ]
     },
     "execution_count": 21,
     "metadata": {},
     "output_type": "execute_result"
    }
   ],
   "source": [
    "a"
   ]
  },
  {
   "cell_type": "code",
   "execution_count": 39,
   "id": "46cc731c-88d6-484c-8157-10abd08d09ac",
   "metadata": {},
   "outputs": [],
   "source": [
    "b = np.random.randint(1,10,size=(2,3))\n",
    "c = np.random.randint(1,10,size=(2,3))"
   ]
  },
  {
   "cell_type": "code",
   "execution_count": 40,
   "id": "3dbff742-9f00-4c46-a08b-294b23b886b4",
   "metadata": {},
   "outputs": [
    {
     "data": {
      "text/plain": [
       "array([[2, 4, 6],\n",
       "       [2, 3, 4]])"
      ]
     },
     "execution_count": 40,
     "metadata": {},
     "output_type": "execute_result"
    }
   ],
   "source": [
    "b"
   ]
  },
  {
   "cell_type": "code",
   "execution_count": 41,
   "id": "2ff281c6-8fad-40e7-bbde-d00ccdfe232a",
   "metadata": {},
   "outputs": [
    {
     "data": {
      "text/plain": [
       "array([[1, 8, 3],\n",
       "       [4, 3, 2]])"
      ]
     },
     "execution_count": 41,
     "metadata": {},
     "output_type": "execute_result"
    }
   ],
   "source": [
    "c"
   ]
  },
  {
   "cell_type": "code",
   "execution_count": 42,
   "id": "a2c59aac-b7b2-474c-b5d4-d6021bd3b685",
   "metadata": {},
   "outputs": [
    {
     "data": {
      "text/plain": [
       "array([[2, 4, 6],\n",
       "       [2, 3, 4],\n",
       "       [1, 8, 3],\n",
       "       [4, 3, 2]])"
      ]
     },
     "execution_count": 42,
     "metadata": {},
     "output_type": "execute_result"
    }
   ],
   "source": [
    "d = np.concatenate([b,c],axis = 0)\n",
    "d"
   ]
  },
  {
   "cell_type": "markdown",
   "id": "6d6c7723-f857-4a2d-b4c4-79d2bb09bd2b",
   "metadata": {},
   "source": [
    "### 0 > column wise >vstack\n",
    "### 1 >row wise >hstack"
   ]
  },
  {
   "cell_type": "code",
   "execution_count": 49,
   "id": "b0dc0f2f-d4be-4ee2-927e-5c4521eb9343",
   "metadata": {},
   "outputs": [
    {
     "data": {
      "text/plain": [
       "[array([[2, 4, 6],\n",
       "        [2, 3, 4]]),\n",
       " array([[1, 8, 3],\n",
       "        [4, 3, 2]])]"
      ]
     },
     "execution_count": 49,
     "metadata": {},
     "output_type": "execute_result"
    }
   ],
   "source": [
    "\n",
    "np.split(d,2,axis=0)\n"
   ]
  },
  {
   "cell_type": "code",
   "execution_count": null,
   "id": "d0e72a91-5bd2-4dc5-aa1c-ea3bcd2236fd",
   "metadata": {},
   "outputs": [],
   "source": []
  },
  {
   "cell_type": "code",
   "execution_count": null,
   "id": "eaa0705e-8a81-4f6a-bdd8-ae78a8398654",
   "metadata": {},
   "outputs": [],
   "source": []
  },
  {
   "cell_type": "code",
   "execution_count": 9,
   "id": "10db2aa3-1b53-4553-84d9-51b160e88081",
   "metadata": {},
   "outputs": [],
   "source": [
    "m = np.random.randint(1,10,size=(4,6))"
   ]
  },
  {
   "cell_type": "code",
   "execution_count": 10,
   "id": "5360861b-52a6-40f7-8019-c4a8db64b73e",
   "metadata": {},
   "outputs": [
    {
     "data": {
      "text/plain": [
       "array([[8, 7, 4, 4, 7, 2],\n",
       "       [3, 1, 2, 8, 6, 4],\n",
       "       [8, 2, 3, 9, 5, 2],\n",
       "       [4, 8, 3, 5, 4, 8]])"
      ]
     },
     "execution_count": 10,
     "metadata": {},
     "output_type": "execute_result"
    }
   ],
   "source": [
    "m"
   ]
  },
  {
   "cell_type": "code",
   "execution_count": 11,
   "id": "fea14891-b119-42ee-b91b-4491faf0f7b5",
   "metadata": {},
   "outputs": [
    {
     "data": {
      "text/plain": [
       "array([32, 24, 29, 32])"
      ]
     },
     "execution_count": 11,
     "metadata": {},
     "output_type": "execute_result"
    }
   ],
   "source": [
    "m.sum(axis = 1)"
   ]
  },
  {
   "cell_type": "code",
   "execution_count": 12,
   "id": "f5df3d15-8826-41cb-980c-a23e2ce2ee9f",
   "metadata": {},
   "outputs": [
    {
     "data": {
      "text/plain": [
       "array([ 768,  112,   72, 1440,  840,  128])"
      ]
     },
     "execution_count": 12,
     "metadata": {},
     "output_type": "execute_result"
    }
   ],
   "source": [
    "m.prod(axis = 0)\n"
   ]
  },
  {
   "cell_type": "code",
   "execution_count": 13,
   "id": "d5483970-b83a-4ef1-b626-6a4fed106c60",
   "metadata": {},
   "outputs": [
    {
     "data": {
      "text/plain": [
       "array([  8,  15,  19,  23,  30,  32,  35,  36,  38,  46,  52,  56,  64,\n",
       "        66,  69,  78,  83,  85,  89,  97, 100, 105, 109, 117])"
      ]
     },
     "execution_count": 13,
     "metadata": {},
     "output_type": "execute_result"
    }
   ],
   "source": [
    "m.cumsum()"
   ]
  },
  {
   "cell_type": "code",
   "execution_count": null,
   "id": "4129336b-4f1d-4bc5-baac-01a841f07e79",
   "metadata": {},
   "outputs": [],
   "source": [
    "\n"
   ]
  },
  {
   "cell_type": "code",
   "execution_count": 14,
   "id": "88a5303b-fd31-4ecf-ad8a-e9f98b2381e7",
   "metadata": {},
   "outputs": [
    {
     "data": {
      "text/plain": [
       "array([8, 8, 9, 8])"
      ]
     },
     "execution_count": 14,
     "metadata": {},
     "output_type": "execute_result"
    }
   ],
   "source": [
    "m.max(axis=1)"
   ]
  },
  {
   "cell_type": "code",
   "execution_count": 15,
   "id": "be0a483b-4baf-4566-9a9b-d866d7273694",
   "metadata": {},
   "outputs": [
    {
     "data": {
      "text/plain": [
       "array([3, 1, 2, 4, 4, 2])"
      ]
     },
     "execution_count": 15,
     "metadata": {},
     "output_type": "execute_result"
    }
   ],
   "source": [
    "m.min(axis = 0)"
   ]
  },
  {
   "cell_type": "code",
   "execution_count": 16,
   "id": "441d3622-8744-4414-a906-b9d0a065443c",
   "metadata": {},
   "outputs": [
    {
     "data": {
      "text/plain": [
       "15"
      ]
     },
     "execution_count": 16,
     "metadata": {},
     "output_type": "execute_result"
    }
   ],
   "source": [
    "\n",
    "m.argmax()"
   ]
  },
  {
   "cell_type": "code",
   "execution_count": 17,
   "id": "b2ed53b1-1d90-42f7-ba8b-0e7f8b3d8cc6",
   "metadata": {},
   "outputs": [
    {
     "data": {
      "text/plain": [
       "9"
      ]
     },
     "execution_count": 17,
     "metadata": {},
     "output_type": "execute_result"
    }
   ],
   "source": [
    "m.max()"
   ]
  },
  {
   "cell_type": "code",
   "execution_count": 18,
   "id": "e644e96f-bbf9-40d1-84e1-e8a3a7e022f7",
   "metadata": {},
   "outputs": [
    {
     "data": {
      "text/plain": [
       "array([[8, 7, 5, 5, 7, 5],\n",
       "       [5, 5, 5, 8, 6, 5],\n",
       "       [8, 5, 5, 9, 5, 5],\n",
       "       [5, 8, 5, 5, 5, 8]])"
      ]
     },
     "execution_count": 18,
     "metadata": {},
     "output_type": "execute_result"
    }
   ],
   "source": [
    "m.clip(5,10)"
   ]
  },
  {
   "cell_type": "code",
   "execution_count": null,
   "id": "675bfd52-67fe-4915-9ac6-9106e93cf2af",
   "metadata": {},
   "outputs": [],
   "source": []
  },
  {
   "cell_type": "code",
   "execution_count": null,
   "id": "e75a1243-6e77-4c31-8df0-0671e5bb81fe",
   "metadata": {},
   "outputs": [],
   "source": []
  },
  {
   "cell_type": "code",
   "execution_count": null,
   "id": "a24f316b-bc37-472c-8372-3c05a5abb723",
   "metadata": {},
   "outputs": [],
   "source": []
  },
  {
   "cell_type": "code",
   "execution_count": null,
   "id": "448065c5-d1f6-46ff-8b20-72ea1c271d83",
   "metadata": {},
   "outputs": [],
   "source": []
  },
  {
   "cell_type": "code",
   "execution_count": null,
   "id": "1daad5cc-de16-4fb7-884f-984b9019589b",
   "metadata": {},
   "outputs": [],
   "source": []
  },
  {
   "cell_type": "code",
   "execution_count": null,
   "id": "a963de9b-e772-4c2e-a458-4faa986c5a0f",
   "metadata": {},
   "outputs": [],
   "source": []
  }
 ],
 "metadata": {
  "kernelspec": {
   "display_name": "Python 3 (ipykernel)",
   "language": "python",
   "name": "python3"
  },
  "language_info": {
   "codemirror_mode": {
    "name": "ipython",
    "version": 3
   },
   "file_extension": ".py",
   "mimetype": "text/x-python",
   "name": "python",
   "nbconvert_exporter": "python",
   "pygments_lexer": "ipython3",
   "version": "3.8.10"
  }
 },
 "nbformat": 4,
 "nbformat_minor": 5
}
