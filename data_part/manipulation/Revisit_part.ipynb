{
 "cells": [
  {
   "cell_type": "markdown",
   "id": "8c6abc2a-f5bc-4d6a-8fb3-954c3b70ad59",
   "metadata": {},
   "source": [
    "# revisit part"
   ]
  },
  {
   "cell_type": "code",
   "execution_count": null,
   "id": "2622afb7-de62-4c47-beb1-71d35ad1dc44",
   "metadata": {},
   "outputs": [],
   "source": []
  },
  {
   "cell_type": "code",
   "execution_count": 1,
   "id": "7587a94c-b7ac-4be9-ad75-f711d593d5f9",
   "metadata": {},
   "outputs": [],
   "source": [
    "import os\n",
    "\n",
    "\n",
    "import pandas as pd\n",
    "import numpy as np\n",
    "import seaborn as sns"
   ]
  },
  {
   "cell_type": "code",
   "execution_count": 2,
   "id": "07579b62-0967-4149-81d2-1aa60e9d2de8",
   "metadata": {},
   "outputs": [],
   "source": [
    "#Reading csv file\n",
    "columns_name = [\n",
    "    \"time\", \"gender\", \"matric_%\", \"study_year\",\"faculty\",\"gpa_2023\",\"accomodation\",\"allowance\",\"scholarship\",\n",
    "    \"study_hours\",\"party_week\",\"drinks_night\",\"missed_classes\",\"failed_classes\",\"in_relationship\",\"parent_approve\",\"relation_parent\"\n",
    "]\n",
    "student_data = pd.read_csv(\"student_survey.csv\",names=columns_name,header=0)"
   ]
  },
  {
   "cell_type": "code",
   "execution_count": 3,
   "id": "ac821043-2677-46d5-b34d-bcecd7a50aee",
   "metadata": {},
   "outputs": [
    {
     "data": {
      "text/html": [
       "<div>\n",
       "<style scoped>\n",
       "    .dataframe tbody tr th:only-of-type {\n",
       "        vertical-align: middle;\n",
       "    }\n",
       "\n",
       "    .dataframe tbody tr th {\n",
       "        vertical-align: top;\n",
       "    }\n",
       "\n",
       "    .dataframe thead th {\n",
       "        text-align: right;\n",
       "    }\n",
       "</style>\n",
       "<table border=\"1\" class=\"dataframe\">\n",
       "  <thead>\n",
       "    <tr style=\"text-align: right;\">\n",
       "      <th></th>\n",
       "      <th>time</th>\n",
       "      <th>gender</th>\n",
       "      <th>matric_%</th>\n",
       "      <th>study_year</th>\n",
       "      <th>faculty</th>\n",
       "      <th>gpa_2023</th>\n",
       "      <th>accomodation</th>\n",
       "      <th>allowance</th>\n",
       "      <th>scholarship</th>\n",
       "      <th>study_hours</th>\n",
       "      <th>party_week</th>\n",
       "      <th>drinks_night</th>\n",
       "      <th>missed_classes</th>\n",
       "      <th>failed_classes</th>\n",
       "      <th>in_relationship</th>\n",
       "      <th>parent_approve</th>\n",
       "      <th>relation_parent</th>\n",
       "    </tr>\n",
       "  </thead>\n",
       "  <tbody>\n",
       "    <tr>\n",
       "      <th>0</th>\n",
       "      <td>2024/03/07 5:12:01 pm EET</td>\n",
       "      <td>Female</td>\n",
       "      <td>76.0</td>\n",
       "      <td>2nd Year</td>\n",
       "      <td>Arts &amp; Social Sciences</td>\n",
       "      <td>72.0</td>\n",
       "      <td>Private accommodation/ stay with family/friends</td>\n",
       "      <td>R 4001- R 5000</td>\n",
       "      <td>No</td>\n",
       "      <td>8+</td>\n",
       "      <td>Only weekends</td>\n",
       "      <td>8+</td>\n",
       "      <td>3</td>\n",
       "      <td>0</td>\n",
       "      <td>Yes</td>\n",
       "      <td>Yes</td>\n",
       "      <td>Very close</td>\n",
       "    </tr>\n",
       "    <tr>\n",
       "      <th>1</th>\n",
       "      <td>2024/03/07 5:12:08 pm EET</td>\n",
       "      <td>Male</td>\n",
       "      <td>89.0</td>\n",
       "      <td>2nd Year</td>\n",
       "      <td>Economic &amp; Management Sciences</td>\n",
       "      <td>75.0</td>\n",
       "      <td>Private accommodation/ stay with family/friends</td>\n",
       "      <td>R 7001 - R 8000</td>\n",
       "      <td>Yes (NSFAS, etc...)</td>\n",
       "      <td>8+</td>\n",
       "      <td>Only weekends</td>\n",
       "      <td>3-5</td>\n",
       "      <td>4+</td>\n",
       "      <td>0</td>\n",
       "      <td>No</td>\n",
       "      <td>Yes</td>\n",
       "      <td>Very close</td>\n",
       "    </tr>\n",
       "    <tr>\n",
       "      <th>2</th>\n",
       "      <td>2024/03/07 5:12:25 pm EET</td>\n",
       "      <td>Male</td>\n",
       "      <td>76.0</td>\n",
       "      <td>1st Year</td>\n",
       "      <td>AgriSciences</td>\n",
       "      <td>55.0</td>\n",
       "      <td>Private accommodation/ stay with family/friends</td>\n",
       "      <td>R 4001- R 5000</td>\n",
       "      <td>No</td>\n",
       "      <td>3-5</td>\n",
       "      <td>2</td>\n",
       "      <td>8+</td>\n",
       "      <td>3</td>\n",
       "      <td>0</td>\n",
       "      <td>No</td>\n",
       "      <td>Yes</td>\n",
       "      <td>Very close</td>\n",
       "    </tr>\n",
       "    <tr>\n",
       "      <th>3</th>\n",
       "      <td>2024/03/07 5:12:28 pm EET</td>\n",
       "      <td>Male</td>\n",
       "      <td>89.0</td>\n",
       "      <td>2nd Year</td>\n",
       "      <td>Engineering</td>\n",
       "      <td>84.0</td>\n",
       "      <td>Private accommodation/ stay with family/friends</td>\n",
       "      <td>R 6001 - R 7000</td>\n",
       "      <td>No</td>\n",
       "      <td>3-5</td>\n",
       "      <td>3</td>\n",
       "      <td>8+</td>\n",
       "      <td>2</td>\n",
       "      <td>0</td>\n",
       "      <td>Yes</td>\n",
       "      <td>Yes</td>\n",
       "      <td>Very close</td>\n",
       "    </tr>\n",
       "    <tr>\n",
       "      <th>4</th>\n",
       "      <td>2024/03/07 5:13:00 pm EET</td>\n",
       "      <td>Female</td>\n",
       "      <td>74.0</td>\n",
       "      <td>2nd Year</td>\n",
       "      <td>Arts &amp; Social Sciences</td>\n",
       "      <td>52.0</td>\n",
       "      <td>Private accommodation/ stay with family/friends</td>\n",
       "      <td>R 4001- R 5000</td>\n",
       "      <td>No</td>\n",
       "      <td>3-5</td>\n",
       "      <td>Only weekends</td>\n",
       "      <td>5-8</td>\n",
       "      <td>1</td>\n",
       "      <td>3</td>\n",
       "      <td>No</td>\n",
       "      <td>Yes</td>\n",
       "      <td>Fair</td>\n",
       "    </tr>\n",
       "  </tbody>\n",
       "</table>\n",
       "</div>"
      ],
      "text/plain": [
       "                        time  gender  matric_% study_year  \\\n",
       "0  2024/03/07 5:12:01 pm EET  Female      76.0   2nd Year   \n",
       "1  2024/03/07 5:12:08 pm EET    Male      89.0   2nd Year   \n",
       "2  2024/03/07 5:12:25 pm EET    Male      76.0   1st Year   \n",
       "3  2024/03/07 5:12:28 pm EET    Male      89.0   2nd Year   \n",
       "4  2024/03/07 5:13:00 pm EET  Female      74.0   2nd Year   \n",
       "\n",
       "                          faculty  gpa_2023  \\\n",
       "0          Arts & Social Sciences      72.0   \n",
       "1  Economic & Management Sciences      75.0   \n",
       "2                    AgriSciences      55.0   \n",
       "3                     Engineering      84.0   \n",
       "4          Arts & Social Sciences      52.0   \n",
       "\n",
       "                                      accomodation        allowance  \\\n",
       "0  Private accommodation/ stay with family/friends   R 4001- R 5000   \n",
       "1  Private accommodation/ stay with family/friends  R 7001 - R 8000   \n",
       "2  Private accommodation/ stay with family/friends   R 4001- R 5000   \n",
       "3  Private accommodation/ stay with family/friends  R 6001 - R 7000   \n",
       "4  Private accommodation/ stay with family/friends   R 4001- R 5000   \n",
       "\n",
       "           scholarship study_hours     party_week drinks_night missed_classes  \\\n",
       "0                   No          8+  Only weekends           8+              3   \n",
       "1  Yes (NSFAS, etc...)          8+  Only weekends          3-5             4+   \n",
       "2                   No         3-5              2           8+              3   \n",
       "3                   No         3-5              3           8+              2   \n",
       "4                   No         3-5  Only weekends          5-8              1   \n",
       "\n",
       "  failed_classes in_relationship parent_approve relation_parent  \n",
       "0              0             Yes            Yes      Very close  \n",
       "1              0              No            Yes      Very close  \n",
       "2              0              No            Yes      Very close  \n",
       "3              0             Yes            Yes      Very close  \n",
       "4              3              No            Yes            Fair  "
      ]
     },
     "execution_count": 3,
     "metadata": {},
     "output_type": "execute_result"
    }
   ],
   "source": [
    "student_data.head()"
   ]
  },
  {
   "cell_type": "code",
   "execution_count": null,
   "id": "f53bb560-bde9-4391-b39d-1c33f6a1f93d",
   "metadata": {},
   "outputs": [],
   "source": []
  },
  {
   "cell_type": "markdown",
   "id": "354b4245-7051-4d75-9196-25dad93e2a3b",
   "metadata": {},
   "source": [
    "# EDA\n",
    "\n",
    "* basic informaion\n",
    "* missing values\n",
    "* numric and categorial values\n",
    "* exploration\n",
    "* visulization\n",
    "* correlation,outliers"
   ]
  },
  {
   "cell_type": "code",
   "execution_count": null,
   "id": "e0e73a29-3737-4436-a148-29e35f107449",
   "metadata": {},
   "outputs": [],
   "source": []
  },
  {
   "cell_type": "code",
   "execution_count": 4,
   "id": "380c6cc6-df16-4b8f-b5ea-ca4d64250b82",
   "metadata": {},
   "outputs": [
    {
     "name": "stdout",
     "output_type": "stream",
     "text": [
      "<class 'pandas.core.frame.DataFrame'>\n",
      "RangeIndex: 406 entries, 0 to 405\n",
      "Data columns (total 17 columns):\n",
      " #   Column           Non-Null Count  Dtype  \n",
      "---  ------           --------------  -----  \n",
      " 0   time             406 non-null    object \n",
      " 1   gender           404 non-null    object \n",
      " 2   matric_%         399 non-null    float64\n",
      " 3   study_year       333 non-null    object \n",
      " 4   faculty          399 non-null    object \n",
      " 5   gpa_2023         320 non-null    float64\n",
      " 6   accomodation     383 non-null    object \n",
      " 7   allowance        375 non-null    object \n",
      " 8   scholarship      398 non-null    object \n",
      " 9   study_hours      403 non-null    object \n",
      " 10  party_week       404 non-null    object \n",
      " 11  drinks_night     404 non-null    object \n",
      " 12  missed_classes   403 non-null    object \n",
      " 13  failed_classes   403 non-null    object \n",
      " 14  in_relationship  403 non-null    object \n",
      " 15  parent_approve   402 non-null    object \n",
      " 16  relation_parent  403 non-null    object \n",
      "dtypes: float64(2), object(15)\n",
      "memory usage: 54.0+ KB\n"
     ]
    }
   ],
   "source": [
    "student_data.info()"
   ]
  },
  {
   "cell_type": "code",
   "execution_count": 5,
   "id": "f84a57d9-4267-46b6-bf06-cc77763eb282",
   "metadata": {},
   "outputs": [
    {
     "data": {
      "text/plain": [
       "time                0\n",
       "gender              2\n",
       "matric_%            7\n",
       "study_year         73\n",
       "faculty             7\n",
       "gpa_2023           86\n",
       "accomodation       23\n",
       "allowance          31\n",
       "scholarship         8\n",
       "study_hours         3\n",
       "party_week          2\n",
       "drinks_night        2\n",
       "missed_classes      3\n",
       "failed_classes      3\n",
       "in_relationship     3\n",
       "parent_approve      4\n",
       "relation_parent     3\n",
       "dtype: int64"
      ]
     },
     "execution_count": 5,
     "metadata": {},
     "output_type": "execute_result"
    }
   ],
   "source": [
    "# to find only missing value\n",
    "\n",
    "student_data.isna().sum()\n",
    "\n"
   ]
  },
  {
   "cell_type": "code",
   "execution_count": 6,
   "id": "5dadc269-bc3e-4a29-a346-2d0dd12f23f9",
   "metadata": {},
   "outputs": [],
   "source": [
    "# description\n",
    "# among all 17 columns gpa_2023 studey-year have more null value and other have samll null value"
   ]
  },
  {
   "cell_type": "code",
   "execution_count": 7,
   "id": "00fa94a5-5e0b-4b22-87e4-946d6cffbc16",
   "metadata": {},
   "outputs": [
    {
     "data": {
      "text/plain": [
       "<Axes: >"
      ]
     },
     "execution_count": 7,
     "metadata": {},
     "output_type": "execute_result"
    },
    {
     "data": {
      "image/png": "[encoded data removed]",
      "text/plain": [
       "<Figure size 640x480 with 1 Axes>"
      ]
     },
     "metadata": {},
     "output_type": "display_data"
    }
   ],
   "source": [
    "#if we want to ploat\n",
    "student_data.isna().sum().plot(kind=\"bar\")"
   ]
  },
  {
   "cell_type": "code",
   "execution_count": 8,
   "id": "9f0b5102-2d1c-46e3-93c6-0bd4c51a624d",
   "metadata": {},
   "outputs": [
    {
     "data": {
      "text/plain": [
       "<Axes: xlabel='gender'>"
      ]
     },
     "execution_count": 8,
     "metadata": {},
     "output_type": "execute_result"
    },
    {
     "data": {
      "image/png": "[encoded data removed]",
      "text/plain": [
       "<Figure size 640x480 with 1 Axes>"
      ]
     },
     "metadata": {},
     "output_type": "display_data"
    }
   ],
   "source": [
    "student_data.gender.value_counts().plot(kind=\"bar\")"
   ]
  },
  {
   "cell_type": "code",
   "execution_count": null,
   "id": "57a55b49-47b5-4fd4-aa09-2bac55372e2a",
   "metadata": {},
   "outputs": [],
   "source": []
  },
  {
   "cell_type": "code",
   "execution_count": null,
   "id": "6b014154-aa0e-4c75-9028-98ab0d26e838",
   "metadata": {},
   "outputs": [],
   "source": []
  },
  {
   "cell_type": "code",
   "execution_count": 9,
   "id": "714092f7-60a9-43b3-a44a-67ead7c41025",
   "metadata": {},
   "outputs": [
    {
     "data": {
      "text/plain": [
       "<Axes: xlabel='drinks_night'>"
      ]
     },
     "execution_count": 9,
     "metadata": {},
     "output_type": "execute_result"
    },
    {
     "data": {
      "image/png": "[encoded data removed]",
      "text/plain": [
       "<Figure size 640x480 with 1 Axes>"
      ]
     },
     "metadata": {},
     "output_type": "display_data"
    }
   ],
   "source": [
    "student_data.drinks_night.value_counts().plot(kind=\"bar\")"
   ]
  },
  {
   "cell_type": "code",
   "execution_count": null,
   "id": "4e69e6bc-2e6f-47b0-b419-67fd4231cc18",
   "metadata": {},
   "outputs": [],
   "source": []
  },
  {
   "cell_type": "code",
   "execution_count": null,
   "id": "48c6eb68-4ceb-498c-a1c7-2c078daf7428",
   "metadata": {},
   "outputs": [],
   "source": []
  },
  {
   "cell_type": "code",
   "execution_count": null,
   "id": "be3bf07e-79b6-46ad-8c16-5e45f738131b",
   "metadata": {},
   "outputs": [],
   "source": []
  },
  {
   "cell_type": "code",
   "execution_count": null,
   "id": "2f045c2b-cef6-49ab-8e4f-543553d4e2ef",
   "metadata": {},
   "outputs": [],
   "source": []
  },
  {
   "cell_type": "code",
   "execution_count": 10,
   "id": "0aeeebe7-fbf9-4d62-9c19-efa852c283c1",
   "metadata": {},
   "outputs": [
    {
     "data": {
      "text/plain": [
       "gender\n",
       "Male      0.534653\n",
       "Female    0.465347\n",
       "Name: proportion, dtype: float64"
      ]
     },
     "execution_count": 10,
     "metadata": {},
     "output_type": "execute_result"
    }
   ],
   "source": [
    "student_data.gender.value_counts(normalize=True)"
   ]
  },
  {
   "cell_type": "markdown",
   "id": "d14b4801-ac7a-451b-9f6a-fb34924f80b8",
   "metadata": {},
   "source": [
    "in above there are 53% of male and 46% of female students ."
   ]
  },
  {
   "cell_type": "code",
   "execution_count": null,
   "id": "29a9e3ae-0a73-4d24-8083-54ea907ac149",
   "metadata": {},
   "outputs": [],
   "source": []
  },
  {
   "cell_type": "code",
   "execution_count": 27,
   "id": "447afd8e-94d1-4048-8c4a-647e5a5b48c3",
   "metadata": {},
   "outputs": [],
   "source": [
    "# parent_approve , replation_parent we can use crosstab"
   ]
  },
  {
   "cell_type": "code",
   "execution_count": 28,
   "id": "270b78cb-0e14-43c0-abc5-116c6544cb86",
   "metadata": {},
   "outputs": [],
   "source": [
    "table = pd.crosstab(student_data.parent_approve,student_data.relation_parent)\n"
   ]
  },
  {
   "cell_type": "code",
   "execution_count": 32,
   "id": "37c935e6-3a33-473d-8fac-31af1faf99f5",
   "metadata": {},
   "outputs": [
    {
     "data": {
      "text/html": [
       "<div>\n",
       "<style scoped>\n",
       "    .dataframe tbody tr th:only-of-type {\n",
       "        vertical-align: middle;\n",
       "    }\n",
       "\n",
       "    .dataframe tbody tr th {\n",
       "        vertical-align: top;\n",
       "    }\n",
       "\n",
       "    .dataframe thead th {\n",
       "        text-align: right;\n",
       "    }\n",
       "</style>\n",
       "<table border=\"1\" class=\"dataframe\">\n",
       "  <thead>\n",
       "    <tr style=\"text-align: right;\">\n",
       "      <th>relation_parent</th>\n",
       "      <th>Close</th>\n",
       "      <th>Distant</th>\n",
       "      <th>Fair</th>\n",
       "      <th>Very close</th>\n",
       "    </tr>\n",
       "    <tr>\n",
       "      <th>parent_approve</th>\n",
       "      <th></th>\n",
       "      <th></th>\n",
       "      <th></th>\n",
       "      <th></th>\n",
       "    </tr>\n",
       "  </thead>\n",
       "  <tbody>\n",
       "    <tr>\n",
       "      <th>No</th>\n",
       "      <td>18</td>\n",
       "      <td>1</td>\n",
       "      <td>9</td>\n",
       "      <td>20</td>\n",
       "    </tr>\n",
       "    <tr>\n",
       "      <th>Yes</th>\n",
       "      <td>79</td>\n",
       "      <td>1</td>\n",
       "      <td>25</td>\n",
       "      <td>248</td>\n",
       "    </tr>\n",
       "  </tbody>\n",
       "</table>\n",
       "</div>"
      ],
      "text/plain": [
       "relation_parent  Close  Distant  Fair  Very close\n",
       "parent_approve                                   \n",
       "No                  18        1     9          20\n",
       "Yes                 79        1    25         248"
      ]
     },
     "execution_count": 32,
     "metadata": {},
     "output_type": "execute_result"
    }
   ],
   "source": [
    "table"
   ]
  },
  {
   "cell_type": "code",
   "execution_count": 34,
   "id": "3f5f063f-18ab-4f58-9d09-6f5a43af7701",
   "metadata": {},
   "outputs": [
    {
     "data": {
      "text/html": [
       "<div>\n",
       "<style scoped>\n",
       "    .dataframe tbody tr th:only-of-type {\n",
       "        vertical-align: middle;\n",
       "    }\n",
       "\n",
       "    .dataframe tbody tr th {\n",
       "        vertical-align: top;\n",
       "    }\n",
       "\n",
       "    .dataframe thead th {\n",
       "        text-align: right;\n",
       "    }\n",
       "</style>\n",
       "<table border=\"1\" class=\"dataframe\">\n",
       "  <thead>\n",
       "    <tr style=\"text-align: right;\">\n",
       "      <th>relation_parent</th>\n",
       "      <th>Distant</th>\n",
       "      <th>Fair</th>\n",
       "      <th>Close</th>\n",
       "      <th>Very close</th>\n",
       "    </tr>\n",
       "    <tr>\n",
       "      <th>parent_approve</th>\n",
       "      <th></th>\n",
       "      <th></th>\n",
       "      <th></th>\n",
       "      <th></th>\n",
       "    </tr>\n",
       "  </thead>\n",
       "  <tbody>\n",
       "    <tr>\n",
       "      <th>No</th>\n",
       "      <td>1</td>\n",
       "      <td>9</td>\n",
       "      <td>18</td>\n",
       "      <td>20</td>\n",
       "    </tr>\n",
       "    <tr>\n",
       "      <th>Yes</th>\n",
       "      <td>1</td>\n",
       "      <td>25</td>\n",
       "      <td>79</td>\n",
       "      <td>248</td>\n",
       "    </tr>\n",
       "  </tbody>\n",
       "</table>\n",
       "</div>"
      ],
      "text/plain": [
       "relation_parent  Distant  Fair  Close  Very close\n",
       "parent_approve                                   \n",
       "No                     1     9     18          20\n",
       "Yes                    1    25     79         248"
      ]
     },
     "execution_count": 34,
     "metadata": {},
     "output_type": "execute_result"
    }
   ],
   "source": [
    "table[[\"Distant\",\"Fair\",\"Close\",\"Very close\"]]"
   ]
  },
  {
   "cell_type": "code",
   "execution_count": 38,
   "id": "d352e55a-fdda-401d-b361-84aa31afeec1",
   "metadata": {},
   "outputs": [
    {
     "data": {
      "text/html": [
       "<div>\n",
       "<style scoped>\n",
       "    .dataframe tbody tr th:only-of-type {\n",
       "        vertical-align: middle;\n",
       "    }\n",
       "\n",
       "    .dataframe tbody tr th {\n",
       "        vertical-align: top;\n",
       "    }\n",
       "\n",
       "    .dataframe thead th {\n",
       "        text-align: right;\n",
       "    }\n",
       "</style>\n",
       "<table border=\"1\" class=\"dataframe\">\n",
       "  <thead>\n",
       "    <tr style=\"text-align: right;\">\n",
       "      <th>parent_approve</th>\n",
       "      <th>No</th>\n",
       "      <th>Yes</th>\n",
       "    </tr>\n",
       "    <tr>\n",
       "      <th>relation_parent</th>\n",
       "      <th></th>\n",
       "      <th></th>\n",
       "    </tr>\n",
       "  </thead>\n",
       "  <tbody>\n",
       "    <tr>\n",
       "      <th>Close</th>\n",
       "      <td>18</td>\n",
       "      <td>79</td>\n",
       "    </tr>\n",
       "    <tr>\n",
       "      <th>Distant</th>\n",
       "      <td>1</td>\n",
       "      <td>1</td>\n",
       "    </tr>\n",
       "    <tr>\n",
       "      <th>Fair</th>\n",
       "      <td>9</td>\n",
       "      <td>25</td>\n",
       "    </tr>\n",
       "    <tr>\n",
       "      <th>Very close</th>\n",
       "      <td>20</td>\n",
       "      <td>248</td>\n",
       "    </tr>\n",
       "  </tbody>\n",
       "</table>\n",
       "</div>"
      ],
      "text/plain": [
       "parent_approve   No  Yes\n",
       "relation_parent         \n",
       "Close            18   79\n",
       "Distant           1    1\n",
       "Fair              9   25\n",
       "Very close       20  248"
      ]
     },
     "execution_count": 38,
     "metadata": {},
     "output_type": "execute_result"
    }
   ],
   "source": [
    "table.T"
   ]
  },
  {
   "cell_type": "code",
   "execution_count": 39,
   "id": "dd35ad12-5b4c-4ead-9528-bbf928d783f2",
   "metadata": {},
   "outputs": [
    {
     "data": {
      "text/plain": [
       "<Axes: xlabel='relation_parent'>"
      ]
     },
     "execution_count": 39,
     "metadata": {},
     "output_type": "execute_result"
    },
    {
     "data": {
      "image/png": "[encoded data removed]",
      "text/plain": [
       "<Figure size 640x480 with 1 Axes>"
      ]
     },
     "metadata": {},
     "output_type": "display_data"
    }
   ],
   "source": [
    "table[[\"Distant\",\"Fair\",\"Close\",\"Very close\"]].T.plot(kind=\"line\")"
   ]
  },
  {
   "cell_type": "code",
   "execution_count": null,
   "id": "f6adb0fa-686a-4087-8c31-2599b902fd5f",
   "metadata": {},
   "outputs": [],
   "source": []
  },
  {
   "cell_type": "markdown",
   "id": "d41d7a98-6288-48b2-8d4a-f767a1f64a30",
   "metadata": {},
   "source": [
    "# relation betn gpa and parent  relation"
   ]
  },
  {
   "cell_type": "code",
   "execution_count": null,
   "id": "10665044-6291-4fbd-8a1a-0460e4e55213",
   "metadata": {},
   "outputs": [],
   "source": []
  },
  {
   "cell_type": "code",
   "execution_count": 53,
   "id": "1bec3fc3-6352-4d2e-a5ca-16e27b6606f9",
   "metadata": {},
   "outputs": [],
   "source": [
    "group_parents = student_data.groupby(by=\"relation_parent\")"
   ]
  },
  {
   "cell_type": "code",
   "execution_count": 71,
   "id": "53a29f7a-7627-43b9-8ce3-efaaa9e9e63f",
   "metadata": {},
   "outputs": [],
   "source": [
    "\n",
    "info = group_parents[['matric_%']].aggregate(('min','max','mean'))"
   ]
  },
  {
   "cell_type": "code",
   "execution_count": 72,
   "id": "fdae9ff1-8652-4af1-9dba-60ec90e8e8f3",
   "metadata": {},
   "outputs": [
    {
     "data": {
      "text/plain": [
       "<Axes: xlabel='relation_parent'>"
      ]
     },
     "execution_count": 72,
     "metadata": {},
     "output_type": "execute_result"
    },
    {
     "data": {
      "image/png": "[encoded data removed]",
      "text/plain": [
       "<Figure size 640x480 with 1 Axes>"
      ]
     },
     "metadata": {},
     "output_type": "display_data"
    }
   ],
   "source": [
    "info.plot(kind=\"bar\")"
   ]
  },
  {
   "cell_type": "code",
   "execution_count": null,
   "id": "7b5c4bb2-e294-4e04-9d5e-fb7703d7d643",
   "metadata": {},
   "outputs": [],
   "source": []
  },
  {
   "cell_type": "code",
   "execution_count": 98,
   "id": "7cab2de7-5c87-499e-a962-3a5f3e3c5146",
   "metadata": {},
   "outputs": [],
   "source": [
    "\n",
    "group_faculty = student_data.groupby(by=\"faculty\")\n",
    "info1 = group_faculty[['matric_%']].aggregate(('min','max','mean'))"
   ]
  },
  {
   "cell_type": "code",
   "execution_count": 99,
   "id": "2855771a-57f4-4ec5-8741-24a93f4b57df",
   "metadata": {},
   "outputs": [
    {
     "data": {
      "text/plain": [
       "<Axes: xlabel='faculty'>"
      ]
     },
     "execution_count": 99,
     "metadata": {},
     "output_type": "execute_result"
    },
    {
     "data": {
      "image/png": "[encoded data removed]",
      "text/plain": [
       "<Figure size 640x480 with 1 Axes>"
      ]
     },
     "metadata": {},
     "output_type": "display_data"
    }
   ],
   "source": [
    "info1.plot(kind='bar')"
   ]
  },
  {
   "cell_type": "code",
   "execution_count": null,
   "id": "95718426-a4fa-4258-973e-2bef56d36696",
   "metadata": {},
   "outputs": [],
   "source": []
  },
  {
   "cell_type": "code",
   "execution_count": null,
   "id": "a2bb5377-894b-46d0-a914-bf6d941acb7f",
   "metadata": {},
   "outputs": [],
   "source": []
  },
  {
   "cell_type": "code",
   "execution_count": 107,
   "id": "2ab6311b-b81c-4983-9164-d41b20f3f36e",
   "metadata": {},
   "outputs": [],
   "source": [
    "\n",
    "group_faculty = student_data.groupby(by=\"faculty\")\n",
    "info2 = group_faculty[['drinks_night']].aggregate(\"count\")"
   ]
  },
  {
   "cell_type": "code",
   "execution_count": 108,
   "id": "c8faf796-0646-43dc-8b89-b50df8426dbe",
   "metadata": {},
   "outputs": [
    {
     "data": {
      "text/html": [
       "<div>\n",
       "<style scoped>\n",
       "    .dataframe tbody tr th:only-of-type {\n",
       "        vertical-align: middle;\n",
       "    }\n",
       "\n",
       "    .dataframe tbody tr th {\n",
       "        vertical-align: top;\n",
       "    }\n",
       "\n",
       "    .dataframe thead th {\n",
       "        text-align: right;\n",
       "    }\n",
       "</style>\n",
       "<table border=\"1\" class=\"dataframe\">\n",
       "  <thead>\n",
       "    <tr style=\"text-align: right;\">\n",
       "      <th></th>\n",
       "      <th>drinks_night</th>\n",
       "    </tr>\n",
       "    <tr>\n",
       "      <th>faculty</th>\n",
       "      <th></th>\n",
       "    </tr>\n",
       "  </thead>\n",
       "  <tbody>\n",
       "    <tr>\n",
       "      <th>AgriSciences</th>\n",
       "      <td>22</td>\n",
       "    </tr>\n",
       "    <tr>\n",
       "      <th>Arts &amp; Social Sciences</th>\n",
       "      <td>47</td>\n",
       "    </tr>\n",
       "    <tr>\n",
       "      <th>Economic &amp; Management Sciences</th>\n",
       "      <td>211</td>\n",
       "    </tr>\n",
       "    <tr>\n",
       "      <th>Education</th>\n",
       "      <td>6</td>\n",
       "    </tr>\n",
       "    <tr>\n",
       "      <th>Engineering</th>\n",
       "      <td>37</td>\n",
       "    </tr>\n",
       "    <tr>\n",
       "      <th>Law</th>\n",
       "      <td>10</td>\n",
       "    </tr>\n",
       "    <tr>\n",
       "      <th>Medicine and Health Services</th>\n",
       "      <td>10</td>\n",
       "    </tr>\n",
       "    <tr>\n",
       "      <th>Science</th>\n",
       "      <td>56</td>\n",
       "    </tr>\n",
       "  </tbody>\n",
       "</table>\n",
       "</div>"
      ],
      "text/plain": [
       "                                drinks_night\n",
       "faculty                                     \n",
       "AgriSciences                              22\n",
       "Arts & Social Sciences                    47\n",
       "Economic & Management Sciences           211\n",
       "Education                                  6\n",
       "Engineering                               37\n",
       "Law                                       10\n",
       "Medicine and Health Services              10\n",
       "Science                                   56"
      ]
     },
     "execution_count": 108,
     "metadata": {},
     "output_type": "execute_result"
    }
   ],
   "source": [
    "info2"
   ]
  },
  {
   "cell_type": "code",
   "execution_count": 109,
   "id": "4828bf11-f264-4b74-ac4d-f18c7ebef5ce",
   "metadata": {},
   "outputs": [
    {
     "data": {
      "text/plain": [
       "<Axes: xlabel='faculty'>"
      ]
     },
     "execution_count": 109,
     "metadata": {},
     "output_type": "execute_result"
    },
    {
     "data": {
      "image/png": "[encoded data removed]",
      "text/plain": [
       "<Figure size 640x480 with 1 Axes>"
      ]
     },
     "metadata": {},
     "output_type": "display_data"
    }
   ],
   "source": [
    "info2.plot(kind='bar')"
   ]
  },
  {
   "cell_type": "code",
   "execution_count": null,
   "id": "75172b08-19e1-4859-9d02-1b69a6698808",
   "metadata": {},
   "outputs": [],
   "source": []
  },
  {
   "cell_type": "code",
   "execution_count": 96,
   "id": "d5ac8afe-bc16-4a77-885e-8933460e823f",
   "metadata": {},
   "outputs": [],
   "source": [
    "\n",
    "group_gender = student_data.groupby(by=\"gender\")\n",
    "info4 = group_gender[['gpa_2023']].aggregate('mean')"
   ]
  },
  {
   "cell_type": "code",
   "execution_count": 97,
   "id": "27f10fd4-7456-4e99-a7fa-8c021770dcb9",
   "metadata": {},
   "outputs": [
    {
     "data": {
      "text/plain": [
       "<Axes: xlabel='gender'>"
      ]
     },
     "execution_count": 97,
     "metadata": {},
     "output_type": "execute_result"
    },
    {
     "data": {
      "image/png": "[encoded data removed]",
      "text/plain": [
       "<Figure size 640x480 with 1 Axes>"
      ]
     },
     "metadata": {},
     "output_type": "display_data"
    }
   ],
   "source": [
    "info4.plot(kind=\"bar\")\n"
   ]
  },
  {
   "cell_type": "code",
   "execution_count": null,
   "id": "68713524-54f6-4add-88f6-ef89476547e6",
   "metadata": {},
   "outputs": [],
   "source": []
  },
  {
   "cell_type": "code",
   "execution_count": 116,
   "id": "0f148eb5-c34e-4cfa-95b1-aac3ea7c81f0",
   "metadata": {},
   "outputs": [
    {
     "data": {
      "text/html": [
       "<div>\n",
       "<style scoped>\n",
       "    .dataframe tbody tr th:only-of-type {\n",
       "        vertical-align: middle;\n",
       "    }\n",
       "\n",
       "    .dataframe tbody tr th {\n",
       "        vertical-align: top;\n",
       "    }\n",
       "\n",
       "    .dataframe thead tr th {\n",
       "        text-align: left;\n",
       "    }\n",
       "\n",
       "    .dataframe thead tr:last-of-type th {\n",
       "        text-align: right;\n",
       "    }\n",
       "</style>\n",
       "<table border=\"1\" class=\"dataframe\">\n",
       "  <thead>\n",
       "    <tr>\n",
       "      <th></th>\n",
       "      <th colspan=\"3\" halign=\"left\">matric_%</th>\n",
       "      <th colspan=\"3\" halign=\"left\">gpa_2023</th>\n",
       "    </tr>\n",
       "    <tr>\n",
       "      <th></th>\n",
       "      <th>min</th>\n",
       "      <th>max</th>\n",
       "      <th>mean</th>\n",
       "      <th>min</th>\n",
       "      <th>max</th>\n",
       "      <th>mean</th>\n",
       "    </tr>\n",
       "    <tr>\n",
       "      <th>relation_parent</th>\n",
       "      <th></th>\n",
       "      <th></th>\n",
       "      <th></th>\n",
       "      <th></th>\n",
       "      <th></th>\n",
       "      <th></th>\n",
       "    </tr>\n",
       "  </thead>\n",
       "  <tbody>\n",
       "    <tr>\n",
       "      <th>Close</th>\n",
       "      <td>60.0</td>\n",
       "      <td>98.33</td>\n",
       "      <td>77.690000</td>\n",
       "      <td>50.0</td>\n",
       "      <td>95.22</td>\n",
       "      <td>65.220769</td>\n",
       "    </tr>\n",
       "    <tr>\n",
       "      <th>Distant</th>\n",
       "      <td>85.0</td>\n",
       "      <td>98.00</td>\n",
       "      <td>91.500000</td>\n",
       "      <td>88.0</td>\n",
       "      <td>89.00</td>\n",
       "      <td>88.500000</td>\n",
       "    </tr>\n",
       "    <tr>\n",
       "      <th>Fair</th>\n",
       "      <td>55.0</td>\n",
       "      <td>95.50</td>\n",
       "      <td>78.357143</td>\n",
       "      <td>50.0</td>\n",
       "      <td>85.00</td>\n",
       "      <td>66.258065</td>\n",
       "    </tr>\n",
       "    <tr>\n",
       "      <th>Very close</th>\n",
       "      <td>34.0</td>\n",
       "      <td>99.00</td>\n",
       "      <td>77.960114</td>\n",
       "      <td>30.0</td>\n",
       "      <td>92.00</td>\n",
       "      <td>66.527356</td>\n",
       "    </tr>\n",
       "  </tbody>\n",
       "</table>\n",
       "</div>"
      ],
      "text/plain": [
       "                matric_%                   gpa_2023                  \n",
       "                     min    max       mean      min    max       mean\n",
       "relation_parent                                                      \n",
       "Close               60.0  98.33  77.690000     50.0  95.22  65.220769\n",
       "Distant             85.0  98.00  91.500000     88.0  89.00  88.500000\n",
       "Fair                55.0  95.50  78.357143     50.0  85.00  66.258065\n",
       "Very close          34.0  99.00  77.960114     30.0  92.00  66.527356"
      ]
     },
     "execution_count": 116,
     "metadata": {},
     "output_type": "execute_result"
    }
   ],
   "source": [
    "\n",
    "group_faculty = student_data.groupby(by=\"relation_parent\")\n",
    "info5 = group_faculty[['matric_%','gpa_2023']].aggregate(('min','max','mean'))\n",
    "info5"
   ]
  },
  {
   "cell_type": "code",
   "execution_count": 118,
   "id": "e615399a-4c20-48e5-b667-5a3274803501",
   "metadata": {},
   "outputs": [
    {
     "data": {
      "text/plain": [
       "<Axes: xlabel='None-None', ylabel='relation_parent'>"
      ]
     },
     "execution_count": 118,
     "metadata": {},
     "output_type": "execute_result"
    },
    {
     "data": {
      "image/png": "[encoded data removed]",
      "text/plain": [
       "<Figure size 640x480 with 2 Axes>"
      ]
     },
     "metadata": {},
     "output_type": "display_data"
    }
   ],
   "source": [
    "sns.heatmap(info5,annot=True , cmap='Dark2')"
   ]
  },
  {
   "cell_type": "code",
   "execution_count": null,
   "id": "e18b5cd8-9239-4863-b53f-f766e29a83c2",
   "metadata": {},
   "outputs": [],
   "source": []
  },
  {
   "cell_type": "code",
   "execution_count": 122,
   "id": "8804bf02-dbb4-4184-954f-2503ab51bade",
   "metadata": {},
   "outputs": [
    {
     "data": {
      "text/plain": [
       "<Axes: xlabel='gpa_2023', ylabel='gender'>"
      ]
     },
     "execution_count": 122,
     "metadata": {},
     "output_type": "execute_result"
    },
    {
     "data": {
      "image/png": "[encoded data removed]",
      "text/plain": [
       "<Figure size 640x480 with 1 Axes>"
      ]
     },
     "metadata": {},
     "output_type": "display_data"
    }
   ],
   "source": [
    "sns.boxplot(student_data,x='gpa_2023',y='gender')"
   ]
  },
  {
   "cell_type": "code",
   "execution_count": null,
   "id": "e636ab48-c49d-414e-9076-de827f5fa896",
   "metadata": {},
   "outputs": [],
   "source": []
  },
  {
   "cell_type": "code",
   "execution_count": null,
   "id": "0d582644-ea91-4579-b012-6376606215bd",
   "metadata": {},
   "outputs": [],
   "source": []
  },
  {
   "cell_type": "code",
   "execution_count": null,
   "id": "af6905cd-0f7c-499c-b1cf-11d399b9ee45",
   "metadata": {},
   "outputs": [],
   "source": []
  },
  {
   "cell_type": "code",
   "execution_count": 123,
   "id": "37ec23ea-291c-497e-974e-32cf99b403ef",
   "metadata": {},
   "outputs": [
    {
     "data": {
      "text/html": [
       "<div>\n",
       "<style scoped>\n",
       "    .dataframe tbody tr th:only-of-type {\n",
       "        vertical-align: middle;\n",
       "    }\n",
       "\n",
       "    .dataframe tbody tr th {\n",
       "        vertical-align: top;\n",
       "    }\n",
       "\n",
       "    .dataframe thead th {\n",
       "        text-align: right;\n",
       "    }\n",
       "</style>\n",
       "<table border=\"1\" class=\"dataframe\">\n",
       "  <thead>\n",
       "    <tr style=\"text-align: right;\">\n",
       "      <th></th>\n",
       "      <th>matric_%</th>\n",
       "      <th>gpa_2023</th>\n",
       "    </tr>\n",
       "  </thead>\n",
       "  <tbody>\n",
       "    <tr>\n",
       "      <th>matric_%</th>\n",
       "      <td>1.000000</td>\n",
       "      <td>0.299104</td>\n",
       "    </tr>\n",
       "    <tr>\n",
       "      <th>gpa_2023</th>\n",
       "      <td>0.299104</td>\n",
       "      <td>1.000000</td>\n",
       "    </tr>\n",
       "  </tbody>\n",
       "</table>\n",
       "</div>"
      ],
      "text/plain": [
       "          matric_%  gpa_2023\n",
       "matric_%  1.000000  0.299104\n",
       "gpa_2023  0.299104  1.000000"
      ]
     },
     "execution_count": 123,
     "metadata": {},
     "output_type": "execute_result"
    }
   ],
   "source": [
    "student_data.corr(numeric_only=True)"
   ]
  },
  {
   "cell_type": "code",
   "execution_count": null,
   "id": "fa574e3b-7be7-427d-84a4-67acc24b2efd",
   "metadata": {},
   "outputs": [],
   "source": []
  },
  {
   "cell_type": "markdown",
   "id": "b5876fb2-0162-4b80-b227-0b78748b89c9",
   "metadata": {},
   "source": [
    "\n",
    "# manipulation and or cleaning data\n",
    "* remove unnecessary columns\n",
    "* null value handling\n",
    "* outliers handling\n",
    "* feature engineering\n",
    "* encoding/normalization/post processing"
   ]
  },
  {
   "cell_type": "code",
   "execution_count": null,
   "id": "63871f5b-891b-42a9-8e05-a857f0d74231",
   "metadata": {},
   "outputs": [],
   "source": []
  },
  {
   "cell_type": "markdown",
   "id": "e7853e86-c0b4-46f4-a253-3392f364c08f",
   "metadata": {},
   "source": [
    "### remove columns"
   ]
  },
  {
   "cell_type": "code",
   "execution_count": 12,
   "id": "f60ce1b2-3c02-486c-ba27-962c630ffc7c",
   "metadata": {},
   "outputs": [],
   "source": [
    "student_data.drop(\"time\",axis=1,inplace=True)"
   ]
  },
  {
   "cell_type": "code",
   "execution_count": 13,
   "id": "a992b13e-28f7-4543-94bc-2676ef1306ae",
   "metadata": {},
   "outputs": [
    {
     "data": {
      "text/html": [
       "<div>\n",
       "<style scoped>\n",
       "    .dataframe tbody tr th:only-of-type {\n",
       "        vertical-align: middle;\n",
       "    }\n",
       "\n",
       "    .dataframe tbody tr th {\n",
       "        vertical-align: top;\n",
       "    }\n",
       "\n",
       "    .dataframe thead th {\n",
       "        text-align: right;\n",
       "    }\n",
       "</style>\n",
       "<table border=\"1\" class=\"dataframe\">\n",
       "  <thead>\n",
       "    <tr style=\"text-align: right;\">\n",
       "      <th></th>\n",
       "      <th>gender</th>\n",
       "      <th>matric_%</th>\n",
       "      <th>study_year</th>\n",
       "      <th>faculty</th>\n",
       "      <th>gpa_2023</th>\n",
       "      <th>accomodation</th>\n",
       "      <th>allowance</th>\n",
       "      <th>scholarship</th>\n",
       "      <th>study_hours</th>\n",
       "      <th>party_week</th>\n",
       "      <th>drinks_night</th>\n",
       "      <th>missed_classes</th>\n",
       "      <th>failed_classes</th>\n",
       "      <th>in_relationship</th>\n",
       "      <th>parent_approve</th>\n",
       "      <th>relation_parent</th>\n",
       "    </tr>\n",
       "  </thead>\n",
       "  <tbody>\n",
       "    <tr>\n",
       "      <th>0</th>\n",
       "      <td>Female</td>\n",
       "      <td>76.0</td>\n",
       "      <td>2nd Year</td>\n",
       "      <td>Arts &amp; Social Sciences</td>\n",
       "      <td>72.0</td>\n",
       "      <td>Private accommodation/ stay with family/friends</td>\n",
       "      <td>R 4001- R 5000</td>\n",
       "      <td>No</td>\n",
       "      <td>8+</td>\n",
       "      <td>Only weekends</td>\n",
       "      <td>8+</td>\n",
       "      <td>3</td>\n",
       "      <td>0</td>\n",
       "      <td>Yes</td>\n",
       "      <td>Yes</td>\n",
       "      <td>Very close</td>\n",
       "    </tr>\n",
       "    <tr>\n",
       "      <th>1</th>\n",
       "      <td>Male</td>\n",
       "      <td>89.0</td>\n",
       "      <td>2nd Year</td>\n",
       "      <td>Economic &amp; Management Sciences</td>\n",
       "      <td>75.0</td>\n",
       "      <td>Private accommodation/ stay with family/friends</td>\n",
       "      <td>R 7001 - R 8000</td>\n",
       "      <td>Yes (NSFAS, etc...)</td>\n",
       "      <td>8+</td>\n",
       "      <td>Only weekends</td>\n",
       "      <td>3-5</td>\n",
       "      <td>4+</td>\n",
       "      <td>0</td>\n",
       "      <td>No</td>\n",
       "      <td>Yes</td>\n",
       "      <td>Very close</td>\n",
       "    </tr>\n",
       "    <tr>\n",
       "      <th>2</th>\n",
       "      <td>Male</td>\n",
       "      <td>76.0</td>\n",
       "      <td>1st Year</td>\n",
       "      <td>AgriSciences</td>\n",
       "      <td>55.0</td>\n",
       "      <td>Private accommodation/ stay with family/friends</td>\n",
       "      <td>R 4001- R 5000</td>\n",
       "      <td>No</td>\n",
       "      <td>3-5</td>\n",
       "      <td>2</td>\n",
       "      <td>8+</td>\n",
       "      <td>3</td>\n",
       "      <td>0</td>\n",
       "      <td>No</td>\n",
       "      <td>Yes</td>\n",
       "      <td>Very close</td>\n",
       "    </tr>\n",
       "    <tr>\n",
       "      <th>3</th>\n",
       "      <td>Male</td>\n",
       "      <td>89.0</td>\n",
       "      <td>2nd Year</td>\n",
       "      <td>Engineering</td>\n",
       "      <td>84.0</td>\n",
       "      <td>Private accommodation/ stay with family/friends</td>\n",
       "      <td>R 6001 - R 7000</td>\n",
       "      <td>No</td>\n",
       "      <td>3-5</td>\n",
       "      <td>3</td>\n",
       "      <td>8+</td>\n",
       "      <td>2</td>\n",
       "      <td>0</td>\n",
       "      <td>Yes</td>\n",
       "      <td>Yes</td>\n",
       "      <td>Very close</td>\n",
       "    </tr>\n",
       "    <tr>\n",
       "      <th>4</th>\n",
       "      <td>Female</td>\n",
       "      <td>74.0</td>\n",
       "      <td>2nd Year</td>\n",
       "      <td>Arts &amp; Social Sciences</td>\n",
       "      <td>52.0</td>\n",
       "      <td>Private accommodation/ stay with family/friends</td>\n",
       "      <td>R 4001- R 5000</td>\n",
       "      <td>No</td>\n",
       "      <td>3-5</td>\n",
       "      <td>Only weekends</td>\n",
       "      <td>5-8</td>\n",
       "      <td>1</td>\n",
       "      <td>3</td>\n",
       "      <td>No</td>\n",
       "      <td>Yes</td>\n",
       "      <td>Fair</td>\n",
       "    </tr>\n",
       "  </tbody>\n",
       "</table>\n",
       "</div>"
      ],
      "text/plain": [
       "   gender  matric_% study_year                         faculty  gpa_2023  \\\n",
       "0  Female      76.0   2nd Year          Arts & Social Sciences      72.0   \n",
       "1    Male      89.0   2nd Year  Economic & Management Sciences      75.0   \n",
       "2    Male      76.0   1st Year                    AgriSciences      55.0   \n",
       "3    Male      89.0   2nd Year                     Engineering      84.0   \n",
       "4  Female      74.0   2nd Year          Arts & Social Sciences      52.0   \n",
       "\n",
       "                                      accomodation        allowance  \\\n",
       "0  Private accommodation/ stay with family/friends   R 4001- R 5000   \n",
       "1  Private accommodation/ stay with family/friends  R 7001 - R 8000   \n",
       "2  Private accommodation/ stay with family/friends   R 4001- R 5000   \n",
       "3  Private accommodation/ stay with family/friends  R 6001 - R 7000   \n",
       "4  Private accommodation/ stay with family/friends   R 4001- R 5000   \n",
       "\n",
       "           scholarship study_hours     party_week drinks_night missed_classes  \\\n",
       "0                   No          8+  Only weekends           8+              3   \n",
       "1  Yes (NSFAS, etc...)          8+  Only weekends          3-5             4+   \n",
       "2                   No         3-5              2           8+              3   \n",
       "3                   No         3-5              3           8+              2   \n",
       "4                   No         3-5  Only weekends          5-8              1   \n",
       "\n",
       "  failed_classes in_relationship parent_approve relation_parent  \n",
       "0              0             Yes            Yes      Very close  \n",
       "1              0              No            Yes      Very close  \n",
       "2              0              No            Yes      Very close  \n",
       "3              0             Yes            Yes      Very close  \n",
       "4              3              No            Yes            Fair  "
      ]
     },
     "execution_count": 13,
     "metadata": {},
     "output_type": "execute_result"
    }
   ],
   "source": [
    "student_data.head()"
   ]
  },
  {
   "cell_type": "markdown",
   "id": "35ecefb6-daa7-4476-bd6b-7ba56e1c84b7",
   "metadata": {},
   "source": [
    "## null value"
   ]
  },
  {
   "cell_type": "code",
   "execution_count": 14,
   "id": "02088fc3-2b10-411f-9f9a-7eef790c839e",
   "metadata": {},
   "outputs": [
    {
     "data": {
      "text/plain": [
       "gender              2\n",
       "matric_%            7\n",
       "study_year         73\n",
       "faculty             7\n",
       "gpa_2023           86\n",
       "accomodation       23\n",
       "allowance          31\n",
       "scholarship         8\n",
       "study_hours         3\n",
       "party_week          2\n",
       "drinks_night        2\n",
       "missed_classes      3\n",
       "failed_classes      3\n",
       "in_relationship     3\n",
       "parent_approve      4\n",
       "relation_parent     3\n",
       "dtype: int64"
      ]
     },
     "execution_count": 14,
     "metadata": {},
     "output_type": "execute_result"
    }
   ],
   "source": [
    "student_data.isna().sum()"
   ]
  },
  {
   "cell_type": "code",
   "execution_count": 15,
   "id": "ab31abad-39db-46f1-a18b-f8fd36decdd0",
   "metadata": {},
   "outputs": [],
   "source": [
    "#### cleaning up target value null entries\n",
    "\n",
    "student_data_1=student_data.dropna(subset=\"gpa_2023\")"
   ]
  },
  {
   "cell_type": "code",
   "execution_count": 16,
   "id": "ef6e14a8-025c-44f1-9856-dfefa9d1edf5",
   "metadata": {},
   "outputs": [],
   "source": [
    "student_data_1=student_data.dropna(thresh=5)"
   ]
  },
  {
   "cell_type": "code",
   "execution_count": 17,
   "id": "c0a3509a-0bb5-4318-ba12-3f7b0b00309d",
   "metadata": {},
   "outputs": [
    {
     "data": {
      "text/html": [
       "<div>\n",
       "<style scoped>\n",
       "    .dataframe tbody tr th:only-of-type {\n",
       "        vertical-align: middle;\n",
       "    }\n",
       "\n",
       "    .dataframe tbody tr th {\n",
       "        vertical-align: top;\n",
       "    }\n",
       "\n",
       "    .dataframe thead th {\n",
       "        text-align: right;\n",
       "    }\n",
       "</style>\n",
       "<table border=\"1\" class=\"dataframe\">\n",
       "  <thead>\n",
       "    <tr style=\"text-align: right;\">\n",
       "      <th></th>\n",
       "      <th>gender</th>\n",
       "      <th>matric_%</th>\n",
       "      <th>study_year</th>\n",
       "      <th>faculty</th>\n",
       "      <th>gpa_2023</th>\n",
       "      <th>accomodation</th>\n",
       "      <th>allowance</th>\n",
       "      <th>scholarship</th>\n",
       "      <th>study_hours</th>\n",
       "      <th>party_week</th>\n",
       "      <th>drinks_night</th>\n",
       "      <th>missed_classes</th>\n",
       "      <th>failed_classes</th>\n",
       "      <th>in_relationship</th>\n",
       "      <th>parent_approve</th>\n",
       "      <th>relation_parent</th>\n",
       "    </tr>\n",
       "  </thead>\n",
       "  <tbody>\n",
       "    <tr>\n",
       "      <th>0</th>\n",
       "      <td>Female</td>\n",
       "      <td>76.0</td>\n",
       "      <td>2nd Year</td>\n",
       "      <td>Arts &amp; Social Sciences</td>\n",
       "      <td>72.0</td>\n",
       "      <td>Private accommodation/ stay with family/friends</td>\n",
       "      <td>R 4001- R 5000</td>\n",
       "      <td>No</td>\n",
       "      <td>8+</td>\n",
       "      <td>Only weekends</td>\n",
       "      <td>8+</td>\n",
       "      <td>3</td>\n",
       "      <td>0</td>\n",
       "      <td>Yes</td>\n",
       "      <td>Yes</td>\n",
       "      <td>Very close</td>\n",
       "    </tr>\n",
       "    <tr>\n",
       "      <th>1</th>\n",
       "      <td>Male</td>\n",
       "      <td>89.0</td>\n",
       "      <td>2nd Year</td>\n",
       "      <td>Economic &amp; Management Sciences</td>\n",
       "      <td>75.0</td>\n",
       "      <td>Private accommodation/ stay with family/friends</td>\n",
       "      <td>R 7001 - R 8000</td>\n",
       "      <td>Yes (NSFAS, etc...)</td>\n",
       "      <td>8+</td>\n",
       "      <td>Only weekends</td>\n",
       "      <td>3-5</td>\n",
       "      <td>4+</td>\n",
       "      <td>0</td>\n",
       "      <td>No</td>\n",
       "      <td>Yes</td>\n",
       "      <td>Very close</td>\n",
       "    </tr>\n",
       "    <tr>\n",
       "      <th>2</th>\n",
       "      <td>Male</td>\n",
       "      <td>76.0</td>\n",
       "      <td>1st Year</td>\n",
       "      <td>AgriSciences</td>\n",
       "      <td>55.0</td>\n",
       "      <td>Private accommodation/ stay with family/friends</td>\n",
       "      <td>R 4001- R 5000</td>\n",
       "      <td>No</td>\n",
       "      <td>3-5</td>\n",
       "      <td>2</td>\n",
       "      <td>8+</td>\n",
       "      <td>3</td>\n",
       "      <td>0</td>\n",
       "      <td>No</td>\n",
       "      <td>Yes</td>\n",
       "      <td>Very close</td>\n",
       "    </tr>\n",
       "    <tr>\n",
       "      <th>3</th>\n",
       "      <td>Male</td>\n",
       "      <td>89.0</td>\n",
       "      <td>2nd Year</td>\n",
       "      <td>Engineering</td>\n",
       "      <td>84.0</td>\n",
       "      <td>Private accommodation/ stay with family/friends</td>\n",
       "      <td>R 6001 - R 7000</td>\n",
       "      <td>No</td>\n",
       "      <td>3-5</td>\n",
       "      <td>3</td>\n",
       "      <td>8+</td>\n",
       "      <td>2</td>\n",
       "      <td>0</td>\n",
       "      <td>Yes</td>\n",
       "      <td>Yes</td>\n",
       "      <td>Very close</td>\n",
       "    </tr>\n",
       "    <tr>\n",
       "      <th>4</th>\n",
       "      <td>Female</td>\n",
       "      <td>74.0</td>\n",
       "      <td>2nd Year</td>\n",
       "      <td>Arts &amp; Social Sciences</td>\n",
       "      <td>52.0</td>\n",
       "      <td>Private accommodation/ stay with family/friends</td>\n",
       "      <td>R 4001- R 5000</td>\n",
       "      <td>No</td>\n",
       "      <td>3-5</td>\n",
       "      <td>Only weekends</td>\n",
       "      <td>5-8</td>\n",
       "      <td>1</td>\n",
       "      <td>3</td>\n",
       "      <td>No</td>\n",
       "      <td>Yes</td>\n",
       "      <td>Fair</td>\n",
       "    </tr>\n",
       "    <tr>\n",
       "      <th>...</th>\n",
       "      <td>...</td>\n",
       "      <td>...</td>\n",
       "      <td>...</td>\n",
       "      <td>...</td>\n",
       "      <td>...</td>\n",
       "      <td>...</td>\n",
       "      <td>...</td>\n",
       "      <td>...</td>\n",
       "      <td>...</td>\n",
       "      <td>...</td>\n",
       "      <td>...</td>\n",
       "      <td>...</td>\n",
       "      <td>...</td>\n",
       "      <td>...</td>\n",
       "      <td>...</td>\n",
       "      <td>...</td>\n",
       "    </tr>\n",
       "    <tr>\n",
       "      <th>401</th>\n",
       "      <td>Female</td>\n",
       "      <td>74.0</td>\n",
       "      <td>NaN</td>\n",
       "      <td>Science</td>\n",
       "      <td>NaN</td>\n",
       "      <td>Private accommodation/ stay with family/friends</td>\n",
       "      <td>NaN</td>\n",
       "      <td>No</td>\n",
       "      <td>3-5</td>\n",
       "      <td>3</td>\n",
       "      <td>1-3</td>\n",
       "      <td>0</td>\n",
       "      <td>0</td>\n",
       "      <td>No</td>\n",
       "      <td>Yes</td>\n",
       "      <td>Close</td>\n",
       "    </tr>\n",
       "    <tr>\n",
       "      <th>402</th>\n",
       "      <td>Female</td>\n",
       "      <td>73.0</td>\n",
       "      <td>2nd Year</td>\n",
       "      <td>Economic &amp; Management Sciences</td>\n",
       "      <td>58.0</td>\n",
       "      <td>Private accommodation/ stay with family/friends</td>\n",
       "      <td>R 6001 - R 7000</td>\n",
       "      <td>Yes (NSFAS, etc...)</td>\n",
       "      <td>5-8</td>\n",
       "      <td>1</td>\n",
       "      <td>8+</td>\n",
       "      <td>0</td>\n",
       "      <td>0</td>\n",
       "      <td>Yes</td>\n",
       "      <td>Yes</td>\n",
       "      <td>Very close</td>\n",
       "    </tr>\n",
       "    <tr>\n",
       "      <th>403</th>\n",
       "      <td>Female</td>\n",
       "      <td>86.0</td>\n",
       "      <td>1st Year</td>\n",
       "      <td>NaN</td>\n",
       "      <td>NaN</td>\n",
       "      <td>Private accommodation/ stay with family/friends</td>\n",
       "      <td>R 4001- R 5000</td>\n",
       "      <td>No</td>\n",
       "      <td>5-8</td>\n",
       "      <td>2</td>\n",
       "      <td>3-5</td>\n",
       "      <td>1</td>\n",
       "      <td>0</td>\n",
       "      <td>No</td>\n",
       "      <td>Yes</td>\n",
       "      <td>Very close</td>\n",
       "    </tr>\n",
       "    <tr>\n",
       "      <th>404</th>\n",
       "      <td>Male</td>\n",
       "      <td>85.0</td>\n",
       "      <td>NaN</td>\n",
       "      <td>Economic &amp; Management Sciences</td>\n",
       "      <td>NaN</td>\n",
       "      <td>Private accommodation/ stay with family/friends</td>\n",
       "      <td>R 4001- R 5000</td>\n",
       "      <td>No</td>\n",
       "      <td>1-3</td>\n",
       "      <td>4+</td>\n",
       "      <td>5-8</td>\n",
       "      <td>4+</td>\n",
       "      <td>0</td>\n",
       "      <td>No</td>\n",
       "      <td>Yes</td>\n",
       "      <td>Close</td>\n",
       "    </tr>\n",
       "    <tr>\n",
       "      <th>405</th>\n",
       "      <td>Female</td>\n",
       "      <td>80.0</td>\n",
       "      <td>1st Year</td>\n",
       "      <td>NaN</td>\n",
       "      <td>63.0</td>\n",
       "      <td>Private accommodation/ stay with family/friends</td>\n",
       "      <td>R 5001 - R 6000</td>\n",
       "      <td>No</td>\n",
       "      <td>3-5</td>\n",
       "      <td>Only weekends</td>\n",
       "      <td>3-5</td>\n",
       "      <td>1</td>\n",
       "      <td>0</td>\n",
       "      <td>No</td>\n",
       "      <td>No</td>\n",
       "      <td>Close</td>\n",
       "    </tr>\n",
       "  </tbody>\n",
       "</table>\n",
       "<p>404 rows × 16 columns</p>\n",
       "</div>"
      ],
      "text/plain": [
       "     gender  matric_% study_year                         faculty  gpa_2023  \\\n",
       "0    Female      76.0   2nd Year          Arts & Social Sciences      72.0   \n",
       "1      Male      89.0   2nd Year  Economic & Management Sciences      75.0   \n",
       "2      Male      76.0   1st Year                    AgriSciences      55.0   \n",
       "3      Male      89.0   2nd Year                     Engineering      84.0   \n",
       "4    Female      74.0   2nd Year          Arts & Social Sciences      52.0   \n",
       "..      ...       ...        ...                             ...       ...   \n",
       "401  Female      74.0        NaN                         Science       NaN   \n",
       "402  Female      73.0   2nd Year  Economic & Management Sciences      58.0   \n",
       "403  Female      86.0   1st Year                             NaN       NaN   \n",
       "404    Male      85.0        NaN  Economic & Management Sciences       NaN   \n",
       "405  Female      80.0   1st Year                             NaN      63.0   \n",
       "\n",
       "                                        accomodation        allowance  \\\n",
       "0    Private accommodation/ stay with family/friends   R 4001- R 5000   \n",
       "1    Private accommodation/ stay with family/friends  R 7001 - R 8000   \n",
       "2    Private accommodation/ stay with family/friends   R 4001- R 5000   \n",
       "3    Private accommodation/ stay with family/friends  R 6001 - R 7000   \n",
       "4    Private accommodation/ stay with family/friends   R 4001- R 5000   \n",
       "..                                               ...              ...   \n",
       "401  Private accommodation/ stay with family/friends              NaN   \n",
       "402  Private accommodation/ stay with family/friends  R 6001 - R 7000   \n",
       "403  Private accommodation/ stay with family/friends   R 4001- R 5000   \n",
       "404  Private accommodation/ stay with family/friends   R 4001- R 5000   \n",
       "405  Private accommodation/ stay with family/friends  R 5001 - R 6000   \n",
       "\n",
       "             scholarship study_hours     party_week drinks_night  \\\n",
       "0                     No          8+  Only weekends           8+   \n",
       "1    Yes (NSFAS, etc...)          8+  Only weekends          3-5   \n",
       "2                     No         3-5              2           8+   \n",
       "3                     No         3-5              3           8+   \n",
       "4                     No         3-5  Only weekends          5-8   \n",
       "..                   ...         ...            ...          ...   \n",
       "401                   No         3-5              3          1-3   \n",
       "402  Yes (NSFAS, etc...)         5-8              1           8+   \n",
       "403                   No         5-8              2          3-5   \n",
       "404                   No         1-3             4+          5-8   \n",
       "405                   No         3-5  Only weekends          3-5   \n",
       "\n",
       "    missed_classes failed_classes in_relationship parent_approve  \\\n",
       "0                3              0             Yes            Yes   \n",
       "1               4+              0              No            Yes   \n",
       "2                3              0              No            Yes   \n",
       "3                2              0             Yes            Yes   \n",
       "4                1              3              No            Yes   \n",
       "..             ...            ...             ...            ...   \n",
       "401              0              0              No            Yes   \n",
       "402              0              0             Yes            Yes   \n",
       "403              1              0              No            Yes   \n",
       "404             4+              0              No            Yes   \n",
       "405              1              0              No             No   \n",
       "\n",
       "    relation_parent  \n",
       "0        Very close  \n",
       "1        Very close  \n",
       "2        Very close  \n",
       "3        Very close  \n",
       "4              Fair  \n",
       "..              ...  \n",
       "401           Close  \n",
       "402      Very close  \n",
       "403      Very close  \n",
       "404           Close  \n",
       "405           Close  \n",
       "\n",
       "[404 rows x 16 columns]"
      ]
     },
     "execution_count": 17,
     "metadata": {},
     "output_type": "execute_result"
    }
   ],
   "source": [
    "student_data_1"
   ]
  },
  {
   "cell_type": "code",
   "execution_count": 18,
   "id": "27365d94-7278-43b2-98df-8dffd46cd993",
   "metadata": {},
   "outputs": [
    {
     "data": {
      "text/plain": [
       "gender              0\n",
       "matric_%            5\n",
       "study_year         71\n",
       "faculty             5\n",
       "gpa_2023           84\n",
       "accomodation       21\n",
       "allowance          29\n",
       "scholarship         6\n",
       "study_hours         1\n",
       "party_week          0\n",
       "drinks_night        0\n",
       "missed_classes      1\n",
       "failed_classes      1\n",
       "in_relationship     1\n",
       "parent_approve      2\n",
       "relation_parent     1\n",
       "dtype: int64"
      ]
     },
     "execution_count": 18,
     "metadata": {},
     "output_type": "execute_result"
    }
   ],
   "source": [
    "student_data_1.isna().sum()"
   ]
  },
  {
   "cell_type": "code",
   "execution_count": 19,
   "id": "81f696a3-79f3-4f97-bbce-267f610b32b2",
   "metadata": {},
   "outputs": [
    {
     "name": "stdout",
     "output_type": "stream",
     "text": [
      "<class 'pandas.core.frame.DataFrame'>\n",
      "Index: 404 entries, 0 to 405\n",
      "Data columns (total 16 columns):\n",
      " #   Column           Non-Null Count  Dtype  \n",
      "---  ------           --------------  -----  \n",
      " 0   gender           404 non-null    object \n",
      " 1   matric_%         399 non-null    float64\n",
      " 2   study_year       333 non-null    object \n",
      " 3   faculty          399 non-null    object \n",
      " 4   gpa_2023         320 non-null    float64\n",
      " 5   accomodation     383 non-null    object \n",
      " 6   allowance        375 non-null    object \n",
      " 7   scholarship      398 non-null    object \n",
      " 8   study_hours      403 non-null    object \n",
      " 9   party_week       404 non-null    object \n",
      " 10  drinks_night     404 non-null    object \n",
      " 11  missed_classes   403 non-null    object \n",
      " 12  failed_classes   403 non-null    object \n",
      " 13  in_relationship  403 non-null    object \n",
      " 14  parent_approve   402 non-null    object \n",
      " 15  relation_parent  403 non-null    object \n",
      "dtypes: float64(2), object(14)\n",
      "memory usage: 53.7+ KB\n"
     ]
    }
   ],
   "source": [
    "student_data_1.info()"
   ]
  },
  {
   "cell_type": "code",
   "execution_count": null,
   "id": "488f3c67-8f77-42d0-88af-0c2bb4ecc4b8",
   "metadata": {},
   "outputs": [],
   "source": []
  },
  {
   "cell_type": "code",
   "execution_count": 68,
   "id": "62b86f92-918c-41f2-b69a-a47e4efca80e",
   "metadata": {},
   "outputs": [
    {
     "name": "stderr",
     "output_type": "stream",
     "text": [
      "C:\\Users\\HELIOS\\AppData\\Local\\Temp\\ipykernel_55948\\3966892434.py:7: SettingWithCopyWarning: \n",
      "A value is trying to be set on a copy of a slice from a DataFrame\n",
      "\n",
      "See the caveats in the documentation: https://pandas.pydata.org/pandas-docs/stable/user_guide/indexing.html#returning-a-view-versus-a-copy\n",
      "  student_data_1[col].fillna(student_data_1[col].mean(),inplace=True)\n"
     ]
    }
   ],
   "source": [
    "# fill null values(sum < 5), check type and impute with mean if numerical ,mode if object)\n",
    "\n",
    "for col in student_data_1.columns:\n",
    "    null_count = student_data_1[col].isna().sum()\n",
    "    if null_count > 0 :  # sum < 5\n",
    "        if pd.api.types.is_numeric_dtype(student_data_1[col]):\n",
    "            student_data_1[col].fillna(student_data_1[col].mean(),inplace=True)\n",
    "        else:\n",
    "            student_data_1[col].fillna(student_data_1[col].mode()[0],inplace=True)"
   ]
  },
  {
   "cell_type": "code",
   "execution_count": 69,
   "id": "51e2831e-ce48-4449-893e-6e227ad86739",
   "metadata": {},
   "outputs": [
    {
     "data": {
      "text/plain": [
       "gender             0\n",
       "matric_%           0\n",
       "study_year         0\n",
       "faculty            0\n",
       "gpa_2023           0\n",
       "accomodation       0\n",
       "allowance          0\n",
       "scholarship        0\n",
       "study_hours        0\n",
       "party_week         0\n",
       "drinks_night       0\n",
       "missed_classes     0\n",
       "failed_classes     0\n",
       "in_relationship    0\n",
       "parent_approve     0\n",
       "relation_parent    0\n",
       "dtype: int64"
      ]
     },
     "execution_count": 69,
     "metadata": {},
     "output_type": "execute_result"
    }
   ],
   "source": [
    "student_data_1.isna().sum()"
   ]
  },
  {
   "cell_type": "code",
   "execution_count": null,
   "id": "f3f7c2d0-ba44-4b17-8b03-1f760ba246a4",
   "metadata": {},
   "outputs": [],
   "source": []
  },
  {
   "cell_type": "markdown",
   "id": "0c445cab-452d-4729-ac5e-c82a4bf18fde",
   "metadata": {},
   "source": [
    "# outlier handling"
   ]
  },
  {
   "cell_type": "code",
   "execution_count": 70,
   "id": "145cf90e-666b-4a9e-ba1a-23a04b93d61f",
   "metadata": {},
   "outputs": [
    {
     "data": {
      "text/html": [
       "<div>\n",
       "<style scoped>\n",
       "    .dataframe tbody tr th:only-of-type {\n",
       "        vertical-align: middle;\n",
       "    }\n",
       "\n",
       "    .dataframe tbody tr th {\n",
       "        vertical-align: top;\n",
       "    }\n",
       "\n",
       "    .dataframe thead th {\n",
       "        text-align: right;\n",
       "    }\n",
       "</style>\n",
       "<table border=\"1\" class=\"dataframe\">\n",
       "  <thead>\n",
       "    <tr style=\"text-align: right;\">\n",
       "      <th></th>\n",
       "      <th>matric_%</th>\n",
       "      <th>gpa_2023</th>\n",
       "    </tr>\n",
       "  </thead>\n",
       "  <tbody>\n",
       "    <tr>\n",
       "      <th>count</th>\n",
       "      <td>404.000000</td>\n",
       "      <td>404.000000</td>\n",
       "    </tr>\n",
       "    <tr>\n",
       "      <th>mean</th>\n",
       "      <td>78.140199</td>\n",
       "      <td>65.645234</td>\n",
       "    </tr>\n",
       "    <tr>\n",
       "      <th>std</th>\n",
       "      <td>6.116079</td>\n",
       "      <td>6.882012</td>\n",
       "    </tr>\n",
       "    <tr>\n",
       "      <th>min</th>\n",
       "      <td>63.000000</td>\n",
       "      <td>50.000000</td>\n",
       "    </tr>\n",
       "    <tr>\n",
       "      <th>25%</th>\n",
       "      <td>74.000000</td>\n",
       "      <td>61.000000</td>\n",
       "    </tr>\n",
       "    <tr>\n",
       "      <th>50%</th>\n",
       "      <td>78.000000</td>\n",
       "      <td>66.268469</td>\n",
       "    </tr>\n",
       "    <tr>\n",
       "      <th>75%</th>\n",
       "      <td>83.000000</td>\n",
       "      <td>70.000000</td>\n",
       "    </tr>\n",
       "    <tr>\n",
       "      <th>max</th>\n",
       "      <td>96.000000</td>\n",
       "      <td>83.000000</td>\n",
       "    </tr>\n",
       "  </tbody>\n",
       "</table>\n",
       "</div>"
      ],
      "text/plain": [
       "         matric_%    gpa_2023\n",
       "count  404.000000  404.000000\n",
       "mean    78.140199   65.645234\n",
       "std      6.116079    6.882012\n",
       "min     63.000000   50.000000\n",
       "25%     74.000000   61.000000\n",
       "50%     78.000000   66.268469\n",
       "75%     83.000000   70.000000\n",
       "max     96.000000   83.000000"
      ]
     },
     "execution_count": 70,
     "metadata": {},
     "output_type": "execute_result"
    }
   ],
   "source": [
    "student_data_1[[\"matric_%\",\"gpa_2023\"]].describe()"
   ]
  },
  {
   "cell_type": "code",
   "execution_count": 71,
   "id": "48a45984-e400-4927-b595-1481a27dcfe9",
   "metadata": {},
   "outputs": [
    {
     "data": {
      "text/plain": [
       "<Axes: >"
      ]
     },
     "execution_count": 71,
     "metadata": {},
     "output_type": "execute_result"
    },
    {
     "data": {
      "image/png": "[encoded data removed]",
      "text/plain": [
       "<Figure size 640x480 with 1 Axes>"
      ]
     },
     "metadata": {},
     "output_type": "display_data"
    }
   ],
   "source": [
    "student_data_1[[\"matric_%\",\"gpa_2023\"]].plot(kind=\"box\")"
   ]
  },
  {
   "cell_type": "code",
   "execution_count": null,
   "id": "f7931c14-48cd-42e4-a6aa-7ee3e53e7dec",
   "metadata": {},
   "outputs": [],
   "source": []
  },
  {
   "cell_type": "code",
   "execution_count": 72,
   "id": "e50b52d2-1860-461d-9f14-5192c5d8eb9e",
   "metadata": {},
   "outputs": [],
   "source": [
    "def handle_outlier(series):\n",
    "   \n",
    "   \n",
    "    IQR = series.quantile(0.75)-series.quantile(0.25)\n",
    "    lower = series.quantile(0.25) - 1.5 * IQR\n",
    "    upper = series.quantile(0.75) + 1.5 * IQR\n",
    "\n",
    "    to_drop = series[(series>upper)|(series<lower)]\n",
    "    print(to_drop)\n",
    "    return series.drop(to_drop.index,axis=0)\n",
    "    \n"
   ]
  },
  {
   "cell_type": "code",
   "execution_count": 73,
   "id": "475aa1a2-38ce-48c5-9913-daa924d70f85",
   "metadata": {},
   "outputs": [
    {
     "name": "stdout",
     "output_type": "stream",
     "text": [
      "Series([], Name: gpa_2023, dtype: float64)\n"
     ]
    },
    {
     "name": "stderr",
     "output_type": "stream",
     "text": [
      "C:\\Users\\HELIOS\\AppData\\Local\\Temp\\ipykernel_55948\\1590411258.py:1: SettingWithCopyWarning: \n",
      "A value is trying to be set on a copy of a slice from a DataFrame.\n",
      "Try using .loc[row_indexer,col_indexer] = value instead\n",
      "\n",
      "See the caveats in the documentation: https://pandas.pydata.org/pandas-docs/stable/user_guide/indexing.html#returning-a-view-versus-a-copy\n",
      "  student_data_1.gpa_2023 = handle_outlier(student_data_1.gpa_2023)\n"
     ]
    }
   ],
   "source": [
    "student_data_1.gpa_2023 = handle_outlier(student_data_1.gpa_2023)\n",
    "\n"
   ]
  },
  {
   "cell_type": "code",
   "execution_count": 74,
   "id": "7a69c9de-f695-4f93-a076-da88c9c45f3f",
   "metadata": {},
   "outputs": [
    {
     "name": "stdout",
     "output_type": "stream",
     "text": [
      "Series([], Name: matric_%, dtype: float64)\n"
     ]
    },
    {
     "name": "stderr",
     "output_type": "stream",
     "text": [
      "C:\\Users\\HELIOS\\AppData\\Local\\Temp\\ipykernel_55948\\3866412161.py:1: SettingWithCopyWarning: \n",
      "A value is trying to be set on a copy of a slice from a DataFrame.\n",
      "Try using .loc[row_indexer,col_indexer] = value instead\n",
      "\n",
      "See the caveats in the documentation: https://pandas.pydata.org/pandas-docs/stable/user_guide/indexing.html#returning-a-view-versus-a-copy\n",
      "  student_data_1[\"matric_%\"] = handle_outlier(student_data_1[\"matric_%\"])\n"
     ]
    }
   ],
   "source": [
    "student_data_1[\"matric_%\"] = handle_outlier(student_data_1[\"matric_%\"])\n",
    "\n",
    "\n"
   ]
  },
  {
   "cell_type": "code",
   "execution_count": 75,
   "id": "5f0a6947-9ec3-48d4-a721-b1d60bce78a2",
   "metadata": {},
   "outputs": [
    {
     "data": {
      "text/plain": [
       "<Axes: >"
      ]
     },
     "execution_count": 75,
     "metadata": {},
     "output_type": "execute_result"
    },
    {
     "data": {
      "image/png": "[encoded data removed]",
      "text/plain": [
       "<Figure size 640x480 with 1 Axes>"
      ]
     },
     "metadata": {},
     "output_type": "display_data"
    }
   ],
   "source": [
    "student_data_1[[\"matric_%\",\"gpa_2023\"]].plot(kind=\"box\")"
   ]
  },
  {
   "cell_type": "code",
   "execution_count": 76,
   "id": "578dc563-2e8b-4738-9924-e5302462f6ac",
   "metadata": {},
   "outputs": [
    {
     "data": {
      "text/html": [
       "<div>\n",
       "<style scoped>\n",
       "    .dataframe tbody tr th:only-of-type {\n",
       "        vertical-align: middle;\n",
       "    }\n",
       "\n",
       "    .dataframe tbody tr th {\n",
       "        vertical-align: top;\n",
       "    }\n",
       "\n",
       "    .dataframe thead th {\n",
       "        text-align: right;\n",
       "    }\n",
       "</style>\n",
       "<table border=\"1\" class=\"dataframe\">\n",
       "  <thead>\n",
       "    <tr style=\"text-align: right;\">\n",
       "      <th></th>\n",
       "      <th>matric_%</th>\n",
       "      <th>gpa_2023</th>\n",
       "    </tr>\n",
       "  </thead>\n",
       "  <tbody>\n",
       "    <tr>\n",
       "      <th>count</th>\n",
       "      <td>404.000000</td>\n",
       "      <td>404.000000</td>\n",
       "    </tr>\n",
       "    <tr>\n",
       "      <th>mean</th>\n",
       "      <td>78.140199</td>\n",
       "      <td>65.645234</td>\n",
       "    </tr>\n",
       "    <tr>\n",
       "      <th>std</th>\n",
       "      <td>6.116079</td>\n",
       "      <td>6.882012</td>\n",
       "    </tr>\n",
       "    <tr>\n",
       "      <th>min</th>\n",
       "      <td>63.000000</td>\n",
       "      <td>50.000000</td>\n",
       "    </tr>\n",
       "    <tr>\n",
       "      <th>25%</th>\n",
       "      <td>74.000000</td>\n",
       "      <td>61.000000</td>\n",
       "    </tr>\n",
       "    <tr>\n",
       "      <th>50%</th>\n",
       "      <td>78.000000</td>\n",
       "      <td>66.268469</td>\n",
       "    </tr>\n",
       "    <tr>\n",
       "      <th>75%</th>\n",
       "      <td>83.000000</td>\n",
       "      <td>70.000000</td>\n",
       "    </tr>\n",
       "    <tr>\n",
       "      <th>max</th>\n",
       "      <td>96.000000</td>\n",
       "      <td>83.000000</td>\n",
       "    </tr>\n",
       "  </tbody>\n",
       "</table>\n",
       "</div>"
      ],
      "text/plain": [
       "         matric_%    gpa_2023\n",
       "count  404.000000  404.000000\n",
       "mean    78.140199   65.645234\n",
       "std      6.116079    6.882012\n",
       "min     63.000000   50.000000\n",
       "25%     74.000000   61.000000\n",
       "50%     78.000000   66.268469\n",
       "75%     83.000000   70.000000\n",
       "max     96.000000   83.000000"
      ]
     },
     "execution_count": 76,
     "metadata": {},
     "output_type": "execute_result"
    }
   ],
   "source": [
    "student_data_1[[\"matric_%\",\"gpa_2023\"]].describe()"
   ]
  },
  {
   "cell_type": "code",
   "execution_count": null,
   "id": "83e8cb7c-32a5-4934-9d46-bb563c59b3a1",
   "metadata": {},
   "outputs": [],
   "source": []
  },
  {
   "cell_type": "code",
   "execution_count": 67,
   "id": "a9f9994e-feba-4acc-ae7c-33f9854ca199",
   "metadata": {},
   "outputs": [
    {
     "data": {
      "text/plain": [
       "gender              0\n",
       "matric_%            8\n",
       "study_year          0\n",
       "faculty             0\n",
       "gpa_2023           14\n",
       "accomodation        0\n",
       "allowance           0\n",
       "scholarship         0\n",
       "study_hours         0\n",
       "party_week          0\n",
       "drinks_night        0\n",
       "missed_classes      0\n",
       "failed_classes      0\n",
       "in_relationship     0\n",
       "parent_approve      0\n",
       "relation_parent     0\n",
       "dtype: int64"
      ]
     },
     "execution_count": 67,
     "metadata": {},
     "output_type": "execute_result"
    }
   ],
   "source": [
    "student_data_1.isna().sum()"
   ]
  },
  {
   "cell_type": "code",
   "execution_count": 65,
   "id": "044fbbbb-820b-436c-ae10-24728d3dc972",
   "metadata": {},
   "outputs": [],
   "source": [
    "student_data_1.to_csv(\"clean_student_data.csv\",index = False)"
   ]
  },
  {
   "cell_type": "code",
   "execution_count": null,
   "id": "ee202632-2bc2-4b02-8c99-805123340b84",
   "metadata": {},
   "outputs": [],
   "source": []
  }
 ],
 "metadata": {
  "kernelspec": {
   "display_name": "Python 3 (ipykernel)",
   "language": "python",
   "name": "python3"
  },
  "language_info": {
   "codemirror_mode": {
    "name": "ipython",
    "version": 3
   },
   "file_extension": ".py",
   "mimetype": "text/x-python",
   "name": "python",
   "nbconvert_exporter": "python",
   "pygments_lexer": "ipython3",
   "version": "3.8.10"
  }
 },
 "nbformat": 4,
 "nbformat_minor": 5
}
