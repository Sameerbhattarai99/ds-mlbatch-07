{
 "cells": [
  {
   "cell_type": "code",
   "execution_count": null,
   "id": "130775f5-3ad6-4e85-9acf-798918392b9c",
   "metadata": {},
   "outputs": [],
   "source": []
  },
  {
   "cell_type": "code",
   "execution_count": 2,
   "id": "f82361d3-9d3d-4e72-a4b1-0ba3447a309e",
   "metadata": {},
   "outputs": [],
   "source": [
    "import pandas as pd"
   ]
  },
  {
   "cell_type": "code",
   "execution_count": 3,
   "id": "ebb65311-ecd8-4f70-b758-d54d700ebe71",
   "metadata": {},
   "outputs": [],
   "source": [
    "titanic_df = pd.read_csv(\"train.csv\")"
   ]
  },
  {
   "cell_type": "code",
   "execution_count": 4,
   "id": "7ac0938f-3940-4297-b790-bbda7a33eba5",
   "metadata": {},
   "outputs": [
    {
     "data": {
      "text/plain": [
       "<Axes: xlabel='Age', ylabel='Fare'>"
      ]
     },
     "execution_count": 4,
     "metadata": {},
     "output_type": "execute_result"
    },
    {
     "data": {
      "image/png": "[encoded data removed]",
      "text/plain": [
       "<Figure size 640x480 with 1 Axes>"
      ]
     },
     "metadata": {},
     "output_type": "display_data"
    }
   ],
   "source": [
    "titanic_df.plot.scatter(\"Age\",\"Fare\")"
   ]
  },
  {
   "cell_type": "markdown",
   "id": "51d0522b-6b06-4d21-9462-5643ca177bc8",
   "metadata": {},
   "source": [
    "### chi square"
   ]
  },
  {
   "cell_type": "code",
   "execution_count": 5,
   "id": "67e29544-5f13-4ede-b503-1b8aba2d6724",
   "metadata": {},
   "outputs": [],
   "source": [
    "\n",
    "import scipy.stats as stats"
   ]
  },
  {
   "cell_type": "code",
   "execution_count": 7,
   "id": "f3831e18-5303-42a7-b9a0-7e8788a56afe",
   "metadata": {},
   "outputs": [],
   "source": [
    "contegency_table =  pd.crosstab(titanic_df.Pclass,titanic_df.SibSp)"
   ]
  },
  {
   "cell_type": "code",
   "execution_count": 8,
   "id": "1975fbc7-f086-41ff-baae-fe281a74bc93",
   "metadata": {},
   "outputs": [
    {
     "data": {
      "text/html": [
       "<div>\n",
       "<style scoped>\n",
       "    .dataframe tbody tr th:only-of-type {\n",
       "        vertical-align: middle;\n",
       "    }\n",
       "\n",
       "    .dataframe tbody tr th {\n",
       "        vertical-align: top;\n",
       "    }\n",
       "\n",
       "    .dataframe thead th {\n",
       "        text-align: right;\n",
       "    }\n",
       "</style>\n",
       "<table border=\"1\" class=\"dataframe\">\n",
       "  <thead>\n",
       "    <tr style=\"text-align: right;\">\n",
       "      <th>SibSp</th>\n",
       "      <th>0</th>\n",
       "      <th>1</th>\n",
       "      <th>2</th>\n",
       "      <th>3</th>\n",
       "      <th>4</th>\n",
       "      <th>5</th>\n",
       "      <th>8</th>\n",
       "    </tr>\n",
       "    <tr>\n",
       "      <th>Pclass</th>\n",
       "      <th></th>\n",
       "      <th></th>\n",
       "      <th></th>\n",
       "      <th></th>\n",
       "      <th></th>\n",
       "      <th></th>\n",
       "      <th></th>\n",
       "    </tr>\n",
       "  </thead>\n",
       "  <tbody>\n",
       "    <tr>\n",
       "      <th>1</th>\n",
       "      <td>137</td>\n",
       "      <td>71</td>\n",
       "      <td>5</td>\n",
       "      <td>3</td>\n",
       "      <td>0</td>\n",
       "      <td>0</td>\n",
       "      <td>0</td>\n",
       "    </tr>\n",
       "    <tr>\n",
       "      <th>2</th>\n",
       "      <td>120</td>\n",
       "      <td>55</td>\n",
       "      <td>8</td>\n",
       "      <td>1</td>\n",
       "      <td>0</td>\n",
       "      <td>0</td>\n",
       "      <td>0</td>\n",
       "    </tr>\n",
       "    <tr>\n",
       "      <th>3</th>\n",
       "      <td>351</td>\n",
       "      <td>83</td>\n",
       "      <td>15</td>\n",
       "      <td>12</td>\n",
       "      <td>18</td>\n",
       "      <td>5</td>\n",
       "      <td>7</td>\n",
       "    </tr>\n",
       "  </tbody>\n",
       "</table>\n",
       "</div>"
      ],
      "text/plain": [
       "SibSp     0   1   2   3   4  5  8\n",
       "Pclass                           \n",
       "1       137  71   5   3   0  0  0\n",
       "2       120  55   8   1   0  0  0\n",
       "3       351  83  15  12  18  5  7"
      ]
     },
     "execution_count": 8,
     "metadata": {},
     "output_type": "execute_result"
    }
   ],
   "source": [
    "contegency_table"
   ]
  },
  {
   "cell_type": "code",
   "execution_count": 16,
   "id": "1a959304-d21a-4eb3-9913-2e2122b1ac39",
   "metadata": {},
   "outputs": [],
   "source": [
    "chi2_score, p_value, dof, expected_f = stats.chi2_contingency(contegency_table)\n"
   ]
  },
  {
   "cell_type": "code",
   "execution_count": 17,
   "id": "e0849a94-9585-4dac-b96f-785659c6ea23",
   "metadata": {},
   "outputs": [
    {
     "name": "stdout",
     "output_type": "stream",
     "text": [
      "50.86189176663682\n"
     ]
    }
   ],
   "source": [
    "print(chi2_score)"
   ]
  },
  {
   "cell_type": "code",
   "execution_count": 18,
   "id": "7ac79b87-699c-4b67-955a-3eb5b555fd77",
   "metadata": {},
   "outputs": [
    {
     "name": "stdout",
     "output_type": "stream",
     "text": [
      "9.852350288001458e-07\n"
     ]
    }
   ],
   "source": [
    "\n",
    "print(p_value)"
   ]
  },
  {
   "cell_type": "code",
   "execution_count": 19,
   "id": "874bcec7-f226-4d54-ba97-1ef95f4176f0",
   "metadata": {},
   "outputs": [
    {
     "data": {
      "text/plain": [
       "array([[147.39393939,  50.66666667,   6.78787879,   3.87878788,\n",
       "          4.36363636,   1.21212121,   1.6969697 ],\n",
       "       [125.55780022,  43.16049383,   5.78226712,   3.30415264,\n",
       "          3.71717172,   1.0325477 ,   1.44556678],\n",
       "       [335.04826038, 115.17283951,  15.4298541 ,   8.81705948,\n",
       "          9.91919192,   2.75533109,   3.85746352]])"
      ]
     },
     "execution_count": 19,
     "metadata": {},
     "output_type": "execute_result"
    }
   ],
   "source": [
    "\n",
    "expected_f"
   ]
  },
  {
   "cell_type": "code",
   "execution_count": null,
   "id": "02ef7e28-29c8-4dba-a3aa-b7a20f3136cb",
   "metadata": {},
   "outputs": [],
   "source": []
  }
 ],
 "metadata": {
  "kernelspec": {
   "display_name": "Python 3 (ipykernel)",
   "language": "python",
   "name": "python3"
  },
  "language_info": {
   "codemirror_mode": {
    "name": "ipython",
    "version": 3
   },
   "file_extension": ".py",
   "mimetype": "text/x-python",
   "name": "python",
   "nbconvert_exporter": "python",
   "pygments_lexer": "ipython3",
   "version": "3.8.10"
  }
 },
 "nbformat": 4,
 "nbformat_minor": 5
}
