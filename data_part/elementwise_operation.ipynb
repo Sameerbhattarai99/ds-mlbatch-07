{
 "cells": [
  {
   "cell_type": "code",
   "execution_count": 1,
   "id": "7ebec019-d896-41e9-98b3-6102da9e2df6",
   "metadata": {},
   "outputs": [],
   "source": [
    "import numpy as np"
   ]
  },
  {
   "cell_type": "code",
   "execution_count": 22,
   "id": "7aeed1ac-7cc4-4d50-9b11-db0aa3c6c075",
   "metadata": {},
   "outputs": [],
   "source": [
    "a = np.array([[4,5,6],[5,7,9]])\n",
    "b = np.array([[3,2,1],[9,8,1]])"
   ]
  },
  {
   "cell_type": "code",
   "execution_count": 23,
   "id": "5dbbc612-0628-4fde-8d18-287b9e43d749",
   "metadata": {},
   "outputs": [
    {
     "data": {
      "text/plain": [
       "(array([[4, 5, 6],\n",
       "        [5, 7, 9]]),\n",
       " array([[3, 2, 1],\n",
       "        [9, 8, 1]]))"
      ]
     },
     "execution_count": 23,
     "metadata": {},
     "output_type": "execute_result"
    }
   ],
   "source": [
    "a,b"
   ]
  },
  {
   "cell_type": "markdown",
   "id": "1066ee30-beff-4964-b63f-42f7ea4b5a06",
   "metadata": {},
   "source": [
    "\n",
    "# arithmetic operation "
   ]
  },
  {
   "cell_type": "code",
   "execution_count": 24,
   "id": "f064ac43-4688-439f-a76a-e3fa39aa7a94",
   "metadata": {},
   "outputs": [
    {
     "data": {
      "text/plain": [
       "array([[ 7,  7,  7],\n",
       "       [14, 15, 10]])"
      ]
     },
     "execution_count": 24,
     "metadata": {},
     "output_type": "execute_result"
    }
   ],
   "source": [
    "#a+b\n",
    "np.add(a,b)"
   ]
  },
  {
   "cell_type": "code",
   "execution_count": 25,
   "id": "cc81083c-e72a-4956-96bd-e281cde9051a",
   "metadata": {},
   "outputs": [
    {
     "data": {
      "text/plain": [
       "array([[ 1,  3,  5],\n",
       "       [-4, -1,  8]])"
      ]
     },
     "execution_count": 25,
     "metadata": {},
     "output_type": "execute_result"
    }
   ],
   "source": [
    "#a-b\n",
    "np.subtract(a,b)"
   ]
  },
  {
   "cell_type": "code",
   "execution_count": 26,
   "id": "f1f4abaa-d0dd-4961-9a44-56472540272f",
   "metadata": {},
   "outputs": [
    {
     "data": {
      "text/plain": [
       "array([[12, 10,  6],\n",
       "       [45, 56,  9]])"
      ]
     },
     "execution_count": 26,
     "metadata": {},
     "output_type": "execute_result"
    }
   ],
   "source": [
    "#a*b\n",
    "np.multiply(a,b)"
   ]
  },
  {
   "cell_type": "code",
   "execution_count": 27,
   "id": "ca71c506-27ca-433c-b90f-354d4457a52c",
   "metadata": {},
   "outputs": [
    {
     "data": {
      "text/plain": [
       "array([[16, 25, 36],\n",
       "       [25, 49, 81]], dtype=int32)"
      ]
     },
     "execution_count": 27,
     "metadata": {},
     "output_type": "execute_result"
    }
   ],
   "source": [
    "#a**2\n",
    "np.power(a,2)"
   ]
  },
  {
   "cell_type": "code",
   "execution_count": 28,
   "id": "e63a3c7b-fbf8-4a7e-8dd8-fadbf8ea39fe",
   "metadata": {},
   "outputs": [
    {
     "data": {
      "text/plain": [
       "(array([[1, 2, 6],\n",
       "        [0, 0, 9]]),\n",
       " array([[1, 1, 0],\n",
       "        [5, 7, 0]]))"
      ]
     },
     "execution_count": 28,
     "metadata": {},
     "output_type": "execute_result"
    }
   ],
   "source": [
    "#a %b\n",
    "np.divmod(a,b)"
   ]
  },
  {
   "cell_type": "code",
   "execution_count": 29,
   "id": "ce6fe4a6-c64e-4a65-833f-d2131889ed32",
   "metadata": {},
   "outputs": [
    {
     "data": {
      "text/plain": [
       "array([[2.        , 2.23606798, 2.44948974],\n",
       "       [2.23606798, 2.64575131, 3.        ]])"
      ]
     },
     "execution_count": 29,
     "metadata": {},
     "output_type": "execute_result"
    }
   ],
   "source": [
    "np.sqrt(a)"
   ]
  },
  {
   "cell_type": "code",
   "execution_count": 30,
   "id": "1a00c4be-4a1c-4b70-938d-ec349958a6ac",
   "metadata": {},
   "outputs": [
    {
     "data": {
      "text/plain": [
       "array([[3., 2., 1.],\n",
       "       [9., 8., 1.]])"
      ]
     },
     "execution_count": 30,
     "metadata": {},
     "output_type": "execute_result"
    }
   ],
   "source": [
    "np.floor(b)"
   ]
  },
  {
   "cell_type": "code",
   "execution_count": 31,
   "id": "5de3e324-5127-4457-9ff6-baa23bf4a464",
   "metadata": {},
   "outputs": [
    {
     "data": {
      "text/plain": [
       "array([[4., 5., 6.],\n",
       "       [5., 7., 9.]])"
      ]
     },
     "execution_count": 31,
     "metadata": {},
     "output_type": "execute_result"
    }
   ],
   "source": [
    "np.ceil(a)"
   ]
  },
  {
   "cell_type": "code",
   "execution_count": null,
   "id": "58c2b4e7-0ab9-4907-b538-9d6ff39c9591",
   "metadata": {},
   "outputs": [],
   "source": []
  },
  {
   "cell_type": "code",
   "execution_count": 32,
   "id": "c2143446-26a1-497b-8f99-95ccc41b426f",
   "metadata": {},
   "outputs": [
    {
     "data": {
      "text/plain": [
       "array([[-7.01525255, -0.45765755,  0.64209262],\n",
       "       [-2.21084541, -0.14706506,  0.64209262]])"
      ]
     },
     "execution_count": 32,
     "metadata": {},
     "output_type": "execute_result"
    }
   ],
   "source": [
    "new= 1/np.tan(b)\n",
    "new"
   ]
  },
  {
   "cell_type": "markdown",
   "id": "dec9c15d-a2b6-4086-a0e7-bdf5e9f4892b",
   "metadata": {},
   "source": [
    "### rounding operations\n"
   ]
  },
  {
   "cell_type": "code",
   "execution_count": null,
   "id": "451d2a14-29ce-486c-a89a-956cf9348497",
   "metadata": {},
   "outputs": [],
   "source": []
  },
  {
   "cell_type": "code",
   "execution_count": 34,
   "id": "23a12b62-447b-4e15-b209-2ce77bb9d82d",
   "metadata": {},
   "outputs": [
    {
     "data": {
      "text/plain": [
       "array([[-7.015, -0.458,  0.642],\n",
       "       [-2.211, -0.147,  0.642]])"
      ]
     },
     "execution_count": 34,
     "metadata": {},
     "output_type": "execute_result"
    }
   ],
   "source": [
    "np.round(new,decimals=3)"
   ]
  },
  {
   "cell_type": "code",
   "execution_count": null,
   "id": "56d04c9a-231c-4cc6-b1e2-0e8d1e9d9131",
   "metadata": {},
   "outputs": [],
   "source": []
  },
  {
   "cell_type": "code",
   "execution_count": null,
   "id": "9ae57208-6f22-4a9e-9555-9d437964a8b9",
   "metadata": {},
   "outputs": [],
   "source": []
  },
  {
   "cell_type": "code",
   "execution_count": null,
   "id": "95422985-23fe-457a-af48-f86b85276ebf",
   "metadata": {},
   "outputs": [],
   "source": []
  },
  {
   "cell_type": "code",
   "execution_count": null,
   "id": "243f79fa-5c54-4792-a460-348f0ed40eae",
   "metadata": {},
   "outputs": [],
   "source": []
  },
  {
   "cell_type": "code",
   "execution_count": null,
   "id": "2f77b571-f509-4fea-912f-bcd02783d944",
   "metadata": {},
   "outputs": [],
   "source": []
  }
 ],
 "metadata": {
  "kernelspec": {
   "display_name": "Python 3 (ipykernel)",
   "language": "python",
   "name": "python3"
  },
  "language_info": {
   "codemirror_mode": {
    "name": "ipython",
    "version": 3
   },
   "file_extension": ".py",
   "mimetype": "text/x-python",
   "name": "python",
   "nbconvert_exporter": "python",
   "pygments_lexer": "ipython3",
   "version": "3.8.10"
  }
 },
 "nbformat": 4,
 "nbformat_minor": 5
}
