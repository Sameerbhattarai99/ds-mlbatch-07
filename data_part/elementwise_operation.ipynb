{
 "cells": [
  {
   "cell_type": "code",
   "execution_count": 1,
   "id": "7ebec019-d896-41e9-98b3-6102da9e2df6",
   "metadata": {},
   "outputs": [],
   "source": [
    "import numpy as np"
   ]
  },
  {
   "cell_type": "code",
   "execution_count": 22,
   "id": "7aeed1ac-7cc4-4d50-9b11-db0aa3c6c075",
   "metadata": {},
   "outputs": [],
   "source": [
    "a = np.array([[4,5,6],[5,7,9]])\n",
    "b = np.array([[3,2,1],[9,8,1]])"
   ]
  },
  {
   "cell_type": "code",
   "execution_count": 23,
   "id": "5dbbc612-0628-4fde-8d18-287b9e43d749",
   "metadata": {},
   "outputs": [
    {
     "data": {
      "text/plain": [
       "(array([[4, 5, 6],\n",
       "        [5, 7, 9]]),\n",
       " array([[3, 2, 1],\n",
       "        [9, 8, 1]]))"
      ]
     },
     "execution_count": 23,
     "metadata": {},
     "output_type": "execute_result"
    }
   ],
   "source": [
    "a,b"
   ]
  },
  {
   "cell_type": "markdown",
   "id": "1066ee30-beff-4964-b63f-42f7ea4b5a06",
   "metadata": {},
   "source": [
    "\n",
    "# arithmetic operation "
   ]
  },
  {
   "cell_type": "code",
   "execution_count": 24,
   "id": "f064ac43-4688-439f-a76a-e3fa39aa7a94",
   "metadata": {},
   "outputs": [
    {
     "data": {
      "text/plain": [
       "array([[ 7,  7,  7],\n",
       "       [14, 15, 10]])"
      ]
     },
     "execution_count": 24,
     "metadata": {},
     "output_type": "execute_result"
    }
   ],
   "source": [
    "#a+b\n",
    "np.add(a,b)"
   ]
  },
  {
   "cell_type": "code",
   "execution_count": 25,
   "id": "cc81083c-e72a-4956-96bd-e281cde9051a",
   "metadata": {},
   "outputs": [
    {
     "data": {
      "text/plain": [
       "array([[ 1,  3,  5],\n",
       "       [-4, -1,  8]])"
      ]
     },
     "execution_count": 25,
     "metadata": {},
     "output_type": "execute_result"
    }
   ],
   "source": [
    "#a-b\n",
    "np.subtract(a,b)"
   ]
  },
  {
   "cell_type": "code",
   "execution_count": 26,
   "id": "f1f4abaa-d0dd-4961-9a44-56472540272f",
   "metadata": {},
   "outputs": [
    {
     "data": {
      "text/plain": [
       "array([[12, 10,  6],\n",
       "       [45, 56,  9]])"
      ]
     },
     "execution_count": 26,
     "metadata": {},
     "output_type": "execute_result"
    }
   ],
   "source": [
    "#a*b\n",
    "np.multiply(a,b)"
   ]
  },
  {
   "cell_type": "code",
   "execution_count": 27,
   "id": "ca71c506-27ca-433c-b90f-354d4457a52c",
   "metadata": {},
   "outputs": [
    {
     "data": {
      "text/plain": [
       "array([[16, 25, 36],\n",
       "       [25, 49, 81]], dtype=int32)"
      ]
     },
     "execution_count": 27,
     "metadata": {},
     "output_type": "execute_result"
    }
   ],
   "source": [
    "#a**2\n",
    "np.power(a,2)"
   ]
  },
  {
   "cell_type": "code",
   "execution_count": 28,
   "id": "e63a3c7b-fbf8-4a7e-8dd8-fadbf8ea39fe",
   "metadata": {},
   "outputs": [
    {
     "data": {
      "text/plain": [
       "(array([[1, 2, 6],\n",
       "        [0, 0, 9]]),\n",
       " array([[1, 1, 0],\n",
       "        [5, 7, 0]]))"
      ]
     },
     "execution_count": 28,
     "metadata": {},
     "output_type": "execute_result"
    }
   ],
   "source": [
    "#a %b\n",
    "np.divmod(a,b)"
   ]
  },
  {
   "cell_type": "code",
   "execution_count": 29,
   "id": "ce6fe4a6-c64e-4a65-833f-d2131889ed32",
   "metadata": {},
   "outputs": [
    {
     "data": {
      "text/plain": [
       "array([[2.        , 2.23606798, 2.44948974],\n",
       "       [2.23606798, 2.64575131, 3.        ]])"
      ]
     },
     "execution_count": 29,
     "metadata": {},
     "output_type": "execute_result"
    }
   ],
   "source": [
    "np.sqrt(a)"
   ]
  },
  {
   "cell_type": "code",
   "execution_count": 30,
   "id": "1a00c4be-4a1c-4b70-938d-ec349958a6ac",
   "metadata": {},
   "outputs": [
    {
     "data": {
      "text/plain": [
       "array([[3., 2., 1.],\n",
       "       [9., 8., 1.]])"
      ]
     },
     "execution_count": 30,
     "metadata": {},
     "output_type": "execute_result"
    }
   ],
   "source": [
    "np.floor(b)"
   ]
  },
  {
   "cell_type": "code",
   "execution_count": 31,
   "id": "5de3e324-5127-4457-9ff6-baa23bf4a464",
   "metadata": {},
   "outputs": [
    {
     "data": {
      "text/plain": [
       "array([[4., 5., 6.],\n",
       "       [5., 7., 9.]])"
      ]
     },
     "execution_count": 31,
     "metadata": {},
     "output_type": "execute_result"
    }
   ],
   "source": [
    "np.ceil(a)"
   ]
  },
  {
   "cell_type": "code",
   "execution_count": null,
   "id": "58c2b4e7-0ab9-4907-b538-9d6ff39c9591",
   "metadata": {},
   "outputs": [],
   "source": []
  },
  {
   "cell_type": "code",
   "execution_count": 32,
   "id": "c2143446-26a1-497b-8f99-95ccc41b426f",
   "metadata": {},
   "outputs": [
    {
     "data": {
      "text/plain": [
       "array([[-7.01525255, -0.45765755,  0.64209262],\n",
       "       [-2.21084541, -0.14706506,  0.64209262]])"
      ]
     },
     "execution_count": 32,
     "metadata": {},
     "output_type": "execute_result"
    }
   ],
   "source": [
    "new= 1/np.tan(b)\n",
    "new"
   ]
  },
  {
   "cell_type": "markdown",
   "id": "dec9c15d-a2b6-4086-a0e7-bdf5e9f4892b",
   "metadata": {},
   "source": [
    "### rounding operations\n"
   ]
  },
  {
   "cell_type": "code",
   "execution_count": null,
   "id": "451d2a14-29ce-486c-a89a-956cf9348497",
   "metadata": {},
   "outputs": [],
   "source": []
  },
  {
   "cell_type": "code",
   "execution_count": 34,
   "id": "23a12b62-447b-4e15-b209-2ce77bb9d82d",
   "metadata": {},
   "outputs": [
    {
     "data": {
      "text/plain": [
       "array([[-7.015, -0.458,  0.642],\n",
       "       [-2.211, -0.147,  0.642]])"
      ]
     },
     "execution_count": 34,
     "metadata": {},
     "output_type": "execute_result"
    }
   ],
   "source": [
    "np.round(new,decimals=3)"
   ]
  },
  {
   "cell_type": "code",
   "execution_count": null,
   "id": "56d04c9a-231c-4cc6-b1e2-0e8d1e9d9131",
   "metadata": {},
   "outputs": [],
   "source": []
  },
  {
   "cell_type": "markdown",
   "id": "0c0072e7-f73d-4437-907e-7b4e8ecc9fbe",
   "metadata": {},
   "source": [
    "### matrix operations"
   ]
  },
  {
   "cell_type": "code",
   "execution_count": 2,
   "id": "95422985-23fe-457a-af48-f86b85276ebf",
   "metadata": {},
   "outputs": [],
   "source": [
    "a = np.array([[4,5,6],[1,2,3]])\n",
    "b = np.random.randint(0,10,(3,3))"
   ]
  },
  {
   "cell_type": "code",
   "execution_count": 3,
   "id": "755ed118-fa14-4eb3-a327-df0ebf7f8433",
   "metadata": {},
   "outputs": [
    {
     "data": {
      "text/plain": [
       "array([[4, 5, 6],\n",
       "       [1, 2, 3]])"
      ]
     },
     "execution_count": 3,
     "metadata": {},
     "output_type": "execute_result"
    }
   ],
   "source": [
    "a\n"
   ]
  },
  {
   "cell_type": "code",
   "execution_count": 4,
   "id": "243f79fa-5c54-4792-a460-348f0ed40eae",
   "metadata": {},
   "outputs": [
    {
     "data": {
      "text/plain": [
       "array([[3, 2, 4],\n",
       "       [2, 6, 7],\n",
       "       [2, 8, 0]])"
      ]
     },
     "execution_count": 4,
     "metadata": {},
     "output_type": "execute_result"
    }
   ],
   "source": [
    "b"
   ]
  },
  {
   "cell_type": "code",
   "execution_count": 5,
   "id": "73a7e6a0-966f-4161-bd0e-7ff4a8c2b46b",
   "metadata": {},
   "outputs": [
    {
     "data": {
      "text/plain": [
       "array([[34, 86, 51],\n",
       "       [13, 38, 18]])"
      ]
     },
     "execution_count": 5,
     "metadata": {},
     "output_type": "execute_result"
    }
   ],
   "source": [
    "np.dot(a,b)"
   ]
  },
  {
   "cell_type": "code",
   "execution_count": 6,
   "id": "2f77b571-f509-4fea-912f-bcd02783d944",
   "metadata": {},
   "outputs": [
    {
     "data": {
      "text/plain": [
       "array([[4, 1],\n",
       "       [5, 2],\n",
       "       [6, 3]])"
      ]
     },
     "execution_count": 6,
     "metadata": {},
     "output_type": "execute_result"
    }
   ],
   "source": [
    "a.T"
   ]
  },
  {
   "cell_type": "code",
   "execution_count": 7,
   "id": "11248538-7279-4571-8f0c-dc3158deeb07",
   "metadata": {},
   "outputs": [
    {
     "data": {
      "text/plain": [
       "array([[4, 1],\n",
       "       [5, 2],\n",
       "       [6, 3]])"
      ]
     },
     "execution_count": 7,
     "metadata": {},
     "output_type": "execute_result"
    }
   ],
   "source": [
    "np.transpose(a)"
   ]
  },
  {
   "cell_type": "code",
   "execution_count": 9,
   "id": "29ac56c4-ccd7-47a2-be4b-bc1035d271a5",
   "metadata": {},
   "outputs": [
    {
     "data": {
      "text/plain": [
       "6"
      ]
     },
     "execution_count": 9,
     "metadata": {},
     "output_type": "execute_result"
    }
   ],
   "source": [
    "np.trace(a)"
   ]
  },
  {
   "cell_type": "markdown",
   "id": "f1356a85-a3df-44fa-bf91-50eb530ca973",
   "metadata": {},
   "source": [
    "# inverse"
   ]
  },
  {
   "cell_type": "code",
   "execution_count": 11,
   "id": "cef66bdd-1eb8-44fa-9a62-6330e4ccac61",
   "metadata": {},
   "outputs": [
    {
     "data": {
      "text/plain": [
       "-124.00000000000003"
      ]
     },
     "execution_count": 11,
     "metadata": {},
     "output_type": "execute_result"
    }
   ],
   "source": [
    "np.linalg.det(b)"
   ]
  },
  {
   "cell_type": "code",
   "execution_count": 14,
   "id": "de7743d8-f990-4b1f-946b-c27b2d3ae3b0",
   "metadata": {},
   "outputs": [
    {
     "data": {
      "text/plain": [
       "array([[ 0.4516129 , -0.25806452,  0.08064516],\n",
       "       [-0.11290323,  0.06451613,  0.10483871],\n",
       "       [-0.03225806,  0.16129032, -0.11290323]])"
      ]
     },
     "execution_count": 14,
     "metadata": {},
     "output_type": "execute_result"
    }
   ],
   "source": [
    "np.linalg.inv(b)"
   ]
  },
  {
   "cell_type": "code",
   "execution_count": 15,
   "id": "4ccbad00-efd8-432b-98af-eda36cdef105",
   "metadata": {},
   "outputs": [
    {
     "data": {
      "text/plain": [
       "array([[ 1.,  0.,  0.],\n",
       "       [-0.,  1., -0.],\n",
       "       [-0., -0.,  1.]])"
      ]
     },
     "execution_count": 15,
     "metadata": {},
     "output_type": "execute_result"
    }
   ],
   "source": [
    "np.dot(\n",
    "    b,np.linalg.inv(b)\n",
    ").round()"
   ]
  },
  {
   "cell_type": "markdown",
   "id": "2bcfd97d-0afc-4214-acf4-f7e7ff93c1a2",
   "metadata": {},
   "source": [
    "### solve eqn"
   ]
  },
  {
   "cell_type": "markdown",
   "id": "6e83c30c-b3b1-4502-b027-69a17f559c6b",
   "metadata": {},
   "source": [
    "x+2y = 1 ,3x+5y = 2"
   ]
  },
  {
   "cell_type": "code",
   "execution_count": 22,
   "id": "c6dac73c-6f36-42f0-91e4-b8d40a449b85",
   "metadata": {},
   "outputs": [],
   "source": [
    "a = np.array([[1,2],[3,5]])\n",
    "b = np.array([1,2])"
   ]
  },
  {
   "cell_type": "code",
   "execution_count": 23,
   "id": "b761dc37-adfc-43d5-9d35-dec73b9140df",
   "metadata": {},
   "outputs": [],
   "source": [
    "# x = np.dot(b,np.linalg.inv(a))\n",
    "\n",
    "x = np.linalg.solve(a,b)"
   ]
  },
  {
   "cell_type": "code",
   "execution_count": 24,
   "id": "b4ca8b65-8827-4374-abbe-07afe8213440",
   "metadata": {},
   "outputs": [
    {
     "data": {
      "text/plain": [
       "array([-1.,  1.])"
      ]
     },
     "execution_count": 24,
     "metadata": {},
     "output_type": "execute_result"
    }
   ],
   "source": [
    "x"
   ]
  },
  {
   "cell_type": "code",
   "execution_count": 25,
   "id": "07a83b4f-143b-4d72-a5d9-dd3f7c86426f",
   "metadata": {},
   "outputs": [
    {
     "data": {
      "text/plain": [
       "array([1., 2.])"
      ]
     },
     "execution_count": 25,
     "metadata": {},
     "output_type": "execute_result"
    }
   ],
   "source": [
    "np.dot(a,x)"
   ]
  },
  {
   "cell_type": "markdown",
   "id": "a0fee1ca-5bcc-4f3d-bde7-130667a3ef33",
   "metadata": {},
   "source": [
    "### array broadcasting"
   ]
  },
  {
   "cell_type": "code",
   "execution_count": 27,
   "id": "b7f5f0b6-ffbd-44df-8543-730f065ab869",
   "metadata": {},
   "outputs": [
    {
     "data": {
      "text/plain": [
       "array([[ 2,  6],\n",
       "       [ 6, 15]])"
      ]
     },
     "execution_count": 27,
     "metadata": {},
     "output_type": "execute_result"
    }
   ],
   "source": [
    "a * np.array([2,3])"
   ]
  },
  {
   "cell_type": "code",
   "execution_count": null,
   "id": "9a364737-0dec-4b46-8533-f46e881054aa",
   "metadata": {},
   "outputs": [],
   "source": []
  },
  {
   "cell_type": "code",
   "execution_count": null,
   "id": "65884826-9540-4036-8a42-9510e01d8bf1",
   "metadata": {},
   "outputs": [],
   "source": []
  },
  {
   "cell_type": "code",
   "execution_count": null,
   "id": "a6da2b42-71e0-4232-bde9-c99b2c27a476",
   "metadata": {},
   "outputs": [],
   "source": []
  },
  {
   "cell_type": "code",
   "execution_count": null,
   "id": "97efd13d-56c8-41cb-b74c-d7019d60630a",
   "metadata": {},
   "outputs": [],
   "source": []
  },
  {
   "cell_type": "code",
   "execution_count": null,
   "id": "31bb3fe9-e930-4ca5-9632-8e3392815c51",
   "metadata": {},
   "outputs": [],
   "source": []
  },
  {
   "cell_type": "code",
   "execution_count": null,
   "id": "c1a20ff1-7fa5-4c5f-b188-701e5491887c",
   "metadata": {},
   "outputs": [],
   "source": []
  },
  {
   "cell_type": "code",
   "execution_count": null,
   "id": "26792db9-07bb-4d81-b279-53a17d8f5c56",
   "metadata": {},
   "outputs": [],
   "source": []
  },
  {
   "cell_type": "code",
   "execution_count": null,
   "id": "afc2419c-52fa-4e9b-943d-77e201a67ae4",
   "metadata": {},
   "outputs": [],
   "source": []
  },
  {
   "cell_type": "code",
   "execution_count": null,
   "id": "2103ac8c-f5ee-41d0-a84e-7ce96dc0c70a",
   "metadata": {},
   "outputs": [],
   "source": []
  }
 ],
 "metadata": {
  "kernelspec": {
   "display_name": "Python 3 (ipykernel)",
   "language": "python",
   "name": "python3"
  },
  "language_info": {
   "codemirror_mode": {
    "name": "ipython",
    "version": 3
   },
   "file_extension": ".py",
   "mimetype": "text/x-python",
   "name": "python",
   "nbconvert_exporter": "python",
   "pygments_lexer": "ipython3",
   "version": "3.8.10"
  }
 },
 "nbformat": 4,
 "nbformat_minor": 5
}
