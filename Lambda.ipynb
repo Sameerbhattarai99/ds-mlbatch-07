{
 "cells": [
  {
   "cell_type": "code",
   "execution_count": 1,
   "id": "a3b5c3f9-8ddf-4644-bc27-8cb2c24ce95a",
   "metadata": {},
   "outputs": [
    {
     "data": {
      "text/plain": [
       "9"
      ]
     },
     "execution_count": 1,
     "metadata": {},
     "output_type": "execute_result"
    }
   ],
   "source": [
    "# usual way\n",
    "def add(x,y):\n",
    "    return x+y\n",
    "add(4,5)"
   ]
  },
  {
   "cell_type": "code",
   "execution_count": 2,
   "id": "10d55010-b2bd-47b9-b5ff-8e39c3dce420",
   "metadata": {},
   "outputs": [],
   "source": [
    "add_lambda = lambda x,y:x+y"
   ]
  },
  {
   "cell_type": "code",
   "execution_count": 3,
   "id": "123ee8a3-3f13-4e33-aa20-c4a904a16025",
   "metadata": {},
   "outputs": [
    {
     "data": {
      "text/plain": [
       "function"
      ]
     },
     "execution_count": 3,
     "metadata": {},
     "output_type": "execute_result"
    }
   ],
   "source": [
    "type(add_lambda)"
   ]
  },
  {
   "cell_type": "code",
   "execution_count": 4,
   "id": "c02bc289-f033-4367-a00d-febb7d880e9b",
   "metadata": {},
   "outputs": [
    {
     "data": {
      "text/plain": [
       "10"
      ]
     },
     "execution_count": 4,
     "metadata": {},
     "output_type": "execute_result"
    }
   ],
   "source": [
    "add_lambda(4,6)"
   ]
  },
  {
   "cell_type": "code",
   "execution_count": null,
   "id": "e2f050ef-7d09-402b-9e0d-0a6e9f96e4c9",
   "metadata": {},
   "outputs": [],
   "source": []
  },
  {
   "cell_type": "code",
   "execution_count": 14,
   "id": "2bd8027d-881b-4af4-bf1b-f40535802199",
   "metadata": {},
   "outputs": [
    {
     "data": {
      "text/plain": [
       "52"
      ]
     },
     "execution_count": 14,
     "metadata": {},
     "output_type": "execute_result"
    }
   ],
   "source": [
    "area = lambda l,b,h:2*(l*b+b*h+h*l)\n",
    "area(2,3,4)"
   ]
  },
  {
   "cell_type": "markdown",
   "id": "32d0304d-0de8-4337-b0f6-42eaa93dee1c",
   "metadata": {},
   "source": [
    "## map function with lambda"
   ]
  },
  {
   "cell_type": "code",
   "execution_count": 15,
   "id": "10325233-27f7-48af-bbfc-a9f6bea7660b",
   "metadata": {},
   "outputs": [],
   "source": [
    "def discount(x):\n",
    "    return x*0.9 if x>100 else x"
   ]
  },
  {
   "cell_type": "code",
   "execution_count": 17,
   "id": "48cfc767-7bd6-4c67-9da3-52bb30da4dc3",
   "metadata": {},
   "outputs": [
    {
     "data": {
      "text/plain": [
       "108.0"
      ]
     },
     "execution_count": 17,
     "metadata": {},
     "output_type": "execute_result"
    }
   ],
   "source": [
    "discount(120)"
   ]
  },
  {
   "cell_type": "code",
   "execution_count": 18,
   "id": "01cc40e9-5acb-4066-a612-0555947eb977",
   "metadata": {},
   "outputs": [
    {
     "data": {
      "text/plain": [
       "[45, 108.0, 180.0, 75, 135.0]"
      ]
     },
     "execution_count": 18,
     "metadata": {},
     "output_type": "execute_result"
    }
   ],
   "source": [
    "prices = [45, 120, 200, 75, 150]\n",
    "dis_list = map(discount,prices)\n",
    "list(dis_list)"
   ]
  },
  {
   "cell_type": "code",
   "execution_count": 21,
   "id": "78981b0d-2185-4239-bcd0-1cccaca97c6a",
   "metadata": {},
   "outputs": [],
   "source": []
  },
  {
   "cell_type": "code",
   "execution_count": 23,
   "id": "8d836c1d-a5c7-4c57-9023-49ea16083d6e",
   "metadata": {},
   "outputs": [
    {
     "data": {
      "text/plain": [
       "[45, 108.0, 180.0, 75, 135.0]"
      ]
     },
     "execution_count": 23,
     "metadata": {},
     "output_type": "execute_result"
    }
   ],
   "source": [
    "discount = lambda x:x*0.9 if x>100 else x\n",
    "prices = [45, 120, 200, 75, 150]\n",
    "dis_list = map(discount,prices)\n",
    "list(dis_list)"
   ]
  },
  {
   "cell_type": "code",
   "execution_count": null,
   "id": "f8841de0-8f1e-483e-afdf-78a037eaf7e1",
   "metadata": {},
   "outputs": [],
   "source": []
  }
 ],
 "metadata": {
  "kernelspec": {
   "display_name": "Python 3 (ipykernel)",
   "language": "python",
   "name": "python3"
  },
  "language_info": {
   "codemirror_mode": {
    "name": "ipython",
    "version": 3
   },
   "file_extension": ".py",
   "mimetype": "text/x-python",
   "name": "python",
   "nbconvert_exporter": "python",
   "pygments_lexer": "ipython3",
   "version": "3.8.10"
  }
 },
 "nbformat": 4,
 "nbformat_minor": 5
}
