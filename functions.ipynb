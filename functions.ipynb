{
 "cells": [
  {
   "cell_type": "markdown",
   "id": "20e1ccf9-ddfc-46ba-a637-30d04e501a84",
   "metadata": {},
   "source": [
    "## functions\n"
   ]
  },
  {
   "cell_type": "markdown",
   "id": "945bd62a-7581-458b-9e59-7cf8e9a0753b",
   "metadata": {},
   "source": [
    "def <function name>(parameters):\n",
    "        do something\n",
    "        .\n",
    "        \n",
    "        return <result>"
   ]
  },
  {
   "cell_type": "code",
   "execution_count": null,
   "id": "82023767-01ff-4ff2-995c-8d8f6fa0b30b",
   "metadata": {},
   "outputs": [],
   "source": []
  },
  {
   "cell_type": "code",
   "execution_count": 1,
   "id": "46b31544-20df-439a-adc9-4ece63e6e512",
   "metadata": {},
   "outputs": [],
   "source": [
    "# def sum(a,b):\n",
    "#     result=a+b\n",
    "#     return result\n",
    "# value = sum(3,4)"
   ]
  },
  {
   "cell_type": "code",
   "execution_count": 2,
   "id": "8419e0a4-0753-414d-be94-8ef0963b448a",
   "metadata": {},
   "outputs": [],
   "source": []
  },
  {
   "cell_type": "code",
   "execution_count": 3,
   "id": "f9472b43-b4c5-4031-9d0e-22f82a8077ef",
   "metadata": {},
   "outputs": [
    {
     "data": {
      "text/plain": [
       "7"
      ]
     },
     "execution_count": 3,
     "metadata": {},
     "output_type": "execute_result"
    }
   ],
   "source": [
    "value\n"
   ]
  },
  {
   "cell_type": "markdown",
   "id": "935bde78-a0e0-4268-a929-433d22c11bc6",
   "metadata": {},
   "source": [
    "## built in function"
   ]
  },
  {
   "cell_type": "code",
   "execution_count": 4,
   "id": "26714d82-4ce3-499c-b492-56c9d9430d8b",
   "metadata": {},
   "outputs": [],
   "source": [
    "a = sum(9,5)\n",
    "a"
   ]
  },
  {
   "cell_type": "code",
   "execution_count": 5,
   "id": "9241e754-2e0a-4f6b-8d62-0a18168e9605",
   "metadata": {},
   "outputs": [
    {
     "data": {
      "text/plain": [
       "14"
      ]
     },
     "execution_count": 5,
     "metadata": {},
     "output_type": "execute_result"
    }
   ],
   "source": [
    "\n"
   ]
  },
  {
   "cell_type": "code",
   "execution_count": 7,
   "id": "001d9c59-3aba-41bc-a41a-5c6c5b4e2413",
   "metadata": {},
   "outputs": [
    {
     "name": "stdout",
     "output_type": "stream",
     "text": [
      "4_5\n"
     ]
    }
   ],
   "source": [
    "print(4,5 , sep = \"_\") # sep le k le seprate garxa banera banxa .,_"
   ]
  },
  {
   "cell_type": "code",
   "execution_count": null,
   "id": "486b721d-c567-441a-80bc-a776b6aaea86",
   "metadata": {},
   "outputs": [],
   "source": []
  }
 ],
 "metadata": {
  "kernelspec": {
   "display_name": "Python 3 (ipykernel)",
   "language": "python",
   "name": "python3"
  },
  "language_info": {
   "codemirror_mode": {
    "name": "ipython",
    "version": 3
   },
   "file_extension": ".py",
   "mimetype": "text/x-python",
   "name": "python",
   "nbconvert_exporter": "python",
   "pygments_lexer": "ipython3",
   "version": "3.8.10"
  }
 },
 "nbformat": 4,
 "nbformat_minor": 5
}
