{
 "cells": [
  {
   "cell_type": "markdown",
   "id": "20e1ccf9-ddfc-46ba-a637-30d04e501a84",
   "metadata": {},
   "source": [
    "## functions\n"
   ]
  },
  {
   "cell_type": "markdown",
   "id": "945bd62a-7581-458b-9e59-7cf8e9a0753b",
   "metadata": {},
   "source": [
    "def <function name>(parameters):\n",
    "        do something\n",
    "        .\n",
    "        \n",
    "        return <result>"
   ]
  },
  {
   "cell_type": "code",
   "execution_count": null,
   "id": "82023767-01ff-4ff2-995c-8d8f6fa0b30b",
   "metadata": {},
   "outputs": [],
   "source": []
  },
  {
   "cell_type": "code",
   "execution_count": 1,
   "id": "46b31544-20df-439a-adc9-4ece63e6e512",
   "metadata": {},
   "outputs": [],
   "source": [
    "# def sum(a,b):\n",
    "#     result=a+b\n",
    "#     return result\n",
    "# value = sum(3,4)"
   ]
  },
  {
   "cell_type": "code",
   "execution_count": null,
   "id": "8419e0a4-0753-414d-be94-8ef0963b448a",
   "metadata": {},
   "outputs": [],
   "source": []
  },
  {
   "cell_type": "code",
   "execution_count": 2,
   "id": "f9472b43-b4c5-4031-9d0e-22f82a8077ef",
   "metadata": {},
   "outputs": [
    {
     "ename": "NameError",
     "evalue": "name 'value' is not defined",
     "output_type": "error",
     "traceback": [
      "\u001b[1;31m---------------------------------------------------------------------------\u001b[0m",
      "\u001b[1;31mNameError\u001b[0m                                 Traceback (most recent call last)",
      "Cell \u001b[1;32mIn[2], line 1\u001b[0m\n\u001b[1;32m----> 1\u001b[0m \u001b[43mvalue\u001b[49m\n",
      "\u001b[1;31mNameError\u001b[0m: name 'value' is not defined"
     ]
    }
   ],
   "source": [
    "value\n"
   ]
  },
  {
   "cell_type": "markdown",
   "id": "935bde78-a0e0-4268-a929-433d22c11bc6",
   "metadata": {},
   "source": [
    "## built in function"
   ]
  },
  {
   "cell_type": "code",
   "execution_count": null,
   "id": "26714d82-4ce3-499c-b492-56c9d9430d8b",
   "metadata": {},
   "outputs": [],
   "source": [
    "a = sum(9,5)\n",
    "a"
   ]
  },
  {
   "cell_type": "code",
   "execution_count": null,
   "id": "9241e754-2e0a-4f6b-8d62-0a18168e9605",
   "metadata": {},
   "outputs": [],
   "source": [
    "\n"
   ]
  },
  {
   "cell_type": "code",
   "execution_count": null,
   "id": "001d9c59-3aba-41bc-a41a-5c6c5b4e2413",
   "metadata": {},
   "outputs": [],
   "source": [
    "print(4,5 , sep = \"_\") # sep le k le seprate garxa banera banxa .,_"
   ]
  },
  {
   "cell_type": "markdown",
   "id": "7e840fcc-db9f-4500-b5fb-0a2abc526188",
   "metadata": {},
   "source": [
    "### file open close write append"
   ]
  },
  {
   "cell_type": "code",
   "execution_count": null,
   "id": "e5f3dbd1-8372-48e8-9b98-fa1e5dacf07d",
   "metadata": {},
   "outputs": [],
   "source": [
    "file=open(\"log.txt\" , mode=\"r\")\n",
    "print(file.read())\n",
    "file.close()\n",
    "\n"
   ]
  },
  {
   "cell_type": "code",
   "execution_count": null,
   "id": "4e3348a6-8b91-4fc4-8dc2-9021ab043453",
   "metadata": {},
   "outputs": [],
   "source": [
    "file=open(\"message.txt\" , mode=\"w\")\n",
    "file.write(\"this is file writing part\")\n",
    "file.close()\n",
    "\n"
   ]
  },
  {
   "cell_type": "code",
   "execution_count": null,
   "id": "24a5ac4f-cbd6-4afa-b749-13c12be8e4de",
   "metadata": {},
   "outputs": [],
   "source": [
    "# context manager\n",
    "with open(\"message.txt\" , mode = \"r+\") as file:\n",
    "    print(file.read())\n",
    "    file.write(\"this is first message\\n\")"
   ]
  },
  {
   "cell_type": "code",
   "execution_count": null,
   "id": "0f4bf059-24ff-42f5-a2f2-4a71c20e2689",
   "metadata": {},
   "outputs": [],
   "source": [
    "with open(\"message.txt\" , mode = \"a\") as file:\n",
    "    file.write(\"this is to append\\n\")\n",
    "    "
   ]
  },
  {
   "cell_type": "code",
   "execution_count": null,
   "id": "4310dd5a-9256-4cd3-bc34-bb1c1a3cf47f",
   "metadata": {},
   "outputs": [],
   "source": [
    "with open(\"message.txt\" , mode = \"r\") as file:\n",
    "    print(file.read())\n",
    "    "
   ]
  },
  {
   "cell_type": "markdown",
   "id": "56fb7472-7178-4159-b0ba-a8d012754db2",
   "metadata": {},
   "source": [
    "### enumerate()"
   ]
  },
  {
   "cell_type": "code",
   "execution_count": null,
   "id": "b5acc143-c599-4afe-a773-06f11f99510b",
   "metadata": {},
   "outputs": [],
   "source": [
    "name = [\"ram\",\"hari\",\"sam\"]\n"
   ]
  },
  {
   "cell_type": "code",
   "execution_count": null,
   "id": "e4373535-7eeb-45a4-a235-859bf201cd82",
   "metadata": {},
   "outputs": [],
   "source": [
    "list(enumerate(name))"
   ]
  },
  {
   "cell_type": "code",
   "execution_count": null,
   "id": "ef23414d-3c2c-4b50-9f35-6a30345d0872",
   "metadata": {},
   "outputs": [],
   "source": [
    "for(i,name) in enumerate(name ,start=1):\n",
    "    print(f\"{name} :roll {i}\")"
   ]
  },
  {
   "cell_type": "code",
   "execution_count": null,
   "id": "52e2877c-94c3-4a89-874f-5a8e7402cff0",
   "metadata": {},
   "outputs": [],
   "source": [
    "name = [\"ram\",\"hari\",\"sam\",\"bob\",\"qaa\"]\n",
    "score = [3,4,2,5,1]\n"
   ]
  },
  {
   "cell_type": "code",
   "execution_count": null,
   "id": "75104d50-706d-43e8-9b27-6f997d031c07",
   "metadata": {},
   "outputs": [],
   "source": [
    "#zip chi 2 or many iterable lai join garna use hunxa"
   ]
  },
  {
   "cell_type": "code",
   "execution_count": null,
   "id": "55c766fe-c005-4645-b368-05bc44f4ed2c",
   "metadata": {},
   "outputs": [],
   "source": [
    "dict(zip(name,score))"
   ]
  },
  {
   "cell_type": "code",
   "execution_count": null,
   "id": "d1c9dbd9-dfb7-4b02-b5c2-72b2788e87c2",
   "metadata": {},
   "outputs": [],
   "source": [
    "name=\"ahri\"\n",
    "list1=[2,5,6]\n",
    "seti=set(\"aeiou\")\n",
    "set(zip(name,list,seti))"
   ]
  },
  {
   "cell_type": "code",
   "execution_count": null,
   "id": "e0794412-cbec-4ae1-9ced-5b4a33a7a811",
   "metadata": {},
   "outputs": [],
   "source": []
  },
  {
   "cell_type": "markdown",
   "id": "e5242b09-4951-438f-a250-87dd46a250e1",
   "metadata": {},
   "source": [
    "### map\n",
    "\n"
   ]
  },
  {
   "cell_type": "code",
   "execution_count": 24,
   "id": "d628e257-88a7-4865-a511-5fc3a19e5b8d",
   "metadata": {},
   "outputs": [],
   "source": [
    "def mult(x):\n",
    "    return x*2"
   ]
  },
  {
   "cell_type": "code",
   "execution_count": 29,
   "id": "dae8c3e9-cc13-43af-a0d9-9b62071fa5bc",
   "metadata": {},
   "outputs": [],
   "source": [
    "numbers = [2,4,6,8,0]\n",
    "\n",
    "map_obj = map(mult,numbers)\n",
    "\n"
   ]
  },
  {
   "cell_type": "code",
   "execution_count": 26,
   "id": "acaba882-8486-483c-968c-e9a605bdc1d3",
   "metadata": {},
   "outputs": [
    {
     "data": {
      "text/plain": [
       "[4, 8, 12, 16, 0]"
      ]
     },
     "execution_count": 26,
     "metadata": {},
     "output_type": "execute_result"
    }
   ],
   "source": [
    "list(map_obj)"
   ]
  },
  {
   "cell_type": "code",
   "execution_count": 30,
   "id": "a0d09cd5-5ca8-481c-96f6-67970091fd0c",
   "metadata": {},
   "outputs": [
    {
     "data": {
      "text/plain": [
       "[4, 8, 12, 16, 0]"
      ]
     },
     "execution_count": 30,
     "metadata": {},
     "output_type": "execute_result"
    }
   ],
   "source": [
    "[a for a in map_obj]"
   ]
  },
  {
   "cell_type": "code",
   "execution_count": null,
   "id": "9ef7e265-8919-42c3-a945-727fd2df96f5",
   "metadata": {},
   "outputs": [],
   "source": [
    "\n"
   ]
  },
  {
   "cell_type": "markdown",
   "id": "4ea71f11-ad62-48a9-9b7d-6121a326af49",
   "metadata": {},
   "source": [
    "### filter"
   ]
  },
  {
   "cell_type": "markdown",
   "id": "5bf69e4c-8e0d-4d2e-ae02-4f29d50cf9aa",
   "metadata": {},
   "source": [
    "filter(function,iterable)"
   ]
  },
  {
   "cell_type": "code",
   "execution_count": 10,
   "id": "4eb55997-cf1d-4f12-874a-e2212d24b13e",
   "metadata": {},
   "outputs": [],
   "source": [
    "def even(x):\n",
    "    return x%2 ==0\n",
    "\n",
    "f_obj=filter(even,[1,2,3,45])"
   ]
  },
  {
   "cell_type": "code",
   "execution_count": 11,
   "id": "4ba09439-b2d3-4636-bcc7-edfd95b92cc4",
   "metadata": {},
   "outputs": [
    {
     "data": {
      "text/plain": [
       "[2]"
      ]
     },
     "execution_count": 11,
     "metadata": {},
     "output_type": "execute_result"
    }
   ],
   "source": [
    "list(f_obj)"
   ]
  },
  {
   "cell_type": "code",
   "execution_count": null,
   "id": "0edf1202-a1dc-43ff-852f-399e7a297ebc",
   "metadata": {},
   "outputs": [],
   "source": []
  },
  {
   "cell_type": "markdown",
   "id": "5c719234-ad5e-4e6e-a1a4-39a301bfef81",
   "metadata": {},
   "source": [
    "### reduce"
   ]
  },
  {
   "cell_type": "markdown",
   "id": "57621f51-9284-486e-98bf-bebb90fced50",
   "metadata": {},
   "source": [
    "reduce(function.iterable)"
   ]
  },
  {
   "cell_type": "code",
   "execution_count": 13,
   "id": "f831d74f-50d4-41fb-94dc-dc56d36e694c",
   "metadata": {},
   "outputs": [],
   "source": [
    "from functools import reduce"
   ]
  },
  {
   "cell_type": "code",
   "execution_count": 14,
   "id": "e3aa840c-4314-41c0-a1b4-81520ec7268f",
   "metadata": {},
   "outputs": [],
   "source": [
    "mylist = [1,2,3,4,5]"
   ]
  },
  {
   "cell_type": "code",
   "execution_count": 15,
   "id": "e89cf02f-6730-4ecb-9531-0bd8d43457e4",
   "metadata": {},
   "outputs": [],
   "source": [
    "def add(x,y):\n",
    "    return x+y"
   ]
  },
  {
   "cell_type": "code",
   "execution_count": 16,
   "id": "4a1766bf-7d6c-4224-b6ad-4a244f3abe7e",
   "metadata": {},
   "outputs": [],
   "source": [
    "red_obj = reduce(add,mylist)\n"
   ]
  },
  {
   "cell_type": "code",
   "execution_count": 17,
   "id": "b4464644-2342-41ee-8741-77a461a41eb5",
   "metadata": {},
   "outputs": [
    {
     "data": {
      "text/plain": [
       "15"
      ]
     },
     "execution_count": 17,
     "metadata": {},
     "output_type": "execute_result"
    }
   ],
   "source": [
    "red_obj"
   ]
  },
  {
   "cell_type": "code",
   "execution_count": 47,
   "id": "051a4e42-f572-42b5-b9c4-91a146579113",
   "metadata": {},
   "outputs": [
    {
     "data": {
      "text/plain": [
       "[25, 45, 65]"
      ]
     },
     "execution_count": 47,
     "metadata": {},
     "output_type": "execute_result"
    }
   ],
   "source": [
    "team_A = [10,20,30]\n",
    "team_B = [15,25,35]\n",
    "def add(x,y):\n",
    "    return x+y\n",
    "obj = map(add,team_A,team_B)\n",
    "list(obj)\n",
    "\n"
   ]
  },
  {
   "cell_type": "code",
   "execution_count": null,
   "id": "2d3489ec-d6c7-4f7c-9769-3c947784a5cd",
   "metadata": {},
   "outputs": [],
   "source": [
    "\n",
    " "
   ]
  },
  {
   "cell_type": "code",
   "execution_count": 52,
   "id": "21456e19-813b-4f51-804d-853cf737b715",
   "metadata": {},
   "outputs": [
    {
     "name": "stdout",
     "output_type": "stream",
     "text": [
      "Alice: Task is done \n",
      "Bob: Task is not done \n",
      "Carol: Task is not done \n"
     ]
    }
   ],
   "source": [
    "team_tasks = [\n",
    "    [True, True, True],       # Alice\n",
    "    [True, False, True],      # Bob\n",
    "    [False, True, True]       # Carol\n",
    "]\n",
    "\n",
    "names = [\"Alice\", \"Bob\", \"Carol\"]\n",
    "\n",
    "for i in range(len(team_tasks)):\n",
    "    if all(team_tasks[i]):\n",
    "        print(f\"{names[i]}: Task is done \")\n",
    "    else:\n",
    "        print(f\"{names[i]}: Task is not done \")\n"
   ]
  },
  {
   "cell_type": "code",
   "execution_count": null,
   "id": "14d79f72-0564-4c98-83ac-3f4b1434ffeb",
   "metadata": {},
   "outputs": [],
   "source": []
  }
 ],
 "metadata": {
  "kernelspec": {
   "display_name": "Python 3 (ipykernel)",
   "language": "python",
   "name": "python3"
  },
  "language_info": {
   "codemirror_mode": {
    "name": "ipython",
    "version": 3
   },
   "file_extension": ".py",
   "mimetype": "text/x-python",
   "name": "python",
   "nbconvert_exporter": "python",
   "pygments_lexer": "ipython3",
   "version": "3.8.10"
  }
 },
 "nbformat": 4,
 "nbformat_minor": 5
}
